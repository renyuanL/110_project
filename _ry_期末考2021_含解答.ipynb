{
  "nbformat": 4,
  "nbformat_minor": 0,
  "metadata": {
    "colab": {
      "name": "_ry_期末考2021_含解答",
      "provenance": [],
      "collapsed_sections": [],
      "authorship_tag": "ABX9TyMkfpmuMwEvpExBNWCdA8Rc",
      "include_colab_link": true
    },
    "kernelspec": {
      "name": "python3",
      "display_name": "Python 3"
    },
    "language_info": {
      "name": "python"
    }
  },
  "cells": [
    {
      "cell_type": "markdown",
      "metadata": {
        "id": "view-in-github",
        "colab_type": "text"
      },
      "source": [
        "<a href=\"https://colab.research.google.com/github/renyuanL/110_project/blob/main/_ry_%E6%9C%9F%E6%9C%AB%E8%80%832021_%E5%90%AB%E8%A7%A3%E7%AD%94.ipynb\" target=\"_parent\"><img src=\"https://colab.research.google.com/assets/colab-badge.svg\" alt=\"Open In Colab\"/></a>"
      ]
    },
    {
      "cell_type": "markdown",
      "metadata": {
        "id": "1l8i6ab_FTEj"
      },
      "source": [
        "# 期末考題 2021"
      ]
    },
    {
      "cell_type": "markdown",
      "metadata": {
        "id": "NHD5j7tnM5CD"
      },
      "source": [
        "#[Q1]\n",
        "\n",
        "$n$ 個獨立且分布相同的隨機變數 \n",
        "$\n",
        "X_1,\\ X_2, …. X_n\n",
        "$\n",
        "它們有共同的\n",
        "\n",
        "期望值: $E(X_i)=μ$, \n",
        "\n",
        "標準差: $Std(X_i)=σ$, \n",
        "\n",
        "----\n",
        "$\\bar{X}$ , $S^2$ \n",
        "\n",
        "分別代表它們的【樣本平均數】以及【樣本變異數】。數學公式定義如下：\n",
        "\n",
        "$\n",
        "\\bar{X}=\\frac{1}{n}\\sum_{i=1}^{n}X_i\n",
        "\\\\\n",
        "S^2=\\frac{1}{n-1}\\sum_{i=1}^{n}\\left(X_i-\\bar{X}\\right)^2\n",
        "$\n",
        "\n",
        "----\n",
        "令 統計量 $T$ 代表 樣本平均$\\bar{X}$ 與母體平均$μ$ 之間的【正規距離】(scaled distance)，數學公式定義如下：\n",
        "\n",
        "$\n",
        "T=\\frac{\\ \\bar{X}-\\mu}{S/\\sqrt{n}}\n",
        "$\n",
        "\n",
        "----\n",
        "\n",
        "\n",
        "令 n = 10,  μ= 5,  σ=2，\n",
        "請回答以下問題\n",
        "\n",
        "1. \n",
        "$\n",
        "\tE\\left(\\bar{X}\\right)=\\ ?\n",
        "$\n",
        "\n",
        "1. \n",
        "$\n",
        "\tE\\left(S^2\\right)=\\ ?\n",
        "$\n",
        "\n",
        "1. \n",
        "$\n",
        "\tE\\left(T\\right)=\\ ?\n",
        "$\n",
        "\n",
        "1. \n",
        "$\n",
        "\tVar\\left(\\bar{X}\\right)=\\ ?\n",
        "$\n",
        "\n",
        "1. \n",
        "$\n",
        "\tVar\\left(S^2\\right)=\\ ?\n",
        "$\n",
        "\n",
        "1. \n",
        "$\n",
        "\tVar\\left(T\\right)=\\ ?\n",
        "$\n",
        "\n",
        "1. \n",
        "$\n",
        "\t\\bar{X} 的 機率密度函數  f_{\\bar{X}}\\left(x\\right)=?\n",
        "$\n",
        "\n",
        "1. \n",
        "$\n",
        "\tS^2 的機率密度函數 f_{S^2}\\left(q\\right)=?\n",
        "$\n",
        "\n",
        "1. \n",
        "$\n",
        "\tT 的 機率密度函數  f_T\\left(t\\right)=?\n",
        "$\n",
        "\n",
        "1. \n",
        "$\n",
        "\tP\\left(4\\le\\bar{X}\\le6\\right)=?\n",
        "$\n",
        "\n",
        "1. \n",
        "$\n",
        "\tP\\left(3\\le S^2\\le5\\right)=?\n",
        "$\n",
        "\n",
        "1. \n",
        "$\n",
        "\tP\\left(-1\\le T\\le1\\right)=?\n",
        "$\n",
        "\n",
        "1. \n",
        "$\n",
        "\t若 P\\left( x_1\\le\\bar{X}\\le x_2\\right)=95\\%，那麼(x_1, x_2)=?\n",
        "$\n",
        "\n",
        "1. \n",
        "$\n",
        "\t若 P\\left(q_1\\le S^2\\le\\ q_2\\right)=95\\%，那麼 (q_1, q_2) = ?\n",
        "$\n",
        "\n",
        "1. \n",
        "$\n",
        "\t若 P\\left(t_1\\le T\\le t_2\\right)= 95\\%，那麼 (t_1, t_2)=?\n",
        "$\n",
        "\n",
        "\n"
      ]
    },
    {
      "cell_type": "markdown",
      "metadata": {
        "id": "ret3QoyQM4FM"
      },
      "source": [
        "首先，引入必要的模組"
      ]
    },
    {
      "cell_type": "code",
      "metadata": {
        "id": "xMK4shCLFqHb"
      },
      "source": [
        "import numpy      as np\n",
        "import scipy.special  as sp\n",
        "import scipy.stats   as st\n",
        "import pandas       as pd\n",
        "\n",
        "\n",
        "n= 10 \n",
        "μ= 5\n",
        "σ= 2\n",
        "  "
      ],
      "execution_count": null,
      "outputs": []
    },
    {
      "cell_type": "markdown",
      "metadata": {
        "id": "0IBnpscPHcPR"
      },
      "source": [
        "1. \n",
        "$\n",
        "\tE\\left(\\bar{X}\\right)=\\ ?\n",
        "$\n"
      ]
    },
    {
      "cell_type": "code",
      "metadata": {
        "colab": {
          "base_uri": "https://localhost:8080/"
        },
        "id": "xqJSMaHkIFad",
        "outputId": "17112606-5c32-4a47-d83c-f8eb7f14f69c"
      },
      "source": [
        "μ"
      ],
      "execution_count": null,
      "outputs": [
        {
          "output_type": "execute_result",
          "data": {
            "text/plain": [
              "5"
            ]
          },
          "metadata": {
            "tags": []
          },
          "execution_count": 3
        }
      ]
    },
    {
      "cell_type": "markdown",
      "metadata": {
        "id": "sOdBob9eHfwJ"
      },
      "source": [
        "\n",
        "2. \n",
        "$\n",
        "\tE\\left(S^2\\right)=\\ ?\n",
        "$\n"
      ]
    },
    {
      "cell_type": "code",
      "metadata": {
        "colab": {
          "base_uri": "https://localhost:8080/"
        },
        "id": "SKLdfF4VIPLJ",
        "outputId": "9a0bfc40-7a9b-4bb6-94b4-355a3dcd544e"
      },
      "source": [
        "σ**2"
      ],
      "execution_count": null,
      "outputs": [
        {
          "output_type": "execute_result",
          "data": {
            "text/plain": [
              "4"
            ]
          },
          "metadata": {
            "tags": []
          },
          "execution_count": 4
        }
      ]
    },
    {
      "cell_type": "markdown",
      "metadata": {
        "id": "jEMhYdIJHiXS"
      },
      "source": [
        "\n",
        "3. \n",
        "$\n",
        "\tE\\left(T\\right)=\\ ?\n",
        "$\n"
      ]
    },
    {
      "cell_type": "code",
      "metadata": {
        "colab": {
          "base_uri": "https://localhost:8080/"
        },
        "id": "AdOA_04RIQpy",
        "outputId": "bcd0f073-fb44-4755-c42f-12d06df31143"
      },
      "source": [
        "0"
      ],
      "execution_count": null,
      "outputs": [
        {
          "output_type": "execute_result",
          "data": {
            "text/plain": [
              "0"
            ]
          },
          "metadata": {
            "tags": []
          },
          "execution_count": 5
        }
      ]
    },
    {
      "cell_type": "markdown",
      "metadata": {
        "id": "4Zd3Bn2tHnJR"
      },
      "source": [
        "\n",
        "4. \n",
        "$\n",
        "\tVar\\left(\\bar{X}\\right)=\\ ?\n",
        "$\n"
      ]
    },
    {
      "cell_type": "code",
      "metadata": {
        "colab": {
          "base_uri": "https://localhost:8080/"
        },
        "id": "0Lz06ItVIRj6",
        "outputId": "56517ab8-6a59-44ca-e6d1-61a53be8d42f"
      },
      "source": [
        "σ**2/n"
      ],
      "execution_count": null,
      "outputs": [
        {
          "output_type": "execute_result",
          "data": {
            "text/plain": [
              "0.4"
            ]
          },
          "metadata": {
            "tags": []
          },
          "execution_count": 6
        }
      ]
    },
    {
      "cell_type": "markdown",
      "metadata": {
        "id": "dqB7nq1vHoih"
      },
      "source": [
        "\n",
        "5. \n",
        "$\n",
        "\tVar\\left(S^2\\right)=\\ ?\n",
        "$\n"
      ]
    },
    {
      "cell_type": "code",
      "metadata": {
        "colab": {
          "base_uri": "https://localhost:8080/"
        },
        "id": "mA2XFMcqISsk",
        "outputId": "41fb4c8d-9745-438c-8034-ceaf90f8ef00"
      },
      "source": [
        "\n",
        "σ**4 * 2/(n-1)"
      ],
      "execution_count": null,
      "outputs": [
        {
          "output_type": "execute_result",
          "data": {
            "text/plain": [
              "3.5555555555555554"
            ]
          },
          "metadata": {
            "tags": []
          },
          "execution_count": 7
        }
      ]
    },
    {
      "cell_type": "markdown",
      "metadata": {
        "id": "8WgBr2DMHpwS"
      },
      "source": [
        "\n",
        "6. \n",
        "$\n",
        "\tVar\\left(T\\right)=\\ ?\n",
        "$\n"
      ]
    },
    {
      "cell_type": "code",
      "metadata": {
        "colab": {
          "base_uri": "https://localhost:8080/"
        },
        "id": "FldyobqHIThq",
        "outputId": "fba0b6a9-54e9-40a2-af44-d3c35435fb47"
      },
      "source": [
        "# df/df-2\n",
        "(n-1)/(n-1-2)"
      ],
      "execution_count": null,
      "outputs": [
        {
          "output_type": "execute_result",
          "data": {
            "text/plain": [
              "1.2857142857142858"
            ]
          },
          "metadata": {
            "tags": []
          },
          "execution_count": 8
        }
      ]
    },
    {
      "cell_type": "markdown",
      "metadata": {
        "id": "DurEWYdyHq_p"
      },
      "source": [
        "\n",
        "7. \n",
        "$\n",
        "\t\\bar{X} 的 機率密度函數  f_{\\bar{X}}\\left(x\\right)=?\n",
        "$\n"
      ]
    },
    {
      "cell_type": "code",
      "metadata": {
        "id": "n_7Bj5SVIUlU"
      },
      "source": [
        "#st.norm?"
      ],
      "execution_count": null,
      "outputs": []
    },
    {
      "cell_type": "markdown",
      "metadata": {
        "id": "NYoMXR0N8vFi"
      },
      "source": [
        "$\n",
        "f_{\\bar{X}}(x) \n",
        "= e^{-\\frac{1}{2}(\\frac{x-\\mu}{\\sigma/\\sqrt{n}})^2} \n",
        "\\centerdot \\frac{1}{\\sqrt{2\\pi}}\n",
        "\\centerdot \\frac{1}{\\sigma/\\sqrt{n}}\n",
        "$"
      ]
    },
    {
      "cell_type": "markdown",
      "metadata": {
        "id": "KOM9Sq3EHsOx"
      },
      "source": [
        "\n",
        "8. \n",
        "$\n",
        "\tS^2 的機率密度函數 f_{S^2}\\left(q\\right)=?\n",
        "$\n"
      ]
    },
    {
      "cell_type": "code",
      "metadata": {
        "id": "O-0Am5PyIVmd"
      },
      "source": [
        "#st.chi2?"
      ],
      "execution_count": null,
      "outputs": []
    },
    {
      "cell_type": "markdown",
      "metadata": {
        "id": "lOBTg73c_cDw"
      },
      "source": [
        "先寫下標準型的 $\\chi2$ 的 pdf 如下：\n",
        "\n",
        "$\n",
        "f_{\\chi2}(q; d_f=k)= \n",
        "q^{k/2-1} \n",
        "e^{-q/2}\n",
        "\\frac{1}{2^{k/2} \\Gamma \\left( k/2 \\right)}\n",
        "$\n",
        "\n",
        "再做變數變換：\n",
        "$S^2 = \\chi2 * \\sigma^2 / (n-1)$\n",
        "\n",
        "其中 $d_f= k = n-1$"
      ]
    },
    {
      "cell_type": "code",
      "metadata": {
        "id": "WPzL1XbuD54f"
      },
      "source": [
        ""
      ],
      "execution_count": null,
      "outputs": []
    },
    {
      "cell_type": "markdown",
      "metadata": {
        "id": "GT3Ya54PHteJ"
      },
      "source": [
        "\n",
        "9. \n",
        "$\n",
        "\tT 的 機率密度函數  f_T\\left(t\\right)=?\n",
        "$\n"
      ]
    },
    {
      "cell_type": "markdown",
      "metadata": {
        "id": "16CjFCyB8Zvf"
      },
      "source": [
        "$\n",
        "  f_T(t; d_f=k)\n",
        "  \\\\\n",
        "  =\n",
        "  (1+t^2/k)^{-(k+1)/2}\n",
        "  \\centerdot\n",
        "  \\frac{\\Gamma((k+1)/2)}\n",
        "    {\\Gamma(k/2)}\n",
        "  \\frac{1}{\\sqrt{k}}\n",
        "  \\centerdot\n",
        "  \\frac{1}{ \\sqrt{\\pi}  }\n",
        "$"
      ]
    },
    {
      "cell_type": "markdown",
      "metadata": {
        "id": "HW8EfHSRHurd"
      },
      "source": [
        "\n",
        "10. \n",
        "$\n",
        "\tP\\left(4\\le\\bar{X}\\le6\\right)=?\n",
        "$\n"
      ]
    },
    {
      "cell_type": "code",
      "metadata": {
        "colab": {
          "base_uri": "https://localhost:8080/"
        },
        "id": "f--b36SNIXmp",
        "outputId": "e2c64fc5-1430-4e2e-d855-df9f24e58918"
      },
      "source": [
        "st.norm.cdf(6, loc= μ, scale= σ/n**.5 ) \\\n",
        "- st.norm.cdf(4, loc= μ, scale= σ/n**.5 )"
      ],
      "execution_count": null,
      "outputs": [
        {
          "output_type": "execute_result",
          "data": {
            "text/plain": [
              "0.8861537019933419"
            ]
          },
          "metadata": {
            "tags": []
          },
          "execution_count": 11
        }
      ]
    },
    {
      "cell_type": "markdown",
      "metadata": {
        "id": "5CNXCGRiHvxN"
      },
      "source": [
        "\n",
        "11. \n",
        "$\n",
        "\tP\\left(3\\le S^2\\le5\\right)=?\n",
        "$\n"
      ]
    },
    {
      "cell_type": "code",
      "metadata": {
        "colab": {
          "base_uri": "https://localhost:8080/"
        },
        "id": "JrqTTcALIY0a",
        "outputId": "4b71a5f5-99f3-46e8-b4cf-b7ceab230660"
      },
      "source": [
        "st.chi2.cdf(5, df= n-1, loc= 0, scale= σ**2/(n-1) ) \\\n",
        "- st.chi2.cdf(3, df=n-1, loc= 0, scale= σ**2/(n-1) )"
      ],
      "execution_count": null,
      "outputs": [
        {
          "output_type": "execute_result",
          "data": {
            "text/plain": [
              "0.4041683872938924"
            ]
          },
          "metadata": {
            "tags": []
          },
          "execution_count": 12
        }
      ]
    },
    {
      "cell_type": "markdown",
      "metadata": {
        "id": "1dRf2CDMHw90"
      },
      "source": [
        "\n",
        "12. \n",
        "$\n",
        "\tP\\left(-1\\le T\\le1\\right)=?\n",
        "$\n"
      ]
    },
    {
      "cell_type": "code",
      "metadata": {
        "colab": {
          "base_uri": "https://localhost:8080/"
        },
        "id": "PFxQFU9PIZop",
        "outputId": "395da3b2-087c-41cf-baa7-e22a4f943b01"
      },
      "source": [
        "st.t.cdf(1, df= n-1) \\\n",
        "- st.t.cdf(-1, df=n-1)\n"
      ],
      "execution_count": null,
      "outputs": [
        {
          "output_type": "execute_result",
          "data": {
            "text/plain": [
              "0.6565636038620863"
            ]
          },
          "metadata": {
            "tags": []
          },
          "execution_count": 13
        }
      ]
    },
    {
      "cell_type": "markdown",
      "metadata": {
        "id": "GON6jLUMHyDy"
      },
      "source": [
        "\n",
        "13. \n",
        "$\n",
        "\t若 P\\left( x_1\\le\\bar{X}\\le x_2\\right)=95\\%，那麼(x_1, x_2)=?\n",
        "$\n"
      ]
    },
    {
      "cell_type": "code",
      "metadata": {
        "colab": {
          "base_uri": "https://localhost:8080/"
        },
        "id": "LxIBvURrIaiy",
        "outputId": "d17a12d1-2bd8-47be-ef0a-61a63b42b54c"
      },
      "source": [
        "z1,z2= st.norm.interval(.95)\n",
        "z1,z2\n",
        "x1= μ+ z1*σ/n**.5\n",
        "x2= μ+ z2*σ/n**.5\n",
        "x1, x2\n"
      ],
      "execution_count": null,
      "outputs": [
        {
          "output_type": "execute_result",
          "data": {
            "text/plain": [
              "(3.760409935390877, 6.239590064609123)"
            ]
          },
          "metadata": {
            "tags": []
          },
          "execution_count": 14
        }
      ]
    },
    {
      "cell_type": "code",
      "metadata": {
        "colab": {
          "base_uri": "https://localhost:8080/"
        },
        "id": "epAXeMZ9L3c4",
        "outputId": "1f9a561d-2c91-4d75-ef51-ca08dfa6cd86"
      },
      "source": [
        "x1,x2= st.norm.interval(.95, loc= μ, scale= σ/n**.5)\n",
        "x1,x2"
      ],
      "execution_count": null,
      "outputs": [
        {
          "output_type": "execute_result",
          "data": {
            "text/plain": [
              "(3.760409935390877, 6.239590064609123)"
            ]
          },
          "metadata": {
            "tags": []
          },
          "execution_count": 15
        }
      ]
    },
    {
      "cell_type": "markdown",
      "metadata": {
        "id": "c7VR0hk7HzRF"
      },
      "source": [
        "\n",
        "14. \n",
        "$\n",
        "\t若 P\\left(q_1\\le S^2\\le\\ q_2\\right)=95\\%，那麼 (q_1, q_2) = ?\n",
        "$\n"
      ]
    },
    {
      "cell_type": "code",
      "metadata": {
        "colab": {
          "base_uri": "https://localhost:8080/"
        },
        "id": "EFlvxALjNEaA",
        "outputId": "e01ed4fd-c989-436b-a730-50d932479c34"
      },
      "source": [
        "q1,q2= st.chi2.interval(.95, df= n-1)\n",
        "q1, q2\n"
      ],
      "execution_count": null,
      "outputs": [
        {
          "output_type": "execute_result",
          "data": {
            "text/plain": [
              "(8.906516481987973, 32.85232686172969)"
            ]
          },
          "metadata": {
            "tags": []
          },
          "execution_count": 38
        }
      ]
    },
    {
      "cell_type": "code",
      "metadata": {
        "colab": {
          "base_uri": "https://localhost:8080/"
        },
        "id": "2imRZAJaWbGy",
        "outputId": "e7df5d95-f624-4e87-b6f4-d048a30e5a76"
      },
      "source": [
        "\n",
        "q1= q1*σ**2/(n-1)\n",
        "q2= q2*σ**2/(n-1)\n",
        "q1, q2"
      ],
      "execution_count": null,
      "outputs": [
        {
          "output_type": "execute_result",
          "data": {
            "text/plain": [
              "(1.8750561014711522, 6.916279339311514)"
            ]
          },
          "metadata": {
            "tags": []
          },
          "execution_count": 39
        }
      ]
    },
    {
      "cell_type": "code",
      "metadata": {
        "colab": {
          "base_uri": "https://localhost:8080/"
        },
        "id": "tIZV8ZMHIbiK",
        "outputId": "513e6e0d-1dec-4590-e91b-b3ee411c2161"
      },
      "source": [
        "q1,q2= st.chi2.interval(.95, df= n-1, loc= 0, scale= σ**2/(n-1))\n",
        "q1, q2"
      ],
      "execution_count": null,
      "outputs": [
        {
          "output_type": "execute_result",
          "data": {
            "text/plain": [
              "(1.8750561014711522, 6.916279339311514)"
            ]
          },
          "metadata": {
            "tags": []
          },
          "execution_count": 40
        }
      ]
    },
    {
      "cell_type": "code",
      "metadata": {
        "id": "MnTrxbWNNBh1"
      },
      "source": [
        ""
      ],
      "execution_count": null,
      "outputs": []
    },
    {
      "cell_type": "markdown",
      "metadata": {
        "id": "F8AtCF7nH0eC"
      },
      "source": [
        "\n",
        "15. \n",
        "$\n",
        "\t若 P\\left(t_1\\le T\\le t_2\\right)= 95\\%，那麼 (t_1, t_2)=?\n",
        "$"
      ]
    },
    {
      "cell_type": "code",
      "metadata": {
        "colab": {
          "base_uri": "https://localhost:8080/"
        },
        "id": "33NBIpemHTJP",
        "outputId": "b59a20fd-8b4c-42ff-8f84-ead6b1f322a3"
      },
      "source": [
        "t1,t2= st.t.interval(.95, df= n-1)\n",
        "t1, t2"
      ],
      "execution_count": null,
      "outputs": [
        {
          "output_type": "execute_result",
          "data": {
            "text/plain": [
              "(-2.2621571627409915, 2.2621571627409915)"
            ]
          },
          "metadata": {
            "tags": []
          },
          "execution_count": 18
        }
      ]
    },
    {
      "cell_type": "code",
      "metadata": {
        "id": "aqj-Xb-6HTuB"
      },
      "source": [
        ""
      ],
      "execution_count": null,
      "outputs": []
    },
    {
      "cell_type": "markdown",
      "metadata": {
        "id": "f-o_9GVROzOv"
      },
      "source": [
        " # [Q1.1]\n",
        "\n",
        " 若 n, μ, σ，3個參數中，我們只知道n = 10, \n",
        " 但 μ, σ 皆未知， 我們 經由抽樣調查得到一組數據 \n",
        " $x_1, ... x_{10}$\n",
        " 然後，經由 $\\bar{X}$ 與 $S^2$ 的計算公式算出\n",
        " $\\bar{X}= 6$ 與 $S^2 = 1.6$ ，請回答以下問題：\n",
        " \n",
        " 16. 參數 μ 的 95% 信心區間\n",
        " 17. 請問這個 μ 的信心區間是否涵蓋 μ 的真實值 (承Q1,μ=5)\n",
        " 18. 參數 $σ^2$ 的 95% 信心區間\n",
        " 19. 請問這個$σ^2$的信心區間是否涵蓋$σ^2$的真實值 (承Q1,$σ^2=4$)\n",
        " 20. 在 未知 μ, σ 的情形下，得到 $n=10$, $\\bar{X}= 6$ 與 $S^2 = 1.6$ 這組證據，請問這組證據可否接受這一項假設，$H_0:\\mu=5$\n",
        "\n"
      ]
    },
    {
      "cell_type": "code",
      "metadata": {
        "id": "lrWYmCyBHTzB"
      },
      "source": [
        "#(16)\n",
        "xbar= 6\n",
        "s2= 1.6\n",
        "n= 10\n",
        "\n",
        "s= s2**.5\n",
        "\n",
        "μInterval= st.t.interval(.95, df= n-1, loc= xbar, scale= s/n**.5)\n",
        "μInterval"
      ],
      "execution_count": null,
      "outputs": []
    },
    {
      "cell_type": "code",
      "metadata": {
        "id": "Bxz0tPE4UtJ0"
      },
      "source": [
        "t1,t2= st.t.interval(.95, df= n-1)\n",
        "t1,t2\n",
        "μInterval= xbar+t1*s/n**.5, xbar+t2*s/n**.5 \n",
        "μInterval"
      ],
      "execution_count": null,
      "outputs": []
    },
    {
      "cell_type": "code",
      "metadata": {
        "id": "9k_y2GMpaJ9h"
      },
      "source": [
        "#(17)\n",
        "# (μ=5) 不包含在 μInterval 之中"
      ],
      "execution_count": null,
      "outputs": []
    },
    {
      "cell_type": "code",
      "metadata": {
        "id": "HbzooYILHT7M"
      },
      "source": [
        "#(18)\n",
        "\n",
        "q1,q2= st.chi2.interval(.95, df= n-1)\n",
        "q1,q2\n",
        "sigma2Interval= (s2*(n-1)/q2, s2*(n-1)/q1)\n",
        "sigma2Interval   "
      ],
      "execution_count": null,
      "outputs": []
    },
    {
      "cell_type": "code",
      "metadata": {
        "id": "e1MMfirgFqLz"
      },
      "source": [
        "q1, q2= st.chi2.interval(.95, df= n-1, scale= 1/(n-1)) #\n",
        "q1, q2\n",
        "sigma2Interval= (s2/q2, s2/q1)\n",
        "sigma2Interval"
      ],
      "execution_count": null,
      "outputs": []
    },
    {
      "cell_type": "code",
      "metadata": {
        "id": "zcJRZ2p6FqQL"
      },
      "source": [
        "#(19)\n",
        "#(σ^2=4) 有包含在 sigma2Interval 之中"
      ],
      "execution_count": null,
      "outputs": []
    },
    {
      "cell_type": "code",
      "metadata": {
        "id": "kn0UIWKMFqUb"
      },
      "source": [
        "#(20)\n",
        "tValue= (xbar-5)/(s/n**.5)\n",
        "pValue_右尾= st.t.sf(tValue, df= n-1)\n",
        "tValue, pValue_右尾"
      ],
      "execution_count": null,
      "outputs": []
    },
    {
      "cell_type": "code",
      "metadata": {
        "id": "HXFTxKw0FqZl"
      },
      "source": [
        "# 統計推論：\n",
        "#\n",
        "# 由於計算出的 pValue_右尾 = .0169 足夠小(小於機率臨界值.025)，\n",
        "# 判斷 tValue=2.5 太大(大於距離之臨界值)\n",
        "# 因此證據與假設差異太大\n",
        "# 結論是，必須【否決】假設H0: μ=5\n",
        "# \n"
      ],
      "execution_count": null,
      "outputs": []
    },
    {
      "cell_type": "code",
      "metadata": {
        "id": "4zwdmKUwFqc-"
      },
      "source": [
        "# 上述結論可以進一步延伸為任何假設 H0: μ<5\n",
        "# 其與證據之間的tValue都會更大，從而導致pValue更小，因此都該被一並否決。\n",
        "#\n",
        "# 結論：\n",
        "# "
      ],
      "execution_count": null,
      "outputs": []
    },
    {
      "cell_type": "markdown",
      "metadata": {
        "id": "93jQnQR2pxez"
      },
      "source": [
        "結論：\n",
        "得到  \n",
        "$n=10$,\n",
        "$\\bar{X}=6$\n",
        "與$S^2=1.6$  \n",
        "這組證據，在設定單邊檢定之機率臨界值 $\\alpha=.025$ 為協定之下，\n",
        "必須否決 $H_0: \\mu \\le 5$\n"
      ]
    },
    {
      "cell_type": "code",
      "metadata": {
        "id": "dlCa3CQPFqhW"
      },
      "source": [
        ""
      ],
      "execution_count": null,
      "outputs": []
    },
    {
      "cell_type": "code",
      "metadata": {
        "id": "7TBFKdfYFqlj"
      },
      "source": [
        ""
      ],
      "execution_count": null,
      "outputs": []
    },
    {
      "cell_type": "markdown",
      "metadata": {
        "id": "vKD93gF61SFS"
      },
      "source": [
        "#[Q2]\n",
        "\n",
        "某大學於某年做了學生身高資料普查，學生總數N為 10000人，全體學生身高平均數μ= 159.8cm，標準差σ = 9.9 cm，資料分布約略如下圖：(橫坐標為身高cm、縱坐標為學生人數)\n"
      ]
    },
    {
      "cell_type": "code",
      "metadata": {
        "id": "xWPelhY8FqpS",
        "colab": {
          "base_uri": "https://localhost:8080/",
          "height": 420
        },
        "outputId": "c1213762-af76-4ec7-ca45-ecee4e73616c"
      },
      "source": [
        "# 針對某大學全體學生做了一次身高普查，學生總數 N= 10000\n",
        "# 普查資料 存放在 X \n",
        "\n",
        "# 先以模擬方式製造一堆 (size= 10000) 符合此種分布的實驗數據\n",
        "\n",
        "np.random.seed(0)\n",
        "X= st.norm.rvs(size=10000, loc= 160, scale=10)\n",
        "\n",
        "# 畫出 分布圖，\n",
        "# 並觀察母體平均數 mu= E(X)=μ== 159.8, \n",
        "# 以及 標準差 sigma= Std(X)=σ== 9.9\n",
        "\n",
        "X= pd.Series(X)\n",
        "X.hist(bins= 100, grid=True)\n",
        "X.describe().round(1)\n"
      ],
      "execution_count": null,
      "outputs": [
        {
          "output_type": "execute_result",
          "data": {
            "text/plain": [
              "count    10000.0\n",
              "mean       159.8\n",
              "std          9.9\n",
              "min        122.6\n",
              "25%        153.1\n",
              "50%        159.7\n",
              "75%        166.5\n",
              "max        198.0\n",
              "dtype: float64"
            ]
          },
          "metadata": {
            "tags": []
          },
          "execution_count": 28
        },
        {
          "output_type": "display_data",
          "data": {
            "image/png": "[encoded data removed]",
            "text/plain": [
              "<Figure size 432x288 with 1 Axes>"
            ]
          },
          "metadata": {
            "tags": [],
            "needs_background": "light"
          }
        }
      ]
    },
    {
      "cell_type": "code",
      "metadata": {
        "id": "xDceZwfIFqtU"
      },
      "source": [
        ""
      ],
      "execution_count": null,
      "outputs": []
    },
    {
      "cell_type": "markdown",
      "metadata": {
        "id": "ZsMVmx6H12Ss"
      },
      "source": [
        "某同學自己在好朋友之間 (10人) 做了一個調查，得到結果如下：\n",
        "\n"
      ]
    },
    {
      "cell_type": "code",
      "metadata": {
        "id": "9zfLpBwhFqwy",
        "colab": {
          "base_uri": "https://localhost:8080/",
          "height": 80
        },
        "outputId": "41bd0f48-b979-4a24-a2ba-b851d1c85803"
      },
      "source": [
        "# 某位本課程的學生作了一個小實驗，\n",
        "# 他隨機調查了 n=10 位同學 的身高資料\n",
        "np.random.seed(0)\n",
        "smpSize= 10\n",
        "smpX= X.sample(n= smpSize)\n",
        "smpX.round(1)\n",
        "aDF= pd.DataFrame(smpX,columns=['身高(cm)'])\n",
        "aDF.index.name='學號'\n",
        "aDF.T.round(1)\n"
      ],
      "execution_count": null,
      "outputs": [
        {
          "output_type": "execute_result",
          "data": {
            "text/html": [
              "<div>\n",
              "<style scoped>\n",
              "    .dataframe tbody tr th:only-of-type {\n",
              "        vertical-align: middle;\n",
              "    }\n",
              "\n",
              "    .dataframe tbody tr th {\n",
              "        vertical-align: top;\n",
              "    }\n",
              "\n",
              "    .dataframe thead th {\n",
              "        text-align: right;\n",
              "    }\n",
              "</style>\n",
              "<table border=\"1\" class=\"dataframe\">\n",
              "  <thead>\n",
              "    <tr style=\"text-align: right;\">\n",
              "      <th>學號</th>\n",
              "      <th>9394</th>\n",
              "      <th>898</th>\n",
              "      <th>2398</th>\n",
              "      <th>5906</th>\n",
              "      <th>2343</th>\n",
              "      <th>8225</th>\n",
              "      <th>5506</th>\n",
              "      <th>6451</th>\n",
              "      <th>2670</th>\n",
              "      <th>3497</th>\n",
              "    </tr>\n",
              "  </thead>\n",
              "  <tbody>\n",
              "    <tr>\n",
              "      <th>身高(cm)</th>\n",
              "      <td>147.6</td>\n",
              "      <td>185.9</td>\n",
              "      <td>154.0</td>\n",
              "      <td>147.2</td>\n",
              "      <td>168.6</td>\n",
              "      <td>146.8</td>\n",
              "      <td>162.6</td>\n",
              "      <td>164.1</td>\n",
              "      <td>152.2</td>\n",
              "      <td>171.8</td>\n",
              "    </tr>\n",
              "  </tbody>\n",
              "</table>\n",
              "</div>"
            ],
            "text/plain": [
              "學號       9394   898    2398   5906   2343   8225   5506   6451   2670   3497\n",
              "身高(cm)  147.6  185.9  154.0  147.2  168.6  146.8  162.6  164.1  152.2  171.8"
            ]
          },
          "metadata": {
            "tags": []
          },
          "execution_count": 29
        }
      ]
    },
    {
      "cell_type": "code",
      "metadata": {
        "id": "yQcHQW5CFq0W"
      },
      "source": [
        ""
      ],
      "execution_count": null,
      "outputs": []
    },
    {
      "cell_type": "markdown",
      "metadata": {
        "id": "hBk7XHvx2Y14"
      },
      "source": [
        "根據以上調查結果(10人之身高)，此位同學自行運用機率統計課程所學，搭配 Python 之統計計算模組，可以估計出以下結論\n",
        "\n",
        "16. 學校全體同學之平均身高μ之估測值 $\\bar{X}$ =?\n",
        "17. 學校全體同學之身高之標準差$σ$之估測值 $S$ =?\n",
        "18. μ 的 95% 信心區間 $(μ_1, μ_2)$ = ？\n"
      ]
    },
    {
      "cell_type": "code",
      "metadata": {
        "colab": {
          "base_uri": "https://localhost:8080/"
        },
        "id": "XN6DdGTm2Dj8",
        "outputId": "184b0450-ade3-40e0-8035-51fca33fdfa6"
      },
      "source": [
        "# (16)\n",
        "Xbar= smpX.mean()\n",
        "Xbar"
      ],
      "execution_count": null,
      "outputs": [
        {
          "output_type": "execute_result",
          "data": {
            "text/plain": [
              "160.08338000005944"
            ]
          },
          "metadata": {
            "tags": []
          },
          "execution_count": 30
        }
      ]
    },
    {
      "cell_type": "code",
      "metadata": {
        "colab": {
          "base_uri": "https://localhost:8080/"
        },
        "id": "9FgNVEWm5Kzj",
        "outputId": "16b4736f-b235-4738-d83c-42c1c6f0e3c2"
      },
      "source": [
        "#(17)\n",
        "S= smpX.std(ddof=1)\n",
        "S"
      ],
      "execution_count": null,
      "outputs": [
        {
          "output_type": "execute_result",
          "data": {
            "text/plain": [
              "12.904829430883494"
            ]
          },
          "metadata": {
            "tags": []
          },
          "execution_count": 31
        }
      ]
    },
    {
      "cell_type": "code",
      "metadata": {
        "colab": {
          "base_uri": "https://localhost:8080/"
        },
        "id": "EfFLh7WG5K4L",
        "outputId": "1ce242af-1867-4938-aa6b-e0887c530833"
      },
      "source": [
        "#(18)\n",
        "n=  smpX.size\n",
        "sem= S/n**.5\n",
        "μInterval= st.t.interval(.95, df= n-1, loc= Xbar, scale= sem)\n",
        "μInterval"
      ],
      "execution_count": null,
      "outputs": [
        {
          "output_type": "execute_result",
          "data": {
            "text/plain": [
              "(150.85182114653693, 169.31493885358194)"
            ]
          },
          "metadata": {
            "tags": []
          },
          "execution_count": 32
        }
      ]
    },
    {
      "cell_type": "code",
      "metadata": {
        "id": "IJNIyDoj5LXr"
      },
      "source": [
        ""
      ],
      "execution_count": null,
      "outputs": []
    },
    {
      "cell_type": "markdown",
      "metadata": {
        "id": "L3k5nEyj26su"
      },
      "source": [
        "後來，此位同學獲得更多的資料，達到20人之身高資料，新增之資料如下：\n"
      ]
    },
    {
      "cell_type": "code",
      "metadata": {
        "colab": {
          "base_uri": "https://localhost:8080/",
          "height": 118
        },
        "id": "X0sua8kw2Dn1",
        "outputId": "6ebc0fcc-0750-4528-9dfb-d0d4a59373f1"
      },
      "source": [
        "# 這位同學 在另一日額外取得 另 10 位 同學的身高資料\n",
        "# 他把這批資料併入原始資料，成為一份20人的資料，\n",
        "# 重新計算所有統計量並獲得信心區間的重新估測。\n",
        "#\n",
        "smpSize= 20\n",
        "np.random.seed(0) #000\n",
        "smpX= X.sample(n= smpSize)\n",
        "smpX.round(1)\n",
        "aDF= pd.DataFrame(smpX,columns=['身高(cm)'])\n",
        "aDF.index.name='學號'\n",
        "#aDF.round(1)\n",
        "aDF.T.round(1)\n"
      ],
      "execution_count": null,
      "outputs": [
        {
          "output_type": "execute_result",
          "data": {
            "text/html": [
              "<div>\n",
              "<style scoped>\n",
              "    .dataframe tbody tr th:only-of-type {\n",
              "        vertical-align: middle;\n",
              "    }\n",
              "\n",
              "    .dataframe tbody tr th {\n",
              "        vertical-align: top;\n",
              "    }\n",
              "\n",
              "    .dataframe thead th {\n",
              "        text-align: right;\n",
              "    }\n",
              "</style>\n",
              "<table border=\"1\" class=\"dataframe\">\n",
              "  <thead>\n",
              "    <tr style=\"text-align: right;\">\n",
              "      <th>學號</th>\n",
              "      <th>9394</th>\n",
              "      <th>898</th>\n",
              "      <th>2398</th>\n",
              "      <th>5906</th>\n",
              "      <th>2343</th>\n",
              "      <th>8225</th>\n",
              "      <th>5506</th>\n",
              "      <th>6451</th>\n",
              "      <th>2670</th>\n",
              "      <th>3497</th>\n",
              "      <th>1087</th>\n",
              "      <th>1819</th>\n",
              "      <th>2308</th>\n",
              "      <th>6084</th>\n",
              "      <th>3724</th>\n",
              "      <th>3184</th>\n",
              "      <th>6387</th>\n",
              "      <th>3728</th>\n",
              "      <th>2702</th>\n",
              "      <th>7883</th>\n",
              "    </tr>\n",
              "  </thead>\n",
              "  <tbody>\n",
              "    <tr>\n",
              "      <th>身高(cm)</th>\n",
              "      <td>147.6</td>\n",
              "      <td>185.9</td>\n",
              "      <td>154.0</td>\n",
              "      <td>147.2</td>\n",
              "      <td>168.6</td>\n",
              "      <td>146.8</td>\n",
              "      <td>162.6</td>\n",
              "      <td>164.1</td>\n",
              "      <td>152.2</td>\n",
              "      <td>171.8</td>\n",
              "      <td>151.4</td>\n",
              "      <td>152.0</td>\n",
              "      <td>177.1</td>\n",
              "      <td>155.1</td>\n",
              "      <td>159.8</td>\n",
              "      <td>188.0</td>\n",
              "      <td>163.7</td>\n",
              "      <td>178.6</td>\n",
              "      <td>144.0</td>\n",
              "      <td>161.8</td>\n",
              "    </tr>\n",
              "  </tbody>\n",
              "</table>\n",
              "</div>"
            ],
            "text/plain": [
              "學號       9394   898    2398   5906   2343  ...   3184   6387   3728   2702   7883\n",
              "身高(cm)  147.6  185.9  154.0  147.2  168.6  ...  188.0  163.7  178.6  144.0  161.8\n",
              "\n",
              "[1 rows x 20 columns]"
            ]
          },
          "metadata": {
            "tags": []
          },
          "execution_count": 33
        }
      ]
    },
    {
      "cell_type": "code",
      "metadata": {
        "id": "wvdUVBZG2Drs"
      },
      "source": [
        ""
      ],
      "execution_count": null,
      "outputs": []
    },
    {
      "cell_type": "markdown",
      "metadata": {
        "id": "tU4Bnhvs3Yic"
      },
      "source": [
        "19.\t以20人資料重新估算μ的95%信心區間 $(μ_{201}, μ_{202})$=? \n",
        "\n",
        "20.\t以20人的資料估算出來的信心區間 $(μ_{201}, μ_{202})$ 比10人的資料所估算的信心區間 $(μ_1, μ_2)$ 何者寬度較小？(請寫出各自的信心區間寬度) \n"
      ]
    },
    {
      "cell_type": "code",
      "metadata": {
        "colab": {
          "base_uri": "https://localhost:8080/"
        },
        "id": "Gb8S7znP2Dv4",
        "outputId": "42528bd0-d0d0-4881-854e-9a6c3a23fcd3"
      },
      "source": [
        "#(19)\n",
        "n=  smpX.size\n",
        "Xbar= smpX.mean()\n",
        "S= smpX.std(ddof=1)\n",
        "sem= S/n**.5\n",
        "μInterval20= st.t.interval(.95, df= n-1, loc= Xbar, scale= sem)\n",
        "μInterval20"
      ],
      "execution_count": null,
      "outputs": [
        {
          "output_type": "execute_result",
          "data": {
            "text/plain": [
              "(155.4431076080799, 167.7893390573497)"
            ]
          },
          "metadata": {
            "tags": []
          },
          "execution_count": 34
        }
      ]
    },
    {
      "cell_type": "code",
      "metadata": {
        "colab": {
          "base_uri": "https://localhost:8080/"
        },
        "id": "weKcxxMg2D0A",
        "outputId": "b737455b-d7b1-4298-f90d-7de2c0951362"
      },
      "source": [
        "#(20)\n",
        "信心區間寬度_10人= μInterval[1]-μInterval[0]\n",
        "信心區間寬度_20人= μInterval20[1]-μInterval20[0]\n",
        "信心區間寬度_10人, 信心區間寬度_20人\n"
      ],
      "execution_count": null,
      "outputs": [
        {
          "output_type": "execute_result",
          "data": {
            "text/plain": [
              "(18.463117707045, 12.346231449269794)"
            ]
          },
          "metadata": {
            "tags": []
          },
          "execution_count": 35
        }
      ]
    },
    {
      "cell_type": "code",
      "metadata": {
        "id": "OQLfaGnIFVPn"
      },
      "source": [
        "# 結論：\n",
        "# 信心區間寬度_10人 > 信心區間寬度_20人\n",
        "# 信心區間寬度_20人 較小，代表 更精準\n",
        "#"
      ],
      "execution_count": null,
      "outputs": []
    },
    {
      "cell_type": "code",
      "metadata": {
        "id": "Pm908o70yymn"
      },
      "source": [
        "# ----------------- 考題到此為止 ----------------------"
      ],
      "execution_count": null,
      "outputs": []
    }
  ]
}