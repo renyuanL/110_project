{
  "nbformat": 4,
  "nbformat_minor": 0,
  "metadata": {
    "colab": {
      "name": "_ry_Confidence_Interval_and_Hypothesis_Testing.ipynb",
      "provenance": [],
      "collapsed_sections": [],
      "authorship_tag": "ABX9TyM65SZ2Bx9/llV0mXU57Obj",
      "include_colab_link": true
    },
    "kernelspec": {
      "name": "python3",
      "display_name": "Python 3"
    },
    "language_info": {
      "name": "python"
    }
  },
  "cells": [
    {
      "cell_type": "markdown",
      "metadata": {
        "id": "view-in-github",
        "colab_type": "text"
      },
      "source": [
        "<a href=\"https://colab.research.google.com/github/renyuanL/110_project/blob/main/_ry_Confidence_Interval_and_Hypothesis_Testing.ipynb\" target=\"_parent\"><img src=\"https://colab.research.google.com/assets/colab-badge.svg\" alt=\"Open In Colab\"/></a>"
      ]
    },
    {
      "cell_type": "markdown",
      "metadata": {
        "id": "NWpBCs77Ri_c"
      },
      "source": [
        "# Introduction to Financial Python\n",
        "## Confidence Interval and Hypothesis Testing\n",
        "\n",
        "- Ref: https://www.quantconnect.com/tutorials/introduction-to-financial-python/confidence-interval-and-hypothesis-testing#Confidence-Interval-and-Hypothesis-Testing-Introduction\n"
      ]
    },
    {
      "cell_type": "code",
      "metadata": {
        "id": "iRsyN6O1RdNP"
      },
      "source": [
        "# https://www.quantconnect.com/tutorials/introduction-to-financial-python/confidence-interval-and-hypothesis-testing#Confidence-Interval-and-Hypothesis-Testing-Introduction\n"
      ],
      "execution_count": null,
      "outputs": []
    },
    {
      "cell_type": "code",
      "metadata": {
        "id": "vK-EIF8vSQ4c",
        "colab": {
          "base_uri": "https://localhost:8080/",
          "height": 445
        },
        "outputId": "3b0837a4-ffcd-4f1e-e0ae-0ced9da6a274"
      },
      "source": [
        "import matplotlib.pyplot as plt\n",
        "import numpy as np\n",
        "import pandas as pd\n",
        "\n",
        "'''\n",
        "qb = QuantBook()\n",
        "spy = qb.AddEquity(\"SPY\").Symbol\n",
        "'''\n",
        "#get SPY data from August 2010 to the present\n",
        "'''\n",
        "start_date = datetime(2010, 8, 1, 0, 0, 0)\n",
        "end_date = qb.Time\n",
        "spy_table = qb.History(spy, start_date, end_date, Resolution.Daily)\n",
        "\n",
        "spy_total = spy_table[['open','close']]\n",
        "'''\n",
        "#\n",
        "# 上面主要是撈資料，原作者用了私有的模組 QuantBook \n",
        "# 那個東西我沒有，也暫時不想去網路尋找，因此就自創一段來修補，以便連接....\n",
        "#\n",
        "import pandas_datareader as pdr\n",
        "\n",
        "spy_table= pdr.get_data_yahoo('SPY',start='2010-08')\n",
        "\n",
        "spy_table\n",
        "# 【Ctrl m -】\n"
      ],
      "execution_count": null,
      "outputs": [
        {
          "output_type": "execute_result",
          "data": {
            "text/html": [
              "<div>\n",
              "<style scoped>\n",
              "    .dataframe tbody tr th:only-of-type {\n",
              "        vertical-align: middle;\n",
              "    }\n",
              "\n",
              "    .dataframe tbody tr th {\n",
              "        vertical-align: top;\n",
              "    }\n",
              "\n",
              "    .dataframe thead th {\n",
              "        text-align: right;\n",
              "    }\n",
              "</style>\n",
              "<table border=\"1\" class=\"dataframe\">\n",
              "  <thead>\n",
              "    <tr style=\"text-align: right;\">\n",
              "      <th></th>\n",
              "      <th>High</th>\n",
              "      <th>Low</th>\n",
              "      <th>Open</th>\n",
              "      <th>Close</th>\n",
              "      <th>Volume</th>\n",
              "      <th>Adj Close</th>\n",
              "    </tr>\n",
              "    <tr>\n",
              "      <th>Date</th>\n",
              "      <th></th>\n",
              "      <th></th>\n",
              "      <th></th>\n",
              "      <th></th>\n",
              "      <th></th>\n",
              "      <th></th>\n",
              "    </tr>\n",
              "  </thead>\n",
              "  <tbody>\n",
              "    <tr>\n",
              "      <th>2010-08-02</th>\n",
              "      <td>112.940002</td>\n",
              "      <td>111.540001</td>\n",
              "      <td>111.989998</td>\n",
              "      <td>112.760002</td>\n",
              "      <td>188263200.0</td>\n",
              "      <td>91.136963</td>\n",
              "    </tr>\n",
              "    <tr>\n",
              "      <th>2010-08-03</th>\n",
              "      <td>112.769997</td>\n",
              "      <td>111.849998</td>\n",
              "      <td>112.480003</td>\n",
              "      <td>112.220001</td>\n",
              "      <td>146657300.0</td>\n",
              "      <td>90.700539</td>\n",
              "    </tr>\n",
              "    <tr>\n",
              "      <th>2010-08-04</th>\n",
              "      <td>113.110001</td>\n",
              "      <td>112.160004</td>\n",
              "      <td>112.529999</td>\n",
              "      <td>112.970001</td>\n",
              "      <td>158171700.0</td>\n",
              "      <td>91.306709</td>\n",
              "    </tr>\n",
              "    <tr>\n",
              "      <th>2010-08-05</th>\n",
              "      <td>112.910004</td>\n",
              "      <td>112.080002</td>\n",
              "      <td>112.250000</td>\n",
              "      <td>112.849998</td>\n",
              "      <td>140473800.0</td>\n",
              "      <td>91.209724</td>\n",
              "    </tr>\n",
              "    <tr>\n",
              "      <th>2010-08-06</th>\n",
              "      <td>112.570000</td>\n",
              "      <td>110.919998</td>\n",
              "      <td>111.739998</td>\n",
              "      <td>112.389999</td>\n",
              "      <td>239728300.0</td>\n",
              "      <td>90.837914</td>\n",
              "    </tr>\n",
              "    <tr>\n",
              "      <th>...</th>\n",
              "      <td>...</td>\n",
              "      <td>...</td>\n",
              "      <td>...</td>\n",
              "      <td>...</td>\n",
              "      <td>...</td>\n",
              "      <td>...</td>\n",
              "    </tr>\n",
              "    <tr>\n",
              "      <th>2021-06-08</th>\n",
              "      <td>423.209991</td>\n",
              "      <td>420.320007</td>\n",
              "      <td>423.109985</td>\n",
              "      <td>422.279999</td>\n",
              "      <td>47134300.0</td>\n",
              "      <td>422.279999</td>\n",
              "    </tr>\n",
              "    <tr>\n",
              "      <th>2021-06-09</th>\n",
              "      <td>423.260010</td>\n",
              "      <td>421.410004</td>\n",
              "      <td>423.179993</td>\n",
              "      <td>421.649994</td>\n",
              "      <td>48436300.0</td>\n",
              "      <td>421.649994</td>\n",
              "    </tr>\n",
              "    <tr>\n",
              "      <th>2021-06-10</th>\n",
              "      <td>424.630005</td>\n",
              "      <td>421.549988</td>\n",
              "      <td>422.959991</td>\n",
              "      <td>423.609985</td>\n",
              "      <td>51020100.0</td>\n",
              "      <td>423.609985</td>\n",
              "    </tr>\n",
              "    <tr>\n",
              "      <th>2021-06-11</th>\n",
              "      <td>424.429993</td>\n",
              "      <td>422.820007</td>\n",
              "      <td>424.200012</td>\n",
              "      <td>424.309998</td>\n",
              "      <td>45533100.0</td>\n",
              "      <td>424.309998</td>\n",
              "    </tr>\n",
              "    <tr>\n",
              "      <th>2021-06-14</th>\n",
              "      <td>425.369995</td>\n",
              "      <td>423.100006</td>\n",
              "      <td>424.429993</td>\n",
              "      <td>425.260010</td>\n",
              "      <td>42309100.0</td>\n",
              "      <td>425.260010</td>\n",
              "    </tr>\n",
              "  </tbody>\n",
              "</table>\n",
              "<p>2736 rows × 6 columns</p>\n",
              "</div>"
            ],
            "text/plain": [
              "                  High         Low  ...       Volume   Adj Close\n",
              "Date                                ...                         \n",
              "2010-08-02  112.940002  111.540001  ...  188263200.0   91.136963\n",
              "2010-08-03  112.769997  111.849998  ...  146657300.0   90.700539\n",
              "2010-08-04  113.110001  112.160004  ...  158171700.0   91.306709\n",
              "2010-08-05  112.910004  112.080002  ...  140473800.0   91.209724\n",
              "2010-08-06  112.570000  110.919998  ...  239728300.0   90.837914\n",
              "...                ...         ...  ...          ...         ...\n",
              "2021-06-08  423.209991  420.320007  ...   47134300.0  422.279999\n",
              "2021-06-09  423.260010  421.410004  ...   48436300.0  421.649994\n",
              "2021-06-10  424.630005  421.549988  ...   51020100.0  423.609985\n",
              "2021-06-11  424.429993  422.820007  ...   45533100.0  424.309998\n",
              "2021-06-14  425.369995  423.100006  ...   42309100.0  425.260010\n",
              "\n",
              "[2736 rows x 6 columns]"
            ]
          },
          "metadata": {
            "tags": []
          },
          "execution_count": 260
        }
      ]
    },
    {
      "cell_type": "code",
      "metadata": {
        "id": "tBdrX2SMe9r0"
      },
      "source": [
        " \n",
        "spy_total= spy_table[['Open','Close']]\n",
        "spy_total.columns= ['open','close']\n"
      ],
      "execution_count": null,
      "outputs": []
    },
    {
      "cell_type": "code",
      "metadata": {
        "id": "Kn5CdPnDXbgY",
        "colab": {
          "base_uri": "https://localhost:8080/",
          "height": 445
        },
        "outputId": "37a48164-09b3-42ca-b8a2-c0446a646896"
      },
      "source": [
        "# 先喵一下我撈到了啥資料？\n",
        "# Google: 【spy yahoo finance】\n",
        "# https://finance.yahoo.com/quote/SPY/chart?p=SPY#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--\n",
        "\n",
        "spy_total\n"
      ],
      "execution_count": null,
      "outputs": [
        {
          "output_type": "execute_result",
          "data": {
            "text/html": [
              "<div>\n",
              "<style scoped>\n",
              "    .dataframe tbody tr th:only-of-type {\n",
              "        vertical-align: middle;\n",
              "    }\n",
              "\n",
              "    .dataframe tbody tr th {\n",
              "        vertical-align: top;\n",
              "    }\n",
              "\n",
              "    .dataframe thead th {\n",
              "        text-align: right;\n",
              "    }\n",
              "</style>\n",
              "<table border=\"1\" class=\"dataframe\">\n",
              "  <thead>\n",
              "    <tr style=\"text-align: right;\">\n",
              "      <th></th>\n",
              "      <th>open</th>\n",
              "      <th>close</th>\n",
              "    </tr>\n",
              "    <tr>\n",
              "      <th>Date</th>\n",
              "      <th></th>\n",
              "      <th></th>\n",
              "    </tr>\n",
              "  </thead>\n",
              "  <tbody>\n",
              "    <tr>\n",
              "      <th>2010-08-02</th>\n",
              "      <td>111.989998</td>\n",
              "      <td>112.760002</td>\n",
              "    </tr>\n",
              "    <tr>\n",
              "      <th>2010-08-03</th>\n",
              "      <td>112.480003</td>\n",
              "      <td>112.220001</td>\n",
              "    </tr>\n",
              "    <tr>\n",
              "      <th>2010-08-04</th>\n",
              "      <td>112.529999</td>\n",
              "      <td>112.970001</td>\n",
              "    </tr>\n",
              "    <tr>\n",
              "      <th>2010-08-05</th>\n",
              "      <td>112.250000</td>\n",
              "      <td>112.849998</td>\n",
              "    </tr>\n",
              "    <tr>\n",
              "      <th>2010-08-06</th>\n",
              "      <td>111.739998</td>\n",
              "      <td>112.389999</td>\n",
              "    </tr>\n",
              "    <tr>\n",
              "      <th>...</th>\n",
              "      <td>...</td>\n",
              "      <td>...</td>\n",
              "    </tr>\n",
              "    <tr>\n",
              "      <th>2021-06-08</th>\n",
              "      <td>423.109985</td>\n",
              "      <td>422.279999</td>\n",
              "    </tr>\n",
              "    <tr>\n",
              "      <th>2021-06-09</th>\n",
              "      <td>423.179993</td>\n",
              "      <td>421.649994</td>\n",
              "    </tr>\n",
              "    <tr>\n",
              "      <th>2021-06-10</th>\n",
              "      <td>422.959991</td>\n",
              "      <td>423.609985</td>\n",
              "    </tr>\n",
              "    <tr>\n",
              "      <th>2021-06-11</th>\n",
              "      <td>424.200012</td>\n",
              "      <td>424.309998</td>\n",
              "    </tr>\n",
              "    <tr>\n",
              "      <th>2021-06-14</th>\n",
              "      <td>424.429993</td>\n",
              "      <td>425.260010</td>\n",
              "    </tr>\n",
              "  </tbody>\n",
              "</table>\n",
              "<p>2736 rows × 2 columns</p>\n",
              "</div>"
            ],
            "text/plain": [
              "                  open       close\n",
              "Date                              \n",
              "2010-08-02  111.989998  112.760002\n",
              "2010-08-03  112.480003  112.220001\n",
              "2010-08-04  112.529999  112.970001\n",
              "2010-08-05  112.250000  112.849998\n",
              "2010-08-06  111.739998  112.389999\n",
              "...                ...         ...\n",
              "2021-06-08  423.109985  422.279999\n",
              "2021-06-09  423.179993  421.649994\n",
              "2021-06-10  422.959991  423.609985\n",
              "2021-06-11  424.200012  424.309998\n",
              "2021-06-14  424.429993  425.260010\n",
              "\n",
              "[2736 rows x 2 columns]"
            ]
          },
          "metadata": {
            "tags": []
          },
          "execution_count": 262
        }
      ]
    },
    {
      "cell_type": "code",
      "metadata": {
        "colab": {
          "base_uri": "https://localhost:8080/"
        },
        "id": "CrzIym_6TAte",
        "outputId": "98b760f2-2a99-4b5d-bbef-7a189cf07b10"
      },
      "source": [
        "#calculate log returns\n",
        "X= spy_log_return = np.log(spy_total.close).diff().dropna()\n",
        "X\n"
      ],
      "execution_count": null,
      "outputs": [
        {
          "output_type": "execute_result",
          "data": {
            "text/plain": [
              "Date\n",
              "2010-08-03   -0.004800\n",
              "2010-08-04    0.006661\n",
              "2010-08-05   -0.001063\n",
              "2010-08-06   -0.004085\n",
              "2010-08-09    0.005324\n",
              "                ...   \n",
              "2021-06-08    0.000213\n",
              "2021-06-09   -0.001493\n",
              "2021-06-10    0.004638\n",
              "2021-06-11    0.001651\n",
              "2021-06-14    0.002236\n",
              "Name: close, Length: 2735, dtype: float64"
            ]
          },
          "metadata": {
            "tags": []
          },
          "execution_count": 263
        }
      ]
    },
    {
      "cell_type": "code",
      "metadata": {
        "colab": {
          "base_uri": "https://localhost:8080/"
        },
        "id": "Kw0GOB7DhaWx",
        "outputId": "56240028-2a80-4aa7-9beb-76d5fa9ee068"
      },
      "source": [
        "\n",
        "\n",
        "\n",
        "print('Population mean:', np.mean(spy_log_return))\n",
        "#[out]: Population mean: 0.000443353825615\n",
        "print('Population standard deviation:',np.std(spy_log_return))\n",
        "#[out]: Population standard deviation: 0.00784267293815\n",
        "\n"
      ],
      "execution_count": null,
      "outputs": [
        {
          "output_type": "stream",
          "text": [
            "Population mean: 0.00048535249884885\n",
            "Population standard deviation: 0.01075169962667365\n"
          ],
          "name": "stdout"
        }
      ]
    },
    {
      "cell_type": "code",
      "metadata": {
        "id": "ZWaKqqHHZvj-",
        "colab": {
          "base_uri": "https://localhost:8080/",
          "height": 286
        },
        "outputId": "bf689919-0714-4868-8ccc-c08f9274ae45"
      },
      "source": [
        "# 原作者只用到 上面 Dataframe 的 'close' 這個欄 (column)\n",
        "X= spy_total.close \n",
        "# 或者\n",
        "X= spy_total['close']\n",
        "X\n",
        "X.plot(grid=True)\n",
        "\n",
        "#【esc】【b】"
      ],
      "execution_count": null,
      "outputs": [
        {
          "output_type": "execute_result",
          "data": {
            "text/plain": [
              "<matplotlib.axes._subplots.AxesSubplot at 0x7feeedb64a10>"
            ]
          },
          "metadata": {
            "tags": []
          },
          "execution_count": 265
        },
        {
          "output_type": "display_data",
          "data": {
            "image/png": "[encoded data removed]",
            "text/plain": [
              "<Figure size 432x288 with 1 Axes>"
            ]
          },
          "metadata": {
            "tags": [],
            "needs_background": "light"
          }
        }
      ]
    },
    {
      "cell_type": "code",
      "metadata": {
        "colab": {
          "base_uri": "https://localhost:8080/"
        },
        "id": "SOhoIAeDjm7E",
        "outputId": "6577ec02-1936-471f-e9bd-7f8d2b0ef1ba"
      },
      "source": [
        "X\n"
      ],
      "execution_count": null,
      "outputs": [
        {
          "output_type": "execute_result",
          "data": {
            "text/plain": [
              "Date\n",
              "2010-08-02    112.760002\n",
              "2010-08-03    112.220001\n",
              "2010-08-04    112.970001\n",
              "2010-08-05    112.849998\n",
              "2010-08-06    112.389999\n",
              "                 ...    \n",
              "2021-06-08    422.279999\n",
              "2021-06-09    421.649994\n",
              "2021-06-10    423.609985\n",
              "2021-06-11    424.309998\n",
              "2021-06-14    425.260010\n",
              "Name: close, Length: 2736, dtype: float64"
            ]
          },
          "metadata": {
            "tags": []
          },
          "execution_count": 266
        }
      ]
    },
    {
      "cell_type": "code",
      "metadata": {
        "colab": {
          "base_uri": "https://localhost:8080/"
        },
        "id": "soCnga7-kMli",
        "outputId": "e300f8a5-330f-4692-8c62-b66042ab3d04"
      },
      "source": [
        "\n",
        "Y= np.log2(X).diff().dropna()\n",
        "Y"
      ],
      "execution_count": null,
      "outputs": [
        {
          "output_type": "execute_result",
          "data": {
            "text/plain": [
              "Date\n",
              "2010-08-03   -0.006926\n",
              "2010-08-04    0.009610\n",
              "2010-08-05   -0.001533\n",
              "2010-08-06   -0.005893\n",
              "2010-08-09    0.007681\n",
              "                ...   \n",
              "2021-06-08    0.000308\n",
              "2021-06-09   -0.002154\n",
              "2021-06-10    0.006691\n",
              "2021-06-11    0.002382\n",
              "2021-06-14    0.003227\n",
              "Name: close, Length: 2735, dtype: float64"
            ]
          },
          "metadata": {
            "tags": []
          },
          "execution_count": 267
        }
      ]
    },
    {
      "cell_type": "code",
      "metadata": {
        "colab": {
          "base_uri": "https://localhost:8080/",
          "height": 286
        },
        "id": "3uuk2yDrjnIl",
        "outputId": "dc02caaa-8944-4306-fad7-599ebbe5f754"
      },
      "source": [
        "Y.plot(grid=True)"
      ],
      "execution_count": null,
      "outputs": [
        {
          "output_type": "execute_result",
          "data": {
            "text/plain": [
              "<matplotlib.axes._subplots.AxesSubplot at 0x7feeed73fa50>"
            ]
          },
          "metadata": {
            "tags": []
          },
          "execution_count": 268
        },
        {
          "output_type": "display_data",
          "data": {
            "image/png": "[encoded data removed]",
            "text/plain": [
              "<Figure size 432x288 with 1 Axes>"
            ]
          },
          "metadata": {
            "tags": [],
            "needs_background": "light"
          }
        }
      ]
    },
    {
      "cell_type": "code",
      "metadata": {
        "colab": {
          "base_uri": "https://localhost:8080/"
        },
        "id": "jLQynJfPjnWL",
        "outputId": "5787a5a9-aa32-457a-93a3-ff5135a909e7"
      },
      "source": [
        "Y.describe()\n"
      ],
      "execution_count": null,
      "outputs": [
        {
          "output_type": "execute_result",
          "data": {
            "text/plain": [
              "count    2735.000000\n",
              "mean        0.000700\n",
              "std         0.015514\n",
              "min        -0.167189\n",
              "25%        -0.005010\n",
              "50%         0.000918\n",
              "75%         0.007802\n",
              "max         0.125126\n",
              "Name: close, dtype: float64"
            ]
          },
          "metadata": {
            "tags": []
          },
          "execution_count": 269
        }
      ]
    },
    {
      "cell_type": "code",
      "metadata": {
        "colab": {
          "base_uri": "https://localhost:8080/",
          "height": 285
        },
        "id": "o5WxiWf5jnhT",
        "outputId": "e6886da2-98a8-46f9-e887-0b0bd9de3ec5"
      },
      "source": [
        "Y.hist(bins=100)"
      ],
      "execution_count": null,
      "outputs": [
        {
          "output_type": "execute_result",
          "data": {
            "text/plain": [
              "<matplotlib.axes._subplots.AxesSubplot at 0x7feeed7485d0>"
            ]
          },
          "metadata": {
            "tags": []
          },
          "execution_count": 270
        },
        {
          "output_type": "display_data",
          "data": {
            "image/png": "[encoded data removed]",
            "text/plain": [
              "<Figure size 432x288 with 1 Axes>"
            ]
          },
          "metadata": {
            "tags": [],
            "needs_background": "light"
          }
        }
      ]
    },
    {
      "cell_type": "code",
      "metadata": {
        "colab": {
          "base_uri": "https://localhost:8080/"
        },
        "id": "0bP6LcfLmxoD",
        "outputId": "eede0c0c-d317-4cf5-e54e-381a0142018c"
      },
      "source": [
        "mu= Y.mean()\n",
        "sigma= Y.std(ddof=1)\n",
        "n= Y.size\n",
        "SE= sigma / n**.5\n",
        "SE\n",
        "\n"
      ],
      "execution_count": null,
      "outputs": [
        {
          "output_type": "execute_result",
          "data": {
            "text/plain": [
              "0.00029665550145506855"
            ]
          },
          "metadata": {
            "tags": []
          },
          "execution_count": 271
        }
      ]
    },
    {
      "cell_type": "code",
      "metadata": {
        "id": "whJauRQxs9HF",
        "colab": {
          "base_uri": "https://localhost:8080/"
        },
        "outputId": "b8332522-8301-4431-8587-b462de3fa53f"
      },
      "source": [
        "st.sem(Y)\n"
      ],
      "execution_count": null,
      "outputs": [
        {
          "output_type": "execute_result",
          "data": {
            "text/plain": [
              "0.00029665550145506876"
            ]
          },
          "metadata": {
            "tags": []
          },
          "execution_count": 272
        }
      ]
    },
    {
      "cell_type": "code",
      "metadata": {
        "colab": {
          "base_uri": "https://localhost:8080/"
        },
        "id": "1H9ppTOhmxvB",
        "outputId": "338deab8-a22c-49f1-83a2-97011223b264"
      },
      "source": [
        "信心區間95= (mu-1.96*SE, mu+1.96*SE)\n",
        "信心區間95"
      ],
      "execution_count": null,
      "outputs": [
        {
          "output_type": "execute_result",
          "data": {
            "text/plain": [
              "(0.0001187708603203676, 0.0012816604260242363)"
            ]
          },
          "metadata": {
            "tags": []
          },
          "execution_count": 273
        }
      ]
    },
    {
      "cell_type": "code",
      "metadata": {
        "colab": {
          "base_uri": "https://localhost:8080/"
        },
        "id": "m0iv1g25mx3R",
        "outputId": "23571606-a938-4735-bf56-61bd06ec0c12"
      },
      "source": [
        "# +- 1.96 怎麼來的？\n",
        "import scipy.stats as st\n",
        "中間面積CL1= 1-2*st.norm.cdf(-1) # 0.6827\n",
        "中間面積CL2= 1-2*st.norm.cdf(-2) # 0.9545\n",
        "中間面積CL3= 1-2*st.norm.cdf(-3) # 中間面積=CL=.9973\n",
        "中間面積CL1, 中間面積CL2, 中間面積CL3"
      ],
      "execution_count": null,
      "outputs": [
        {
          "output_type": "execute_result",
          "data": {
            "text/plain": [
              "(0.6826894921370859, 0.9544997361036416, 0.9973002039367398)"
            ]
          },
          "metadata": {
            "tags": []
          },
          "execution_count": 274
        }
      ]
    },
    {
      "cell_type": "code",
      "metadata": {
        "id": "SQfJRZE7t04P",
        "colab": {
          "base_uri": "https://localhost:8080/"
        },
        "outputId": "ab80a07b-e4ef-4953-f88f-c7b623123892"
      },
      "source": [
        "\n",
        "st.norm.ppf((1-0.95)/2)\n"
      ],
      "execution_count": null,
      "outputs": [
        {
          "output_type": "execute_result",
          "data": {
            "text/plain": [
              "-1.959963984540054"
            ]
          },
          "metadata": {
            "tags": []
          },
          "execution_count": 275
        }
      ]
    },
    {
      "cell_type": "code",
      "metadata": {
        "colab": {
          "base_uri": "https://localhost:8080/"
        },
        "id": "CINJeOxAo_hc",
        "outputId": "f9d56bd0-1b26-4b9a-e7cb-01e9d6c54ca8"
      },
      "source": [
        "# 若非 標準型 normal distribution, 95% ==> ? 橫坐標？\n",
        "st.t.ppf((1-0.95)/2, df=10000)"
      ],
      "execution_count": null,
      "outputs": [
        {
          "output_type": "execute_result",
          "data": {
            "text/plain": [
              "-1.960201239890626"
            ]
          },
          "metadata": {
            "tags": []
          },
          "execution_count": 276
        }
      ]
    },
    {
      "cell_type": "code",
      "metadata": {
        "colab": {
          "base_uri": "https://localhost:8080/"
        },
        "id": "xpLcMkO3o_up",
        "outputId": "ddb6a3f1-8654-4a09-df73-2ab9cbab3fbd"
      },
      "source": [
        "st.t.ppf((1-0.95)/2, df=10)"
      ],
      "execution_count": null,
      "outputs": [
        {
          "output_type": "execute_result",
          "data": {
            "text/plain": [
              "-2.2281388519649385"
            ]
          },
          "metadata": {
            "tags": []
          },
          "execution_count": 277
        }
      ]
    },
    {
      "cell_type": "code",
      "metadata": {
        "colab": {
          "base_uri": "https://localhost:8080/"
        },
        "id": "ff5EIp0-o_6J",
        "outputId": "4249997e-627a-446b-8360-443ac1900b8d"
      },
      "source": [
        "st.t.ppf((1-0.95)/2, df=100)\n"
      ],
      "execution_count": null,
      "outputs": [
        {
          "output_type": "execute_result",
          "data": {
            "text/plain": [
              "-1.9839715184496334"
            ]
          },
          "metadata": {
            "tags": []
          },
          "execution_count": 278
        }
      ]
    },
    {
      "cell_type": "code",
      "metadata": {
        "id": "PxnLmFaVsrqR"
      },
      "source": [
        ""
      ],
      "execution_count": null,
      "outputs": []
    },
    {
      "cell_type": "code",
      "metadata": {
        "id": "zcCz_oIsqDKx"
      },
      "source": [
        "# 休息到 11: 20\n"
      ],
      "execution_count": null,
      "outputs": []
    },
    {
      "cell_type": "code",
      "metadata": {
        "colab": {
          "base_uri": "https://localhost:8080/"
        },
        "id": "yeKrsJX5WcCO",
        "outputId": "cdd3951c-0e34-4feb-c9a3-01f842247e59"
      },
      "source": [
        "st.t.interval(.95,df=Y.size-1, loc=Y.mean(), scale=Y.std()/(Y.size**.5))"
      ],
      "execution_count": null,
      "outputs": [
        {
          "output_type": "execute_result",
          "data": {
            "text/plain": [
              "(0.00011852402670257446, 0.0012819072596420293)"
            ]
          },
          "metadata": {
            "tags": []
          },
          "execution_count": 291
        }
      ]
    },
    {
      "cell_type": "code",
      "metadata": {
        "colab": {
          "base_uri": "https://localhost:8080/"
        },
        "id": "TWX1c90UWcHK",
        "outputId": "453b1751-1608-4c6c-f88f-b20e467a66b4"
      },
      "source": [
        "st.t.interval(.90,df=Y.size-1, loc=Y.mean(), scale=Y.std()/(Y.size**.5))"
      ],
      "execution_count": null,
      "outputs": [
        {
          "output_type": "execute_result",
          "data": {
            "text/plain": [
              "(0.0002120953711205911, 0.0011883359152240125)"
            ]
          },
          "metadata": {
            "tags": []
          },
          "execution_count": 292
        }
      ]
    },
    {
      "cell_type": "code",
      "metadata": {
        "colab": {
          "base_uri": "https://localhost:8080/"
        },
        "id": "afRSjcnnWcL4",
        "outputId": "b8d5b5d5-61b2-44f7-f07c-70bbdef2071e"
      },
      "source": [
        "Y.mean()"
      ],
      "execution_count": null,
      "outputs": [
        {
          "output_type": "execute_result",
          "data": {
            "text/plain": [
              "0.0007002156431723019"
            ]
          },
          "metadata": {
            "tags": []
          },
          "execution_count": 293
        }
      ]
    },
    {
      "cell_type": "code",
      "metadata": {
        "colab": {
          "base_uri": "https://localhost:8080/"
        },
        "id": "pGIPuRY7WcQL",
        "outputId": "55d1782a-5233-450a-f733-2d81dec0cfae"
      },
      "source": [
        "Y.std()"
      ],
      "execution_count": null,
      "outputs": [
        {
          "output_type": "execute_result",
          "data": {
            "text/plain": [
              "0.015514260236847635"
            ]
          },
          "metadata": {
            "tags": []
          },
          "execution_count": 295
        }
      ]
    },
    {
      "cell_type": "code",
      "metadata": {
        "colab": {
          "base_uri": "https://localhost:8080/"
        },
        "id": "whDqBPvsWcVA",
        "outputId": "4e2ea98e-8b72-468f-c4e7-6cbcc304fa45"
      },
      "source": [
        "#np.random.seed(0)\n",
        "Y100= Y.sample(n=100)\n",
        "Y100"
      ],
      "execution_count": null,
      "outputs": [
        {
          "output_type": "execute_result",
          "data": {
            "text/plain": [
              "Date\n",
              "2011-04-29    0.003388\n",
              "2015-04-17   -0.016692\n",
              "2015-03-06   -0.020435\n",
              "2020-10-21   -0.002734\n",
              "2012-12-12    0.000704\n",
              "                ...   \n",
              "2012-02-29   -0.005674\n",
              "2019-01-24    0.000766\n",
              "2018-11-20   -0.026949\n",
              "2014-05-20   -0.009125\n",
              "2015-06-05   -0.002474\n",
              "Name: close, Length: 100, dtype: float64"
            ]
          },
          "metadata": {
            "tags": []
          },
          "execution_count": 330
        }
      ]
    },
    {
      "cell_type": "code",
      "metadata": {
        "colab": {
          "base_uri": "https://localhost:8080/"
        },
        "id": "UWQF3zJGWcaD",
        "outputId": "d21953a5-3428-4975-b6c2-5474d49c5c70"
      },
      "source": [
        "Y.mean(), Y100.mean()"
      ],
      "execution_count": null,
      "outputs": [
        {
          "output_type": "execute_result",
          "data": {
            "text/plain": [
              "(0.0007002156431723019, 0.002133872421702927)"
            ]
          },
          "metadata": {
            "tags": []
          },
          "execution_count": 331
        }
      ]
    },
    {
      "cell_type": "code",
      "metadata": {
        "colab": {
          "base_uri": "https://localhost:8080/"
        },
        "id": "gVh8eJb9WcfJ",
        "outputId": "31c2d557-0ec8-4df9-d869-28f6bc8e076d"
      },
      "source": [
        "x1,x2= st.t.interval(.95, df=Y100.size-1, loc=Y100.mean(), scale=st.sem(Y100))\n",
        "x1,x2"
      ],
      "execution_count": null,
      "outputs": [
        {
          "output_type": "execute_result",
          "data": {
            "text/plain": [
              "(-0.0003256789489721971, 0.004593423792378051)"
            ]
          },
          "metadata": {
            "tags": []
          },
          "execution_count": 333
        }
      ]
    },
    {
      "cell_type": "code",
      "metadata": {
        "colab": {
          "base_uri": "https://localhost:8080/"
        },
        "id": "NtD7cZlmWckc",
        "outputId": "157faa87-a17a-4063-9422-747b17a35c57"
      },
      "source": [
        "st.ttest_1samp(Y100, x1) # reject \"mu0==x1\"，因為 pvalue=0.05 夠小"
      ],
      "execution_count": null,
      "outputs": [
        {
          "output_type": "execute_result",
          "data": {
            "text/plain": [
              "Ttest_1sampResult(statistic=1.9842169515086827, pvalue=0.05000000000880278)"
            ]
          },
          "metadata": {
            "tags": []
          },
          "execution_count": 325
        }
      ]
    },
    {
      "cell_type": "code",
      "metadata": {
        "colab": {
          "base_uri": "https://localhost:8080/"
        },
        "id": "kprDHFM5Y9GM",
        "outputId": "bae4c3a9-02ae-488d-845e-10a4b4dc2444"
      },
      "source": [
        "e= .00001\n",
        "\n",
        "st.ttest_1samp(Y100, x1-e) # also reject \"mu0=x1-e < x1\", 因為 pvalue=0.049 更小"
      ],
      "execution_count": null,
      "outputs": [
        {
          "output_type": "execute_result",
          "data": {
            "text/plain": [
              "Ttest_1sampResult(statistic=1.9913694811330211, pvalue=0.04919560562161689)"
            ]
          },
          "metadata": {
            "tags": []
          },
          "execution_count": 326
        }
      ]
    },
    {
      "cell_type": "code",
      "metadata": {
        "colab": {
          "base_uri": "https://localhost:8080/"
        },
        "id": "CiPyF7J5Y9K6",
        "outputId": "b0d2a184-40e8-4a93-e614-58b641026bb7"
      },
      "source": [
        "st.ttest_1samp(Y100, x1+e) # do not reject \"mu0=x1+e > x1\"，因為 pvalue=0.0508 不夠小"
      ],
      "execution_count": null,
      "outputs": [
        {
          "output_type": "execute_result",
          "data": {
            "text/plain": [
              "Ttest_1sampResult(statistic=1.9770644218843447, pvalue=0.05081556152089328)"
            ]
          },
          "metadata": {
            "tags": []
          },
          "execution_count": 328
        }
      ]
    },
    {
      "cell_type": "code",
      "metadata": {
        "colab": {
          "base_uri": "https://localhost:8080/"
        },
        "id": "9EbimdBOY9P7",
        "outputId": "37649d57-f59c-4594-c40c-fc4f49dec776"
      },
      "source": [
        "Y.describe()\n",
        "#count=2735\n",
        "#mean= 0.000700\n",
        "#std=  0.015514"
      ],
      "execution_count": null,
      "outputs": [
        {
          "output_type": "execute_result",
          "data": {
            "text/plain": [
              "count    2735.000000\n",
              "mean        0.000700\n",
              "std         0.015514\n",
              "min        -0.167189\n",
              "25%        -0.005010\n",
              "50%         0.000918\n",
              "75%         0.007802\n",
              "max         0.125126\n",
              "Name: close, dtype: float64"
            ]
          },
          "metadata": {
            "tags": []
          },
          "execution_count": 342
        }
      ]
    },
    {
      "cell_type": "code",
      "metadata": {
        "colab": {
          "base_uri": "https://localhost:8080/"
        },
        "id": "DuI5x85pbQox",
        "outputId": "2f082248-34da-44cd-eb2a-e474967fed79"
      },
      "source": [
        "Y100= Y.sample(n=100)\n",
        "Y100.describe().round(3)"
      ],
      "execution_count": null,
      "outputs": [
        {
          "output_type": "execute_result",
          "data": {
            "text/plain": [
              "count    100.000\n",
              "mean      -0.001\n",
              "std        0.016\n",
              "min       -0.086\n",
              "25%       -0.005\n",
              "50%        0.001\n",
              "75%        0.006\n",
              "max        0.026\n",
              "Name: close, dtype: float64"
            ]
          },
          "metadata": {
            "tags": []
          },
          "execution_count": 348
        }
      ]
    },
    {
      "cell_type": "code",
      "metadata": {
        "colab": {
          "base_uri": "https://localhost:8080/"
        },
        "id": "K-4_grg7bQtZ",
        "outputId": "a4bf6b74-f46f-4927-d411-33355ce057cb"
      },
      "source": [
        "x1, x2= st.t.interval(.95, \n",
        "        df=Y100.size-1, \n",
        "        loc=Y100.mean(), \n",
        "        scale= Y100.std()/Y100.size**.5)\n",
        "x1,x2"
      ],
      "execution_count": null,
      "outputs": [
        {
          "output_type": "execute_result",
          "data": {
            "text/plain": [
              "(-0.004563868970453122, 0.0015899202022909553)"
            ]
          },
          "metadata": {
            "tags": []
          },
          "execution_count": 351
        }
      ]
    },
    {
      "cell_type": "code",
      "metadata": {
        "colab": {
          "base_uri": "https://localhost:8080/"
        },
        "id": "7GntUQDbbQxT",
        "outputId": "80a3aa08-5946-4e03-fd2c-1f1cdeff9374"
      },
      "source": [
        "tValue, pValue_2side= st.ttest_1samp(Y100, x1)\n",
        "tValue, pValue_2side\n"
      ],
      "execution_count": null,
      "outputs": [
        {
          "output_type": "execute_result",
          "data": {
            "text/plain": [
              "(1.9842169515086823, 0.050000000008802836)"
            ]
          },
          "metadata": {
            "tags": []
          },
          "execution_count": 353
        }
      ]
    },
    {
      "cell_type": "code",
      "metadata": {
        "colab": {
          "base_uri": "https://localhost:8080/"
        },
        "id": "n-JhMtxPbQ2l",
        "outputId": "b42995bd-937a-4955-cd5b-2c342ac41605"
      },
      "source": [
        "Y100.mean()-x1, (Y100.mean()-x1)/(Y100.std()/Y100.size**.5), pValue_2side/2"
      ],
      "execution_count": null,
      "outputs": [
        {
          "output_type": "execute_result",
          "data": {
            "text/plain": [
              "(0.0030768945863720388, 1.9842169515086827, 0.025000000004401418)"
            ]
          },
          "metadata": {
            "tags": []
          },
          "execution_count": 356
        }
      ]
    },
    {
      "cell_type": "code",
      "metadata": {
        "colab": {
          "base_uri": "https://localhost:8080/"
        },
        "id": "xacVG-JDbQ8d",
        "outputId": "4e5b0e2b-7345-4972-e59d-7a2ee9675039"
      },
      "source": [
        "pValue_1side= st.t.cdf(-abs(tValue), df= Y100.size-1)\n",
        "pValue_1side"
      ],
      "execution_count": null,
      "outputs": [
        {
          "output_type": "execute_result",
          "data": {
            "text/plain": [
              "0.025000000004401418"
            ]
          },
          "metadata": {
            "tags": []
          },
          "execution_count": 358
        }
      ]
    },
    {
      "cell_type": "code",
      "metadata": {
        "id": "-ogJF61pt9lE"
      },
      "source": [
        "# tValue 為 (證據樣本平均-母體平均之假設值)/樣本標準【誤差】，tValue之絕對值越大，代表證據與假設相差越遠，就越有信心否決假設\n",
        "# tValue 與 pValue 反向變化，tValue 變大-->pValue 變小\n",
        "# pValue 可約略視為 證據支持假設的程度，pValue 小於一個臨界值 alpha(常設為 5% 或 2.5%)，即可視為證據不支持假設，決策即為【否決】假設。\n",
        "# 此處 alpha 值恰為採行此種決策法則(Rule: if pValue<alpha then 否決假設) 所必須承受的 決策錯誤率 (Type I error, i.e., H0 is correct, but decision to reject it )。\n",
        "# 因此 若欲降低此類決策錯誤率，我們可降低 alpha 值 (e.g. 5% --> 2.5% -->1%)\n",
        "#\n",
        "# 然而，有關決策錯誤，除了 Type-I error (alpha) 之外，另有 Type-II error (beta)\n",
        "# Type-I error, alpha 定義為：假設為真 (事後證實為真)，決策為拒絕\n",
        "# Type-II error, beta 定義為：假設為假 (事後證實為假)，決策為接受(或不拒絕)\n",
        "#\n",
        "# 一般而言 降低 alpha 會導致 beta 上升，如何取得最佳平衡是研究重點，參考ROC curve  的說明\n"
      ],
      "execution_count": null,
      "outputs": []
    },
    {
      "cell_type": "code",
      "metadata": {
        "id": "z0gdA89ot9p4"
      },
      "source": [
        ""
      ],
      "execution_count": null,
      "outputs": []
    },
    {
      "cell_type": "code",
      "metadata": {
        "id": "Y3j38CUqt9ui"
      },
      "source": [
        ""
      ],
      "execution_count": null,
      "outputs": []
    },
    {
      "cell_type": "markdown",
      "metadata": {
        "id": "CUU8SHqB4iD-"
      },
      "source": [
        "# Student’s t-test\n",
        "## https://machinelearningmastery.com/statistical-hypothesis-tests-in-python-cheat-sheet/\n",
        "\n",
        "Tests whether the means of two independent samples are significantly different.\n",
        "\n",
        "Assumptions\n",
        "\n",
        "Observations in each sample are independent and identically distributed (iid).\n",
        "Observations in each sample are normally distributed.\n",
        "Observations in each sample have the same variance.\n",
        "Interpretation\n",
        "\n",
        "H0: the means of the samples are equal.\n",
        "H1: the means of the samples are unequal.\n"
      ]
    },
    {
      "cell_type": "code",
      "metadata": {
        "id": "kOqWs-S04eHZ",
        "outputId": "8225ed1f-2b0d-4fc9-9a1a-c640dbf093f4",
        "colab": {
          "base_uri": "https://localhost:8080/"
        }
      },
      "source": [
        "# Example of the Student's t-test\n",
        "from scipy.stats import ttest_ind\n",
        "\n",
        "#data1 = [0.873, 2.817, 0.121, -0.945, -0.055, -1.436, 0.360, -1.478, -1.637, -1.869]\n",
        "#data2 = [1.142, -0.432, -0.938, -0.729, -0.846, -0.157, 0.500, 1.183, -1.075, -0.169]\n",
        "\n",
        "data1= Y.sample(n=100)\n",
        "data2= Y.sample(n=100)\n",
        "stat, p = ttest_ind(data1, data2)\n",
        "print('stat=%.3f, p=%.3f' % (stat, p))\n",
        "if p > 0.05:\n",
        "\tprint('Probably the same distribution')\n",
        "else:\n",
        "\tprint('Probably different distributions')\n"
      ],
      "execution_count": 389,
      "outputs": [
        {
          "output_type": "stream",
          "text": [
            "stat=0.620, p=0.536\n",
            "Probably the same distribution\n"
          ],
          "name": "stdout"
        }
      ]
    },
    {
      "cell_type": "code",
      "metadata": {
        "id": "OJQ_8k4v4eMJ"
      },
      "source": [
        ""
      ],
      "execution_count": null,
      "outputs": []
    },
    {
      "cell_type": "code",
      "metadata": {
        "id": "TiA73Y1y4eQ6"
      },
      "source": [
        "bottom_1"
      ],
      "execution_count": null,
      "outputs": []
    },
    {
      "cell_type": "code",
      "metadata": {
        "id": "pcjKUGjnt9y2"
      },
      "source": [
        ""
      ],
      "execution_count": null,
      "outputs": []
    },
    {
      "cell_type": "code",
      "metadata": {
        "colab": {
          "base_uri": "https://localhost:8080/"
        },
        "id": "Ztp46UNnR8Yy",
        "outputId": "aaf83a0c-151b-4d9d-a0bd-826c86e174a9"
      },
      "source": [
        "print('10 days sample returns:', np.mean(spy_log_return.tail(10)))\n",
        "#[out]: 10 days sample returns: 0.000845189915474\n",
        "print('10 days sample standard deviation:', np.std(spy_log_return.tail(10)))\n",
        "#[out]: 10 days sample standard deviation: 0.00313558001122\n",
        "print('1000 days sample returns:', np.mean(spy_log_return.tail(1000)))\n",
        "#[out]: 1000 days sample returns: 0.000462827047221\n",
        "print('1000 days sample standard deviation:', np.std(spy_log_return.tail(1000)))\n",
        "#[out]: 1000 days sample standard deviation: 0.00766589174299"
      ],
      "execution_count": null,
      "outputs": [
        {
          "output_type": "stream",
          "text": [
            "10 days sample returns: 0.0012350804361541457\n",
            "10 days sample standard deviation: 0.003422828669076326\n",
            "1000 days sample returns: 0.0005602979943605533\n",
            "1000 days sample standard deviation: 0.013036113231790701\n"
          ],
          "name": "stdout"
        }
      ]
    },
    {
      "cell_type": "code",
      "metadata": {
        "colab": {
          "base_uri": "https://localhost:8080/"
        },
        "id": "KGhfvW32UFMT",
        "outputId": "855e7002-c381-43cb-c4a9-27850d546c9b"
      },
      "source": [
        "#apply the formula above to calculate confidence interval\n",
        "bottom_1 = np.mean(spy_log_return.tail(10))-1.96*np.std(spy_log_return.tail(10))/(np.sqrt(len((spy_log_return.tail(10)))))\n",
        "upper_1 = np.mean(spy_log_return.tail(10))+1.96*np.std(spy_log_return.tail(10))/(np.sqrt(len((spy_log_return.tail(10)))))\n",
        "bottom_2 = np.mean(spy_log_return.tail(1000))-1.96*np.std(spy_log_return.tail(1000))/(np.sqrt(len((spy_log_return.tail(1000)))))\n",
        "upper_2 = np.mean(spy_log_return.tail(1000))+1.96*np.std(spy_log_return.tail(1000))/(np.sqrt(len((spy_log_return.tail(1000)))))\n",
        "#print the outcomes\n",
        "print('10 days 95% confidence inverval:', (bottom_1,upper_1))\n",
        "#[out]: 10 days 95% confidence inverval: (-0.0010982627102681939, 0.002788642541217079)\n",
        "print('1000 days 95% confidence inverval:', (bottom_2,upper_2))\n",
        "#[out]: 1000 days 95% confidence inverval: (-1.230984558013321e-05, 0.00093796394002165957)\n"
      ],
      "execution_count": null,
      "outputs": [
        {
          "output_type": "stream",
          "text": [
            "10 days 95% confidence inverval: (-0.0008864107522674248, 0.0033565716245757163)\n",
            "1000 days 95% confidence inverval: (-0.00024768867474646284, 0.0013682846634675695)\n"
          ],
          "name": "stdout"
        }
      ]
    },
    {
      "cell_type": "code",
      "metadata": {
        "colab": {
          "base_uri": "https://localhost:8080/",
          "height": 118
        },
        "id": "jPoGEp3yUQrr",
        "outputId": "88e05c7c-54bb-4c56-f8b1-23baef96e05a"
      },
      "source": [
        "mean_1000 = np.mean(spy_log_return.tail(1000))\n",
        "std_1000 = np.std(spy_log_return.tail(1000))\n",
        "mean_10 = np.mean(spy_log_return.tail(10))\n",
        "std_10 = np.std(spy_log_return.tail(10))\n",
        "s = pd.Series([mean_10,std_10,mean_1000,std_1000],index = ['mean_10', 'std_10','mean_1000','std_1000'])\n",
        "print(s)\n",
        "\n",
        "'''\n",
        "[out]: mean_10      0.000845\n",
        "       std_10       0.003136\n",
        "       mean_1000    0.000463\n",
        "       std_1000     0.007666\n",
        "'''\n"
      ],
      "execution_count": null,
      "outputs": [
        {
          "output_type": "stream",
          "text": [
            "mean_10      0.001235\n",
            "std_10       0.003423\n",
            "mean_1000    0.000560\n",
            "std_1000     0.013036\n",
            "dtype: float64\n"
          ],
          "name": "stdout"
        },
        {
          "output_type": "execute_result",
          "data": {
            "application/vnd.google.colaboratory.intrinsic+json": {
              "type": "string"
            },
            "text/plain": [
              "'\\n[out]: mean_10      0.000845\\n       std_10       0.003136\\n       mean_1000    0.000463\\n       std_1000     0.007666\\n'"
            ]
          },
          "metadata": {
            "tags": []
          },
          "execution_count": 282
        }
      ]
    },
    {
      "cell_type": "code",
      "metadata": {
        "colab": {
          "base_uri": "https://localhost:8080/"
        },
        "id": "6R1sYvjTUZpC",
        "outputId": "07978909-8c87-44bb-84de-4020a40a04cc"
      },
      "source": [
        "bottom = 0 - 1.64*std_1000/np.sqrt(1000)\n",
        "upper = 0 + 1.64*std_1000/np.sqrt(1000)\n",
        "print((bottom, upper))\n",
        "\n",
        "#[out]: (-0.00039756352254768874, 0.00039756352254768874)\n"
      ],
      "execution_count": null,
      "outputs": [
        {
          "output_type": "stream",
          "text": [
            "(-0.0006760704782324012, 0.0006760704782324012)\n"
          ],
          "name": "stdout"
        }
      ]
    },
    {
      "cell_type": "code",
      "metadata": {
        "colab": {
          "base_uri": "https://localhost:8080/"
        },
        "id": "z6GfE__BUgYC",
        "outputId": "48d2e107-6601-4905-c17f-5266deee080b"
      },
      "source": [
        "bottom = 0 - 1.96*std_1000/np.sqrt(1000)\n",
        "upper = 0 + 1.96*std_1000/np.sqrt(1000)\n",
        "print((bottom, upper))\n",
        "\n",
        "#[out]: (-0.00047513689280089639, 0.00047513689280089639)\n"
      ],
      "execution_count": null,
      "outputs": [
        {
          "output_type": "stream",
          "text": [
            "(-0.0008079866691070161, 0.0008079866691070161)\n"
          ],
          "name": "stdout"
        }
      ]
    },
    {
      "cell_type": "code",
      "metadata": {
        "colab": {
          "base_uri": "https://localhost:8080/"
        },
        "id": "wmt7l-heUj26",
        "outputId": "a07da1eb-3b2d-4587-ec72-f1f0d5566e09"
      },
      "source": [
        "print(np.sqrt(1000)*(mean_1000 - 0)/std_1000)\n",
        "\n",
        "#[out]: 1.90922032428\n"
      ],
      "execution_count": null,
      "outputs": [
        {
          "output_type": "stream",
          "text": [
            "1.3591611234878334\n"
          ],
          "name": "stdout"
        }
      ]
    },
    {
      "cell_type": "code",
      "metadata": {
        "colab": {
          "base_uri": "https://localhost:8080/"
        },
        "id": "UwU_OsohUn_T",
        "outputId": "d6ef6ae7-a3cc-46f1-f309-7bd2bc02cd3c"
      },
      "source": [
        "import scipy.stats as st\n",
        "print((1 - st.norm.cdf(1.9488)))\n",
        "\n",
        "#[out]: 0.025659656888\n"
      ],
      "execution_count": null,
      "outputs": [
        {
          "output_type": "stream",
          "text": [
            "0.02565965688799665\n"
          ],
          "name": "stdout"
        }
      ]
    },
    {
      "cell_type": "code",
      "metadata": {
        "colab": {
          "base_uri": "https://localhost:8080/"
        },
        "id": "sxEXlJecUrjy",
        "outputId": "9bbe2021-802c-41fd-e931-8cd6a6e5e2c0"
      },
      "source": [
        "mean_1200 = np.mean(spy_log_return.tail(1200))\n",
        "std_1200 = np.std(spy_log_return.tail(1200))\n",
        "z_score = np.sqrt(1200)*(mean_1200 - 0)/std_1200\n",
        "print('z-score = ',z_score)\n",
        "#[out]: z-score =  2.19793023185\n",
        "p_value = (1 - st.norm.cdf(z_score))\n",
        "print('p_value = ',p_value)\n",
        "#[out]: p_value =  0.0139770390655\n"
      ],
      "execution_count": null,
      "outputs": [
        {
          "output_type": "stream",
          "text": [
            "z-score =  1.582371281814201\n",
            "p_value =  0.05678241835411302\n"
          ],
          "name": "stdout"
        }
      ]
    },
    {
      "cell_type": "code",
      "metadata": {
        "id": "O-He_PfJUx1q"
      },
      "source": [
        ""
      ],
      "execution_count": null,
      "outputs": []
    },
    {
      "cell_type": "markdown",
      "metadata": {
        "id": "DczAn4zdU3PR"
      },
      "source": [
        "# Summary\n",
        "\n",
        "- In this chapter we introduced confidence interval, especially that for the normal distribution, and hypothesis test. Now we know how to test our idea rigorously. Normal distribution and it's confidence interval can be applied to many quantitative finance theories, we will see it frequently in our following tutorials.\n",
        "\n",
        "# Ref:\n",
        "- \n",
        "https://www.quantconnect.com/tutorials/introduction-to-financial-python/confidence-interval-and-hypothesis-testing#Confidence-Interval-and-Hypothesis-Testing-Introduction\n"
      ]
    },
    {
      "cell_type": "code",
      "metadata": {
        "id": "_IQs1OQ2XZ9h"
      },
      "source": [
        ""
      ],
      "execution_count": null,
      "outputs": []
    }
  ]
}