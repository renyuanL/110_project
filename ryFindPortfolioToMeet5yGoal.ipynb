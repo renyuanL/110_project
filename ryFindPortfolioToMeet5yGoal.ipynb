{
  "nbformat": 4,
  "nbformat_minor": 0,
  "metadata": {
    "colab": {
      "name": "ryFindPortfolioToMeet5yGoal.ipynb",
      "provenance": [],
      "authorship_tag": "ABX9TyP012OU5UAKFgf/xKVABVHA",
      "include_colab_link": true
    },
    "kernelspec": {
      "name": "python3",
      "display_name": "Python 3"
    },
    "language_info": {
      "name": "python"
    }
  },
  "cells": [
    {
      "cell_type": "markdown",
      "metadata": {
        "id": "view-in-github",
        "colab_type": "text"
      },
      "source": [
        "<a href=\"https://colab.research.google.com/github/renyuanL/110_project/blob/main/ryFindPortfolioToMeet5yGoal.ipynb\" target=\"_parent\"><img src=\"https://colab.research.google.com/assets/colab-badge.svg\" alt=\"Open In Colab\"/></a>"
      ]
    },
    {
      "cell_type": "code",
      "metadata": {
        "colab": {
          "base_uri": "https://localhost:8080/",
          "height": 318
        },
        "id": "bFNnNBcM4vpN",
        "outputId": "78323009-957e-49ea-cb8d-0342e99fe697"
      },
      "source": [
        "try:\n",
        "  import yfinance as yf\n",
        "except:\n",
        "  !pip install yfinance\n",
        "import yfinance as yf\n",
        "\n",
        "import pandas as pd\n",
        "\n",
        "\n",
        "def ryGetReturnRate(tkName= 'AAPL', startDate= '1980-01-01'):\n",
        "    \n",
        "  tk= yf.Ticker(tkName)\n",
        "  tk= tk.history(start= startDate)\n",
        "  tk= tk[['Close']]\n",
        "  tk= tk.rename(columns= {'Close': tkName})\n",
        "            \n",
        "  r5y= (tk-tk.shift(periods=252*5))/tk.shift(periods=252*5)\n",
        "  r2y= (tk-tk.shift(periods=252*2))/tk.shift(periods=252*2)\n",
        "  r1y= (tk-tk.shift(periods=252))/tk.shift(periods=252)\n",
        "  r120d= (tk-tk.shift(periods=120))/tk.shift(periods=120)\n",
        "  r60d= (tk-tk.shift(periods=60))/tk.shift(periods=60)\n",
        "  r20d= (tk-tk.shift(periods=20))/tk.shift(periods=20)\n",
        "\n",
        "  tk['r20d']= r20d\n",
        "  tk['r60d']= r60d\n",
        "  tk['r120d']= r120d\n",
        "  tk['r1y']= r1y\n",
        "  tk['r2y']= r2y\n",
        "  tk['r5y']= r5y\n",
        "\n",
        "  aDes= tk.describe()\n",
        "  aDes.loc['sem',:]= aDes.loc['std',:]/aDes.loc['count',:]**.5\n",
        "  aDes.loc['95%itrvl',:]= aDes.loc['sem',:] * 1.96\n",
        "  aDes\n",
        "\n",
        "  return tk, aDes\n",
        "\n",
        "def ryReturnRateReport(tkName= 'AAPL', startDate= '1980-01-01'):\n",
        "  tk, aDes= ryGetReturnRate(tkName, startDate)\n",
        "  tk[['r20d','r1y','r5y']].boxplot()\n",
        "\n",
        "  #print(f'tkName= {tkName}')\n",
        "  #print(f'since {tk.index[0].date()}')\n",
        "  #print(aDes[['r20d','r1y','r5y']])\n",
        "\n",
        "  return tk, aDes\n",
        "\n",
        "tk, aDes= ryReturnRateReport()\n"
      ],
      "execution_count": 98,
      "outputs": [
        {
          "output_type": "stream",
          "text": [
            "/usr/local/lib/python3.7/dist-packages/numpy/core/_asarray.py:83: VisibleDeprecationWarning: Creating an ndarray from ragged nested sequences (which is a list-or-tuple of lists-or-tuples-or ndarrays with different lengths or shapes) is deprecated. If you meant to do this, you must specify 'dtype=object' when creating the ndarray\n",
            "  return array(a, dtype, copy=False, order=order)\n"
          ],
          "name": "stderr"
        },
        {
          "output_type": "display_data",
          "data": {
            "image/png": "[encoded data removed]",
            "text/plain": [
              "<Figure size 432x288 with 1 Axes>"
            ]
          },
          "metadata": {
            "tags": [],
            "needs_background": "light"
          }
        }
      ]
    },
    {
      "cell_type": "code",
      "metadata": {
        "colab": {
          "base_uri": "https://localhost:8080/",
          "height": 688
        },
        "id": "FaIfW-2e9lI8",
        "outputId": "2a8e4e99-2e98-4809-9c4c-b5b66ce5f0c2"
      },
      "source": [
        "stockList= ['^GSPC','SPY','QQQ','VOO',\n",
        "       'AAPL','AMZN','MSFT','GOOGL',\n",
        "       'NVDA','TSM','COST','KO'] \n",
        "aL= {}\n",
        "for x in stockList:\n",
        "  tk, aDes= ryReturnRateReport(x)\n",
        "  aL[x]= {'ret':tk, 'des':aDes}\n"
      ],
      "execution_count": 99,
      "outputs": [
        {
          "output_type": "stream",
          "text": [
            "/usr/local/lib/python3.7/dist-packages/numpy/core/_asarray.py:83: VisibleDeprecationWarning: Creating an ndarray from ragged nested sequences (which is a list-or-tuple of lists-or-tuples-or ndarrays with different lengths or shapes) is deprecated. If you meant to do this, you must specify 'dtype=object' when creating the ndarray\n",
            "  return array(a, dtype, copy=False, order=order)\n",
            "/usr/local/lib/python3.7/dist-packages/numpy/core/_asarray.py:83: VisibleDeprecationWarning: Creating an ndarray from ragged nested sequences (which is a list-or-tuple of lists-or-tuples-or ndarrays with different lengths or shapes) is deprecated. If you meant to do this, you must specify 'dtype=object' when creating the ndarray\n",
            "  return array(a, dtype, copy=False, order=order)\n",
            "/usr/local/lib/python3.7/dist-packages/numpy/core/_asarray.py:83: VisibleDeprecationWarning: Creating an ndarray from ragged nested sequences (which is a list-or-tuple of lists-or-tuples-or ndarrays with different lengths or shapes) is deprecated. If you meant to do this, you must specify 'dtype=object' when creating the ndarray\n",
            "  return array(a, dtype, copy=False, order=order)\n",
            "/usr/local/lib/python3.7/dist-packages/numpy/core/_asarray.py:83: VisibleDeprecationWarning: Creating an ndarray from ragged nested sequences (which is a list-or-tuple of lists-or-tuples-or ndarrays with different lengths or shapes) is deprecated. If you meant to do this, you must specify 'dtype=object' when creating the ndarray\n",
            "  return array(a, dtype, copy=False, order=order)\n",
            "/usr/local/lib/python3.7/dist-packages/numpy/core/_asarray.py:83: VisibleDeprecationWarning: Creating an ndarray from ragged nested sequences (which is a list-or-tuple of lists-or-tuples-or ndarrays with different lengths or shapes) is deprecated. If you meant to do this, you must specify 'dtype=object' when creating the ndarray\n",
            "  return array(a, dtype, copy=False, order=order)\n",
            "/usr/local/lib/python3.7/dist-packages/numpy/core/_asarray.py:83: VisibleDeprecationWarning: Creating an ndarray from ragged nested sequences (which is a list-or-tuple of lists-or-tuples-or ndarrays with different lengths or shapes) is deprecated. If you meant to do this, you must specify 'dtype=object' when creating the ndarray\n",
            "  return array(a, dtype, copy=False, order=order)\n",
            "/usr/local/lib/python3.7/dist-packages/numpy/core/_asarray.py:83: VisibleDeprecationWarning: Creating an ndarray from ragged nested sequences (which is a list-or-tuple of lists-or-tuples-or ndarrays with different lengths or shapes) is deprecated. If you meant to do this, you must specify 'dtype=object' when creating the ndarray\n",
            "  return array(a, dtype, copy=False, order=order)\n",
            "/usr/local/lib/python3.7/dist-packages/numpy/core/_asarray.py:83: VisibleDeprecationWarning: Creating an ndarray from ragged nested sequences (which is a list-or-tuple of lists-or-tuples-or ndarrays with different lengths or shapes) is deprecated. If you meant to do this, you must specify 'dtype=object' when creating the ndarray\n",
            "  return array(a, dtype, copy=False, order=order)\n",
            "/usr/local/lib/python3.7/dist-packages/numpy/core/_asarray.py:83: VisibleDeprecationWarning: Creating an ndarray from ragged nested sequences (which is a list-or-tuple of lists-or-tuples-or ndarrays with different lengths or shapes) is deprecated. If you meant to do this, you must specify 'dtype=object' when creating the ndarray\n",
            "  return array(a, dtype, copy=False, order=order)\n",
            "/usr/local/lib/python3.7/dist-packages/numpy/core/_asarray.py:83: VisibleDeprecationWarning: Creating an ndarray from ragged nested sequences (which is a list-or-tuple of lists-or-tuples-or ndarrays with different lengths or shapes) is deprecated. If you meant to do this, you must specify 'dtype=object' when creating the ndarray\n",
            "  return array(a, dtype, copy=False, order=order)\n",
            "/usr/local/lib/python3.7/dist-packages/numpy/core/_asarray.py:83: VisibleDeprecationWarning: Creating an ndarray from ragged nested sequences (which is a list-or-tuple of lists-or-tuples-or ndarrays with different lengths or shapes) is deprecated. If you meant to do this, you must specify 'dtype=object' when creating the ndarray\n",
            "  return array(a, dtype, copy=False, order=order)\n",
            "/usr/local/lib/python3.7/dist-packages/numpy/core/_asarray.py:83: VisibleDeprecationWarning: Creating an ndarray from ragged nested sequences (which is a list-or-tuple of lists-or-tuples-or ndarrays with different lengths or shapes) is deprecated. If you meant to do this, you must specify 'dtype=object' when creating the ndarray\n",
            "  return array(a, dtype, copy=False, order=order)\n"
          ],
          "name": "stderr"
        },
        {
          "output_type": "display_data",
          "data": {
            "image/png": "[encoded data removed]",
            "text/plain": [
              "<Figure size 432x288 with 1 Axes>"
            ]
          },
          "metadata": {
            "tags": [],
            "needs_background": "light"
          }
        }
      ]
    },
    {
      "cell_type": "code",
      "metadata": {
        "id": "Q2fljCl-LkgP"
      },
      "source": [
        "\n",
        "with pd.ExcelWriter('_ry.xlsx',mode='w') as fp:  # doctest: +SKIP\n",
        "  for x in aL:\n",
        "    #aL[x]['ret'].to_excel(fp,sheet_name= aL[x]['ret'].columns[0])\n",
        "    aL[x]['des'].to_excel(fp,sheet_name= aL[x]['des'].columns[0]+'_des')\n"
      ],
      "execution_count": 100,
      "outputs": []
    },
    {
      "cell_type": "code",
      "metadata": {
        "id": "vwPuevopJTZn"
      },
      "source": [
        ""
      ],
      "execution_count": 100,
      "outputs": []
    },
    {
      "cell_type": "code",
      "metadata": {
        "colab": {
          "base_uri": "https://localhost:8080/"
        },
        "id": "Ll7c0e6kJTef",
        "outputId": "f5c07422-c366-447a-f62d-205ee55948ef"
      },
      "source": [
        "aL[x]['des']['r5y'].loc['mean']"
      ],
      "execution_count": 101,
      "outputs": [
        {
          "output_type": "execute_result",
          "data": {
            "text/plain": [
              "1.2814297547939844"
            ]
          },
          "metadata": {
            "tags": []
          },
          "execution_count": 101
        }
      ]
    },
    {
      "cell_type": "markdown",
      "metadata": {
        "id": "Jcah_L3uT1I0"
      },
      "source": [
        "- 數字代表 【倍數】 ，需乘上 100% 才是 % 表示法\n",
        "- 此數字是 \"任意\" 5年區間 的報酬率\n",
        "- 資料來自 Yahoo Finance 自 1980-01-01 以來所能撈取的數據。\n"
      ]
    },
    {
      "cell_type": "code",
      "metadata": {
        "colab": {
          "base_uri": "https://localhost:8080/",
          "height": 418
        },
        "id": "FIgB7l3VPVw9",
        "outputId": "61fe7a69-112a-48ee-99a2-648c6b43247e"
      },
      "source": [
        "b= {}\n",
        "for x in stockList:\n",
        "  mu= aL[x]['des']['r5y'].loc['mean']\n",
        "  sigma= aL[x]['des']['r5y'].loc['std']\n",
        "  _max= aL[x]['des']['r5y'].loc['max']\n",
        "  _min= aL[x]['des']['r5y'].loc['min']\n",
        "  b[x]= {'mu':mu, \n",
        "      'sigma':sigma,\n",
        "      'max': _max,\n",
        "      'min': _min}\n",
        "\n",
        "比較股票之5年報酬率= pd.DataFrame(b).T\n",
        "\n",
        "比較股票之5年報酬率.sort_values(by='mu')\n"
      ],
      "execution_count": 105,
      "outputs": [
        {
          "output_type": "execute_result",
          "data": {
            "text/html": [
              "<div>\n",
              "<style scoped>\n",
              "    .dataframe tbody tr th:only-of-type {\n",
              "        vertical-align: middle;\n",
              "    }\n",
              "\n",
              "    .dataframe tbody tr th {\n",
              "        vertical-align: top;\n",
              "    }\n",
              "\n",
              "    .dataframe thead th {\n",
              "        text-align: right;\n",
              "    }\n",
              "</style>\n",
              "<table border=\"1\" class=\"dataframe\">\n",
              "  <thead>\n",
              "    <tr style=\"text-align: right;\">\n",
              "      <th></th>\n",
              "      <th>mu</th>\n",
              "      <th>sigma</th>\n",
              "      <th>max</th>\n",
              "      <th>min</th>\n",
              "    </tr>\n",
              "  </thead>\n",
              "  <tbody>\n",
              "    <tr>\n",
              "      <th>^GSPC</th>\n",
              "      <td>0.604093</td>\n",
              "      <td>0.526469</td>\n",
              "      <td>2.195263</td>\n",
              "      <td>-0.415201</td>\n",
              "    </tr>\n",
              "    <tr>\n",
              "      <th>SPY</th>\n",
              "      <td>0.655425</td>\n",
              "      <td>0.652233</td>\n",
              "      <td>2.480681</td>\n",
              "      <td>-0.355249</td>\n",
              "    </tr>\n",
              "    <tr>\n",
              "      <th>QQQ</th>\n",
              "      <td>0.756278</td>\n",
              "      <td>0.744310</td>\n",
              "      <td>2.693092</td>\n",
              "      <td>-0.689008</td>\n",
              "    </tr>\n",
              "    <tr>\n",
              "      <th>VOO</th>\n",
              "      <td>0.848277</td>\n",
              "      <td>0.194660</td>\n",
              "      <td>1.374203</td>\n",
              "      <td>0.170765</td>\n",
              "    </tr>\n",
              "    <tr>\n",
              "      <th>COST</th>\n",
              "      <td>1.065981</td>\n",
              "      <td>1.217361</td>\n",
              "      <td>7.327904</td>\n",
              "      <td>-0.471204</td>\n",
              "    </tr>\n",
              "    <tr>\n",
              "      <th>TSM</th>\n",
              "      <td>1.093314</td>\n",
              "      <td>1.083676</td>\n",
              "      <td>6.594689</td>\n",
              "      <td>-0.680579</td>\n",
              "    </tr>\n",
              "    <tr>\n",
              "      <th>KO</th>\n",
              "      <td>1.281430</td>\n",
              "      <td>1.224325</td>\n",
              "      <td>4.810462</td>\n",
              "      <td>-0.472411</td>\n",
              "    </tr>\n",
              "    <tr>\n",
              "      <th>GOOGL</th>\n",
              "      <td>1.304854</td>\n",
              "      <td>0.699727</td>\n",
              "      <td>3.612539</td>\n",
              "      <td>-0.110036</td>\n",
              "    </tr>\n",
              "    <tr>\n",
              "      <th>AAPL</th>\n",
              "      <td>2.631706</td>\n",
              "      <td>3.801191</td>\n",
              "      <td>27.176436</td>\n",
              "      <td>-0.778257</td>\n",
              "    </tr>\n",
              "    <tr>\n",
              "      <th>AMZN</th>\n",
              "      <td>2.797150</td>\n",
              "      <td>1.813347</td>\n",
              "      <td>12.547466</td>\n",
              "      <td>-0.624605</td>\n",
              "    </tr>\n",
              "    <tr>\n",
              "      <th>MSFT</th>\n",
              "      <td>3.054875</td>\n",
              "      <td>3.669227</td>\n",
              "      <td>18.125040</td>\n",
              "      <td>-0.511416</td>\n",
              "    </tr>\n",
              "    <tr>\n",
              "      <th>NVDA</th>\n",
              "      <td>4.364314</td>\n",
              "      <td>6.128167</td>\n",
              "      <td>26.298422</td>\n",
              "      <td>-0.695807</td>\n",
              "    </tr>\n",
              "  </tbody>\n",
              "</table>\n",
              "</div>"
            ],
            "text/plain": [
              "             mu     sigma        max       min\n",
              "^GSPC  0.604093  0.526469   2.195263 -0.415201\n",
              "SPY    0.655425  0.652233   2.480681 -0.355249\n",
              "QQQ    0.756278  0.744310   2.693092 -0.689008\n",
              "VOO    0.848277  0.194660   1.374203  0.170765\n",
              "COST   1.065981  1.217361   7.327904 -0.471204\n",
              "TSM    1.093314  1.083676   6.594689 -0.680579\n",
              "KO     1.281430  1.224325   4.810462 -0.472411\n",
              "GOOGL  1.304854  0.699727   3.612539 -0.110036\n",
              "AAPL   2.631706  3.801191  27.176436 -0.778257\n",
              "AMZN   2.797150  1.813347  12.547466 -0.624605\n",
              "MSFT   3.054875  3.669227  18.125040 -0.511416\n",
              "NVDA   4.364314  6.128167  26.298422 -0.695807"
            ]
          },
          "metadata": {
            "tags": []
          },
          "execution_count": 105
        }
      ]
    },
    {
      "cell_type": "code",
      "metadata": {
        "colab": {
          "base_uri": "https://localhost:8080/",
          "height": 418
        },
        "id": "Vv3IUX2WQqXe",
        "outputId": "82ff4b4d-a649-4fc5-88d6-beb127af2b47"
      },
      "source": [
        "b= {}\n",
        "for x in stockList:\n",
        "  mu= aL[x]['des']['r1y'].loc['mean']\n",
        "  sigma= aL[x]['des']['r1y'].loc['std']\n",
        "  _max= aL[x]['des']['r1y'].loc['max']\n",
        "  _min= aL[x]['des']['r1y'].loc['min']\n",
        "  b[x]= {'mu':mu, \n",
        "      'sigma':sigma,\n",
        "      'max': _max,\n",
        "      'min': _min}\n",
        "\n",
        "比較股票之1年報酬率= pd.DataFrame(b).T\n",
        "\n",
        "比較股票之1年報酬率.sort_values(by='mu')"
      ],
      "execution_count": 106,
      "outputs": [
        {
          "output_type": "execute_result",
          "data": {
            "text/html": [
              "<div>\n",
              "<style scoped>\n",
              "    .dataframe tbody tr th:only-of-type {\n",
              "        vertical-align: middle;\n",
              "    }\n",
              "\n",
              "    .dataframe tbody tr th {\n",
              "        vertical-align: top;\n",
              "    }\n",
              "\n",
              "    .dataframe thead th {\n",
              "        text-align: right;\n",
              "    }\n",
              "</style>\n",
              "<table border=\"1\" class=\"dataframe\">\n",
              "  <thead>\n",
              "    <tr style=\"text-align: right;\">\n",
              "      <th></th>\n",
              "      <th>mu</th>\n",
              "      <th>sigma</th>\n",
              "      <th>max</th>\n",
              "      <th>min</th>\n",
              "    </tr>\n",
              "  </thead>\n",
              "  <tbody>\n",
              "    <tr>\n",
              "      <th>^GSPC</th>\n",
              "      <td>0.102167</td>\n",
              "      <td>0.162887</td>\n",
              "      <td>0.747797</td>\n",
              "      <td>-0.488228</td>\n",
              "    </tr>\n",
              "    <tr>\n",
              "      <th>SPY</th>\n",
              "      <td>0.114744</td>\n",
              "      <td>0.170083</td>\n",
              "      <td>0.775045</td>\n",
              "      <td>-0.473541</td>\n",
              "    </tr>\n",
              "    <tr>\n",
              "      <th>QQQ</th>\n",
              "      <td>0.123105</td>\n",
              "      <td>0.275713</td>\n",
              "      <td>1.289372</td>\n",
              "      <td>-0.697015</td>\n",
              "    </tr>\n",
              "    <tr>\n",
              "      <th>VOO</th>\n",
              "      <td>0.145171</td>\n",
              "      <td>0.109957</td>\n",
              "      <td>0.783434</td>\n",
              "      <td>-0.187859</td>\n",
              "    </tr>\n",
              "    <tr>\n",
              "      <th>COST</th>\n",
              "      <td>0.154037</td>\n",
              "      <td>0.263615</td>\n",
              "      <td>1.151786</td>\n",
              "      <td>-0.519531</td>\n",
              "    </tr>\n",
              "    <tr>\n",
              "      <th>KO</th>\n",
              "      <td>0.165070</td>\n",
              "      <td>0.227443</td>\n",
              "      <td>1.005173</td>\n",
              "      <td>-0.362147</td>\n",
              "    </tr>\n",
              "    <tr>\n",
              "      <th>GOOGL</th>\n",
              "      <td>0.245263</td>\n",
              "      <td>0.326474</td>\n",
              "      <td>1.887206</td>\n",
              "      <td>-0.616176</td>\n",
              "    </tr>\n",
              "    <tr>\n",
              "      <th>TSM</th>\n",
              "      <td>0.263362</td>\n",
              "      <td>0.513491</td>\n",
              "      <td>3.301084</td>\n",
              "      <td>-0.634757</td>\n",
              "    </tr>\n",
              "    <tr>\n",
              "      <th>MSFT</th>\n",
              "      <td>0.329534</td>\n",
              "      <td>0.486513</td>\n",
              "      <td>4.180315</td>\n",
              "      <td>-0.646996</td>\n",
              "    </tr>\n",
              "    <tr>\n",
              "      <th>AAPL</th>\n",
              "      <td>0.344428</td>\n",
              "      <td>0.644963</td>\n",
              "      <td>3.826900</td>\n",
              "      <td>-0.751830</td>\n",
              "    </tr>\n",
              "    <tr>\n",
              "      <th>NVDA</th>\n",
              "      <td>0.601036</td>\n",
              "      <td>1.103851</td>\n",
              "      <td>9.025361</td>\n",
              "      <td>-0.847331</td>\n",
              "    </tr>\n",
              "    <tr>\n",
              "      <th>AMZN</th>\n",
              "      <td>0.714005</td>\n",
              "      <td>1.769023</td>\n",
              "      <td>20.667480</td>\n",
              "      <td>-0.869728</td>\n",
              "    </tr>\n",
              "  </tbody>\n",
              "</table>\n",
              "</div>"
            ],
            "text/plain": [
              "             mu     sigma        max       min\n",
              "^GSPC  0.102167  0.162887   0.747797 -0.488228\n",
              "SPY    0.114744  0.170083   0.775045 -0.473541\n",
              "QQQ    0.123105  0.275713   1.289372 -0.697015\n",
              "VOO    0.145171  0.109957   0.783434 -0.187859\n",
              "COST   0.154037  0.263615   1.151786 -0.519531\n",
              "KO     0.165070  0.227443   1.005173 -0.362147\n",
              "GOOGL  0.245263  0.326474   1.887206 -0.616176\n",
              "TSM    0.263362  0.513491   3.301084 -0.634757\n",
              "MSFT   0.329534  0.486513   4.180315 -0.646996\n",
              "AAPL   0.344428  0.644963   3.826900 -0.751830\n",
              "NVDA   0.601036  1.103851   9.025361 -0.847331\n",
              "AMZN   0.714005  1.769023  20.667480 -0.869728"
            ]
          },
          "metadata": {
            "tags": []
          },
          "execution_count": 106
        }
      ]
    },
    {
      "cell_type": "code",
      "metadata": {
        "id": "lwAB4lHHUhzN"
      },
      "source": [
        ""
      ],
      "execution_count": null,
      "outputs": []
    }
  ]
}