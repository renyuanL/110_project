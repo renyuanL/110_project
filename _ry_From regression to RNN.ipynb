{
  "nbformat": 4,
  "nbformat_minor": 0,
  "metadata": {
    "kernelspec": {
      "display_name": "Python 3",
      "language": "python",
      "name": "python3"
    },
    "language_info": {
      "codemirror_mode": {
        "name": "ipython",
        "version": 3
      },
      "file_extension": ".py",
      "mimetype": "text/x-python",
      "name": "python",
      "nbconvert_exporter": "python",
      "pygments_lexer": "ipython3",
      "version": "3.8.2"
    },
    "colab": {
      "name": "From regression to RNN.ipynb",
      "provenance": [],
      "include_colab_link": true
    },
    "accelerator": "GPU"
  },
  "cells": [
    {
      "cell_type": "markdown",
      "metadata": {
        "id": "view-in-github",
        "colab_type": "text"
      },
      "source": [
        "<a href=\"https://colab.research.google.com/github/renyuanL/110_project/blob/main/_ry_From%20regression%20to%20RNN.ipynb\" target=\"_parent\"><img src=\"https://colab.research.google.com/assets/colab-badge.svg\" alt=\"Open In Colab\"/></a>"
      ]
    },
    {
      "cell_type": "code",
      "metadata": {
        "id": "AZNzIQU1CjsY"
      },
      "source": [
        ""
      ],
      "execution_count": null,
      "outputs": []
    },
    {
      "cell_type": "markdown",
      "metadata": {
        "id": "lnGgdiQqoFgx"
      },
      "source": [
        "## From Regression to RNN\n",
        "\n",
        "Learning objectives:\n",
        "* [Objective 1] ARIMA\n",
        "* [Objective 2] RNN requires a 3-D tensor as input\n",
        "* [Objective 3] Stock data\n",
        "* [Objective 4] Create the training and test data for RNN/LSTM\n",
        "* [Objective 5] Run a simple RNN model\n",
        "* [Objective 6] RNN/LTSM requires normalized input data\n",
        "* [Objective 7] LSTM\n",
        "* [Objective 8] LSTM Regularization\n",
        "* [Objective 9] GRU\n",
        "* [Objective 10] GRU Regularization\n",
        "\n",
        "Note: Every run of the following code may vary.\n",
        "\n",
        "## Ref:\n",
        "- https://medium.com/swlh/a-technical-guide-on-rnn-lstm-gru-for-stock-price-prediction-bce2f7f30346\n",
        "\n",
        "- https://github.com/dataman-git/codes_for_articles/blob/master/From%20regression%20to%20RNN.ipynb\n"
      ]
    },
    {
      "cell_type": "code",
      "metadata": {
        "id": "KfVrYmC6oFgy",
        "colab": {
          "base_uri": "https://localhost:8080/"
        },
        "outputId": "ff5be9c3-53ae-4511-db77-d344a64202ec"
      },
      "source": [
        "from statsmodels.graphics.tsaplots import plot_pacf, plot_acf\n",
        "from statsmodels.tsa.arima_process import ArmaProcess\n",
        "from statsmodels.tsa.stattools import pacf\n",
        "from statsmodels.regression.linear_model import yule_walker\n",
        "#from statsmodels.tsa.stattools import adfuller\n",
        "import matplotlib.pyplot as plt\n",
        "import numpy as np\n",
        "%matplotlib inline"
      ],
      "execution_count": 1,
      "outputs": [
        {
          "output_type": "stream",
          "text": [
            "/usr/local/lib/python3.7/dist-packages/statsmodels/tools/_testing.py:19: FutureWarning: pandas.util.testing is deprecated. Use the functions in the public API at pandas.testing instead.\n",
            "  import pandas.util.testing as tm\n"
          ],
          "name": "stderr"
        }
      ]
    },
    {
      "cell_type": "markdown",
      "metadata": {
        "id": "yZ6V7DoNoFgz"
      },
      "source": [
        "### [Learning Objective 1] ARIMA()"
      ]
    },
    {
      "cell_type": "code",
      "metadata": {
        "id": "-SZvsQmooFgz",
        "colab": {
          "base_uri": "https://localhost:8080/"
        },
        "outputId": "1afc8b24-8c46-4aea-d2dc-7941c2509392"
      },
      "source": [
        "from statsmodels.graphics.tsaplots import plot_pacf, plot_acf\n",
        "\n",
        "from statsmodels.tsa.arima_process import ArmaProcess\n",
        "\n",
        "from statsmodels.tsa.stattools import pacf\n",
        "from statsmodels.regression.linear_model import yule_walker\n",
        "#from statsmodels.tsa.stattools import adfuller\n",
        "import matplotlib.pyplot as plt\n",
        "import numpy as np\n",
        "import pandas as pd\n",
        "\n",
        "%matplotlib inline\n",
        "\n",
        "# Generate the data\n",
        "import numpy as np\n",
        "\n",
        "np.random.seed(0)\n",
        "\n",
        "ar= np.array([1, -0.8, 0.2])\n",
        "ma= np.array([1])\n",
        "my_simulation= ArmaProcess(ar, ma).generate_sample(nsample=100)\n",
        "\n",
        "'''\n",
        "plt.figure(figsize=[10, 5]); # Set dimensions for figure\n",
        "plt.plot(my_simulation, linestyle='-', marker='o', color='b')\n",
        "plt.title(\"Simulated Process\")\n",
        "plt.show()\n",
        "'''\n",
        "my_simulation\n"
      ],
      "execution_count": 2,
      "outputs": [
        {
          "output_type": "execute_result",
          "data": {
            "text/plain": [
              "array([ 1.76405235,  1.81139909,  2.07504678,  3.53865081,  4.28346928,\n",
              "        1.74176738,  1.48680847,  0.68973609,  0.15120833,  0.39361794,\n",
              "        0.42869626,  1.71850693,  2.05010401,  1.41805684,  1.1682879 ,\n",
              "        0.98469328,  2.04817612,  1.23644397,  0.89258766, -0.38731441,\n",
              "       -3.04135887, -1.70200562,  0.11110348, -0.31288112,  1.99722904,\n",
              "        0.20599378, -0.18889227, -0.37949642,  1.26696053,  2.55882648,\n",
              "        1.9486165 ,  1.42529043, -0.13727671, -2.37567592, -2.22099754,\n",
              "       -1.14531388,  0.75823908,  2.03803389,  1.09145248,  0.16325245,\n",
              "       -1.1362415 , -2.36166163, -3.36835119, -0.27157323, -0.05324053,\n",
              "       -0.42635208, -1.58322892, -0.40382236, -1.62030995, -1.42822377,\n",
              "       -1.71398359, -0.69863962, -0.72692011, -1.62244035, -1.18075049,\n",
              "       -0.19178045,  0.14924296,  0.46022236, -0.2959928 , -0.69157988,\n",
              "       -1.16652579, -1.15445782, -1.50340738, -2.69811694, -1.68038594,\n",
              "       -1.2064663 , -2.2592942 , -1.10335984, -1.3381274 , -0.79788456,\n",
              "        0.3584084 ,  0.57528654,  1.52794824, -0.12752454, -0.00526764,\n",
              "       -0.66351929, -1.40055906, -1.56659305, -1.28471516, -0.65828818,\n",
              "       -1.43483735, -0.11538576,  0.6603213 , -0.98490949,  0.56826034,\n",
              "        2.54747935,  3.10311098,  1.79306808, -0.25692035,  0.49030183,\n",
              "        0.04044859,  1.15674357,  1.12558012,  1.64575442,  1.44785391,\n",
              "        1.53570541,  0.94949357,  2.23832427,  1.72767279,  1.33646274])"
            ]
          },
          "metadata": {
            "tags": []
          },
          "execution_count": 2
        }
      ]
    },
    {
      "cell_type": "code",
      "metadata": {
        "id": "WPLv4hcs8iVu"
      },
      "source": [
        "#ArmaProcess??"
      ],
      "execution_count": 3,
      "outputs": []
    },
    {
      "cell_type": "markdown",
      "metadata": {
        "id": "gOeiRnSS9CxE"
      },
      "source": [
        "The ARMA(p,q) process is described by\n",
        "\n",
        ".. math::\n",
        "\n",
        "$\n",
        "        y_{t}=\\phi_{1}y_{t-1}+\\ldots+\\phi_{p}y_{t-p}+\\theta_{1}\\epsilon_{t-1}\n",
        "               +\\ldots+\\theta_{q}\\epsilon_{t-q}+\\epsilon_{t}\n",
        "$\n",
        "\n",
        "and the parameterization used in this function uses the lag-polynomial\n",
        "    representation,\n",
        "\n",
        ".. math::\n",
        "\n",
        "$\n",
        "        \\left(1-\\phi_{1}L-\\ldots-\\phi_{p}L^{p}\\right)y_{t} =\n",
        "            \\left(1-\\theta_{1}L-\\ldots-\\theta_{q}L^{q}\\right)\n",
        "$\n",
        "\n",
        "### ry: 上面這式子(from官方文件)怪怪的，修改一下...\n",
        "\n",
        "$\n",
        "        \\left(1-\\phi_{1}L-\\ldots-\\phi_{p}L^{p}\\right)y_{t} =\n",
        "            \\left(1+\\theta_{1}L+\\ldots+\\theta_{q}L^{q}\\right)\\epsilon_{t}\n",
        "$"
      ]
    },
    {
      "cell_type": "code",
      "metadata": {
        "id": "-nCuM4sn5Wpt",
        "colab": {
          "base_uri": "https://localhost:8080/",
          "height": 416
        },
        "outputId": "ef134f90-d89e-4957-ee6b-eba652a964ce"
      },
      "source": [
        "x= pd.Series(my_simulation)\n",
        "x.describe(), x.plot(grid=True)"
      ],
      "execution_count": 4,
      "outputs": [
        {
          "output_type": "execute_result",
          "data": {
            "text/plain": [
              "(count    100.000000\n",
              " mean       0.138111\n",
              " std        1.510065\n",
              " min       -3.368351\n",
              " 25%       -1.138510\n",
              " 50%        0.075776\n",
              " 75%        1.356861\n",
              " max        4.283469\n",
              " dtype: float64, <matplotlib.axes._subplots.AxesSubplot at 0x7fbee35e85d0>)"
            ]
          },
          "metadata": {
            "tags": []
          },
          "execution_count": 4
        },
        {
          "output_type": "display_data",
          "data": {
            "image/png": "[encoded data removed]",
            "text/plain": [
              "<Figure size 432x288 with 1 Axes>"
            ]
          },
          "metadata": {
            "tags": [],
            "needs_background": "light"
          }
        }
      ]
    },
    {
      "cell_type": "code",
      "metadata": {
        "id": "Q7hriPRfoFg0",
        "colab": {
          "base_uri": "https://localhost:8080/",
          "height": 545
        },
        "outputId": "aec039a6-c3d4-40d3-d1bc-0e17f1fd385e"
      },
      "source": [
        "from matplotlib import pyplot\n",
        "from pandas.plotting import autocorrelation_plot\n",
        "plot_acf(my_simulation)"
      ],
      "execution_count": 5,
      "outputs": [
        {
          "output_type": "execute_result",
          "data": {
            "image/png": "[encoded data removed]",
            "text/plain": [
              "<Figure size 432x288 with 1 Axes>"
            ]
          },
          "metadata": {
            "tags": []
          },
          "execution_count": 5
        },
        {
          "output_type": "display_data",
          "data": {
            "image/png": "[encoded data removed]",
            "text/plain": [
              "<Figure size 432x288 with 1 Axes>"
            ]
          },
          "metadata": {
            "tags": [],
            "needs_background": "light"
          }
        }
      ]
    },
    {
      "cell_type": "code",
      "metadata": {
        "id": "G3Osje2IoFg1",
        "colab": {
          "base_uri": "https://localhost:8080/",
          "height": 545
        },
        "outputId": "b5362be7-080a-4864-8e19-fe1e04827e51"
      },
      "source": [
        "plot_pacf(my_simulation)"
      ],
      "execution_count": 6,
      "outputs": [
        {
          "output_type": "execute_result",
          "data": {
            "image/png": "[encoded data removed]",
            "text/plain": [
              "<Figure size 432x288 with 1 Axes>"
            ]
          },
          "metadata": {
            "tags": []
          },
          "execution_count": 6
        },
        {
          "output_type": "display_data",
          "data": {
            "image/png": "[encoded data removed]",
            "text/plain": [
              "<Figure size 432x288 with 1 Axes>"
            ]
          },
          "metadata": {
            "tags": [],
            "needs_background": "light"
          }
        }
      ]
    },
    {
      "cell_type": "code",
      "metadata": {
        "id": "dYYn46FNoFg1"
      },
      "source": [
        "import warnings\n",
        "import statsmodels.api as sm\n",
        "from  statsmodels.tsa.arima_model import ARMA\n",
        "\n",
        "#mod = sm.tsa.arima.ARIMA(my_simulation, order=(2, 0, 0))\n",
        "\n",
        "mod=   sm.tsa.ARIMA(my_simulation, order=(2, 0, 0))\n",
        "#sm.tsa.ARIMA??\n"
      ],
      "execution_count": 7,
      "outputs": []
    },
    {
      "cell_type": "code",
      "metadata": {
        "id": "veYvB0EMBFgc",
        "colab": {
          "base_uri": "https://localhost:8080/",
          "height": 324
        },
        "outputId": "eaa6dea5-a523-437f-d5ad-64c48c301bde"
      },
      "source": [
        "\n",
        "mod_fit= mod.fit()\n",
        "\n",
        "mod_fit.summary()\n"
      ],
      "execution_count": 8,
      "outputs": [
        {
          "output_type": "execute_result",
          "data": {
            "text/html": [
              "<table class=\"simpletable\">\n",
              "<caption>ARMA Model Results</caption>\n",
              "<tr>\n",
              "  <th>Dep. Variable:</th>         <td>y</td>        <th>  No. Observations:  </th>    <td>100</td>  \n",
              "</tr>\n",
              "<tr>\n",
              "  <th>Model:</th>            <td>ARMA(2, 0)</td>    <th>  Log Likelihood     </th> <td>-141.440</td>\n",
              "</tr>\n",
              "<tr>\n",
              "  <th>Method:</th>             <td>css-mle</td>     <th>  S.D. of innovations</th>   <td>0.991</td> \n",
              "</tr>\n",
              "<tr>\n",
              "  <th>Date:</th>          <td>Sun, 13 Jun 2021</td> <th>  AIC                </th>  <td>290.880</td>\n",
              "</tr>\n",
              "<tr>\n",
              "  <th>Time:</th>              <td>09:23:44</td>     <th>  BIC                </th>  <td>301.301</td>\n",
              "</tr>\n",
              "<tr>\n",
              "  <th>Sample:</th>                <td>0</td>        <th>  HQIC               </th>  <td>295.098</td>\n",
              "</tr>\n",
              "<tr>\n",
              "  <th></th>                       <td> </td>        <th>                     </th>     <td> </td>   \n",
              "</tr>\n",
              "</table>\n",
              "<table class=\"simpletable\">\n",
              "<tr>\n",
              "     <td></td>        <th>coef</th>     <th>std err</th>      <th>z</th>      <th>P>|z|</th>  <th>[0.025</th>    <th>0.975]</th>  \n",
              "</tr>\n",
              "<tr>\n",
              "  <th>const</th>   <td>    0.1824</td> <td>    0.321</td> <td>    0.569</td> <td> 0.571</td> <td>   -0.446</td> <td>    0.811</td>\n",
              "</tr>\n",
              "<tr>\n",
              "  <th>ar.L1.y</th> <td>    0.8699</td> <td>    0.098</td> <td>    8.895</td> <td> 0.000</td> <td>    0.678</td> <td>    1.062</td>\n",
              "</tr>\n",
              "<tr>\n",
              "  <th>ar.L2.y</th> <td>   -0.1745</td> <td>    0.099</td> <td>   -1.768</td> <td> 0.080</td> <td>   -0.368</td> <td>    0.019</td>\n",
              "</tr>\n",
              "</table>\n",
              "<table class=\"simpletable\">\n",
              "<caption>Roots</caption>\n",
              "<tr>\n",
              "    <td></td>   <th>            Real</th>  <th>         Imaginary</th> <th>         Modulus</th>  <th>        Frequency</th>\n",
              "</tr>\n",
              "<tr>\n",
              "  <th>AR.1</th> <td>           1.7972</td> <td>          +0.0000j</td> <td>           1.7972</td> <td>           0.0000</td>\n",
              "</tr>\n",
              "<tr>\n",
              "  <th>AR.2</th> <td>           3.1896</td> <td>          +0.0000j</td> <td>           3.1896</td> <td>           0.0000</td>\n",
              "</tr>\n",
              "</table>"
            ],
            "text/plain": [
              "<class 'statsmodels.iolib.summary.Summary'>\n",
              "\"\"\"\n",
              "                              ARMA Model Results                              \n",
              "==============================================================================\n",
              "Dep. Variable:                      y   No. Observations:                  100\n",
              "Model:                     ARMA(2, 0)   Log Likelihood                -141.440\n",
              "Method:                       css-mle   S.D. of innovations              0.991\n",
              "Date:                Sun, 13 Jun 2021   AIC                            290.880\n",
              "Time:                        09:23:44   BIC                            301.301\n",
              "Sample:                             0   HQIC                           295.098\n",
              "                                                                              \n",
              "==============================================================================\n",
              "                 coef    std err          z      P>|z|      [0.025      0.975]\n",
              "------------------------------------------------------------------------------\n",
              "const          0.1824      0.321      0.569      0.571      -0.446       0.811\n",
              "ar.L1.y        0.8699      0.098      8.895      0.000       0.678       1.062\n",
              "ar.L2.y       -0.1745      0.099     -1.768      0.080      -0.368       0.019\n",
              "                                    Roots                                    \n",
              "=============================================================================\n",
              "                  Real          Imaginary           Modulus         Frequency\n",
              "-----------------------------------------------------------------------------\n",
              "AR.1            1.7972           +0.0000j            1.7972            0.0000\n",
              "AR.2            3.1896           +0.0000j            3.1896            0.0000\n",
              "-----------------------------------------------------------------------------\n",
              "\"\"\""
            ]
          },
          "metadata": {
            "tags": []
          },
          "execution_count": 8
        }
      ]
    },
    {
      "cell_type": "code",
      "metadata": {
        "id": "qIk6sJSJCo1i",
        "colab": {
          "base_uri": "https://localhost:8080/",
          "height": 348
        },
        "outputId": "3927eaf9-355d-4fde-83d1-e389c33714f0"
      },
      "source": [
        "mod_fit.summary2()"
      ],
      "execution_count": 9,
      "outputs": [
        {
          "output_type": "execute_result",
          "data": {
            "text/html": [
              "<table class=\"simpletable\">\n",
              "<tr>\n",
              "        <td>Model:</td>              <td>ARMA</td>               <td>BIC:</td>         <td>301.3011</td>\n",
              "</tr>\n",
              "<tr>\n",
              "  <td>Dependent Variable:</td>         <td>y</td>           <td>Log-Likelihood:</td>    <td>-141.44</td>\n",
              "</tr>\n",
              "<tr>\n",
              "         <td>Date:</td>        <td>2021-06-13 09:23</td>        <td>Scale:</td>         <td>1.0000</td> \n",
              "</tr>\n",
              "<tr>\n",
              "   <td>No. Observations:</td>         <td>100</td>              <td>Method:</td>        <td>css-mle</td>\n",
              "</tr>\n",
              "<tr>\n",
              "       <td>Df Model:</td>              <td>3</td>               <td>Sample:</td>           <td>0</td>   \n",
              "</tr>\n",
              "<tr>\n",
              "     <td>Df Residuals:</td>           <td>97</td>                  <td></td>               <td>0</td>   \n",
              "</tr>\n",
              "<tr>\n",
              "      <td>Converged:</td>           <td>1.0000</td>      <td>S.D. of innovations:</td>   <td>0.991</td> \n",
              "</tr>\n",
              "<tr>\n",
              "    <td>No. Iterations:</td>        <td>6.0000</td>              <td>HQIC:</td>         <td>295.098</td>\n",
              "</tr>\n",
              "<tr>\n",
              "         <td>AIC:</td>             <td>290.8804</td>               <td></td>               <td></td>    \n",
              "</tr>\n",
              "</table>\n",
              "<table class=\"simpletable\">\n",
              "<tr>\n",
              "     <td></td>      <th>Coef.</th>  <th>Std.Err.</th>    <th>t</th>     <th>P>|t|</th> <th>[0.025</th>  <th>0.975]</th>\n",
              "</tr>\n",
              "<tr>\n",
              "  <th>const</th>   <td>0.1824</td>   <td>0.3208</td>  <td>0.5685</td>  <td>0.5710</td> <td>-0.4464</td> <td>0.8112</td>\n",
              "</tr>\n",
              "<tr>\n",
              "  <th>ar.L1.y</th> <td>0.8699</td>   <td>0.0978</td>  <td>8.8953</td>  <td>0.0000</td> <td>0.6783</td>  <td>1.0616</td>\n",
              "</tr>\n",
              "<tr>\n",
              "  <th>ar.L2.y</th> <td>-0.1745</td>  <td>0.0987</td>  <td>-1.7675</td> <td>0.0803</td> <td>-0.3679</td> <td>0.0190</td>\n",
              "</tr>\n",
              "</table>\n",
              "<table class=\"simpletable\">\n",
              "<tr>\n",
              "    <td></td>    <th>Real</th>  <th>Imaginary</th> <th>Modulus</th> <th>Frequency</th>\n",
              "</tr>\n",
              "<tr>\n",
              "  <th>AR.1</th> <td>1.7972</td>  <td>0.0000</td>   <td>1.7972</td>   <td>0.0000</td>  \n",
              "</tr>\n",
              "<tr>\n",
              "  <th>AR.2</th> <td>3.1896</td>  <td>0.0000</td>   <td>3.1896</td>   <td>0.0000</td>  \n",
              "</tr>\n",
              "</table>"
            ],
            "text/plain": [
              "<class 'statsmodels.iolib.summary2.Summary'>\n",
              "\"\"\"\n",
              "                          Results: ARMA\n",
              "==================================================================\n",
              "Model:              ARMA             BIC:                 301.3011\n",
              "Dependent Variable: y                Log-Likelihood:      -141.44 \n",
              "Date:               2021-06-13 09:23 Scale:               1.0000  \n",
              "No. Observations:   100              Method:              css-mle \n",
              "Df Model:           3                Sample:              0       \n",
              "Df Residuals:       97                                    0       \n",
              "Converged:          1.0000           S.D. of innovations: 0.991   \n",
              "No. Iterations:     6.0000           HQIC:                295.098 \n",
              "AIC:                290.8804                                      \n",
              "--------------------------------------------------------------------\n",
              "             Coef.    Std.Err.      t      P>|t|     [0.025   0.975]\n",
              "--------------------------------------------------------------------\n",
              "const        0.1824     0.3208    0.5685   0.5710   -0.4464   0.8112\n",
              "ar.L1.y      0.8699     0.0978    8.8953   0.0000    0.6783   1.0616\n",
              "ar.L2.y     -0.1745     0.0987   -1.7675   0.0803   -0.3679   0.0190\n",
              "---------------------------------------------------------------------------\n",
              "               Real           Imaginary          Modulus          Frequency\n",
              "---------------------------------------------------------------------------\n",
              "AR.1          1.7972             0.0000           1.7972             0.0000\n",
              "AR.2          3.1896             0.0000           3.1896             0.0000\n",
              "==================================================================\n",
              "\n",
              "\"\"\""
            ]
          },
          "metadata": {
            "tags": []
          },
          "execution_count": 9
        }
      ]
    },
    {
      "cell_type": "markdown",
      "metadata": {
        "id": "gS9TCybboFg1"
      },
      "source": [
        "### [Learning Objective 2] RNN requires a 3-D tensor as input\n",
        "* Tensor: One tensor is a vector that enters the model\n",
        "* Time Step: One time step is one observation in the tensor.\n",
        "* Feature: One feature is one observation at a time step."
      ]
    },
    {
      "cell_type": "code",
      "metadata": {
        "id": "ZXPI3YWSoFg2",
        "colab": {
          "base_uri": "https://localhost:8080/"
        },
        "outputId": "aced9ac4-d7c8-4375-bb5f-eb9c07c0ba94"
      },
      "source": [
        "np.random.seed(0)\n",
        "\n",
        "array = np.random.random(20) #.astype(np.float32\n",
        "array.reshape((1,20,1))\n",
        "array"
      ],
      "execution_count": 10,
      "outputs": [
        {
          "output_type": "execute_result",
          "data": {
            "text/plain": [
              "array([0.5488135 , 0.71518937, 0.60276338, 0.54488318, 0.4236548 ,\n",
              "       0.64589411, 0.43758721, 0.891773  , 0.96366276, 0.38344152,\n",
              "       0.79172504, 0.52889492, 0.56804456, 0.92559664, 0.07103606,\n",
              "       0.0871293 , 0.0202184 , 0.83261985, 0.77815675, 0.87001215])"
            ]
          },
          "metadata": {
            "tags": []
          },
          "execution_count": 10
        }
      ]
    },
    {
      "cell_type": "code",
      "metadata": {
        "id": "YyWDXACyoFg2",
        "colab": {
          "base_uri": "https://localhost:8080/",
          "height": 321
        },
        "outputId": "052ea583-3c61-4c88-a2b3-c66f7b2e6bd3"
      },
      "source": [
        "plt.figure(figsize=[10, 5]); # Set dimensions for figure\n",
        "plt.plot(array, linestyle='-', marker='o', color='b')\n",
        "plt.grid(True)\n",
        "plt.show()"
      ],
      "execution_count": 11,
      "outputs": [
        {
          "output_type": "display_data",
          "data": {
            "image/png": "[encoded data removed]",
            "text/plain": [
              "<Figure size 720x360 with 1 Axes>"
            ]
          },
          "metadata": {
            "tags": [],
            "needs_background": "light"
          }
        }
      ]
    },
    {
      "cell_type": "code",
      "metadata": {
        "id": "6SwjDEdroFg2",
        "colab": {
          "base_uri": "https://localhost:8080/"
        },
        "outputId": "72403ffc-54a7-4ace-9b1e-8cb91d4ea4e9"
      },
      "source": [
        "array.reshape((4,5,1))"
      ],
      "execution_count": 12,
      "outputs": [
        {
          "output_type": "execute_result",
          "data": {
            "text/plain": [
              "array([[[0.5488135 ],\n",
              "        [0.71518937],\n",
              "        [0.60276338],\n",
              "        [0.54488318],\n",
              "        [0.4236548 ]],\n",
              "\n",
              "       [[0.64589411],\n",
              "        [0.43758721],\n",
              "        [0.891773  ],\n",
              "        [0.96366276],\n",
              "        [0.38344152]],\n",
              "\n",
              "       [[0.79172504],\n",
              "        [0.52889492],\n",
              "        [0.56804456],\n",
              "        [0.92559664],\n",
              "        [0.07103606]],\n",
              "\n",
              "       [[0.0871293 ],\n",
              "        [0.0202184 ],\n",
              "        [0.83261985],\n",
              "        [0.77815675],\n",
              "        [0.87001215]]])"
            ]
          },
          "metadata": {
            "tags": []
          },
          "execution_count": 12
        }
      ]
    },
    {
      "cell_type": "code",
      "metadata": {
        "id": "wZ8uop8JoFg2",
        "colab": {
          "base_uri": "https://localhost:8080/"
        },
        "outputId": "4407bd2a-66c8-467a-b9bc-660f42bfd595"
      },
      "source": [
        "array.reshape((2,5,2))"
      ],
      "execution_count": 13,
      "outputs": [
        {
          "output_type": "execute_result",
          "data": {
            "text/plain": [
              "array([[[0.5488135 , 0.71518937],\n",
              "        [0.60276338, 0.54488318],\n",
              "        [0.4236548 , 0.64589411],\n",
              "        [0.43758721, 0.891773  ],\n",
              "        [0.96366276, 0.38344152]],\n",
              "\n",
              "       [[0.79172504, 0.52889492],\n",
              "        [0.56804456, 0.92559664],\n",
              "        [0.07103606, 0.0871293 ],\n",
              "        [0.0202184 , 0.83261985],\n",
              "        [0.77815675, 0.87001215]]])"
            ]
          },
          "metadata": {
            "tags": []
          },
          "execution_count": 13
        }
      ]
    },
    {
      "cell_type": "code",
      "metadata": {
        "id": "74JJls1KoFg3",
        "colab": {
          "base_uri": "https://localhost:8080/"
        },
        "outputId": "b5617fa0-2e3e-41e7-811d-092e6b8d1bbf"
      },
      "source": [
        "np.random.seed(0)\n",
        "\n",
        "# Example 1\n",
        "array= np.random.random(20) #.astype(np.float32\n",
        "x1=   array.reshape((1,20,1))\n",
        "x1"
      ],
      "execution_count": 14,
      "outputs": [
        {
          "output_type": "execute_result",
          "data": {
            "text/plain": [
              "array([[[0.5488135 ],\n",
              "        [0.71518937],\n",
              "        [0.60276338],\n",
              "        [0.54488318],\n",
              "        [0.4236548 ],\n",
              "        [0.64589411],\n",
              "        [0.43758721],\n",
              "        [0.891773  ],\n",
              "        [0.96366276],\n",
              "        [0.38344152],\n",
              "        [0.79172504],\n",
              "        [0.52889492],\n",
              "        [0.56804456],\n",
              "        [0.92559664],\n",
              "        [0.07103606],\n",
              "        [0.0871293 ],\n",
              "        [0.0202184 ],\n",
              "        [0.83261985],\n",
              "        [0.77815675],\n",
              "        [0.87001215]]])"
            ]
          },
          "metadata": {
            "tags": []
          },
          "execution_count": 14
        }
      ]
    },
    {
      "cell_type": "code",
      "metadata": {
        "id": "T8FYKzqnFMYU",
        "colab": {
          "base_uri": "https://localhost:8080/"
        },
        "outputId": "74feda4d-d24b-4e66-99a5-9e572f18077c"
      },
      "source": [
        "\n",
        "# Example 2\n",
        "x2= array.reshape((4,5,1))\n",
        "x2"
      ],
      "execution_count": 15,
      "outputs": [
        {
          "output_type": "execute_result",
          "data": {
            "text/plain": [
              "array([[[0.5488135 ],\n",
              "        [0.71518937],\n",
              "        [0.60276338],\n",
              "        [0.54488318],\n",
              "        [0.4236548 ]],\n",
              "\n",
              "       [[0.64589411],\n",
              "        [0.43758721],\n",
              "        [0.891773  ],\n",
              "        [0.96366276],\n",
              "        [0.38344152]],\n",
              "\n",
              "       [[0.79172504],\n",
              "        [0.52889492],\n",
              "        [0.56804456],\n",
              "        [0.92559664],\n",
              "        [0.07103606]],\n",
              "\n",
              "       [[0.0871293 ],\n",
              "        [0.0202184 ],\n",
              "        [0.83261985],\n",
              "        [0.77815675],\n",
              "        [0.87001215]]])"
            ]
          },
          "metadata": {
            "tags": []
          },
          "execution_count": 15
        }
      ]
    },
    {
      "cell_type": "code",
      "metadata": {
        "id": "cf598s4RFNNx",
        "colab": {
          "base_uri": "https://localhost:8080/"
        },
        "outputId": "70cd19f8-851a-420a-bcf9-66028cf9f20c"
      },
      "source": [
        "\n",
        "# Example 3\n",
        "x3= array.reshape((2,5,2))\n",
        "x3"
      ],
      "execution_count": 16,
      "outputs": [
        {
          "output_type": "execute_result",
          "data": {
            "text/plain": [
              "array([[[0.5488135 , 0.71518937],\n",
              "        [0.60276338, 0.54488318],\n",
              "        [0.4236548 , 0.64589411],\n",
              "        [0.43758721, 0.891773  ],\n",
              "        [0.96366276, 0.38344152]],\n",
              "\n",
              "       [[0.79172504, 0.52889492],\n",
              "        [0.56804456, 0.92559664],\n",
              "        [0.07103606, 0.0871293 ],\n",
              "        [0.0202184 , 0.83261985],\n",
              "        [0.77815675, 0.87001215]]])"
            ]
          },
          "metadata": {
            "tags": []
          },
          "execution_count": 16
        }
      ]
    },
    {
      "cell_type": "markdown",
      "metadata": {
        "id": "15PsKIWToFg3"
      },
      "source": [
        "* use numpy to store and manipulate image data. \n",
        "* We will use the Python Imaging library (PIL) to read and write data to standard file formats.\n",
        "* 4 lines of pixels, each line of pixels contains 5 pixels, and each pixel contains 3 bytes (red, green, blue)\n",
        "* The shape of the array is: height x width x 3."
      ]
    },
    {
      "cell_type": "code",
      "metadata": {
        "id": "464fyrRyGnUQ"
      },
      "source": [
        "#np.random.randint?"
      ],
      "execution_count": 17,
      "outputs": []
    },
    {
      "cell_type": "code",
      "metadata": {
        "id": "r2904p_4oFg3",
        "colab": {
          "base_uri": "https://localhost:8080/"
        },
        "outputId": "c0b0adbb-a1cb-4a6d-de90-2d6abca41ff6"
      },
      "source": [
        "np.random.seed(0)\n",
        "\n",
        "# IF it is image data:\n",
        "# Create an RGB image that is 3 dimensional arrays of 8-bit unsigned integers.\n",
        "width= 5\n",
        "height= 4\n",
        "RGB= 3\n",
        "p= width * height * RGB\n",
        "img_data= np.random.randint(low=100, high=256, size=p, dtype= np.uint8) # Generate values in (100,255)\n",
        "img_data= img_data.reshape((height, width, RGB))\n",
        "img_data"
      ],
      "execution_count": 18,
      "outputs": [
        {
          "output_type": "execute_result",
          "data": {
            "text/plain": [
              "array([[[110, 227, 240],\n",
              "        [147, 251, 217],\n",
              "        [122, 133, 167],\n",
              "        [178, 254, 182],\n",
              "        [218, 225, 239]],\n",
              "\n",
              "       [[203, 225, 109],\n",
              "        [216, 208, 121],\n",
              "        [181, 189, 202],\n",
              "        [198, 136, 105],\n",
              "        [212, 187, 158]],\n",
              "\n",
              "       [[143, 176, 170],\n",
              "        [160, 175, 232],\n",
              "        [114, 188, 254],\n",
              "        [240, 169, 158],\n",
              "        [157, 141, 198]],\n",
              "\n",
              "       [[166, 172, 222],\n",
              "        [225, 139, 174],\n",
              "        [187, 201, 235],\n",
              "        [222, 188, 194],\n",
              "        [207, 245, 181]]], dtype=uint8)"
            ]
          },
          "metadata": {
            "tags": []
          },
          "execution_count": 18
        }
      ]
    },
    {
      "cell_type": "code",
      "metadata": {
        "id": "KzE9a7TsoFg3"
      },
      "source": [
        "# this cell has no effect in Colab, need debugging ...\n",
        "from PIL import Image\n",
        "img= Image.fromarray(img_data)\n",
        "img.show()\n"
      ],
      "execution_count": 19,
      "outputs": []
    },
    {
      "cell_type": "code",
      "metadata": {
        "id": "V1-7fWRvInNY"
      },
      "source": [
        "#\n",
        "# 尚未成功，影像顯示在 Colab 上還需爬網研究一下\n",
        "#\n",
        "\n",
        "# for google colab use cv2_imshow instead\n",
        "# change x, y, h ,w to the values you are happy with\n",
        "#import cv2_imshow\n",
        "#img = cv2.imread(\"lenna.png\")\n",
        "#crop_img = img[y:y+h, x:x+w]\n",
        "#cv2_imshow(img)\n",
        "#cv2.waitKey(0)\n",
        "\n",
        "#import cv2 as cv \n",
        "#from google.colab.patches import cv2_imshow # for image display\n",
        "#from PIL import Image\n",
        "#cv2_imshow(img)\n",
        "\n"
      ],
      "execution_count": 20,
      "outputs": []
    },
    {
      "cell_type": "markdown",
      "metadata": {
        "id": "TtO9QvQ1oFg4"
      },
      "source": [
        "### [Learning Objective 3] Stock data"
      ]
    },
    {
      "cell_type": "code",
      "metadata": {
        "id": "RRo_KlCKo9bp",
        "colab": {
          "base_uri": "https://localhost:8080/"
        },
        "outputId": "7d8b85a7-24c4-4dbb-ae8a-87af04fd44af"
      },
      "source": [
        "try:\n",
        "  import yfinance as yf\n",
        "except:\n",
        "  !pip install yfinance\n",
        "\n",
        "try:\n",
        "  from yahoofinancials import YahooFinancials\n",
        "except:\n",
        "  !pip install yahoofinancials\n",
        "  "
      ],
      "execution_count": 21,
      "outputs": [
        {
          "output_type": "stream",
          "text": [
            "Collecting yfinance\n",
            "  Downloading https://files.pythonhosted.org/packages/a7/ee/315752b9ef281ba83c62aa7ec2e2074f85223da6e7e74efb4d3e11c0f510/yfinance-0.1.59.tar.gz\n",
            "Requirement already satisfied: pandas>=0.24 in /usr/local/lib/python3.7/dist-packages (from yfinance) (1.1.5)\n",
            "Requirement already satisfied: numpy>=1.15 in /usr/local/lib/python3.7/dist-packages (from yfinance) (1.19.5)\n",
            "Requirement already satisfied: requests>=2.20 in /usr/local/lib/python3.7/dist-packages (from yfinance) (2.23.0)\n",
            "Requirement already satisfied: multitasking>=0.0.7 in /usr/local/lib/python3.7/dist-packages (from yfinance) (0.0.9)\n",
            "Collecting lxml>=4.5.1\n",
            "\u001b[?25l  Downloading https://files.pythonhosted.org/packages/30/c0/d0526314971fc661b083ab135747dc68446a3022686da8c16d25fcf6ef07/lxml-4.6.3-cp37-cp37m-manylinux2014_x86_64.whl (6.3MB)\n",
            "\u001b[K     |████████████████████████████████| 6.3MB 18.4MB/s \n",
            "\u001b[?25hRequirement already satisfied: pytz>=2017.2 in /usr/local/lib/python3.7/dist-packages (from pandas>=0.24->yfinance) (2018.9)\n",
            "Requirement already satisfied: python-dateutil>=2.7.3 in /usr/local/lib/python3.7/dist-packages (from pandas>=0.24->yfinance) (2.8.1)\n",
            "Requirement already satisfied: certifi>=2017.4.17 in /usr/local/lib/python3.7/dist-packages (from requests>=2.20->yfinance) (2020.12.5)\n",
            "Requirement already satisfied: idna<3,>=2.5 in /usr/local/lib/python3.7/dist-packages (from requests>=2.20->yfinance) (2.10)\n",
            "Requirement already satisfied: urllib3!=1.25.0,!=1.25.1,<1.26,>=1.21.1 in /usr/local/lib/python3.7/dist-packages (from requests>=2.20->yfinance) (1.24.3)\n",
            "Requirement already satisfied: chardet<4,>=3.0.2 in /usr/local/lib/python3.7/dist-packages (from requests>=2.20->yfinance) (3.0.4)\n",
            "Requirement already satisfied: six>=1.5 in /usr/local/lib/python3.7/dist-packages (from python-dateutil>=2.7.3->pandas>=0.24->yfinance) (1.15.0)\n",
            "Building wheels for collected packages: yfinance\n",
            "  Building wheel for yfinance (setup.py) ... \u001b[?25l\u001b[?25hdone\n",
            "  Created wheel for yfinance: filename=yfinance-0.1.59-py2.py3-none-any.whl size=23455 sha256=7c92432b60c39c6448616f07abc4000cccb3b079135789500f9c89d5e75219c1\n",
            "  Stored in directory: /root/.cache/pip/wheels/f8/2a/0f/4b5a86e1d52e451757eb6bc17fd899629f0925c777741b6d04\n",
            "Successfully built yfinance\n",
            "Installing collected packages: lxml, yfinance\n",
            "  Found existing installation: lxml 4.2.6\n",
            "    Uninstalling lxml-4.2.6:\n",
            "      Successfully uninstalled lxml-4.2.6\n",
            "Successfully installed lxml-4.6.3 yfinance-0.1.59\n",
            "Collecting yahoofinancials\n",
            "  Downloading https://files.pythonhosted.org/packages/97/fe/be0f6ea704137848779fc61e7d1c9a901489aaf3423cd7b6f86a350c14c6/yahoofinancials-1.6.tar.gz\n",
            "Requirement already satisfied: beautifulsoup4 in /usr/local/lib/python3.7/dist-packages (from yahoofinancials) (4.6.3)\n",
            "Requirement already satisfied: pytz in /usr/local/lib/python3.7/dist-packages (from yahoofinancials) (2018.9)\n",
            "Building wheels for collected packages: yahoofinancials\n",
            "  Building wheel for yahoofinancials (setup.py) ... \u001b[?25l\u001b[?25hdone\n",
            "  Created wheel for yahoofinancials: filename=yahoofinancials-1.6-cp37-none-any.whl size=15192 sha256=da02fb511179cce0400eecb4400a02fbb14cd132652cc0328a143c94dbeaa284\n",
            "  Stored in directory: /root/.cache/pip/wheels/d9/7e/cf/4977a8572d5247242a4b13018d1d36923024ba84236e0d28bc\n",
            "Successfully built yahoofinancials\n",
            "Installing collected packages: yahoofinancials\n",
            "Successfully installed yahoofinancials-1.6\n"
          ],
          "name": "stdout"
        }
      ]
    },
    {
      "cell_type": "code",
      "metadata": {
        "id": "ru5t5jyOoFg4",
        "colab": {
          "base_uri": "https://localhost:8080/",
          "height": 447
        },
        "outputId": "6a2722f2-69d7-4838-cee1-175dd8bb0209"
      },
      "source": [
        "import pandas as pd\n",
        "import yfinance as yf\n",
        "from yahoofinancials import YahooFinancials\n",
        "\n",
        "all_data= yf.download( '^gspc',    #'AMZN', \n",
        "          start= '1991-01-01',#'2013-01-01', \n",
        "          end=  '2021-01-01',#'2019-12-31', \n",
        "          progress=False)\n",
        "# AMZN = yf.download('AMZN') for all \n",
        "'''\n",
        "all_data= AMZN[['Adj Close',\n",
        "        'Open', \n",
        "        'High', \n",
        "        'Low', \n",
        "        'Close', \n",
        "        'Volume']].round(2)\n",
        "'''\n",
        "all_data # 7559 rows × 6 columns"
      ],
      "execution_count": 22,
      "outputs": [
        {
          "output_type": "execute_result",
          "data": {
            "text/html": [
              "<div>\n",
              "<style scoped>\n",
              "    .dataframe tbody tr th:only-of-type {\n",
              "        vertical-align: middle;\n",
              "    }\n",
              "\n",
              "    .dataframe tbody tr th {\n",
              "        vertical-align: top;\n",
              "    }\n",
              "\n",
              "    .dataframe thead th {\n",
              "        text-align: right;\n",
              "    }\n",
              "</style>\n",
              "<table border=\"1\" class=\"dataframe\">\n",
              "  <thead>\n",
              "    <tr style=\"text-align: right;\">\n",
              "      <th></th>\n",
              "      <th>Open</th>\n",
              "      <th>High</th>\n",
              "      <th>Low</th>\n",
              "      <th>Close</th>\n",
              "      <th>Adj Close</th>\n",
              "      <th>Volume</th>\n",
              "    </tr>\n",
              "    <tr>\n",
              "      <th>Date</th>\n",
              "      <th></th>\n",
              "      <th></th>\n",
              "      <th></th>\n",
              "      <th></th>\n",
              "      <th></th>\n",
              "      <th></th>\n",
              "    </tr>\n",
              "  </thead>\n",
              "  <tbody>\n",
              "    <tr>\n",
              "      <th>1991-01-02</th>\n",
              "      <td>330.200012</td>\n",
              "      <td>330.750000</td>\n",
              "      <td>326.450012</td>\n",
              "      <td>326.450012</td>\n",
              "      <td>326.450012</td>\n",
              "      <td>126280000</td>\n",
              "    </tr>\n",
              "    <tr>\n",
              "      <th>1991-01-03</th>\n",
              "      <td>326.459991</td>\n",
              "      <td>326.529999</td>\n",
              "      <td>321.899994</td>\n",
              "      <td>321.910004</td>\n",
              "      <td>321.910004</td>\n",
              "      <td>141450000</td>\n",
              "    </tr>\n",
              "    <tr>\n",
              "      <th>1991-01-04</th>\n",
              "      <td>321.910004</td>\n",
              "      <td>322.350006</td>\n",
              "      <td>318.869995</td>\n",
              "      <td>321.000000</td>\n",
              "      <td>321.000000</td>\n",
              "      <td>140820000</td>\n",
              "    </tr>\n",
              "    <tr>\n",
              "      <th>1991-01-07</th>\n",
              "      <td>320.970001</td>\n",
              "      <td>320.970001</td>\n",
              "      <td>315.440002</td>\n",
              "      <td>315.440002</td>\n",
              "      <td>315.440002</td>\n",
              "      <td>130610000</td>\n",
              "    </tr>\n",
              "    <tr>\n",
              "      <th>1991-01-08</th>\n",
              "      <td>315.440002</td>\n",
              "      <td>316.970001</td>\n",
              "      <td>313.790009</td>\n",
              "      <td>314.899994</td>\n",
              "      <td>314.899994</td>\n",
              "      <td>143390000</td>\n",
              "    </tr>\n",
              "    <tr>\n",
              "      <th>...</th>\n",
              "      <td>...</td>\n",
              "      <td>...</td>\n",
              "      <td>...</td>\n",
              "      <td>...</td>\n",
              "      <td>...</td>\n",
              "      <td>...</td>\n",
              "    </tr>\n",
              "    <tr>\n",
              "      <th>2020-12-24</th>\n",
              "      <td>3694.030029</td>\n",
              "      <td>3703.820068</td>\n",
              "      <td>3689.320068</td>\n",
              "      <td>3703.060059</td>\n",
              "      <td>3703.060059</td>\n",
              "      <td>1885090000</td>\n",
              "    </tr>\n",
              "    <tr>\n",
              "      <th>2020-12-28</th>\n",
              "      <td>3723.030029</td>\n",
              "      <td>3740.510010</td>\n",
              "      <td>3723.030029</td>\n",
              "      <td>3735.360107</td>\n",
              "      <td>3735.360107</td>\n",
              "      <td>3527460000</td>\n",
              "    </tr>\n",
              "    <tr>\n",
              "      <th>2020-12-29</th>\n",
              "      <td>3750.010010</td>\n",
              "      <td>3756.120117</td>\n",
              "      <td>3723.310059</td>\n",
              "      <td>3727.040039</td>\n",
              "      <td>3727.040039</td>\n",
              "      <td>3387030000</td>\n",
              "    </tr>\n",
              "    <tr>\n",
              "      <th>2020-12-30</th>\n",
              "      <td>3736.189941</td>\n",
              "      <td>3744.629883</td>\n",
              "      <td>3730.209961</td>\n",
              "      <td>3732.040039</td>\n",
              "      <td>3732.040039</td>\n",
              "      <td>3145200000</td>\n",
              "    </tr>\n",
              "    <tr>\n",
              "      <th>2020-12-31</th>\n",
              "      <td>3733.270020</td>\n",
              "      <td>3760.199951</td>\n",
              "      <td>3726.879883</td>\n",
              "      <td>3756.070068</td>\n",
              "      <td>3756.070068</td>\n",
              "      <td>3172510000</td>\n",
              "    </tr>\n",
              "  </tbody>\n",
              "</table>\n",
              "<p>7559 rows × 6 columns</p>\n",
              "</div>"
            ],
            "text/plain": [
              "                   Open         High  ...    Adj Close      Volume\n",
              "Date                                  ...                         \n",
              "1991-01-02   330.200012   330.750000  ...   326.450012   126280000\n",
              "1991-01-03   326.459991   326.529999  ...   321.910004   141450000\n",
              "1991-01-04   321.910004   322.350006  ...   321.000000   140820000\n",
              "1991-01-07   320.970001   320.970001  ...   315.440002   130610000\n",
              "1991-01-08   315.440002   316.970001  ...   314.899994   143390000\n",
              "...                 ...          ...  ...          ...         ...\n",
              "2020-12-24  3694.030029  3703.820068  ...  3703.060059  1885090000\n",
              "2020-12-28  3723.030029  3740.510010  ...  3735.360107  3527460000\n",
              "2020-12-29  3750.010010  3756.120117  ...  3727.040039  3387030000\n",
              "2020-12-30  3736.189941  3744.629883  ...  3732.040039  3145200000\n",
              "2020-12-31  3733.270020  3760.199951  ...  3756.070068  3172510000\n",
              "\n",
              "[7559 rows x 6 columns]"
            ]
          },
          "metadata": {
            "tags": []
          },
          "execution_count": 22
        }
      ]
    },
    {
      "cell_type": "code",
      "metadata": {
        "id": "v4X2dBjcoFg4",
        "colab": {
          "base_uri": "https://localhost:8080/",
          "height": 286
        },
        "outputId": "26769202-3361-4af6-c744-9413b09e5b04"
      },
      "source": [
        "all_data['Close'].plot(grid=True)"
      ],
      "execution_count": 23,
      "outputs": [
        {
          "output_type": "execute_result",
          "data": {
            "text/plain": [
              "<matplotlib.axes._subplots.AxesSubplot at 0x7fbec8af4890>"
            ]
          },
          "metadata": {
            "tags": []
          },
          "execution_count": 23
        },
        {
          "output_type": "display_data",
          "data": {
            "image/png": "[encoded data removed]",
            "text/plain": [
              "<Figure size 432x288 with 1 Axes>"
            ]
          },
          "metadata": {
            "tags": [],
            "needs_background": "light"
          }
        }
      ]
    },
    {
      "cell_type": "code",
      "metadata": {
        "id": "FBsWAauRLpaO",
        "colab": {
          "base_uri": "https://localhost:8080/",
          "height": 286
        },
        "outputId": "e7e09261-1e22-4b27-9e27-b9987b9b400c"
      },
      "source": [
        "all_data['Close'].plot(grid=True,logy=True)"
      ],
      "execution_count": 24,
      "outputs": [
        {
          "output_type": "execute_result",
          "data": {
            "text/plain": [
              "<matplotlib.axes._subplots.AxesSubplot at 0x7fbec8e5c190>"
            ]
          },
          "metadata": {
            "tags": []
          },
          "execution_count": 24
        },
        {
          "output_type": "display_data",
          "data": {
            "image/png": "[encoded data removed]",
            "text/plain": [
              "<Figure size 432x288 with 1 Axes>"
            ]
          },
          "metadata": {
            "tags": [],
            "needs_background": "light"
          }
        }
      ]
    },
    {
      "cell_type": "code",
      "metadata": {
        "id": "VBo8J-YQL8dW",
        "colab": {
          "base_uri": "https://localhost:8080/",
          "height": 286
        },
        "outputId": "45299c9a-bd6e-4423-db2d-d23402123ba4"
      },
      "source": [
        "tr_data= all_data['Close'][:'2018']\n",
        "ts_data= all_data['Close']['2019':]\n",
        "tr_data.plot(c='r')\n",
        "ts_data.plot(c='g', grid=True, logy=True)\n",
        "tr_data.size, ts_data.size "
      ],
      "execution_count": 25,
      "outputs": [
        {
          "output_type": "execute_result",
          "data": {
            "text/plain": [
              "(7054, 505)"
            ]
          },
          "metadata": {
            "tags": []
          },
          "execution_count": 25
        },
        {
          "output_type": "display_data",
          "data": {
            "image/png": "[encoded data removed]",
            "text/plain": [
              "<Figure size 432x288 with 1 Axes>"
            ]
          },
          "metadata": {
            "tags": [],
            "needs_background": "light"
          }
        }
      ]
    },
    {
      "cell_type": "code",
      "metadata": {
        "id": "AzVzBjuDL8pT",
        "colab": {
          "base_uri": "https://localhost:8080/"
        },
        "outputId": "c3c74ac0-d6da-4acf-f7a3-11cb1e1fe8bb"
      },
      "source": [
        "tr_days= (tr_data.index[-1]-tr_data.index[0]).days\n",
        "ts_days= (ts_data.index[-1]-ts_data.index[0]).days\n",
        "\n",
        "tr_years= tr_days/365\n",
        "ts_years= ts_days/365\n",
        "tr_days, ts_days, tr_years, ts_years"
      ],
      "execution_count": 26,
      "outputs": [
        {
          "output_type": "execute_result",
          "data": {
            "text/plain": [
              "(10225, 729, 28.013698630136986, 1.9972602739726026)"
            ]
          },
          "metadata": {
            "tags": []
          },
          "execution_count": 26
        }
      ]
    },
    {
      "cell_type": "code",
      "metadata": {
        "id": "E8IKvQaJoFg4",
        "colab": {
          "base_uri": "https://localhost:8080/"
        },
        "outputId": "b29d4675-654c-4032-f18f-852d39de5e4e"
      },
      "source": [
        "print(f\"{tr_data.size} data points in the training data\")\n",
        "print(f\"{ts_data.size} data points in the test data\")\n",
        "\n"
      ],
      "execution_count": 27,
      "outputs": [
        {
          "output_type": "stream",
          "text": [
            "7054 data points in the training data\n",
            "505 data points in the test data\n"
          ],
          "name": "stdout"
        }
      ]
    },
    {
      "cell_type": "markdown",
      "metadata": {
        "id": "MHmPLHAqoFg5"
      },
      "source": [
        "## [Learning objective 4] Create the training and test data for RNN/LSTM"
      ]
    },
    {
      "cell_type": "code",
      "metadata": {
        "id": "DaS8ZUuy-Hp_"
      },
      "source": [
        ""
      ],
      "execution_count": 27,
      "outputs": []
    },
    {
      "cell_type": "code",
      "metadata": {
        "id": "guLWt1mG-MDP"
      },
      "source": [
        ""
      ],
      "execution_count": 27,
      "outputs": []
    },
    {
      "cell_type": "code",
      "metadata": {
        "id": "v1lEjbGMoFg5",
        "colab": {
          "base_uri": "https://localhost:8080/"
        },
        "outputId": "15fbbf18-2741-4588-c997-a4b030964377"
      },
      "source": [
        "def ts_train_test( #all_data, \n",
        "          time_steps= 10, \n",
        "          for_periods= 3):\n",
        "    '''\n",
        "    input: \n",
        "      data: dataframe with dates and price data\n",
        "    output:\n",
        "      X_train, y_train: data from 2013/1/1-2018/12/31\n",
        "      X_test:  data from 2019 -\n",
        "      sc:      insantiated MinMaxScaler object fit to the training data\n",
        "    '''\n",
        "    # create training and test set\n",
        "    #ts_train = all_data[:'2018'].iloc[:,0:1].values\n",
        "    #ts_test  = all_data['2019':].iloc[:,0:1].values\n",
        "\n",
        "    ts_train= tr_data.values.reshape(-1,1)\n",
        "    ts_test=  ts_data.values.reshape(-1,1)\n",
        "\n",
        "    ts_train_len = len(ts_train)\n",
        "    ts_test_len = len(ts_test)\n",
        "\n",
        "    # create training data of s samples and t time steps\n",
        "    X_train = []\n",
        "    y_train = []\n",
        "    #y_train_stacked = []\n",
        "    for i in range(time_steps,ts_train_len-for_periods+1): \n",
        "        X_train.append(ts_train[i-time_steps:i,0])\n",
        "        y_train.append(ts_train[i:i+for_periods,0])\n",
        "    X_train, y_train = np.array(X_train), np.array(y_train)\n",
        "\n",
        "    # Reshaping X_train for efficient modelling\n",
        "    X_train= np.reshape(X_train, (X_train.shape[0],X_train.shape[1],1))\n",
        "\n",
        "    #inputs= pd.concat((all_data[\"Adj Close\"][:'2018'], \n",
        "    #          all_data[\"Adj Close\"]['2019':]),\n",
        "    #        axis=0).values\n",
        "    \n",
        "    inputs= pd.concat((tr_data, \n",
        "              ts_data),\n",
        "            axis=0).values\n",
        "\n",
        "    inputs= inputs[len(inputs)-len(ts_test) - time_steps:]\n",
        "    inputs= inputs.reshape(-1,1)\n",
        "\n",
        "    # Preparing X_test\n",
        "    X_test= []\n",
        "    for i in range(time_steps,ts_test_len+time_steps-for_periods):\n",
        "        X_test.append(inputs[i-time_steps:i,0])\n",
        "        \n",
        "    X_test= np.array(X_test)\n",
        "    X_test= np.reshape(X_test, (X_test.shape[0],X_test.shape[1],1))\n",
        "\n",
        "    return X_train, y_train , X_test\n",
        "\n",
        "X_train, y_train, X_test= ts_train_test() #all_data, 5, 2)\n",
        "X_train.shape, y_train.shape, X_test.shape"
      ],
      "execution_count": 28,
      "outputs": [
        {
          "output_type": "execute_result",
          "data": {
            "text/plain": [
              "((7042, 10, 1), (7042, 3), (502, 10, 1))"
            ]
          },
          "metadata": {
            "tags": []
          },
          "execution_count": 28
        }
      ]
    },
    {
      "cell_type": "code",
      "metadata": {
        "id": "TBYLJiPQoFg5",
        "colab": {
          "base_uri": "https://localhost:8080/",
          "height": 437
        },
        "outputId": "2bd52e98-6243-4293-af5a-c730d4d73005"
      },
      "source": [
        "# Make the 3-D shape to a data frame so we can see: \n",
        "X_train_see= pd.DataFrame(np.reshape(X_train, \n",
        "                   X_train.shape[0:2] #(X_train.shape[0],X_train.shape[1])\n",
        "                   ))\n",
        "y_train_see= pd.DataFrame(y_train)\n",
        "pd.concat([X_train_see,y_train_see], axis=1)"
      ],
      "execution_count": 29,
      "outputs": [
        {
          "output_type": "execute_result",
          "data": {
            "text/html": [
              "<div>\n",
              "<style scoped>\n",
              "    .dataframe tbody tr th:only-of-type {\n",
              "        vertical-align: middle;\n",
              "    }\n",
              "\n",
              "    .dataframe tbody tr th {\n",
              "        vertical-align: top;\n",
              "    }\n",
              "\n",
              "    .dataframe thead th {\n",
              "        text-align: right;\n",
              "    }\n",
              "</style>\n",
              "<table border=\"1\" class=\"dataframe\">\n",
              "  <thead>\n",
              "    <tr style=\"text-align: right;\">\n",
              "      <th></th>\n",
              "      <th>0</th>\n",
              "      <th>1</th>\n",
              "      <th>2</th>\n",
              "      <th>3</th>\n",
              "      <th>4</th>\n",
              "      <th>5</th>\n",
              "      <th>6</th>\n",
              "      <th>7</th>\n",
              "      <th>8</th>\n",
              "      <th>9</th>\n",
              "      <th>0</th>\n",
              "      <th>1</th>\n",
              "      <th>2</th>\n",
              "    </tr>\n",
              "  </thead>\n",
              "  <tbody>\n",
              "    <tr>\n",
              "      <th>0</th>\n",
              "      <td>326.450012</td>\n",
              "      <td>321.910004</td>\n",
              "      <td>321.000000</td>\n",
              "      <td>315.440002</td>\n",
              "      <td>314.899994</td>\n",
              "      <td>311.489990</td>\n",
              "      <td>314.529999</td>\n",
              "      <td>315.230011</td>\n",
              "      <td>312.489990</td>\n",
              "      <td>313.730011</td>\n",
              "      <td>316.170013</td>\n",
              "      <td>327.970001</td>\n",
              "      <td>332.230011</td>\n",
              "    </tr>\n",
              "    <tr>\n",
              "      <th>1</th>\n",
              "      <td>321.910004</td>\n",
              "      <td>321.000000</td>\n",
              "      <td>315.440002</td>\n",
              "      <td>314.899994</td>\n",
              "      <td>311.489990</td>\n",
              "      <td>314.529999</td>\n",
              "      <td>315.230011</td>\n",
              "      <td>312.489990</td>\n",
              "      <td>313.730011</td>\n",
              "      <td>316.170013</td>\n",
              "      <td>327.970001</td>\n",
              "      <td>332.230011</td>\n",
              "      <td>331.059998</td>\n",
              "    </tr>\n",
              "    <tr>\n",
              "      <th>2</th>\n",
              "      <td>321.000000</td>\n",
              "      <td>315.440002</td>\n",
              "      <td>314.899994</td>\n",
              "      <td>311.489990</td>\n",
              "      <td>314.529999</td>\n",
              "      <td>315.230011</td>\n",
              "      <td>312.489990</td>\n",
              "      <td>313.730011</td>\n",
              "      <td>316.170013</td>\n",
              "      <td>327.970001</td>\n",
              "      <td>332.230011</td>\n",
              "      <td>331.059998</td>\n",
              "      <td>328.309998</td>\n",
              "    </tr>\n",
              "    <tr>\n",
              "      <th>3</th>\n",
              "      <td>315.440002</td>\n",
              "      <td>314.899994</td>\n",
              "      <td>311.489990</td>\n",
              "      <td>314.529999</td>\n",
              "      <td>315.230011</td>\n",
              "      <td>312.489990</td>\n",
              "      <td>313.730011</td>\n",
              "      <td>316.170013</td>\n",
              "      <td>327.970001</td>\n",
              "      <td>332.230011</td>\n",
              "      <td>331.059998</td>\n",
              "      <td>328.309998</td>\n",
              "      <td>330.209991</td>\n",
              "    </tr>\n",
              "    <tr>\n",
              "      <th>4</th>\n",
              "      <td>314.899994</td>\n",
              "      <td>311.489990</td>\n",
              "      <td>314.529999</td>\n",
              "      <td>315.230011</td>\n",
              "      <td>312.489990</td>\n",
              "      <td>313.730011</td>\n",
              "      <td>316.170013</td>\n",
              "      <td>327.970001</td>\n",
              "      <td>332.230011</td>\n",
              "      <td>331.059998</td>\n",
              "      <td>328.309998</td>\n",
              "      <td>330.209991</td>\n",
              "      <td>334.779999</td>\n",
              "    </tr>\n",
              "    <tr>\n",
              "      <th>...</th>\n",
              "      <td>...</td>\n",
              "      <td>...</td>\n",
              "      <td>...</td>\n",
              "      <td>...</td>\n",
              "      <td>...</td>\n",
              "      <td>...</td>\n",
              "      <td>...</td>\n",
              "      <td>...</td>\n",
              "      <td>...</td>\n",
              "      <td>...</td>\n",
              "      <td>...</td>\n",
              "      <td>...</td>\n",
              "      <td>...</td>\n",
              "    </tr>\n",
              "    <tr>\n",
              "      <th>7037</th>\n",
              "      <td>2695.949951</td>\n",
              "      <td>2633.080078</td>\n",
              "      <td>2637.719971</td>\n",
              "      <td>2636.780029</td>\n",
              "      <td>2651.070068</td>\n",
              "      <td>2650.540039</td>\n",
              "      <td>2599.949951</td>\n",
              "      <td>2545.939941</td>\n",
              "      <td>2546.159912</td>\n",
              "      <td>2506.959961</td>\n",
              "      <td>2467.419922</td>\n",
              "      <td>2416.620117</td>\n",
              "      <td>2351.100098</td>\n",
              "    </tr>\n",
              "    <tr>\n",
              "      <th>7038</th>\n",
              "      <td>2633.080078</td>\n",
              "      <td>2637.719971</td>\n",
              "      <td>2636.780029</td>\n",
              "      <td>2651.070068</td>\n",
              "      <td>2650.540039</td>\n",
              "      <td>2599.949951</td>\n",
              "      <td>2545.939941</td>\n",
              "      <td>2546.159912</td>\n",
              "      <td>2506.959961</td>\n",
              "      <td>2467.419922</td>\n",
              "      <td>2416.620117</td>\n",
              "      <td>2351.100098</td>\n",
              "      <td>2467.699951</td>\n",
              "    </tr>\n",
              "    <tr>\n",
              "      <th>7039</th>\n",
              "      <td>2637.719971</td>\n",
              "      <td>2636.780029</td>\n",
              "      <td>2651.070068</td>\n",
              "      <td>2650.540039</td>\n",
              "      <td>2599.949951</td>\n",
              "      <td>2545.939941</td>\n",
              "      <td>2546.159912</td>\n",
              "      <td>2506.959961</td>\n",
              "      <td>2467.419922</td>\n",
              "      <td>2416.620117</td>\n",
              "      <td>2351.100098</td>\n",
              "      <td>2467.699951</td>\n",
              "      <td>2488.830078</td>\n",
              "    </tr>\n",
              "    <tr>\n",
              "      <th>7040</th>\n",
              "      <td>2636.780029</td>\n",
              "      <td>2651.070068</td>\n",
              "      <td>2650.540039</td>\n",
              "      <td>2599.949951</td>\n",
              "      <td>2545.939941</td>\n",
              "      <td>2546.159912</td>\n",
              "      <td>2506.959961</td>\n",
              "      <td>2467.419922</td>\n",
              "      <td>2416.620117</td>\n",
              "      <td>2351.100098</td>\n",
              "      <td>2467.699951</td>\n",
              "      <td>2488.830078</td>\n",
              "      <td>2485.739990</td>\n",
              "    </tr>\n",
              "    <tr>\n",
              "      <th>7041</th>\n",
              "      <td>2651.070068</td>\n",
              "      <td>2650.540039</td>\n",
              "      <td>2599.949951</td>\n",
              "      <td>2545.939941</td>\n",
              "      <td>2546.159912</td>\n",
              "      <td>2506.959961</td>\n",
              "      <td>2467.419922</td>\n",
              "      <td>2416.620117</td>\n",
              "      <td>2351.100098</td>\n",
              "      <td>2467.699951</td>\n",
              "      <td>2488.830078</td>\n",
              "      <td>2485.739990</td>\n",
              "      <td>2506.850098</td>\n",
              "    </tr>\n",
              "  </tbody>\n",
              "</table>\n",
              "<p>7042 rows × 13 columns</p>\n",
              "</div>"
            ],
            "text/plain": [
              "                0            1  ...            1            2\n",
              "0      326.450012   321.910004  ...   327.970001   332.230011\n",
              "1      321.910004   321.000000  ...   332.230011   331.059998\n",
              "2      321.000000   315.440002  ...   331.059998   328.309998\n",
              "3      315.440002   314.899994  ...   328.309998   330.209991\n",
              "4      314.899994   311.489990  ...   330.209991   334.779999\n",
              "...           ...          ...  ...          ...          ...\n",
              "7037  2695.949951  2633.080078  ...  2416.620117  2351.100098\n",
              "7038  2633.080078  2637.719971  ...  2351.100098  2467.699951\n",
              "7039  2637.719971  2636.780029  ...  2467.699951  2488.830078\n",
              "7040  2636.780029  2651.070068  ...  2488.830078  2485.739990\n",
              "7041  2651.070068  2650.540039  ...  2485.739990  2506.850098\n",
              "\n",
              "[7042 rows x 13 columns]"
            ]
          },
          "metadata": {
            "tags": []
          },
          "execution_count": 29
        }
      ]
    },
    {
      "cell_type": "code",
      "metadata": {
        "id": "Mc2qWkgxoFg6",
        "colab": {
          "base_uri": "https://localhost:8080/",
          "height": 417
        },
        "outputId": "31ba229a-36eb-46e4-96db-9fc61061d992"
      },
      "source": [
        "# Make the 3-D shape to a data frame so we can see: \n",
        "X_test_see= pd.DataFrame(np.reshape(X_test, \n",
        "                  X_test.shape[0:2] #(X_test.shape[0],X_test.shape[1])\n",
        "                  ))\n",
        "pd.DataFrame(X_test_see)"
      ],
      "execution_count": 30,
      "outputs": [
        {
          "output_type": "execute_result",
          "data": {
            "text/html": [
              "<div>\n",
              "<style scoped>\n",
              "    .dataframe tbody tr th:only-of-type {\n",
              "        vertical-align: middle;\n",
              "    }\n",
              "\n",
              "    .dataframe tbody tr th {\n",
              "        vertical-align: top;\n",
              "    }\n",
              "\n",
              "    .dataframe thead th {\n",
              "        text-align: right;\n",
              "    }\n",
              "</style>\n",
              "<table border=\"1\" class=\"dataframe\">\n",
              "  <thead>\n",
              "    <tr style=\"text-align: right;\">\n",
              "      <th></th>\n",
              "      <th>0</th>\n",
              "      <th>1</th>\n",
              "      <th>2</th>\n",
              "      <th>3</th>\n",
              "      <th>4</th>\n",
              "      <th>5</th>\n",
              "      <th>6</th>\n",
              "      <th>7</th>\n",
              "      <th>8</th>\n",
              "      <th>9</th>\n",
              "    </tr>\n",
              "  </thead>\n",
              "  <tbody>\n",
              "    <tr>\n",
              "      <th>0</th>\n",
              "      <td>2545.939941</td>\n",
              "      <td>2546.159912</td>\n",
              "      <td>2506.959961</td>\n",
              "      <td>2467.419922</td>\n",
              "      <td>2416.620117</td>\n",
              "      <td>2351.100098</td>\n",
              "      <td>2467.699951</td>\n",
              "      <td>2488.830078</td>\n",
              "      <td>2485.739990</td>\n",
              "      <td>2506.850098</td>\n",
              "    </tr>\n",
              "    <tr>\n",
              "      <th>1</th>\n",
              "      <td>2546.159912</td>\n",
              "      <td>2506.959961</td>\n",
              "      <td>2467.419922</td>\n",
              "      <td>2416.620117</td>\n",
              "      <td>2351.100098</td>\n",
              "      <td>2467.699951</td>\n",
              "      <td>2488.830078</td>\n",
              "      <td>2485.739990</td>\n",
              "      <td>2506.850098</td>\n",
              "      <td>2510.030029</td>\n",
              "    </tr>\n",
              "    <tr>\n",
              "      <th>2</th>\n",
              "      <td>2506.959961</td>\n",
              "      <td>2467.419922</td>\n",
              "      <td>2416.620117</td>\n",
              "      <td>2351.100098</td>\n",
              "      <td>2467.699951</td>\n",
              "      <td>2488.830078</td>\n",
              "      <td>2485.739990</td>\n",
              "      <td>2506.850098</td>\n",
              "      <td>2510.030029</td>\n",
              "      <td>2447.889893</td>\n",
              "    </tr>\n",
              "    <tr>\n",
              "      <th>3</th>\n",
              "      <td>2467.419922</td>\n",
              "      <td>2416.620117</td>\n",
              "      <td>2351.100098</td>\n",
              "      <td>2467.699951</td>\n",
              "      <td>2488.830078</td>\n",
              "      <td>2485.739990</td>\n",
              "      <td>2506.850098</td>\n",
              "      <td>2510.030029</td>\n",
              "      <td>2447.889893</td>\n",
              "      <td>2531.939941</td>\n",
              "    </tr>\n",
              "    <tr>\n",
              "      <th>4</th>\n",
              "      <td>2416.620117</td>\n",
              "      <td>2351.100098</td>\n",
              "      <td>2467.699951</td>\n",
              "      <td>2488.830078</td>\n",
              "      <td>2485.739990</td>\n",
              "      <td>2506.850098</td>\n",
              "      <td>2510.030029</td>\n",
              "      <td>2447.889893</td>\n",
              "      <td>2531.939941</td>\n",
              "      <td>2549.689941</td>\n",
              "    </tr>\n",
              "    <tr>\n",
              "      <th>...</th>\n",
              "      <td>...</td>\n",
              "      <td>...</td>\n",
              "      <td>...</td>\n",
              "      <td>...</td>\n",
              "      <td>...</td>\n",
              "      <td>...</td>\n",
              "      <td>...</td>\n",
              "      <td>...</td>\n",
              "      <td>...</td>\n",
              "      <td>...</td>\n",
              "    </tr>\n",
              "    <tr>\n",
              "      <th>497</th>\n",
              "      <td>3691.959961</td>\n",
              "      <td>3702.250000</td>\n",
              "      <td>3672.820068</td>\n",
              "      <td>3668.100098</td>\n",
              "      <td>3663.459961</td>\n",
              "      <td>3647.489990</td>\n",
              "      <td>3694.620117</td>\n",
              "      <td>3701.169922</td>\n",
              "      <td>3722.479980</td>\n",
              "      <td>3709.409912</td>\n",
              "    </tr>\n",
              "    <tr>\n",
              "      <th>498</th>\n",
              "      <td>3702.250000</td>\n",
              "      <td>3672.820068</td>\n",
              "      <td>3668.100098</td>\n",
              "      <td>3663.459961</td>\n",
              "      <td>3647.489990</td>\n",
              "      <td>3694.620117</td>\n",
              "      <td>3701.169922</td>\n",
              "      <td>3722.479980</td>\n",
              "      <td>3709.409912</td>\n",
              "      <td>3694.919922</td>\n",
              "    </tr>\n",
              "    <tr>\n",
              "      <th>499</th>\n",
              "      <td>3672.820068</td>\n",
              "      <td>3668.100098</td>\n",
              "      <td>3663.459961</td>\n",
              "      <td>3647.489990</td>\n",
              "      <td>3694.620117</td>\n",
              "      <td>3701.169922</td>\n",
              "      <td>3722.479980</td>\n",
              "      <td>3709.409912</td>\n",
              "      <td>3694.919922</td>\n",
              "      <td>3687.260010</td>\n",
              "    </tr>\n",
              "    <tr>\n",
              "      <th>500</th>\n",
              "      <td>3668.100098</td>\n",
              "      <td>3663.459961</td>\n",
              "      <td>3647.489990</td>\n",
              "      <td>3694.620117</td>\n",
              "      <td>3701.169922</td>\n",
              "      <td>3722.479980</td>\n",
              "      <td>3709.409912</td>\n",
              "      <td>3694.919922</td>\n",
              "      <td>3687.260010</td>\n",
              "      <td>3690.010010</td>\n",
              "    </tr>\n",
              "    <tr>\n",
              "      <th>501</th>\n",
              "      <td>3663.459961</td>\n",
              "      <td>3647.489990</td>\n",
              "      <td>3694.620117</td>\n",
              "      <td>3701.169922</td>\n",
              "      <td>3722.479980</td>\n",
              "      <td>3709.409912</td>\n",
              "      <td>3694.919922</td>\n",
              "      <td>3687.260010</td>\n",
              "      <td>3690.010010</td>\n",
              "      <td>3703.060059</td>\n",
              "    </tr>\n",
              "  </tbody>\n",
              "</table>\n",
              "<p>502 rows × 10 columns</p>\n",
              "</div>"
            ],
            "text/plain": [
              "               0            1  ...            8            9\n",
              "0    2545.939941  2546.159912  ...  2485.739990  2506.850098\n",
              "1    2546.159912  2506.959961  ...  2506.850098  2510.030029\n",
              "2    2506.959961  2467.419922  ...  2510.030029  2447.889893\n",
              "3    2467.419922  2416.620117  ...  2447.889893  2531.939941\n",
              "4    2416.620117  2351.100098  ...  2531.939941  2549.689941\n",
              "..           ...          ...  ...          ...          ...\n",
              "497  3691.959961  3702.250000  ...  3722.479980  3709.409912\n",
              "498  3702.250000  3672.820068  ...  3709.409912  3694.919922\n",
              "499  3672.820068  3668.100098  ...  3694.919922  3687.260010\n",
              "500  3668.100098  3663.459961  ...  3687.260010  3690.010010\n",
              "501  3663.459961  3647.489990  ...  3690.010010  3703.060059\n",
              "\n",
              "[502 rows x 10 columns]"
            ]
          },
          "metadata": {
            "tags": []
          },
          "execution_count": 30
        }
      ]
    },
    {
      "cell_type": "code",
      "metadata": {
        "id": "w7MN1GBUoFg6",
        "colab": {
          "base_uri": "https://localhost:8080/"
        },
        "outputId": "6f0ecb50-d340-4bfb-80d3-1b980fd11450"
      },
      "source": [
        "print(f\"{X_train.shape} samples in the training data\")\n",
        "print(f\"{y_train.shape} samples in the training label\")\n",
        "print(f\"{X_test.shape} samples in the test data\")"
      ],
      "execution_count": 31,
      "outputs": [
        {
          "output_type": "stream",
          "text": [
            "(7042, 10, 1) samples in the training data\n",
            "(7042, 3) samples in the training label\n",
            "(502, 10, 1) samples in the test data\n"
          ],
          "name": "stdout"
        }
      ]
    },
    {
      "cell_type": "markdown",
      "metadata": {
        "id": "edzWqzNuoFg6"
      },
      "source": [
        "## [Learning objective 5] Run a simple RNN model"
      ]
    },
    {
      "cell_type": "code",
      "metadata": {
        "id": "hYGr0luxoFg6",
        "colab": {
          "base_uri": "https://localhost:8080/"
        },
        "outputId": "f8b72753-c90a-444e-ba85-04576169bbb6"
      },
      "source": [
        "def simple_rnn_model(X_train, y_train, X_test, for_periods= 3):\n",
        "    '''\n",
        "    create single layer rnn model trained on X_train and y_train\n",
        "    and make predictions on the X_test data\n",
        "    '''\n",
        "    # create a model\n",
        "    from keras.models import Sequential\n",
        "    from keras.layers import Dense, SimpleRNN\n",
        "    \n",
        "    my_rnn_model = Sequential()\n",
        "    my_rnn_model.add(SimpleRNN(32, return_sequences=True))\n",
        "    #my_rnn_model.add(SimpleRNN(32, return_sequences=True))\n",
        "    #my_rnn_model.add(SimpleRNN(32, return_sequences=True))\n",
        "    my_rnn_model.add(SimpleRNN(32))\n",
        "    my_rnn_model.add(Dense(for_periods)) # The time step of the output\n",
        "\n",
        "    my_rnn_model.compile(optimizer='rmsprop', \n",
        "               loss='mean_squared_error')\n",
        "\n",
        "    # fit the RNN model\n",
        "    my_rnn_model.fit(X_train, y_train, \n",
        "            epochs=10, \n",
        "            batch_size=150, \n",
        "            verbose=0)\n",
        "\n",
        "    # Finalizing predictions\n",
        "    rnn_predictions= my_rnn_model.predict(X_test)\n",
        "\n",
        "    return my_rnn_model, rnn_predictions\n",
        "\n",
        "(my_rnn_model, \n",
        "rnn_predictions)= simple_rnn_model(X_train, y_train, X_test)\n",
        "\n",
        "my_rnn_model, rnn_predictions"
      ],
      "execution_count": 32,
      "outputs": [
        {
          "output_type": "execute_result",
          "data": {
            "text/plain": [
              "(<keras.engine.sequential.Sequential at 0x7fbec891c310>,\n",
              " array([[20.32158 , 18.612843, 16.775862],\n",
              "        [20.32158 , 18.612843, 16.775862],\n",
              "        [20.32158 , 18.612843, 16.775862],\n",
              "        ...,\n",
              "        [20.32158 , 18.612843, 16.775862],\n",
              "        [20.32158 , 18.612843, 16.775862],\n",
              "        [20.32158 , 18.612843, 16.775862]], dtype=float32))"
            ]
          },
          "metadata": {
            "tags": []
          },
          "execution_count": 32
        }
      ]
    },
    {
      "cell_type": "code",
      "metadata": {
        "id": "WaJBssCcTPnS"
      },
      "source": [
        ""
      ],
      "execution_count": 32,
      "outputs": []
    },
    {
      "cell_type": "code",
      "metadata": {
        "id": "ESXqYAVRoFg6",
        "colab": {
          "base_uri": "https://localhost:8080/",
          "height": 529
        },
        "outputId": "835eab0f-6c6b-474d-f37a-8099dba64273"
      },
      "source": [
        "def actual_pred_plot(preds):\n",
        "    actual_pred= pd.DataFrame()#columns= ['Adj. Close', 'prediction'])\n",
        "    actual_pred['real']= ts_data[-len(preds):] #all_data.loc['2019':,'Adj Close'][0:len(preds)]\n",
        "    actual_pred['pred']= preds[:,0]\n",
        "\n",
        "    from keras.metrics import MeanSquaredError\n",
        "    m = MeanSquaredError()\n",
        "    m.update_state(np.array(actual_pred['real']),\n",
        "            np.array(actual_pred['pred']))\n",
        "    actual_pred.plot(grid=True, logy=True)\n",
        "    return (m.result().numpy(), actual_pred)\n",
        "    \n",
        "actual_pred_plot(rnn_predictions)  "
      ],
      "execution_count": 33,
      "outputs": [
        {
          "output_type": "execute_result",
          "data": {
            "text/plain": [
              "(9380198.0,                    real       pred\n",
              " Date                              \n",
              " 2019-01-07  2549.689941  20.321581\n",
              " 2019-01-08  2574.409912  20.321581\n",
              " 2019-01-09  2584.959961  20.321581\n",
              " 2019-01-10  2596.639893  20.321581\n",
              " 2019-01-11  2596.260010  20.321581\n",
              " ...                 ...        ...\n",
              " 2020-12-24  3703.060059  20.321581\n",
              " 2020-12-28  3735.360107  20.321581\n",
              " 2020-12-29  3727.040039  20.321581\n",
              " 2020-12-30  3732.040039  20.321581\n",
              " 2020-12-31  3756.070068  20.321581\n",
              " \n",
              " [502 rows x 2 columns])"
            ]
          },
          "metadata": {
            "tags": []
          },
          "execution_count": 33
        },
        {
          "output_type": "display_data",
          "data": {
            "image/png": "[encoded data removed]",
            "text/plain": [
              "<Figure size 432x288 with 1 Axes>"
            ]
          },
          "metadata": {
            "tags": [],
            "needs_background": "light"
          }
        }
      ]
    },
    {
      "cell_type": "markdown",
      "metadata": {
        "id": "iYLB-sF0oFg7"
      },
      "source": [
        "## [Learning objective 6] RNN/LTSM requires normalized input data"
      ]
    },
    {
      "cell_type": "code",
      "metadata": {
        "id": "e1Y0eTfWoFg7"
      },
      "source": [
        "def ts_train_test_normalize( #all_data, \n",
        "               time_steps=10, \n",
        "               for_periods=3):\n",
        "    '''\n",
        "    input: \n",
        "      data: dataframe with dates and price data\n",
        "      time_steps: 向後回朔日期\n",
        "      for_periods: 向前預測日期\n",
        "    output:\n",
        "      X_train, y_train: data from 2013/1/1-2018/12/31\n",
        "      X_test:  data from 2019 -\n",
        "      sc:      insantiated MinMaxScaler object fit to the training data\n",
        "    '''\n",
        "    # create training and test set\n",
        "    #ts_train =  all_data[:'2018'].iloc[:,0:1].values #tr_data.values #\n",
        "    #ts_test  =  all_data['2019':].iloc[:,0:1].values #ts_data.values #\n",
        "    \n",
        "    ts_train= tr_data.values.reshape(-1,1)\n",
        "    ts_test=  ts_data.values.reshape(-1,1)\n",
        "\n",
        "    ts_train_len = len(ts_train)\n",
        "    ts_test_len = len(ts_test)\n",
        "\n",
        "    # scale the data\n",
        "    from sklearn.preprocessing import MinMaxScaler\n",
        "    sc= MinMaxScaler(feature_range=(0,1))\n",
        "\n",
        "    ts_train_scaled= sc.fit_transform(ts_train)\n",
        "\n",
        "    # create training data of s samples and t time steps\n",
        "    X_train= []\n",
        "    y_train= []\n",
        "    y_train_stacked= []\n",
        "    for i in range(time_steps,ts_train_len-for_periods+1): \n",
        "        X_train.append(ts_train_scaled[i-time_steps:i,0])\n",
        "        y_train.append(ts_train_scaled[i:i+for_periods,0])\n",
        "    X_train, y_train = np.array(X_train), np.array(y_train)\n",
        "\n",
        "    # Reshaping X_train for efficient modelling\n",
        "    X_train = np.reshape(X_train, (X_train.shape[0],X_train.shape[1],1))\n",
        "\n",
        "    #inputs = pd.concat((all_data[\"Adj Close\"][:'2018'], #ts_train, #\n",
        "    #           all_data[\"Adj Close\"]['2019':] #ts_test  #\n",
        "    #           ),axis=0).values\n",
        "    \n",
        "    inputs= pd.concat((tr_data, \n",
        "              ts_data),\n",
        "            axis=0).values\n",
        "\n",
        "    inputs = inputs[len(inputs)-len(ts_test) - time_steps:]\n",
        "    inputs = inputs.reshape(-1,1)\n",
        "    inputs  = sc.transform(inputs)\n",
        "\n",
        "    # Preparing X_test\n",
        "    X_test = []\n",
        "    for i in range(time_steps,ts_test_len+time_steps-for_periods):\n",
        "        X_test.append(inputs[i-time_steps:i,0])\n",
        "        \n",
        "    X_test = np.array(X_test)\n",
        "    X_test = np.reshape(X_test, (X_test.shape[0],X_test.shape[1],1))\n",
        "\n",
        "    return X_train, y_train , X_test, sc\n",
        "\n",
        "X_train, y_train, X_test, sc= ts_train_test_normalize() #all_data)\n",
        "X_train, y_train, X_test, sc"
      ],
      "execution_count": null,
      "outputs": []
    },
    {
      "cell_type": "code",
      "metadata": {
        "id": "2qornJWoataB",
        "colab": {
          "base_uri": "https://localhost:8080/",
          "height": 648
        },
        "outputId": "360bb29c-258a-4e68-d165-e4bdf0ee85c4"
      },
      "source": [
        "\n",
        "def simple_rnn_model(X_train, y_train, X_test, sc, for_periods= 3):\n",
        "    '''\n",
        "    create single layer rnn model trained on X_train and y_train\n",
        "    and make predictions on the X_test data\n",
        "    '''\n",
        "    # create a model\n",
        "    from keras.models import Sequential\n",
        "    from keras.layers import Dense, SimpleRNN\n",
        "    \n",
        "    my_rnn_model = Sequential()\n",
        "    my_rnn_model.add(SimpleRNN(32, return_sequences=True))\n",
        "    #my_rnn_model.add(SimpleRNN(32, return_sequences=True))\n",
        "    #my_rnn_model.add(SimpleRNN(32, return_sequences=True))\n",
        "    my_rnn_model.add(SimpleRNN(32))\n",
        "    my_rnn_model.add(Dense(for_periods)) # The time step of the output\n",
        "\n",
        "    my_rnn_model.compile(optimizer='rmsprop', \n",
        "              loss='mean_squared_error')\n",
        "\n",
        "    # fit the RNN model\n",
        "    my_rnn_model.fit(X_train, y_train, epochs=100, batch_size=150, verbose=0)\n",
        "\n",
        "    # Finalizing predictions\n",
        "    rnn_predictions= my_rnn_model.predict(X_test)\n",
        "    from sklearn.preprocessing import MinMaxScaler\n",
        "    rnn_predictions= sc.inverse_transform(rnn_predictions)\n",
        "\n",
        "    return my_rnn_model, rnn_predictions\n",
        "\n",
        "\n",
        "my_rnn_model, rnn_predictions_2= simple_rnn_model(X_train, y_train, X_test, sc)\n",
        "rnn_predictions_2, actual_pred_plot(rnn_predictions_2)\n",
        "\n"
      ],
      "execution_count": 35,
      "outputs": [
        {
          "output_type": "execute_result",
          "data": {
            "text/plain": [
              "(array([[2546.2295, 2547.075 , 2543.017 ],\n",
              "        [2544.889 , 2560.2336, 2540.4143],\n",
              "        [2480.1577, 2479.5835, 2464.8936],\n",
              "        ...,\n",
              "        [3602.4324, 3578.7224, 3539.4438],\n",
              "        [3600.912 , 3579.232 , 3544.6333],\n",
              "        [3613.304 , 3586.431 , 3554.6575]], dtype=float32),\n",
              " (8063.935,                    real         pred\n",
              "  Date                                \n",
              "  2019-01-07  2549.689941  2546.229492\n",
              "  2019-01-08  2574.409912  2544.888916\n",
              "  2019-01-09  2584.959961  2480.157715\n",
              "  2019-01-10  2596.639893  2559.948486\n",
              "  2019-01-11  2596.260010  2563.025391\n",
              "  ...                 ...          ...\n",
              "  2020-12-24  3703.060059  3619.348877\n",
              "  2020-12-28  3735.360107  3606.228271\n",
              "  2020-12-29  3727.040039  3602.432373\n",
              "  2020-12-30  3732.040039  3600.912109\n",
              "  2020-12-31  3756.070068  3613.303955\n",
              "  \n",
              "  [502 rows x 2 columns]))"
            ]
          },
          "metadata": {
            "tags": []
          },
          "execution_count": 35
        },
        {
          "output_type": "display_data",
          "data": {
            "image/png": "[encoded data removed]",
            "text/plain": [
              "<Figure size 432x288 with 1 Axes>"
            ]
          },
          "metadata": {
            "tags": [],
            "needs_background": "light"
          }
        }
      ]
    },
    {
      "cell_type": "code",
      "metadata": {
        "id": "_h5TlsbYJ8Io",
        "colab": {
          "base_uri": "https://localhost:8080/"
        },
        "outputId": "76667e92-3b13-4f91-d3f0-5d66cc47db61"
      },
      "source": [
        "x= X_test\n",
        "y= my_rnn_model(x) #.predict(x)\n",
        "\n",
        "y= sc.inverse_transform(y)\n",
        "x, y\n",
        "\n",
        "# ry: 這裡所用的 X_test 其實有點怪怪的。\n",
        "# 就 RNN 而言，input 應是最初的 1個 window，\n",
        "# 稱為初始 window，(eg. 10個資料點)\n",
        "# 然後產生的 output (eg. 3個資料點)接到初始 window 的後面，\n",
        "# 砍掉初始window的前面(3個資料點)，形成新的 input\n",
        "# 如此一直重複至無窮遠的未來....\n",
        "#\n",
        "#\n",
        "# x= X_test[0:1] # 僅拿1個window\n",
        "# #以 x 為種子，運用 rnn_model() 不斷滾出整條output yL[]\n",
        "# yL= [x]\n",
        "# while True:\n",
        "#   y= my_rnn_model(x)\n",
        "#   x[0:7]=x[3:]\n",
        "#   x[7:]=y\n",
        "#   yL +=[y]\n",
        "#\n",
        "# 以上想法尚未 implement...\n",
        "# 可以想見的是預測誤差會逐步累積，越遠的將來誤差越大....\n",
        "# 好處是，只要提供初始種子就可長成1棵大樹\n",
        "# 雖然大樹可能越長越歪!!\n",
        "#"
      ],
      "execution_count": 36,
      "outputs": [
        {
          "output_type": "execute_result",
          "data": {
            "text/plain": [
              "(array([[[0.85308444],\n",
              "         [0.85316842],\n",
              "         [0.83820238],\n",
              "         ...,\n",
              "         [0.83128062],\n",
              "         [0.83010087],\n",
              "         [0.83816043]],\n",
              " \n",
              "        [[0.85316842],\n",
              "         [0.83820238],\n",
              "         [0.8231065 ],\n",
              "         ...,\n",
              "         [0.83010087],\n",
              "         [0.83816043],\n",
              "         [0.83937449]],\n",
              " \n",
              "        [[0.83820238],\n",
              "         [0.8231065 ],\n",
              "         [0.80371178],\n",
              "         ...,\n",
              "         [0.83816043],\n",
              "         [0.83937449],\n",
              "         [0.81565018]],\n",
              " \n",
              "        ...,\n",
              " \n",
              "        [[1.28331287],\n",
              "         [1.28151084],\n",
              "         [1.2797393 ],\n",
              "         ...,\n",
              "         [1.2972824 ],\n",
              "         [1.29175031],\n",
              "         [1.28882585]],\n",
              " \n",
              "        [[1.28151084],\n",
              "         [1.2797393 ],\n",
              "         [1.27364217],\n",
              "         ...,\n",
              "         [1.29175031],\n",
              "         [1.28882585],\n",
              "         [1.28987577]],\n",
              " \n",
              "        [[1.2797393 ],\n",
              "         [1.27364217],\n",
              "         [1.29163585],\n",
              "         ...,\n",
              "         [1.28882585],\n",
              "         [1.28987577],\n",
              "         [1.29485811]]]), array([[2546.22940857, 2547.07495483, 2543.01708217],\n",
              "        [2544.88896171, 2560.23369041, 2540.4144046 ],\n",
              "        [2480.15783694, 2479.58362735, 2464.89366619],\n",
              "        ...,\n",
              "        [3602.43221399, 3578.7222601 , 3539.44370135],\n",
              "        [3600.91191682, 3579.23183599, 3544.63313223],\n",
              "        [3613.30379066, 3586.43084431, 3554.6572892 ]]))"
            ]
          },
          "metadata": {
            "tags": []
          },
          "execution_count": 36
        }
      ]
    },
    {
      "cell_type": "code",
      "metadata": {
        "id": "7ecgLVgSYonr",
        "colab": {
          "base_uri": "https://localhost:8080/"
        },
        "outputId": "6a29218f-84a3-46cc-b243-3f9312e9a790"
      },
      "source": [
        "my_rnn_model(x)\n"
      ],
      "execution_count": 37,
      "outputs": [
        {
          "output_type": "execute_result",
          "data": {
            "text/plain": [
              "<tf.Tensor: shape=(502, 3), dtype=float32, numpy=\n",
              "array([[0.85319495, 0.8535178 , 0.8519685 ],\n",
              "       [0.8526832 , 0.8585416 , 0.85097486],\n",
              "       [0.8279697 , 0.82775044, 0.822142  ],\n",
              "       ...,\n",
              "       [1.2564397 , 1.2473875 , 1.2323915 ],\n",
              "       [1.2558593 , 1.2475821 , 1.2343727 ],\n",
              "       [1.2605903 , 1.2503306 , 1.2381998 ]], dtype=float32)>"
            ]
          },
          "metadata": {
            "tags": []
          },
          "execution_count": 37
        }
      ]
    },
    {
      "cell_type": "markdown",
      "metadata": {
        "id": "DlPJ6mMboFg7"
      },
      "source": [
        "## [Learning objective 7] LSTM"
      ]
    },
    {
      "cell_type": "code",
      "metadata": {
        "id": "BEb-WzoboFg8",
        "colab": {
          "base_uri": "https://localhost:8080/",
          "height": 584
        },
        "outputId": "032bae09-e73f-4605-d3d4-7a332e16df37"
      },
      "source": [
        "def LSTM_model(X_train, y_train, X_test, sc, for_periods= 3):\n",
        "    # create a model\n",
        "    from keras.models import Sequential\n",
        "    from keras.layers import Dense, SimpleRNN, GRU, LSTM\n",
        "    from keras.optimizers import SGD\n",
        "    \n",
        "    # The LSTM architecture\n",
        "    my_LSTM_model = Sequential()\n",
        "    my_LSTM_model.add(LSTM(units=50, return_sequences=True, input_shape=(X_train.shape[1],1), activation='tanh'))\n",
        "    #my_LSTM_model.add(LSTM(units=50, return_sequences=True, input_shape=(X_train.shape[1],1), activation='tanh'))\n",
        "    #my_LSTM_model.add(LSTM(units=50, return_sequences=True, input_shape=(X_train.shape[1],1), activation='tanh'))\n",
        "    my_LSTM_model.add(LSTM(units=50, activation='tanh'))\n",
        "    my_LSTM_model.add(Dense(units= for_periods))\n",
        "\n",
        "    # Compiling\n",
        "    my_LSTM_model.compile(optimizer=SGD(lr=0.01, decay=1e-7, momentum=0.9, nesterov=False),loss='mean_squared_error')\n",
        "    # Fitting to the training set\n",
        "    my_LSTM_model.fit(X_train,y_train,epochs=50,batch_size=150, verbose=0)\n",
        "\n",
        "    LSTM_prediction = my_LSTM_model.predict(X_test)\n",
        "    LSTM_prediction = sc.inverse_transform(LSTM_prediction)\n",
        "\n",
        "    return my_LSTM_model, LSTM_prediction\n",
        "\n",
        "my_LSTM_model, LSTM_prediction = LSTM_model(X_train, y_train, X_test, sc)\n",
        "LSTM_prediction[1:10]\n",
        "actual_pred_plot(LSTM_prediction)   "
      ],
      "execution_count": 39,
      "outputs": [
        {
          "output_type": "stream",
          "text": [
            "/usr/local/lib/python3.7/dist-packages/tensorflow/python/keras/optimizer_v2/optimizer_v2.py:375: UserWarning: The `lr` argument is deprecated, use `learning_rate` instead.\n",
            "  \"The `lr` argument is deprecated, use `learning_rate` instead.\")\n"
          ],
          "name": "stderr"
        },
        {
          "output_type": "execute_result",
          "data": {
            "text/plain": [
              "(34788.473,                    real         pred\n",
              " Date                                \n",
              " 2019-01-07  2549.689941  2463.150635\n",
              " 2019-01-08  2574.409912  2460.140625\n",
              " 2019-01-09  2584.959961  2455.550049\n",
              " 2019-01-10  2596.639893  2457.074463\n",
              " 2019-01-11  2596.260010  2464.147705\n",
              " ...                 ...          ...\n",
              " 2020-12-24  3703.060059  3378.623047\n",
              " 2020-12-28  3735.360107  3379.679199\n",
              " 2020-12-29  3727.040039  3379.720459\n",
              " 2020-12-30  3732.040039  3381.117432\n",
              " 2020-12-31  3756.070068  3383.004150\n",
              " \n",
              " [502 rows x 2 columns])"
            ]
          },
          "metadata": {
            "tags": []
          },
          "execution_count": 39
        },
        {
          "output_type": "display_data",
          "data": {
            "image/png": "[encoded data removed]",
            "text/plain": [
              "<Figure size 432x288 with 1 Axes>"
            ]
          },
          "metadata": {
            "tags": [],
            "needs_background": "light"
          }
        }
      ]
    },
    {
      "cell_type": "markdown",
      "metadata": {
        "id": "ReZTpbffoFg8"
      },
      "source": [
        "## [Learning objective 8] LSTM Regularization"
      ]
    },
    {
      "cell_type": "code",
      "metadata": {
        "id": "l6j5QfeXoFg8",
        "colab": {
          "base_uri": "https://localhost:8080/",
          "height": 702
        },
        "outputId": "03c7c149-9452-47dc-9afa-681dcf7002f0"
      },
      "source": [
        "def LSTM_model_regularization(X_train, y_train, X_test, sc, for_periods= 3):\n",
        "    # create a model\n",
        "    from keras.models import Sequential\n",
        "    from keras.layers import Dense, SimpleRNN, GRU, LSTM\n",
        "    from keras.optimizers import SGD\n",
        "    \n",
        "    # The LSTM architecture\n",
        "    my_LSTM_model = Sequential()\n",
        "    my_LSTM_model.add(LSTM(units=50, return_sequences=True, input_shape=(X_train.shape[1],1), activation='tanh'))\n",
        "    #my_LSTM_model.add(LSTM(units=50, return_sequences=True, input_shape=(X_train.shape[1],1), activation='tanh'))\n",
        "    #my_LSTM_model.add(LSTM(units=50, return_sequences=True, input_shape=(X_train.shape[1],1), activation='tanh'))\n",
        "    my_LSTM_model.add(LSTM(units=50, activation='tanh'))\n",
        "    my_LSTM_model.add(Dense(units= for_periods))\n",
        "\n",
        "    # Compiling\n",
        "    my_LSTM_model.compile(optimizer=SGD(lr=0.01, \n",
        "                      decay=1e-7, \n",
        "                      momentum=0.9, \n",
        "                      nesterov=False),\n",
        "               loss='mean_squared_error')\n",
        "    # Fitting to the training set\n",
        "    my_LSTM_model.fit(X_train,y_train,epochs=50,batch_size=150, verbose=0)\n",
        "\n",
        "    LSTM_prediction = my_LSTM_model.predict(X_test)\n",
        "    LSTM_prediction = sc.inverse_transform(LSTM_prediction)\n",
        "\n",
        "    return my_LSTM_model, LSTM_prediction\n",
        "\n",
        "my_LSTM_model, LSTM_prediction= LSTM_model_regularization(X_train, y_train, X_test, sc)\n",
        "LSTM_prediction, actual_pred_plot(LSTM_prediction)  "
      ],
      "execution_count": 40,
      "outputs": [
        {
          "output_type": "stream",
          "text": [
            "/usr/local/lib/python3.7/dist-packages/tensorflow/python/keras/optimizer_v2/optimizer_v2.py:375: UserWarning: The `lr` argument is deprecated, use `learning_rate` instead.\n",
            "  \"The `lr` argument is deprecated, use `learning_rate` instead.\")\n"
          ],
          "name": "stderr"
        },
        {
          "output_type": "execute_result",
          "data": {
            "text/plain": [
              "(array([[2470.007 , 2466.9526, 2460.064 ],\n",
              "        [2466.558 , 2462.2764, 2455.2488],\n",
              "        [2461.996 , 2456.5513, 2449.533 ],\n",
              "        ...,\n",
              "        [3365.3572, 3343.6196, 3316.5444],\n",
              "        [3366.867 , 3345.0896, 3318.0283],\n",
              "        [3368.784 , 3347.0642, 3319.9626]], dtype=float32),\n",
              " (35477.723,                    real         pred\n",
              "  Date                                \n",
              "  2019-01-07  2549.689941  2470.007080\n",
              "  2019-01-08  2574.409912  2466.558105\n",
              "  2019-01-09  2584.959961  2461.996094\n",
              "  2019-01-10  2596.639893  2463.457031\n",
              "  2019-01-11  2596.260010  2470.385254\n",
              "  ...                 ...          ...\n",
              "  2020-12-24  3703.060059  3364.319824\n",
              "  2020-12-28  3735.360107  3365.261963\n",
              "  2020-12-29  3727.040039  3365.357178\n",
              "  2020-12-30  3732.040039  3366.866943\n",
              "  2020-12-31  3756.070068  3368.783936\n",
              "  \n",
              "  [502 rows x 2 columns]))"
            ]
          },
          "metadata": {
            "tags": []
          },
          "execution_count": 40
        },
        {
          "output_type": "display_data",
          "data": {
            "image/png": "[encoded data removed]",
            "text/plain": [
              "<Figure size 432x288 with 1 Axes>"
            ]
          },
          "metadata": {
            "tags": [],
            "needs_background": "light"
          }
        }
      ]
    },
    {
      "cell_type": "markdown",
      "metadata": {
        "id": "5GgrhVo4oFg8"
      },
      "source": [
        "## [Learning objective 9] GRU"
      ]
    },
    {
      "cell_type": "code",
      "metadata": {
        "id": "_LocI-ZUoFg8",
        "colab": {
          "base_uri": "https://localhost:8080/",
          "height": 702
        },
        "outputId": "fb0f6791-8cbc-409d-ded7-e181e4b9a31c"
      },
      "source": [
        "def GRU_model(X_train, y_train, X_test, sc, for_periods= 3):\n",
        "    # create a model\n",
        "    from keras.models import Sequential\n",
        "    from keras.layers import Dense, SimpleRNN, GRU\n",
        "    from keras.optimizers import SGD\n",
        "    \n",
        "    # The GRU architecture\n",
        "    my_GRU_model = Sequential()\n",
        "    # First GRU layer with Dropout regularisation\n",
        "    my_GRU_model.add(GRU(units=50, return_sequences=True, input_shape=(X_train.shape[1],1), activation='tanh'))\n",
        "    #my_GRU_model.add(GRU(units=50, return_sequences=True, input_shape=(X_train.shape[1],1), activation='tanh'))\n",
        "    #my_GRU_model.add(GRU(units=50, return_sequences=True, input_shape=(X_train.shape[1],1), activation='tanh'))\n",
        "    my_GRU_model.add(GRU(units=50, activation='tanh'))\n",
        "    my_GRU_model.add(Dense(units= for_periods))\n",
        "\n",
        "    # Compiling the RNN\n",
        "    my_GRU_model.compile(optimizer=SGD(lr=0.01, decay=1e-7, momentum=0.9, nesterov=False),loss='mean_squared_error')\n",
        "    # Fitting to the training set\n",
        "    my_GRU_model.fit(X_train,y_train,epochs=50,batch_size=150, verbose=0)\n",
        "\n",
        "    GRU_prediction = my_GRU_model.predict(X_test)\n",
        "    GRU_prediction = sc.inverse_transform(GRU_prediction)\n",
        "\n",
        "    return my_GRU_model, GRU_prediction\n",
        "\n",
        "my_GRU_model, GRU_prediction = GRU_model(X_train, y_train, X_test, sc)\n",
        "GRU_prediction, actual_pred_plot(GRU_prediction)  "
      ],
      "execution_count": 41,
      "outputs": [
        {
          "output_type": "stream",
          "text": [
            "/usr/local/lib/python3.7/dist-packages/tensorflow/python/keras/optimizer_v2/optimizer_v2.py:375: UserWarning: The `lr` argument is deprecated, use `learning_rate` instead.\n",
            "  \"The `lr` argument is deprecated, use `learning_rate` instead.\")\n"
          ],
          "name": "stderr"
        },
        {
          "output_type": "execute_result",
          "data": {
            "text/plain": [
              "(array([[2459.4568, 2454.1282, 2459.0242],\n",
              "        [2469.657 , 2463.7505, 2468.7922],\n",
              "        [2468.5781, 2461.1946, 2465.6858],\n",
              "        ...,\n",
              "        [3567.466 , 3501.7825, 3540.982 ],\n",
              "        [3566.3074, 3500.5188, 3539.7732],\n",
              "        [3566.951 , 3501.3333, 3540.8005]], dtype=float32),\n",
              " (14334.352,                    real         pred\n",
              "  Date                                \n",
              "  2019-01-07  2549.689941  2459.456787\n",
              "  2019-01-08  2574.409912  2469.656982\n",
              "  2019-01-09  2584.959961  2468.578125\n",
              "  2019-01-10  2596.639893  2476.502930\n",
              "  2019-01-11  2596.260010  2489.765625\n",
              "  ...                 ...          ...\n",
              "  2020-12-24  3703.060059  3565.677734\n",
              "  2020-12-28  3735.360107  3568.118408\n",
              "  2020-12-29  3727.040039  3567.466064\n",
              "  2020-12-30  3732.040039  3566.307373\n",
              "  2020-12-31  3756.070068  3566.950928\n",
              "  \n",
              "  [502 rows x 2 columns]))"
            ]
          },
          "metadata": {
            "tags": []
          },
          "execution_count": 41
        },
        {
          "output_type": "display_data",
          "data": {
            "image/png": "[encoded data removed]",
            "text/plain": [
              "<Figure size 432x288 with 1 Axes>"
            ]
          },
          "metadata": {
            "tags": [],
            "needs_background": "light"
          }
        }
      ]
    },
    {
      "cell_type": "markdown",
      "metadata": {
        "id": "7pzuQ4EloFg9"
      },
      "source": [
        "## [Learning objective 10] GRU Regularization"
      ]
    },
    {
      "cell_type": "code",
      "metadata": {
        "id": "wjp2zqO-oFg9",
        "colab": {
          "base_uri": "https://localhost:8080/",
          "height": 584
        },
        "outputId": "5ca42510-f5c8-4ea5-9aff-09aacf3eb543"
      },
      "source": [
        "def GRU_model_regularization(X_train, y_train, X_test, sc, for_periods= 3):\n",
        "    '''\n",
        "    create GRU model trained on X_train and y_train\n",
        "    and make predictions on the X_test data\n",
        "    '''\n",
        "    # create a model\n",
        "    from keras.models import Sequential\n",
        "    from keras.layers import Dense, SimpleRNN, GRU\n",
        "    from keras.optimizers import SGD\n",
        "    from keras.layers import Dropout\n",
        "    \n",
        "    # The GRU architecture\n",
        "    my_GRU_model = Sequential()\n",
        "    # First GRU layer with Dropout regularisation\n",
        "    my_GRU_model.add(GRU(units=50, return_sequences=True, input_shape=(X_train.shape[1],1), activation='tanh'))\n",
        "    my_GRU_model.add(Dropout(0.2))\n",
        "    # Second GRU layer\n",
        "    my_GRU_model.add(GRU(units=50, return_sequences=True, activation='tanh'))\n",
        "    my_GRU_model.add(Dropout(0.2))\n",
        "    \n",
        "    # Third GRU layer\n",
        "    my_GRU_model.add(GRU(units=50, return_sequences=True, activation='tanh'))\n",
        "    my_GRU_model.add(Dropout(0.2))\n",
        "    # Fourth GRU layer\n",
        "    my_GRU_model.add(GRU(units=50, activation='tanh'))\n",
        "    my_GRU_model.add(Dropout(0.2))\n",
        "    # The output layer\n",
        "    my_GRU_model.add(Dense(units= for_periods))\n",
        "    # Compiling the RNN\n",
        "    my_GRU_model.compile(optimizer=SGD(lr=0.01, decay=1e-7, momentum=0.9, nesterov=False),loss='mean_squared_error')\n",
        "    # Fitting to the training set\n",
        "    my_GRU_model.fit(X_train,y_train,epochs=50,batch_size=150, verbose=0)\n",
        "\n",
        "    GRU_predictions = my_GRU_model.predict(X_test)\n",
        "    GRU_predictions = sc.inverse_transform(GRU_predictions)\n",
        "\n",
        "    return my_GRU_model, GRU_predictions\n",
        "\n",
        "my_GRU_model, GRU_predictions = GRU_model_regularization(X_train, y_train, X_test, sc)\n",
        "GRU_predictions\n",
        "actual_pred_plot(GRU_prediction)  "
      ],
      "execution_count": 42,
      "outputs": [
        {
          "output_type": "stream",
          "text": [
            "/usr/local/lib/python3.7/dist-packages/tensorflow/python/keras/optimizer_v2/optimizer_v2.py:375: UserWarning: The `lr` argument is deprecated, use `learning_rate` instead.\n",
            "  \"The `lr` argument is deprecated, use `learning_rate` instead.\")\n"
          ],
          "name": "stderr"
        },
        {
          "output_type": "execute_result",
          "data": {
            "text/plain": [
              "(14334.352,                    real         pred\n",
              " Date                                \n",
              " 2019-01-07  2549.689941  2459.456787\n",
              " 2019-01-08  2574.409912  2469.656982\n",
              " 2019-01-09  2584.959961  2468.578125\n",
              " 2019-01-10  2596.639893  2476.502930\n",
              " 2019-01-11  2596.260010  2489.765625\n",
              " ...                 ...          ...\n",
              " 2020-12-24  3703.060059  3565.677734\n",
              " 2020-12-28  3735.360107  3568.118408\n",
              " 2020-12-29  3727.040039  3567.466064\n",
              " 2020-12-30  3732.040039  3566.307373\n",
              " 2020-12-31  3756.070068  3566.950928\n",
              " \n",
              " [502 rows x 2 columns])"
            ]
          },
          "metadata": {
            "tags": []
          },
          "execution_count": 42
        },
        {
          "output_type": "display_data",
          "data": {
            "image/png": "[encoded data removed]",
            "text/plain": [
              "<Figure size 432x288 with 1 Axes>"
            ]
          },
          "metadata": {
            "tags": [],
            "needs_background": "light"
          }
        }
      ]
    },
    {
      "cell_type": "code",
      "metadata": {
        "id": "r3EeA5VloFg9"
      },
      "source": [
        ""
      ],
      "execution_count": null,
      "outputs": []
    },
    {
      "cell_type": "code",
      "metadata": {
        "id": "bElUzPNQoFg9",
        "colab": {
          "base_uri": "https://localhost:8080/",
          "height": 447
        },
        "outputId": "c321dc81-b517-4f36-c244-e2a38ae0c189"
      },
      "source": [
        "preds= rnn_predictions_2\n",
        "\n",
        "x= pd.DataFrame()#columns= ['Adj. Close', 'prediction'])\n",
        "x['real']= ts_data[-len(preds):] #all_data.loc['2019':,'Adj Close'][0:len(preds)]\n",
        "x['rnn']= preds[:,0]\n",
        "\n",
        "x['lstm']= LSTM_prediction[:,0]\n",
        "x['gru']= GRU_prediction[:,0]\n",
        "\n",
        "x"
      ],
      "execution_count": 43,
      "outputs": [
        {
          "output_type": "execute_result",
          "data": {
            "text/html": [
              "<div>\n",
              "<style scoped>\n",
              "    .dataframe tbody tr th:only-of-type {\n",
              "        vertical-align: middle;\n",
              "    }\n",
              "\n",
              "    .dataframe tbody tr th {\n",
              "        vertical-align: top;\n",
              "    }\n",
              "\n",
              "    .dataframe thead th {\n",
              "        text-align: right;\n",
              "    }\n",
              "</style>\n",
              "<table border=\"1\" class=\"dataframe\">\n",
              "  <thead>\n",
              "    <tr style=\"text-align: right;\">\n",
              "      <th></th>\n",
              "      <th>real</th>\n",
              "      <th>rnn</th>\n",
              "      <th>lstm</th>\n",
              "      <th>gru</th>\n",
              "    </tr>\n",
              "    <tr>\n",
              "      <th>Date</th>\n",
              "      <th></th>\n",
              "      <th></th>\n",
              "      <th></th>\n",
              "      <th></th>\n",
              "    </tr>\n",
              "  </thead>\n",
              "  <tbody>\n",
              "    <tr>\n",
              "      <th>2019-01-07</th>\n",
              "      <td>2549.689941</td>\n",
              "      <td>2546.229492</td>\n",
              "      <td>2470.007080</td>\n",
              "      <td>2459.456787</td>\n",
              "    </tr>\n",
              "    <tr>\n",
              "      <th>2019-01-08</th>\n",
              "      <td>2574.409912</td>\n",
              "      <td>2544.888916</td>\n",
              "      <td>2466.558105</td>\n",
              "      <td>2469.656982</td>\n",
              "    </tr>\n",
              "    <tr>\n",
              "      <th>2019-01-09</th>\n",
              "      <td>2584.959961</td>\n",
              "      <td>2480.157715</td>\n",
              "      <td>2461.996094</td>\n",
              "      <td>2468.578125</td>\n",
              "    </tr>\n",
              "    <tr>\n",
              "      <th>2019-01-10</th>\n",
              "      <td>2596.639893</td>\n",
              "      <td>2559.948486</td>\n",
              "      <td>2463.457031</td>\n",
              "      <td>2476.502930</td>\n",
              "    </tr>\n",
              "    <tr>\n",
              "      <th>2019-01-11</th>\n",
              "      <td>2596.260010</td>\n",
              "      <td>2563.025391</td>\n",
              "      <td>2470.385254</td>\n",
              "      <td>2489.765625</td>\n",
              "    </tr>\n",
              "    <tr>\n",
              "      <th>...</th>\n",
              "      <td>...</td>\n",
              "      <td>...</td>\n",
              "      <td>...</td>\n",
              "      <td>...</td>\n",
              "    </tr>\n",
              "    <tr>\n",
              "      <th>2020-12-24</th>\n",
              "      <td>3703.060059</td>\n",
              "      <td>3619.348877</td>\n",
              "      <td>3364.319824</td>\n",
              "      <td>3565.677734</td>\n",
              "    </tr>\n",
              "    <tr>\n",
              "      <th>2020-12-28</th>\n",
              "      <td>3735.360107</td>\n",
              "      <td>3606.228271</td>\n",
              "      <td>3365.261963</td>\n",
              "      <td>3568.118408</td>\n",
              "    </tr>\n",
              "    <tr>\n",
              "      <th>2020-12-29</th>\n",
              "      <td>3727.040039</td>\n",
              "      <td>3602.432373</td>\n",
              "      <td>3365.357178</td>\n",
              "      <td>3567.466064</td>\n",
              "    </tr>\n",
              "    <tr>\n",
              "      <th>2020-12-30</th>\n",
              "      <td>3732.040039</td>\n",
              "      <td>3600.912109</td>\n",
              "      <td>3366.866943</td>\n",
              "      <td>3566.307373</td>\n",
              "    </tr>\n",
              "    <tr>\n",
              "      <th>2020-12-31</th>\n",
              "      <td>3756.070068</td>\n",
              "      <td>3613.303955</td>\n",
              "      <td>3368.783936</td>\n",
              "      <td>3566.950928</td>\n",
              "    </tr>\n",
              "  </tbody>\n",
              "</table>\n",
              "<p>502 rows × 4 columns</p>\n",
              "</div>"
            ],
            "text/plain": [
              "                   real          rnn         lstm          gru\n",
              "Date                                                          \n",
              "2019-01-07  2549.689941  2546.229492  2470.007080  2459.456787\n",
              "2019-01-08  2574.409912  2544.888916  2466.558105  2469.656982\n",
              "2019-01-09  2584.959961  2480.157715  2461.996094  2468.578125\n",
              "2019-01-10  2596.639893  2559.948486  2463.457031  2476.502930\n",
              "2019-01-11  2596.260010  2563.025391  2470.385254  2489.765625\n",
              "...                 ...          ...          ...          ...\n",
              "2020-12-24  3703.060059  3619.348877  3364.319824  3565.677734\n",
              "2020-12-28  3735.360107  3606.228271  3365.261963  3568.118408\n",
              "2020-12-29  3727.040039  3602.432373  3365.357178  3567.466064\n",
              "2020-12-30  3732.040039  3600.912109  3366.866943  3566.307373\n",
              "2020-12-31  3756.070068  3613.303955  3368.783936  3566.950928\n",
              "\n",
              "[502 rows x 4 columns]"
            ]
          },
          "metadata": {
            "tags": []
          },
          "execution_count": 43
        }
      ]
    },
    {
      "cell_type": "code",
      "metadata": {
        "id": "J7qnikZse91F",
        "colab": {
          "base_uri": "https://localhost:8080/",
          "height": 295
        },
        "outputId": "95043d6a-3718-4674-d850-852e21d478bf"
      },
      "source": [
        "x.plot(grid=True,logy=True)"
      ],
      "execution_count": 44,
      "outputs": [
        {
          "output_type": "execute_result",
          "data": {
            "text/plain": [
              "<matplotlib.axes._subplots.AxesSubplot at 0x7fbe1e694910>"
            ]
          },
          "metadata": {
            "tags": []
          },
          "execution_count": 44
        },
        {
          "output_type": "display_data",
          "data": {
            "image/png": "[encoded data removed]",
            "text/plain": [
              "<Figure size 432x288 with 1 Axes>"
            ]
          },
          "metadata": {
            "tags": [],
            "needs_background": "light"
          }
        }
      ]
    },
    {
      "cell_type": "code",
      "metadata": {
        "id": "5Kt7qYRtfG-B",
        "colab": {
          "base_uri": "https://localhost:8080/",
          "height": 172
        },
        "outputId": "d51dfa60-9d38-4e01-8d56-651c95a64a8c"
      },
      "source": [
        "x.corr()"
      ],
      "execution_count": 45,
      "outputs": [
        {
          "output_type": "execute_result",
          "data": {
            "text/html": [
              "<div>\n",
              "<style scoped>\n",
              "    .dataframe tbody tr th:only-of-type {\n",
              "        vertical-align: middle;\n",
              "    }\n",
              "\n",
              "    .dataframe tbody tr th {\n",
              "        vertical-align: top;\n",
              "    }\n",
              "\n",
              "    .dataframe thead th {\n",
              "        text-align: right;\n",
              "    }\n",
              "</style>\n",
              "<table border=\"1\" class=\"dataframe\">\n",
              "  <thead>\n",
              "    <tr style=\"text-align: right;\">\n",
              "      <th></th>\n",
              "      <th>real</th>\n",
              "      <th>rnn</th>\n",
              "      <th>lstm</th>\n",
              "      <th>gru</th>\n",
              "    </tr>\n",
              "  </thead>\n",
              "  <tbody>\n",
              "    <tr>\n",
              "      <th>real</th>\n",
              "      <td>1.000000</td>\n",
              "      <td>0.954651</td>\n",
              "      <td>0.917247</td>\n",
              "      <td>0.944027</td>\n",
              "    </tr>\n",
              "    <tr>\n",
              "      <th>rnn</th>\n",
              "      <td>0.954651</td>\n",
              "      <td>1.000000</td>\n",
              "      <td>0.964193</td>\n",
              "      <td>0.983835</td>\n",
              "    </tr>\n",
              "    <tr>\n",
              "      <th>lstm</th>\n",
              "      <td>0.917247</td>\n",
              "      <td>0.964193</td>\n",
              "      <td>1.000000</td>\n",
              "      <td>0.991994</td>\n",
              "    </tr>\n",
              "    <tr>\n",
              "      <th>gru</th>\n",
              "      <td>0.944027</td>\n",
              "      <td>0.983835</td>\n",
              "      <td>0.991994</td>\n",
              "      <td>1.000000</td>\n",
              "    </tr>\n",
              "  </tbody>\n",
              "</table>\n",
              "</div>"
            ],
            "text/plain": [
              "          real       rnn      lstm       gru\n",
              "real  1.000000  0.954651  0.917247  0.944027\n",
              "rnn   0.954651  1.000000  0.964193  0.983835\n",
              "lstm  0.917247  0.964193  1.000000  0.991994\n",
              "gru   0.944027  0.983835  0.991994  1.000000"
            ]
          },
          "metadata": {
            "tags": []
          },
          "execution_count": 45
        }
      ]
    },
    {
      "cell_type": "code",
      "metadata": {
        "id": "WSy5cUYvfPjz"
      },
      "source": [
        "# 如果不用 RNN/LSTM/GRU，只用 moving average 呢？\n",
        "x"
      ],
      "execution_count": null,
      "outputs": []
    },
    {
      "cell_type": "code",
      "metadata": {
        "id": "UL0TUemgjIbj",
        "colab": {
          "base_uri": "https://localhost:8080/",
          "height": 447
        },
        "outputId": "3640c522-805d-4508-ef6f-1a87bb6a0f3a"
      },
      "source": [
        "for w in [10, 20, 50, 100]:\n",
        "  x[f'ma{w}']=x['real'].rolling(window=w).mean()\n",
        "x"
      ],
      "execution_count": 46,
      "outputs": [
        {
          "output_type": "execute_result",
          "data": {
            "text/html": [
              "<div>\n",
              "<style scoped>\n",
              "    .dataframe tbody tr th:only-of-type {\n",
              "        vertical-align: middle;\n",
              "    }\n",
              "\n",
              "    .dataframe tbody tr th {\n",
              "        vertical-align: top;\n",
              "    }\n",
              "\n",
              "    .dataframe thead th {\n",
              "        text-align: right;\n",
              "    }\n",
              "</style>\n",
              "<table border=\"1\" class=\"dataframe\">\n",
              "  <thead>\n",
              "    <tr style=\"text-align: right;\">\n",
              "      <th></th>\n",
              "      <th>real</th>\n",
              "      <th>rnn</th>\n",
              "      <th>lstm</th>\n",
              "      <th>gru</th>\n",
              "      <th>ma10</th>\n",
              "      <th>ma20</th>\n",
              "      <th>ma50</th>\n",
              "      <th>ma100</th>\n",
              "    </tr>\n",
              "    <tr>\n",
              "      <th>Date</th>\n",
              "      <th></th>\n",
              "      <th></th>\n",
              "      <th></th>\n",
              "      <th></th>\n",
              "      <th></th>\n",
              "      <th></th>\n",
              "      <th></th>\n",
              "      <th></th>\n",
              "    </tr>\n",
              "  </thead>\n",
              "  <tbody>\n",
              "    <tr>\n",
              "      <th>2019-01-07</th>\n",
              "      <td>2549.689941</td>\n",
              "      <td>2546.229492</td>\n",
              "      <td>2470.007080</td>\n",
              "      <td>2459.456787</td>\n",
              "      <td>NaN</td>\n",
              "      <td>NaN</td>\n",
              "      <td>NaN</td>\n",
              "      <td>NaN</td>\n",
              "    </tr>\n",
              "    <tr>\n",
              "      <th>2019-01-08</th>\n",
              "      <td>2574.409912</td>\n",
              "      <td>2544.888916</td>\n",
              "      <td>2466.558105</td>\n",
              "      <td>2469.656982</td>\n",
              "      <td>NaN</td>\n",
              "      <td>NaN</td>\n",
              "      <td>NaN</td>\n",
              "      <td>NaN</td>\n",
              "    </tr>\n",
              "    <tr>\n",
              "      <th>2019-01-09</th>\n",
              "      <td>2584.959961</td>\n",
              "      <td>2480.157715</td>\n",
              "      <td>2461.996094</td>\n",
              "      <td>2468.578125</td>\n",
              "      <td>NaN</td>\n",
              "      <td>NaN</td>\n",
              "      <td>NaN</td>\n",
              "      <td>NaN</td>\n",
              "    </tr>\n",
              "    <tr>\n",
              "      <th>2019-01-10</th>\n",
              "      <td>2596.639893</td>\n",
              "      <td>2559.948486</td>\n",
              "      <td>2463.457031</td>\n",
              "      <td>2476.502930</td>\n",
              "      <td>NaN</td>\n",
              "      <td>NaN</td>\n",
              "      <td>NaN</td>\n",
              "      <td>NaN</td>\n",
              "    </tr>\n",
              "    <tr>\n",
              "      <th>2019-01-11</th>\n",
              "      <td>2596.260010</td>\n",
              "      <td>2563.025391</td>\n",
              "      <td>2470.385254</td>\n",
              "      <td>2489.765625</td>\n",
              "      <td>NaN</td>\n",
              "      <td>NaN</td>\n",
              "      <td>NaN</td>\n",
              "      <td>NaN</td>\n",
              "    </tr>\n",
              "    <tr>\n",
              "      <th>...</th>\n",
              "      <td>...</td>\n",
              "      <td>...</td>\n",
              "      <td>...</td>\n",
              "      <td>...</td>\n",
              "      <td>...</td>\n",
              "      <td>...</td>\n",
              "      <td>...</td>\n",
              "      <td>...</td>\n",
              "    </tr>\n",
              "    <tr>\n",
              "      <th>2020-12-24</th>\n",
              "      <td>3703.060059</td>\n",
              "      <td>3619.348877</td>\n",
              "      <td>3364.319824</td>\n",
              "      <td>3565.677734</td>\n",
              "      <td>3691.387988</td>\n",
              "      <td>3680.314502</td>\n",
              "      <td>3563.210796</td>\n",
              "      <td>3478.382000</td>\n",
              "    </tr>\n",
              "    <tr>\n",
              "      <th>2020-12-28</th>\n",
              "      <td>3735.360107</td>\n",
              "      <td>3606.228271</td>\n",
              "      <td>3365.261963</td>\n",
              "      <td>3568.118408</td>\n",
              "      <td>3698.578003</td>\n",
              "      <td>3685.165002</td>\n",
              "      <td>3568.251196</td>\n",
              "      <td>3482.457900</td>\n",
              "    </tr>\n",
              "    <tr>\n",
              "      <th>2020-12-29</th>\n",
              "      <td>3727.040039</td>\n",
              "      <td>3602.432373</td>\n",
              "      <td>3365.357178</td>\n",
              "      <td>3567.466064</td>\n",
              "      <td>3706.533008</td>\n",
              "      <td>3690.435510</td>\n",
              "      <td>3573.115796</td>\n",
              "      <td>3486.236702</td>\n",
              "    </tr>\n",
              "    <tr>\n",
              "      <th>2020-12-30</th>\n",
              "      <td>3732.040039</td>\n",
              "      <td>3600.912109</td>\n",
              "      <td>3366.866943</td>\n",
              "      <td>3566.307373</td>\n",
              "      <td>3710.275000</td>\n",
              "      <td>3693.915015</td>\n",
              "      <td>3579.218198</td>\n",
              "      <td>3490.044302</td>\n",
              "    </tr>\n",
              "    <tr>\n",
              "      <th>2020-12-31</th>\n",
              "      <td>3756.070068</td>\n",
              "      <td>3613.303955</td>\n",
              "      <td>3368.783936</td>\n",
              "      <td>3566.950928</td>\n",
              "      <td>3715.765015</td>\n",
              "      <td>3698.268018</td>\n",
              "      <td>3585.477197</td>\n",
              "      <td>3494.000303</td>\n",
              "    </tr>\n",
              "  </tbody>\n",
              "</table>\n",
              "<p>502 rows × 8 columns</p>\n",
              "</div>"
            ],
            "text/plain": [
              "                   real          rnn  ...         ma50        ma100\n",
              "Date                                  ...                          \n",
              "2019-01-07  2549.689941  2546.229492  ...          NaN          NaN\n",
              "2019-01-08  2574.409912  2544.888916  ...          NaN          NaN\n",
              "2019-01-09  2584.959961  2480.157715  ...          NaN          NaN\n",
              "2019-01-10  2596.639893  2559.948486  ...          NaN          NaN\n",
              "2019-01-11  2596.260010  2563.025391  ...          NaN          NaN\n",
              "...                 ...          ...  ...          ...          ...\n",
              "2020-12-24  3703.060059  3619.348877  ...  3563.210796  3478.382000\n",
              "2020-12-28  3735.360107  3606.228271  ...  3568.251196  3482.457900\n",
              "2020-12-29  3727.040039  3602.432373  ...  3573.115796  3486.236702\n",
              "2020-12-30  3732.040039  3600.912109  ...  3579.218198  3490.044302\n",
              "2020-12-31  3756.070068  3613.303955  ...  3585.477197  3494.000303\n",
              "\n",
              "[502 rows x 8 columns]"
            ]
          },
          "metadata": {
            "tags": []
          },
          "execution_count": 46
        }
      ]
    },
    {
      "cell_type": "code",
      "metadata": {
        "id": "juDiDD5PjMgp",
        "colab": {
          "base_uri": "https://localhost:8080/",
          "height": 295
        },
        "outputId": "3fd55d37-c3a2-4985-e8c7-ddbb520a087c"
      },
      "source": [
        "x.corr()"
      ],
      "execution_count": 47,
      "outputs": [
        {
          "output_type": "execute_result",
          "data": {
            "text/html": [
              "<div>\n",
              "<style scoped>\n",
              "    .dataframe tbody tr th:only-of-type {\n",
              "        vertical-align: middle;\n",
              "    }\n",
              "\n",
              "    .dataframe tbody tr th {\n",
              "        vertical-align: top;\n",
              "    }\n",
              "\n",
              "    .dataframe thead th {\n",
              "        text-align: right;\n",
              "    }\n",
              "</style>\n",
              "<table border=\"1\" class=\"dataframe\">\n",
              "  <thead>\n",
              "    <tr style=\"text-align: right;\">\n",
              "      <th></th>\n",
              "      <th>real</th>\n",
              "      <th>rnn</th>\n",
              "      <th>lstm</th>\n",
              "      <th>gru</th>\n",
              "      <th>ma10</th>\n",
              "      <th>ma20</th>\n",
              "      <th>ma50</th>\n",
              "      <th>ma100</th>\n",
              "    </tr>\n",
              "  </thead>\n",
              "  <tbody>\n",
              "    <tr>\n",
              "      <th>real</th>\n",
              "      <td>1.000000</td>\n",
              "      <td>0.954651</td>\n",
              "      <td>0.917247</td>\n",
              "      <td>0.944027</td>\n",
              "      <td>0.970308</td>\n",
              "      <td>0.924249</td>\n",
              "      <td>0.794418</td>\n",
              "      <td>0.651499</td>\n",
              "    </tr>\n",
              "    <tr>\n",
              "      <th>rnn</th>\n",
              "      <td>0.954651</td>\n",
              "      <td>1.000000</td>\n",
              "      <td>0.964193</td>\n",
              "      <td>0.983835</td>\n",
              "      <td>0.987624</td>\n",
              "      <td>0.961957</td>\n",
              "      <td>0.829675</td>\n",
              "      <td>0.667581</td>\n",
              "    </tr>\n",
              "    <tr>\n",
              "      <th>lstm</th>\n",
              "      <td>0.917247</td>\n",
              "      <td>0.964193</td>\n",
              "      <td>1.000000</td>\n",
              "      <td>0.991994</td>\n",
              "      <td>0.977964</td>\n",
              "      <td>0.991510</td>\n",
              "      <td>0.872837</td>\n",
              "      <td>0.691728</td>\n",
              "    </tr>\n",
              "    <tr>\n",
              "      <th>gru</th>\n",
              "      <td>0.944027</td>\n",
              "      <td>0.983835</td>\n",
              "      <td>0.991994</td>\n",
              "      <td>1.000000</td>\n",
              "      <td>0.993993</td>\n",
              "      <td>0.986498</td>\n",
              "      <td>0.864860</td>\n",
              "      <td>0.700026</td>\n",
              "    </tr>\n",
              "    <tr>\n",
              "      <th>ma10</th>\n",
              "      <td>0.970308</td>\n",
              "      <td>0.987624</td>\n",
              "      <td>0.977964</td>\n",
              "      <td>0.993993</td>\n",
              "      <td>1.000000</td>\n",
              "      <td>0.978912</td>\n",
              "      <td>0.855137</td>\n",
              "      <td>0.699144</td>\n",
              "    </tr>\n",
              "    <tr>\n",
              "      <th>ma20</th>\n",
              "      <td>0.924249</td>\n",
              "      <td>0.961957</td>\n",
              "      <td>0.991510</td>\n",
              "      <td>0.986498</td>\n",
              "      <td>0.978912</td>\n",
              "      <td>1.000000</td>\n",
              "      <td>0.912766</td>\n",
              "      <td>0.748442</td>\n",
              "    </tr>\n",
              "    <tr>\n",
              "      <th>ma50</th>\n",
              "      <td>0.794418</td>\n",
              "      <td>0.829675</td>\n",
              "      <td>0.872837</td>\n",
              "      <td>0.864860</td>\n",
              "      <td>0.855137</td>\n",
              "      <td>0.912766</td>\n",
              "      <td>1.000000</td>\n",
              "      <td>0.877424</td>\n",
              "    </tr>\n",
              "    <tr>\n",
              "      <th>ma100</th>\n",
              "      <td>0.651499</td>\n",
              "      <td>0.667581</td>\n",
              "      <td>0.691728</td>\n",
              "      <td>0.700026</td>\n",
              "      <td>0.699144</td>\n",
              "      <td>0.748442</td>\n",
              "      <td>0.877424</td>\n",
              "      <td>1.000000</td>\n",
              "    </tr>\n",
              "  </tbody>\n",
              "</table>\n",
              "</div>"
            ],
            "text/plain": [
              "           real       rnn      lstm  ...      ma20      ma50     ma100\n",
              "real   1.000000  0.954651  0.917247  ...  0.924249  0.794418  0.651499\n",
              "rnn    0.954651  1.000000  0.964193  ...  0.961957  0.829675  0.667581\n",
              "lstm   0.917247  0.964193  1.000000  ...  0.991510  0.872837  0.691728\n",
              "gru    0.944027  0.983835  0.991994  ...  0.986498  0.864860  0.700026\n",
              "ma10   0.970308  0.987624  0.977964  ...  0.978912  0.855137  0.699144\n",
              "ma20   0.924249  0.961957  0.991510  ...  1.000000  0.912766  0.748442\n",
              "ma50   0.794418  0.829675  0.872837  ...  0.912766  1.000000  0.877424\n",
              "ma100  0.651499  0.667581  0.691728  ...  0.748442  0.877424  1.000000\n",
              "\n",
              "[8 rows x 8 columns]"
            ]
          },
          "metadata": {
            "tags": []
          },
          "execution_count": 47
        }
      ]
    },
    {
      "cell_type": "code",
      "metadata": {
        "id": "4Blk4sDPjpdA",
        "colab": {
          "base_uri": "https://localhost:8080/",
          "height": 294
        },
        "outputId": "7ac20c50-57f4-4ea8-86ff-36325de988e5"
      },
      "source": [
        "x.plot()"
      ],
      "execution_count": 48,
      "outputs": [
        {
          "output_type": "execute_result",
          "data": {
            "text/plain": [
              "<matplotlib.axes._subplots.AxesSubplot at 0x7fbe22bab0d0>"
            ]
          },
          "metadata": {
            "tags": []
          },
          "execution_count": 48
        },
        {
          "output_type": "display_data",
          "data": {
            "image/png": "[encoded data removed]",
            "text/plain": [
              "<Figure size 432x288 with 1 Axes>"
            ]
          },
          "metadata": {
            "tags": [],
            "needs_background": "light"
          }
        }
      ]
    },
    {
      "cell_type": "code",
      "metadata": {
        "id": "fq96RHC1jttB",
        "colab": {
          "base_uri": "https://localhost:8080/",
          "height": 418
        },
        "outputId": "8711620c-d267-46da-f3e0-ea452541cd1f"
      },
      "source": [
        "for w in [10, 20, 50, 100]:\n",
        "  x[f'mC{w}']=x['real'].rolling(window=w, center=True).mean()\n",
        "x.corr()\n"
      ],
      "execution_count": 49,
      "outputs": [
        {
          "output_type": "execute_result",
          "data": {
            "text/html": [
              "<div>\n",
              "<style scoped>\n",
              "    .dataframe tbody tr th:only-of-type {\n",
              "        vertical-align: middle;\n",
              "    }\n",
              "\n",
              "    .dataframe tbody tr th {\n",
              "        vertical-align: top;\n",
              "    }\n",
              "\n",
              "    .dataframe thead th {\n",
              "        text-align: right;\n",
              "    }\n",
              "</style>\n",
              "<table border=\"1\" class=\"dataframe\">\n",
              "  <thead>\n",
              "    <tr style=\"text-align: right;\">\n",
              "      <th></th>\n",
              "      <th>real</th>\n",
              "      <th>rnn</th>\n",
              "      <th>lstm</th>\n",
              "      <th>gru</th>\n",
              "      <th>ma10</th>\n",
              "      <th>ma20</th>\n",
              "      <th>ma50</th>\n",
              "      <th>ma100</th>\n",
              "      <th>mC10</th>\n",
              "      <th>mC20</th>\n",
              "      <th>mC50</th>\n",
              "      <th>mC100</th>\n",
              "    </tr>\n",
              "  </thead>\n",
              "  <tbody>\n",
              "    <tr>\n",
              "      <th>real</th>\n",
              "      <td>1.000000</td>\n",
              "      <td>0.954651</td>\n",
              "      <td>0.917247</td>\n",
              "      <td>0.944027</td>\n",
              "      <td>0.970308</td>\n",
              "      <td>0.924249</td>\n",
              "      <td>0.794418</td>\n",
              "      <td>0.651499</td>\n",
              "      <td>0.990737</td>\n",
              "      <td>0.982693</td>\n",
              "      <td>0.926297</td>\n",
              "      <td>0.791714</td>\n",
              "    </tr>\n",
              "    <tr>\n",
              "      <th>rnn</th>\n",
              "      <td>0.954651</td>\n",
              "      <td>1.000000</td>\n",
              "      <td>0.964193</td>\n",
              "      <td>0.983835</td>\n",
              "      <td>0.987624</td>\n",
              "      <td>0.961957</td>\n",
              "      <td>0.829675</td>\n",
              "      <td>0.667581</td>\n",
              "      <td>0.973030</td>\n",
              "      <td>0.968332</td>\n",
              "      <td>0.917302</td>\n",
              "      <td>0.777283</td>\n",
              "    </tr>\n",
              "    <tr>\n",
              "      <th>lstm</th>\n",
              "      <td>0.917247</td>\n",
              "      <td>0.964193</td>\n",
              "      <td>1.000000</td>\n",
              "      <td>0.991994</td>\n",
              "      <td>0.977964</td>\n",
              "      <td>0.991510</td>\n",
              "      <td>0.872837</td>\n",
              "      <td>0.691728</td>\n",
              "      <td>0.933523</td>\n",
              "      <td>0.940406</td>\n",
              "      <td>0.913844</td>\n",
              "      <td>0.772757</td>\n",
              "    </tr>\n",
              "    <tr>\n",
              "      <th>gru</th>\n",
              "      <td>0.944027</td>\n",
              "      <td>0.983835</td>\n",
              "      <td>0.991994</td>\n",
              "      <td>1.000000</td>\n",
              "      <td>0.993993</td>\n",
              "      <td>0.986498</td>\n",
              "      <td>0.864860</td>\n",
              "      <td>0.700026</td>\n",
              "      <td>0.961667</td>\n",
              "      <td>0.964994</td>\n",
              "      <td>0.925539</td>\n",
              "      <td>0.787439</td>\n",
              "    </tr>\n",
              "    <tr>\n",
              "      <th>ma10</th>\n",
              "      <td>0.970308</td>\n",
              "      <td>0.987624</td>\n",
              "      <td>0.977964</td>\n",
              "      <td>0.993993</td>\n",
              "      <td>1.000000</td>\n",
              "      <td>0.978912</td>\n",
              "      <td>0.855137</td>\n",
              "      <td>0.699144</td>\n",
              "      <td>0.983715</td>\n",
              "      <td>0.984127</td>\n",
              "      <td>0.940201</td>\n",
              "      <td>0.804814</td>\n",
              "    </tr>\n",
              "    <tr>\n",
              "      <th>ma20</th>\n",
              "      <td>0.924249</td>\n",
              "      <td>0.961957</td>\n",
              "      <td>0.991510</td>\n",
              "      <td>0.986498</td>\n",
              "      <td>0.978912</td>\n",
              "      <td>1.000000</td>\n",
              "      <td>0.912766</td>\n",
              "      <td>0.748442</td>\n",
              "      <td>0.940474</td>\n",
              "      <td>0.947873</td>\n",
              "      <td>0.938663</td>\n",
              "      <td>0.817102</td>\n",
              "    </tr>\n",
              "    <tr>\n",
              "      <th>ma50</th>\n",
              "      <td>0.794418</td>\n",
              "      <td>0.829675</td>\n",
              "      <td>0.872837</td>\n",
              "      <td>0.864860</td>\n",
              "      <td>0.855137</td>\n",
              "      <td>0.912766</td>\n",
              "      <td>1.000000</td>\n",
              "      <td>0.877424</td>\n",
              "      <td>0.805232</td>\n",
              "      <td>0.810453</td>\n",
              "      <td>0.831282</td>\n",
              "      <td>0.822347</td>\n",
              "    </tr>\n",
              "    <tr>\n",
              "      <th>ma100</th>\n",
              "      <td>0.651499</td>\n",
              "      <td>0.667581</td>\n",
              "      <td>0.691728</td>\n",
              "      <td>0.700026</td>\n",
              "      <td>0.699144</td>\n",
              "      <td>0.748442</td>\n",
              "      <td>0.877424</td>\n",
              "      <td>1.000000</td>\n",
              "      <td>0.649565</td>\n",
              "      <td>0.639813</td>\n",
              "      <td>0.611501</td>\n",
              "      <td>0.557644</td>\n",
              "    </tr>\n",
              "    <tr>\n",
              "      <th>mC10</th>\n",
              "      <td>0.990737</td>\n",
              "      <td>0.973030</td>\n",
              "      <td>0.933523</td>\n",
              "      <td>0.961667</td>\n",
              "      <td>0.983715</td>\n",
              "      <td>0.940474</td>\n",
              "      <td>0.805232</td>\n",
              "      <td>0.649565</td>\n",
              "      <td>1.000000</td>\n",
              "      <td>0.995826</td>\n",
              "      <td>0.947112</td>\n",
              "      <td>0.813542</td>\n",
              "    </tr>\n",
              "    <tr>\n",
              "      <th>mC20</th>\n",
              "      <td>0.982693</td>\n",
              "      <td>0.968332</td>\n",
              "      <td>0.940406</td>\n",
              "      <td>0.964994</td>\n",
              "      <td>0.984127</td>\n",
              "      <td>0.947873</td>\n",
              "      <td>0.810453</td>\n",
              "      <td>0.639813</td>\n",
              "      <td>0.995826</td>\n",
              "      <td>1.000000</td>\n",
              "      <td>0.967428</td>\n",
              "      <td>0.837515</td>\n",
              "    </tr>\n",
              "    <tr>\n",
              "      <th>mC50</th>\n",
              "      <td>0.926297</td>\n",
              "      <td>0.917302</td>\n",
              "      <td>0.913844</td>\n",
              "      <td>0.925539</td>\n",
              "      <td>0.940201</td>\n",
              "      <td>0.938663</td>\n",
              "      <td>0.831282</td>\n",
              "      <td>0.611501</td>\n",
              "      <td>0.947112</td>\n",
              "      <td>0.967428</td>\n",
              "      <td>1.000000</td>\n",
              "      <td>0.925505</td>\n",
              "    </tr>\n",
              "    <tr>\n",
              "      <th>mC100</th>\n",
              "      <td>0.791714</td>\n",
              "      <td>0.777283</td>\n",
              "      <td>0.772757</td>\n",
              "      <td>0.787439</td>\n",
              "      <td>0.804814</td>\n",
              "      <td>0.817102</td>\n",
              "      <td>0.822347</td>\n",
              "      <td>0.557644</td>\n",
              "      <td>0.813542</td>\n",
              "      <td>0.837515</td>\n",
              "      <td>0.925505</td>\n",
              "      <td>1.000000</td>\n",
              "    </tr>\n",
              "  </tbody>\n",
              "</table>\n",
              "</div>"
            ],
            "text/plain": [
              "           real       rnn      lstm  ...      mC20      mC50     mC100\n",
              "real   1.000000  0.954651  0.917247  ...  0.982693  0.926297  0.791714\n",
              "rnn    0.954651  1.000000  0.964193  ...  0.968332  0.917302  0.777283\n",
              "lstm   0.917247  0.964193  1.000000  ...  0.940406  0.913844  0.772757\n",
              "gru    0.944027  0.983835  0.991994  ...  0.964994  0.925539  0.787439\n",
              "ma10   0.970308  0.987624  0.977964  ...  0.984127  0.940201  0.804814\n",
              "ma20   0.924249  0.961957  0.991510  ...  0.947873  0.938663  0.817102\n",
              "ma50   0.794418  0.829675  0.872837  ...  0.810453  0.831282  0.822347\n",
              "ma100  0.651499  0.667581  0.691728  ...  0.639813  0.611501  0.557644\n",
              "mC10   0.990737  0.973030  0.933523  ...  0.995826  0.947112  0.813542\n",
              "mC20   0.982693  0.968332  0.940406  ...  1.000000  0.967428  0.837515\n",
              "mC50   0.926297  0.917302  0.913844  ...  0.967428  1.000000  0.925505\n",
              "mC100  0.791714  0.777283  0.772757  ...  0.837515  0.925505  1.000000\n",
              "\n",
              "[12 rows x 12 columns]"
            ]
          },
          "metadata": {
            "tags": []
          },
          "execution_count": 49
        }
      ]
    },
    {
      "cell_type": "code",
      "metadata": {
        "id": "oScv6SSJkDP4",
        "colab": {
          "base_uri": "https://localhost:8080/"
        },
        "outputId": "c89c562c-d8fa-4c25-a783-d9953f2f28cf"
      },
      "source": [
        "x.corr()['real'].sort_values(ascending=False)\n"
      ],
      "execution_count": 50,
      "outputs": [
        {
          "output_type": "execute_result",
          "data": {
            "text/plain": [
              "real     1.000000\n",
              "mC10     0.990737\n",
              "mC20     0.982693\n",
              "ma10     0.970308\n",
              "rnn      0.954651\n",
              "gru      0.944027\n",
              "mC50     0.926297\n",
              "ma20     0.924249\n",
              "lstm     0.917247\n",
              "ma50     0.794418\n",
              "mC100    0.791714\n",
              "ma100    0.651499\n",
              "Name: real, dtype: float64"
            ]
          },
          "metadata": {
            "tags": []
          },
          "execution_count": 50
        }
      ]
    },
    {
      "cell_type": "code",
      "metadata": {
        "id": "Kdp_tjP0kcMx",
        "colab": {
          "base_uri": "https://localhost:8080/",
          "height": 52
        },
        "outputId": "57ef9ef4-b6e1-492d-87b4-2f1fbe555e35"
      },
      "source": [
        "'''\n",
        "real     1.000000\n",
        "mC10     0.990788\n",
        "mC20     0.982726\n",
        "ma10     0.970436\n",
        "rnn      0.969485\n",
        "gru      0.960465\n",
        "lstm     0.952220\n",
        "mC50     0.926622\n",
        "ma20     0.924500\n",
        "ma50     0.794824\n",
        "mC100    0.792111\n",
        "ma100    0.653097\n",
        "Name: real, dtype: float64\n",
        "'''\n",
        "# 與 'real' 的相關係數最高的前3名分別為 mC10, mC20, ma10\n",
        "# 'rnn', 'gru', 'lstm' 排在其後\n",
        "# 那麼 若用 x.corr() 來衡量 演算法達成效果的優缺點，\n",
        "# 這些 deep learning 優於傳統方法之處在哪裡？ "
      ],
      "execution_count": 51,
      "outputs": [
        {
          "output_type": "execute_result",
          "data": {
            "application/vnd.google.colaboratory.intrinsic+json": {
              "type": "string"
            },
            "text/plain": [
              "'\\nreal     1.000000\\nmC10     0.990788\\nmC20     0.982726\\nma10     0.970436\\nrnn      0.969485\\ngru      0.960465\\nlstm     0.952220\\nmC50     0.926622\\nma20     0.924500\\nma50     0.794824\\nmC100    0.792111\\nma100    0.653097\\nName: real, dtype: float64\\n'"
            ]
          },
          "metadata": {
            "tags": []
          },
          "execution_count": 51
        }
      ]
    },
    {
      "cell_type": "code",
      "metadata": {
        "id": "NOEMDY1jkzRA"
      },
      "source": [
        ""
      ],
      "execution_count": null,
      "outputs": []
    }
  ]
}