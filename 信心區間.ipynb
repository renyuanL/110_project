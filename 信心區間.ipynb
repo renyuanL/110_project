{
  "nbformat": 4,
  "nbformat_minor": 0,
  "metadata": {
    "colab": {
      "name": "信心區間.ipynb",
      "provenance": [],
      "authorship_tag": "ABX9TyNeU/YxpnmJAVP/67yAbdSj",
      "include_colab_link": true
    },
    "kernelspec": {
      "name": "python3",
      "display_name": "Python 3"
    },
    "language_info": {
      "name": "python"
    }
  },
  "cells": [
    {
      "cell_type": "markdown",
      "metadata": {
        "id": "view-in-github",
        "colab_type": "text"
      },
      "source": [
        "<a href=\"https://colab.research.google.com/github/renyuanL/110_project/blob/main/%E4%BF%A1%E5%BF%83%E5%8D%80%E9%96%93.ipynb\" target=\"_parent\"><img src=\"https://colab.research.google.com/assets/colab-badge.svg\" alt=\"Open In Colab\"/></a>"
      ]
    },
    {
      "cell_type": "code",
      "metadata": {
        "id": "pTxeGs3Anf2R"
      },
      "source": [
        "import numpy as np\n",
        "import scipy.stats as st\n"
      ],
      "execution_count": 3,
      "outputs": []
    },
    {
      "cell_type": "code",
      "metadata": {
        "colab": {
          "base_uri": "https://localhost:8080/"
        },
        "id": "rhddbgiAnl2f",
        "outputId": "20e34f31-e8d6-4356-ab86-6cc44f3b9ad7"
      },
      "source": [
        "st.norm.pdf(0)"
      ],
      "execution_count": 2,
      "outputs": [
        {
          "output_type": "execute_result",
          "data": {
            "text/plain": [
              "0.3989422804014327"
            ]
          },
          "metadata": {
            "tags": []
          },
          "execution_count": 2
        }
      ]
    },
    {
      "cell_type": "code",
      "metadata": {
        "colab": {
          "base_uri": "https://localhost:8080/"
        },
        "id": "be0vTXW_n5po",
        "outputId": "75d77ae3-9f4e-4a73-9ebd-df061f00ed6d"
      },
      "source": [
        "x= np.linspace(-5,5,1001)\n",
        "x"
      ],
      "execution_count": 4,
      "outputs": [
        {
          "output_type": "execute_result",
          "data": {
            "text/plain": [
              "array([-5.  , -4.99, -4.98, ...,  4.98,  4.99,  5.  ])"
            ]
          },
          "metadata": {
            "tags": []
          },
          "execution_count": 4
        }
      ]
    },
    {
      "cell_type": "code",
      "metadata": {
        "colab": {
          "base_uri": "https://localhost:8080/"
        },
        "id": "GJxzd-yaoDuQ",
        "outputId": "8c552fab-47f0-4d3e-e18a-57e048d3af2b"
      },
      "source": [
        "y= st.norm.pdf(x)\n",
        "y"
      ],
      "execution_count": 5,
      "outputs": [
        {
          "output_type": "execute_result",
          "data": {
            "text/plain": [
              "array([1.48671951e-06, 1.56286711e-06, 1.64275059e-06, ...,\n",
              "       1.64275059e-06, 1.56286711e-06, 1.48671951e-06])"
            ]
          },
          "metadata": {
            "tags": []
          },
          "execution_count": 5
        }
      ]
    },
    {
      "cell_type": "code",
      "metadata": {
        "colab": {
          "base_uri": "https://localhost:8080/",
          "height": 265
        },
        "id": "4w5jA1_6oHVg",
        "outputId": "7303cf5f-2879-4b68-c89b-6dfd0db3535f"
      },
      "source": [
        "import matplotlib.pyplot as pl\n",
        "pl.plot(x,y)\n",
        "pl.grid()\n"
      ],
      "execution_count": 7,
      "outputs": [
        {
          "output_type": "display_data",
          "data": {
            "image/png": "[encoded data removed]",
            "text/plain": [
              "<Figure size 432x288 with 1 Axes>"
            ]
          },
          "metadata": {
            "tags": [],
            "needs_background": "light"
          }
        }
      ]
    },
    {
      "cell_type": "code",
      "metadata": {
        "colab": {
          "base_uri": "https://localhost:8080/"
        },
        "id": "mjsCi4YloMhX",
        "outputId": "48e7f983-2761-433f-ccc6-3d5e5919233e"
      },
      "source": [
        "P= st.norm.cdf(x)\n",
        "P"
      ],
      "execution_count": 8,
      "outputs": [
        {
          "output_type": "execute_result",
          "data": {
            "text/plain": [
              "array([2.86651572e-07, 3.01896463e-07, 3.17921366e-07, ...,\n",
              "       9.99999682e-01, 9.99999698e-01, 9.99999713e-01])"
            ]
          },
          "metadata": {
            "tags": []
          },
          "execution_count": 8
        }
      ]
    },
    {
      "cell_type": "code",
      "metadata": {
        "colab": {
          "base_uri": "https://localhost:8080/",
          "height": 265
        },
        "id": "oT34nBh1oYc_",
        "outputId": "3ea9e976-c943-4879-e6a0-ddb68fc6f352"
      },
      "source": [
        "pl.plot(x,P)\n",
        "pl.grid()"
      ],
      "execution_count": 10,
      "outputs": [
        {
          "output_type": "display_data",
          "data": {
            "image/png": "[encoded data removed]",
            "text/plain": [
              "<Figure size 432x288 with 1 Axes>"
            ]
          },
          "metadata": {
            "tags": [],
            "needs_background": "light"
          }
        }
      ]
    },
    {
      "cell_type": "code",
      "metadata": {
        "colab": {
          "base_uri": "https://localhost:8080/"
        },
        "id": "692n5nXmoayA",
        "outputId": "06fcc719-22cf-4364-eda3-e89bf0f4415b"
      },
      "source": [
        "st.norm.cdf(-2)"
      ],
      "execution_count": 11,
      "outputs": [
        {
          "output_type": "execute_result",
          "data": {
            "text/plain": [
              "0.022750131948179195"
            ]
          },
          "metadata": {
            "tags": []
          },
          "execution_count": 11
        }
      ]
    },
    {
      "cell_type": "code",
      "metadata": {
        "colab": {
          "base_uri": "https://localhost:8080/"
        },
        "id": "0hh1XpWFonDf",
        "outputId": "9460bc3c-e9cb-4465-efca-e63933efe700"
      },
      "source": [
        "st.norm.cdf(-1.96)"
      ],
      "execution_count": 12,
      "outputs": [
        {
          "output_type": "execute_result",
          "data": {
            "text/plain": [
              "0.024997895148220435"
            ]
          },
          "metadata": {
            "tags": []
          },
          "execution_count": 12
        }
      ]
    },
    {
      "cell_type": "code",
      "metadata": {
        "colab": {
          "base_uri": "https://localhost:8080/"
        },
        "id": "THfOPLeIoqYo",
        "outputId": "03817360-7a79-4eea-91d5-a17bb6b32e16"
      },
      "source": [
        "st.norm.cdf(-1)"
      ],
      "execution_count": 13,
      "outputs": [
        {
          "output_type": "execute_result",
          "data": {
            "text/plain": [
              "0.15865525393145707"
            ]
          },
          "metadata": {
            "tags": []
          },
          "execution_count": 13
        }
      ]
    },
    {
      "cell_type": "code",
      "metadata": {
        "colab": {
          "base_uri": "https://localhost:8080/"
        },
        "id": "4A_6XW9LoyH_",
        "outputId": "b1951d17-6ab7-47ae-ae01-daee0b4d1e83"
      },
      "source": [
        "st.norm.cdf(0)"
      ],
      "execution_count": 14,
      "outputs": [
        {
          "output_type": "execute_result",
          "data": {
            "text/plain": [
              "0.5"
            ]
          },
          "metadata": {
            "tags": []
          },
          "execution_count": 14
        }
      ]
    },
    {
      "cell_type": "code",
      "metadata": {
        "id": "QG015AI5o2SX"
      },
      "source": [
        ""
      ],
      "execution_count": null,
      "outputs": []
    }
  ]
}