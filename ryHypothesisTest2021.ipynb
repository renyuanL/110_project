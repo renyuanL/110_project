{
  "nbformat": 4,
  "nbformat_minor": 0,
  "metadata": {
    "colab": {
      "name": "ryHypothesisTest2021.ipynb",
      "provenance": [],
      "authorship_tag": "ABX9TyPNpLmd1U9CGZyWbbEB0rab",
      "include_colab_link": true
    },
    "kernelspec": {
      "name": "python3",
      "display_name": "Python 3"
    },
    "language_info": {
      "name": "python"
    }
  },
  "cells": [
    {
      "cell_type": "markdown",
      "metadata": {
        "id": "view-in-github",
        "colab_type": "text"
      },
      "source": [
        "<a href=\"https://colab.research.google.com/github/renyuanL/110_project/blob/main/ryHypothesisTest2021.ipynb\" target=\"_parent\"><img src=\"https://colab.research.google.com/assets/colab-badge.svg\" alt=\"Open In Colab\"/></a>"
      ]
    },
    {
      "cell_type": "code",
      "metadata": {
        "colab": {
          "base_uri": "https://localhost:8080/"
        },
        "id": "VYfp8sK2quZy",
        "outputId": "81538ae4-d9b9-4848-9ff4-93e368a4cd3a"
      },
      "source": [
        "import numpy as np \n",
        "import scipy.stats as st\n",
        "\n",
        "X= np.random.random(100)\n"
      ],
      "execution_count": 3,
      "outputs": [
        {
          "output_type": "execute_result",
          "data": {
            "text/plain": [
              "array([0.05290943, 0.96961673, 0.14245412, 0.4455374 , 0.32586045,\n",
              "       0.40433436, 0.88155542, 0.53361931, 0.11854194, 0.42813976,\n",
              "       0.73875734, 0.32245758, 0.50037966, 0.77731501, 0.51456016,\n",
              "       0.07964759, 0.2329554 , 0.88705088, 0.8078006 , 0.19923853,\n",
              "       0.59992878, 0.66367542, 0.70587633, 0.59918451, 0.15934693,\n",
              "       0.55765727, 0.24097729, 0.46486983, 0.05246684, 0.31237168,\n",
              "       0.66423857, 0.01552353, 0.24098355, 0.56132585, 0.55791158,\n",
              "       0.05664589, 0.44724026, 0.52113178, 0.15776258, 0.96075565,\n",
              "       0.12317058, 0.17274415, 0.14680836, 0.76524682, 0.08699201,\n",
              "       0.25784372, 0.57897644, 0.91468444, 0.57420534, 0.24738513,\n",
              "       0.65301936, 0.80092047, 0.49832009, 0.02427643, 0.63607154,\n",
              "       0.02523668, 0.07932687, 0.56956595, 0.53840745, 0.20264765,\n",
              "       0.66218813, 0.27314155, 0.29420184, 0.07207561, 0.37169865,\n",
              "       0.79018318, 0.31446567, 0.85505497, 0.41178668, 0.32874825,\n",
              "       0.48822768, 0.93637797, 0.4565666 , 0.13253927, 0.07111782,\n",
              "       0.15803199, 0.87913343, 0.35102378, 0.15941346, 0.24372592,\n",
              "       0.37460546, 0.83071783, 0.71359932, 0.61578027, 0.12804598,\n",
              "       0.20549612, 0.20942804, 0.68691238, 0.14131874, 0.31936211,\n",
              "       0.11904503, 0.54130218, 0.47369962, 0.93824755, 0.49945406,\n",
              "       0.0468556 , 0.5594811 , 0.31356764, 0.23397298, 0.31576081])"
            ]
          },
          "metadata": {
            "tags": []
          },
          "execution_count": 3
        }
      ]
    },
    {
      "cell_type": "code",
      "metadata": {
        "colab": {
          "base_uri": "https://localhost:8080/"
        },
        "id": "3BhfQlhKrUvw",
        "outputId": "64ae8e96-9c8b-4e1d-ba5b-48be451fe127"
      },
      "source": [
        "\n",
        "X= [0.05290943, 0.96961673, 0.14245412, 0.4455374 , 0.32586045,\n",
        "       0.40433436, 0.88155542, 0.53361931, 0.11854194, 0.42813976,\n",
        "       0.73875734, 0.32245758, 0.50037966, 0.77731501, 0.51456016,\n",
        "       0.07964759, 0.2329554 , 0.88705088, 0.8078006 , 0.19923853,\n",
        "       0.59992878, 0.66367542, 0.70587633, 0.59918451, 0.15934693,\n",
        "       0.55765727, 0.24097729, 0.46486983, 0.05246684, 0.31237168,\n",
        "       0.66423857, 0.01552353, 0.24098355, 0.56132585, 0.55791158,\n",
        "       0.05664589, 0.44724026, 0.52113178, 0.15776258, 0.96075565,\n",
        "       0.12317058, 0.17274415, 0.14680836, 0.76524682, 0.08699201,\n",
        "       0.25784372, 0.57897644, 0.91468444, 0.57420534, 0.24738513,\n",
        "       0.65301936, 0.80092047, 0.49832009, 0.02427643, 0.63607154,\n",
        "       0.02523668, 0.07932687, 0.56956595, 0.53840745, 0.20264765,\n",
        "       0.66218813, 0.27314155, 0.29420184, 0.07207561, 0.37169865,\n",
        "       0.79018318, 0.31446567, 0.85505497, 0.41178668, 0.32874825,\n",
        "       0.48822768, 0.93637797, 0.4565666 , 0.13253927, 0.07111782,\n",
        "       0.15803199, 0.87913343, 0.35102378, 0.15941346, 0.24372592,\n",
        "       0.37460546, 0.83071783, 0.71359932, 0.61578027, 0.12804598,\n",
        "       0.20549612, 0.20942804, 0.68691238, 0.14131874, 0.31936211,\n",
        "       0.11904503, 0.54130218, 0.47369962, 0.93824755, 0.49945406,\n",
        "       0.0468556 , 0.5594811 , 0.31356764, 0.23397298, 0.31576081]\n",
        "\n",
        "import pandas as pd\n",
        "\n",
        "X= pd.Series(X)\n",
        "\n",
        "xbar= X.mean()\n",
        "s= X.std(ddof=1)\n",
        "n= X.size\n",
        "xbar, s, n\n",
        "\n",
        "\n"
      ],
      "execution_count": 6,
      "outputs": [
        {
          "output_type": "execute_result",
          "data": {
            "text/plain": [
              "(0.4231481054000001, 0.2688459612688013, 100)"
            ]
          },
          "metadata": {
            "tags": []
          },
          "execution_count": 6
        }
      ]
    },
    {
      "cell_type": "code",
      "metadata": {
        "colab": {
          "base_uri": "https://localhost:8080/"
        },
        "id": "JIq21d72rJLP",
        "outputId": "db555b1f-3490-4d11-ebaf-edcdab40c2de"
      },
      "source": [
        "st.t.cdf(1, df=99)"
      ],
      "execution_count": 8,
      "outputs": [
        {
          "output_type": "execute_result",
          "data": {
            "text/plain": [
              "0.8401257629303491"
            ]
          },
          "metadata": {
            "tags": []
          },
          "execution_count": 8
        }
      ]
    },
    {
      "cell_type": "code",
      "metadata": {
        "colab": {
          "base_uri": "https://localhost:8080/"
        },
        "id": "J0vrHNyavCPu",
        "outputId": "3a6b4cd1-183a-40fc-bf87-ba2d01aba5e2"
      },
      "source": [
        "st.t.ppf(.84, df=99)\n"
      ],
      "execution_count": 9,
      "outputs": [
        {
          "output_type": "execute_result",
          "data": {
            "text/plain": [
              "0.9994777647850417"
            ]
          },
          "metadata": {
            "tags": []
          },
          "execution_count": 9
        }
      ]
    },
    {
      "cell_type": "code",
      "metadata": {
        "colab": {
          "base_uri": "https://localhost:8080/"
        },
        "id": "oylb6BidvrDe",
        "outputId": "3ea41233-4311-4e75-f7f0-73d348de18bd"
      },
      "source": [
        "# CL= 95% ==> cdf= CL + alpha/2 = CL + (1-CL)/2 = 97.5%\n",
        "t1= st.t.ppf(.975, df=99)\n",
        "t1"
      ],
      "execution_count": 11,
      "outputs": [
        {
          "output_type": "execute_result",
          "data": {
            "text/plain": [
              "1.9842169515086827"
            ]
          },
          "metadata": {
            "tags": []
          },
          "execution_count": 11
        }
      ]
    },
    {
      "cell_type": "code",
      "metadata": {
        "colab": {
          "base_uri": "https://localhost:8080/"
        },
        "id": "9i-QiMJTwq90",
        "outputId": "59202817-2042-4b4e-e9c5-1da8e680d6e2"
      },
      "source": [
        "e= t1* s/n**.5\n",
        "e"
      ],
      "execution_count": 12,
      "outputs": [
        {
          "output_type": "execute_result",
          "data": {
            "text/plain": [
              "0.05334487136942022"
            ]
          },
          "metadata": {
            "tags": []
          },
          "execution_count": 12
        }
      ]
    },
    {
      "cell_type": "code",
      "metadata": {
        "colab": {
          "base_uri": "https://localhost:8080/"
        },
        "id": "Q0qgDl1exigs",
        "outputId": "a190d476-22ed-452c-c7f4-dd2975849003"
      },
      "source": [
        "(xbar-e, xbar+e) # CL= 95%"
      ],
      "execution_count": 13,
      "outputs": [
        {
          "output_type": "execute_result",
          "data": {
            "text/plain": [
              "(0.36980323403057985, 0.4764929767694203)"
            ]
          },
          "metadata": {
            "tags": []
          },
          "execution_count": 13
        }
      ]
    },
    {
      "cell_type": "code",
      "metadata": {
        "colab": {
          "base_uri": "https://localhost:8080/"
        },
        "id": "ZWaKm0WhyAab",
        "outputId": "26b9aa8f-cd9c-4974-e3cb-c2913fd9bd03"
      },
      "source": [
        "st.t.interval(0.95, df=99)"
      ],
      "execution_count": 15,
      "outputs": [
        {
          "output_type": "execute_result",
          "data": {
            "text/plain": [
              "(-1.9842169515086827, 1.9842169515086827)"
            ]
          },
          "metadata": {
            "tags": []
          },
          "execution_count": 15
        }
      ]
    },
    {
      "cell_type": "code",
      "metadata": {
        "colab": {
          "base_uri": "https://localhost:8080/"
        },
        "id": "sz-mWZoLyVUz",
        "outputId": "f3368f73-2ddc-45b7-cc01-28f7a85e1975"
      },
      "source": [
        "pd.Series(st.t.interval(0.95, df=99))"
      ],
      "execution_count": 16,
      "outputs": [
        {
          "output_type": "execute_result",
          "data": {
            "text/plain": [
              "0   -1.984217\n",
              "1    1.984217\n",
              "dtype: float64"
            ]
          },
          "metadata": {
            "tags": []
          },
          "execution_count": 16
        }
      ]
    },
    {
      "cell_type": "code",
      "metadata": {
        "colab": {
          "base_uri": "https://localhost:8080/"
        },
        "id": "Si7KwNXNy_jh",
        "outputId": "c7e49d37-8980-4ab1-ed8b-509848b8718a"
      },
      "source": [
        "pd.Series(st.t.interval(0.95, df=99)) * s /n**.5"
      ],
      "execution_count": 17,
      "outputs": [
        {
          "output_type": "execute_result",
          "data": {
            "text/plain": [
              "0   -0.053345\n",
              "1    0.053345\n",
              "dtype: float64"
            ]
          },
          "metadata": {
            "tags": []
          },
          "execution_count": 17
        }
      ]
    },
    {
      "cell_type": "code",
      "metadata": {
        "colab": {
          "base_uri": "https://localhost:8080/"
        },
        "id": "Wjt2HV_7zKej",
        "outputId": "1b9fe857-de52-4561-fda5-b932d3e50e2c"
      },
      "source": [
        "xInterval= xbar + pd.Series(st.t.interval(0.95, df=99)) * s /n**.5\n",
        "xInterval"
      ],
      "execution_count": 18,
      "outputs": [
        {
          "output_type": "execute_result",
          "data": {
            "text/plain": [
              "0    0.369803\n",
              "1    0.476493\n",
              "dtype: float64"
            ]
          },
          "metadata": {
            "tags": []
          },
          "execution_count": 18
        }
      ]
    },
    {
      "cell_type": "code",
      "metadata": {
        "id": "zKsfoyCrzYLD"
      },
      "source": [
        "def ryInterval(X, CL= .95):\n",
        "  X= pd.Series(X)\n",
        "  xbar= X.mean()\n",
        "  s= X.std(ddof=1)\n",
        "  n= X.size\n",
        "  #xbar, s, n\n",
        "\n",
        "  #cdf= CL + alpha/2 = CL + (1-CL)/2 = 97.5%\n",
        "  cdf= CL + (1-CL)/2 \n",
        "  t1= st.t.ppf( cdf, df= n-1)\n",
        "\n",
        "  e= t1 * s/n**.5\n",
        "  # interval= xbar+ (-e, e)\n",
        "\n",
        "  xInterval= xbar + pd.Series((-e,e))\n",
        "\n",
        "  return xInterval\n",
        "  \n"
      ],
      "execution_count": 19,
      "outputs": []
    },
    {
      "cell_type": "code",
      "metadata": {
        "colab": {
          "base_uri": "https://localhost:8080/"
        },
        "id": "2LSsjFoY1IlY",
        "outputId": "669630da-c421-4b51-f67b-6490780e63ce"
      },
      "source": [
        "ryInterval(X)"
      ],
      "execution_count": 21,
      "outputs": [
        {
          "output_type": "execute_result",
          "data": {
            "text/plain": [
              "0    0.369803\n",
              "1    0.476493\n",
              "dtype: float64"
            ]
          },
          "metadata": {
            "tags": []
          },
          "execution_count": 21
        }
      ]
    },
    {
      "cell_type": "code",
      "metadata": {
        "colab": {
          "base_uri": "https://localhost:8080/"
        },
        "id": "ra-IjDH91NGs",
        "outputId": "d430749a-a81e-43bd-ff9f-67436c2b2896"
      },
      "source": [
        "ryInterval(X, .99)"
      ],
      "execution_count": 22,
      "outputs": [
        {
          "output_type": "execute_result",
          "data": {
            "text/plain": [
              "0    0.352538\n",
              "1    0.493758\n",
              "dtype: float64"
            ]
          },
          "metadata": {
            "tags": []
          },
          "execution_count": 22
        }
      ]
    },
    {
      "cell_type": "code",
      "metadata": {
        "colab": {
          "base_uri": "https://localhost:8080/"
        },
        "id": "xyHt_EE61aSS",
        "outputId": "9b9b2500-dfa3-45e6-f28b-73b35c1c00e8"
      },
      "source": [
        "ryInterval(X, .90)"
      ],
      "execution_count": 23,
      "outputs": [
        {
          "output_type": "execute_result",
          "data": {
            "text/plain": [
              "0    0.378509\n",
              "1    0.467787\n",
              "dtype: float64"
            ]
          },
          "metadata": {
            "tags": []
          },
          "execution_count": 23
        }
      ]
    },
    {
      "cell_type": "code",
      "metadata": {
        "id": "YpXfQRAB1c46"
      },
      "source": [
        ""
      ],
      "execution_count": null,
      "outputs": []
    }
  ]
}