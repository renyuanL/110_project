{
  "nbformat": 4,
  "nbformat_minor": 0,
  "metadata": {
    "colab": {
      "name": "_ry_一個例子，說明推論統計，含信心區間，假設檢定.ipynb",
      "provenance": [],
      "collapsed_sections": [],
      "toc_visible": true,
      "authorship_tag": "ABX9TyOR/Qw7UIXr1YoDjSWiME+9",
      "include_colab_link": true
    },
    "kernelspec": {
      "name": "python3",
      "display_name": "Python 3"
    },
    "language_info": {
      "name": "python"
    }
  },
  "cells": [
    {
      "cell_type": "markdown",
      "metadata": {
        "id": "view-in-github",
        "colab_type": "text"
      },
      "source": [
        "<a href=\"https://colab.research.google.com/github/renyuanL/110_project/blob/main/_ry_%E4%B8%80%E5%80%8B%E4%BE%8B%E5%AD%90%EF%BC%8C%E8%AA%AA%E6%98%8E%E6%8E%A8%E8%AB%96%E7%B5%B1%E8%A8%88%EF%BC%8C%E5%90%AB%E4%BF%A1%E5%BF%83%E5%8D%80%E9%96%93%EF%BC%8C%E5%81%87%E8%A8%AD%E6%AA%A2%E5%AE%9A.ipynb\" target=\"_parent\"><img src=\"https://colab.research.google.com/assets/colab-badge.svg\" alt=\"Open In Colab\"/></a>"
      ]
    },
    {
      "cell_type": "markdown",
      "metadata": {
        "id": "a9ddtavfmGnx"
      },
      "source": [
        "# 一個例子，說明推論統計，含信心區間，假設檢定\n",
        "\n",
        "# 參考:\n",
        "\n",
        "- Python for Data Analysis Part 23: Point Estimates and Confidence Intervals\n",
        "http://hamelg.blogspot.com/2015/11/python-for-data-analysis-part-23-point.html\n",
        "\n",
        "- Python for Data Analysis Part 24: Hypothesis Testing and the T-Test\n",
        "http://hamelg.blogspot.com/2015/11/python-for-data-analysis-part-24.html"
      ]
    },
    {
      "cell_type": "code",
      "metadata": {
        "id": "G8KfLwEA45KU"
      },
      "source": [
        "import numpy      as np\n",
        "import scipy.special  as sp\n",
        "import scipy.stats   as st\n",
        "\n",
        "import statsmodels.api as sm\n",
        "\n",
        "import pandas       as pd\n",
        "import pandas_datareader as pdr\n",
        "\n"
      ],
      "execution_count": null,
      "outputs": []
    },
    {
      "cell_type": "code",
      "metadata": {
        "id": "_i1Izl-_iGoa"
      },
      "source": [
        ""
      ],
      "execution_count": null,
      "outputs": []
    },
    {
      "cell_type": "markdown",
      "metadata": {
        "id": "f8TTy7uLcUFV"
      },
      "source": [
        "# 先玩一下 Gamma 函數，$\\Gamma()$\n",
        "## https://en.wikipedia.org/wiki/Gamma_function\n",
        "$\n",
        "\\Gamma(.5)= \\sqrt{\\pi} \n",
        "\\\\\n",
        "\\Gamma(1)= 1\n",
        "$ \n",
        "\n",
        "$\n",
        "\\Gamma(n) = (n-1)! \n",
        "\\\\\n",
        "\\Gamma(10) = (9)! = 9*8*7*...*1*\\Gamma(1)\n",
        "\\\\\n",
        "\\Gamma(10.5) = (9.5)! = 9.5*8.5*7.5*...*1.5*.5*\\Gamma(.5)\n",
        "$ "
      ]
    },
    {
      "cell_type": "code",
      "metadata": {
        "colab": {
          "base_uri": "https://localhost:8080/"
        },
        "id": "-ZzAJH606tWb",
        "outputId": "905a60dc-4638-495e-a255-8fcabbccb78d"
      },
      "source": [
        "sp.gamma(.5), \\\n",
        "np.pi**.5"
      ],
      "execution_count": null,
      "outputs": [
        {
          "output_type": "execute_result",
          "data": {
            "text/plain": [
              "(1.7724538509055159, 1.7724538509055159)"
            ]
          },
          "metadata": {
            "tags": []
          },
          "execution_count": 95
        }
      ]
    },
    {
      "cell_type": "code",
      "metadata": {
        "colab": {
          "base_uri": "https://localhost:8080/"
        },
        "id": "bTv6CHCU07xn",
        "outputId": "5735f9ee-f0c1-4aed-c004-00b60ae9690e"
      },
      "source": [
        "sp.gamma(10.5)"
      ],
      "execution_count": null,
      "outputs": [
        {
          "output_type": "execute_result",
          "data": {
            "text/plain": [
              "1133278.3889487856"
            ]
          },
          "metadata": {
            "tags": []
          },
          "execution_count": 96
        }
      ]
    },
    {
      "cell_type": "code",
      "metadata": {
        "colab": {
          "base_uri": "https://localhost:8080/"
        },
        "id": "v3FHCTzPTI2F",
        "outputId": "a837b856-dbfa-43a8-c2da-fc3686f934f1"
      },
      "source": [
        "s= np.pi**.5\n",
        "for k in range(0, 10):\n",
        "  s *= k+.5\n",
        "s"
      ],
      "execution_count": null,
      "outputs": [
        {
          "output_type": "execute_result",
          "data": {
            "text/plain": [
              "1133278.3889487856"
            ]
          },
          "metadata": {
            "tags": []
          },
          "execution_count": 97
        }
      ]
    },
    {
      "cell_type": "code",
      "metadata": {
        "colab": {
          "base_uri": "https://localhost:8080/"
        },
        "id": "0qMSv7jRT0dI",
        "outputId": "f2ccf0d3-a541-4008-fd6b-a0fa77a5bbc9"
      },
      "source": [
        "sL= np.arange(0.5, 10.5)\n",
        "sL"
      ],
      "execution_count": null,
      "outputs": [
        {
          "output_type": "execute_result",
          "data": {
            "text/plain": [
              "array([0.5, 1.5, 2.5, 3.5, 4.5, 5.5, 6.5, 7.5, 8.5, 9.5])"
            ]
          },
          "metadata": {
            "tags": []
          },
          "execution_count": 98
        }
      ]
    },
    {
      "cell_type": "code",
      "metadata": {
        "colab": {
          "base_uri": "https://localhost:8080/"
        },
        "id": "9WaZUoSpUFWn",
        "outputId": "7ffbc941-0889-40d7-94cc-cdb8f9ae15ea"
      },
      "source": [
        "sL.prod() * (np.pi**.5)"
      ],
      "execution_count": null,
      "outputs": [
        {
          "output_type": "execute_result",
          "data": {
            "text/plain": [
              "1133278.3889487854"
            ]
          },
          "metadata": {
            "tags": []
          },
          "execution_count": 99
        }
      ]
    },
    {
      "cell_type": "markdown",
      "metadata": {
        "id": "5fb0pVrrVDk8"
      },
      "source": [
        "# 複習一下 $\\chi^2$ 分布\n",
        "## https://en.wikipedia.org/wiki/Chi-square_distribution\n",
        "\n",
        "$\\chi^2 = Z^2$\n",
        "\n",
        "$\\chi^2(df= k) = Z_1^2 + Z_2^2 +...+ Z_k^2$"
      ]
    },
    {
      "cell_type": "code",
      "metadata": {
        "id": "fyAnqwCDUFfX"
      },
      "source": [
        ""
      ],
      "execution_count": null,
      "outputs": []
    },
    {
      "cell_type": "code",
      "metadata": {
        "colab": {
          "base_uri": "https://localhost:8080/",
          "height": 418
        },
        "id": "BPiULbBwVEFy",
        "outputId": "f93f81b8-bdcc-4d59-ac88-a6a0db4dbf95"
      },
      "source": [
        "# 先來製造一堆 (size= 10000) 符合此種分布的實驗數據\n",
        "X2= st.chi2.rvs(df= 10,size= 10000)\n",
        "X2= pd.Series(X2)\n",
        "X2.hist(bins= 100)\n",
        "X2.describe()"
      ],
      "execution_count": null,
      "outputs": [
        {
          "output_type": "execute_result",
          "data": {
            "text/plain": [
              "count    10000.000000\n",
              "mean        10.000121\n",
              "std          4.486700\n",
              "min          0.578431\n",
              "25%          6.771012\n",
              "50%          9.329583\n",
              "75%         12.574878\n",
              "max         35.517866\n",
              "dtype: float64"
            ]
          },
          "metadata": {
            "tags": []
          },
          "execution_count": 100
        },
        {
          "output_type": "display_data",
          "data": {
            "image/png": "[encoded data removed]",
            "text/plain": [
              "<Figure size 432x288 with 1 Axes>"
            ]
          },
          "metadata": {
            "tags": [],
            "needs_background": "light"
          }
        }
      ]
    },
    {
      "cell_type": "markdown",
      "metadata": {
        "id": "0kSieEAncQo6"
      },
      "source": [
        ""
      ]
    },
    {
      "cell_type": "code",
      "metadata": {
        "colab": {
          "base_uri": "https://localhost:8080/"
        },
        "id": "qOGhnhIhWa56",
        "outputId": "8a11ab49-ffbd-4c59-9cd0-f7164b019739"
      },
      "source": [
        "# 理論值\n",
        "st.chi2(df=10).mean(), \\\n",
        "st.chi2(df=10).var(), \\\n",
        "st.chi2(df=10).std()"
      ],
      "execution_count": null,
      "outputs": [
        {
          "output_type": "execute_result",
          "data": {
            "text/plain": [
              "(10.0, 20.0, 4.47213595499958)"
            ]
          },
          "metadata": {
            "tags": []
          },
          "execution_count": 101
        }
      ]
    },
    {
      "cell_type": "markdown",
      "metadata": {
        "id": "tceXIKsPWrs2"
      },
      "source": [
        "# 再來看一下  (Student's ) T 分布\n",
        "## https://en.wikipedia.org/wiki/Student%27s_t-distribution\n"
      ]
    },
    {
      "cell_type": "code",
      "metadata": {
        "colab": {
          "base_uri": "https://localhost:8080/",
          "height": 418
        },
        "id": "3u_HJBvbT5r8",
        "outputId": "5757c5e8-64cc-42d8-f843-3abd478c3ca3"
      },
      "source": [
        "# 先來製造一堆 (size= 10000) 符合此種分布的實驗數據\n",
        "T=st.t.rvs(df=10,size=10000)\n",
        "T=pd.Series(T)\n",
        "T.hist(bins=100)\n",
        "T.describe()"
      ],
      "execution_count": null,
      "outputs": [
        {
          "output_type": "execute_result",
          "data": {
            "text/plain": [
              "count    10000.000000\n",
              "mean         0.013670\n",
              "std          1.115161\n",
              "min         -5.413690\n",
              "25%         -0.687756\n",
              "50%          0.012373\n",
              "75%          0.716731\n",
              "max          5.269332\n",
              "dtype: float64"
            ]
          },
          "metadata": {
            "tags": []
          },
          "execution_count": 102
        },
        {
          "output_type": "display_data",
          "data": {
            "image/png": "[encoded data removed]",
            "text/plain": [
              "<Figure size 432x288 with 1 Axes>"
            ]
          },
          "metadata": {
            "tags": [],
            "needs_background": "light"
          }
        }
      ]
    },
    {
      "cell_type": "code",
      "metadata": {
        "colab": {
          "base_uri": "https://localhost:8080/"
        },
        "id": "SCwFV3BsXJIs",
        "outputId": "30f1fbfd-36f8-4ce5-b011-c9244bfe1a55"
      },
      "source": [
        "# 理論值\n",
        "st.t(df=10).mean(), \\\n",
        "st.t(df=10).var(), \\\n",
        "st.t(df=10).std()"
      ],
      "execution_count": null,
      "outputs": [
        {
          "output_type": "execute_result",
          "data": {
            "text/plain": [
              "(0.0, 1.25, 1.118033988749895)"
            ]
          },
          "metadata": {
            "tags": []
          },
          "execution_count": 103
        }
      ]
    },
    {
      "cell_type": "markdown",
      "metadata": {
        "id": "TCAPRkF6YOdz"
      },
      "source": [
        "# 回頭再來看看常態分布\n",
        "\n",
        "## https://en.wikipedia.org/wiki/Normal_distribution"
      ]
    },
    {
      "cell_type": "code",
      "metadata": {
        "id": "YcGEU_QmU1TQ"
      },
      "source": [
        ""
      ],
      "execution_count": null,
      "outputs": []
    },
    {
      "cell_type": "code",
      "metadata": {
        "colab": {
          "base_uri": "https://localhost:8080/",
          "height": 605
        },
        "id": "EVKo6DasX8CH",
        "outputId": "14e40c06-ea5f-494a-fcc2-cba33612b3d2"
      },
      "source": [
        "# 也是先製造一堆數據\n",
        "\n",
        "Z=st.norm.rvs(size=10000)\n",
        "Z=pd.Series(Z)\n",
        "Z.hist(bins=100)\n",
        "\n",
        "Z,\\\n",
        "Z.describe()"
      ],
      "execution_count": null,
      "outputs": [
        {
          "output_type": "execute_result",
          "data": {
            "text/plain": [
              "(0       0.972502\n",
              " 1      -0.952605\n",
              " 2       0.182506\n",
              " 3       0.003312\n",
              " 4       1.050440\n",
              "           ...   \n",
              " 9995    1.191029\n",
              " 9996    1.854300\n",
              " 9997    0.771019\n",
              " 9998    1.267616\n",
              " 9999    1.524328\n",
              " Length: 10000, dtype: float64, count    10000.000000\n",
              " mean         0.018697\n",
              " std          1.002894\n",
              " min         -3.886321\n",
              " 25%         -0.668285\n",
              " 50%          0.018837\n",
              " 75%          0.687728\n",
              " max          3.649438\n",
              " dtype: float64)"
            ]
          },
          "metadata": {
            "tags": []
          },
          "execution_count": 104
        },
        {
          "output_type": "display_data",
          "data": {
            "image/png": "[encoded data removed]",
            "text/plain": [
              "<Figure size 432x288 with 1 Axes>"
            ]
          },
          "metadata": {
            "tags": [],
            "needs_background": "light"
          }
        }
      ]
    },
    {
      "cell_type": "code",
      "metadata": {
        "id": "u11ApUqkZCBD"
      },
      "source": [
        ""
      ],
      "execution_count": null,
      "outputs": []
    },
    {
      "cell_type": "code",
      "metadata": {
        "colab": {
          "base_uri": "https://localhost:8080/",
          "height": 554
        },
        "id": "nOxhf7-WYBft",
        "outputId": "0a7e0725-0410-4cd9-913e-8874750288fb"
      },
      "source": [
        "Y= Z*2+10\n",
        "\n",
        "Z.hist(bins=100, alpha=.5, color='r')\n",
        "Y.hist(bins=100, alpha=.5, color='g')\n",
        "\n",
        "Z.describe(), \\\n",
        "Y.describe()"
      ],
      "execution_count": null,
      "outputs": [
        {
          "output_type": "execute_result",
          "data": {
            "text/plain": [
              "(count    10000.000000\n",
              " mean         0.018697\n",
              " std          1.002894\n",
              " min         -3.886321\n",
              " 25%         -0.668285\n",
              " 50%          0.018837\n",
              " 75%          0.687728\n",
              " max          3.649438\n",
              " dtype: float64, count    10000.000000\n",
              " mean        10.037394\n",
              " std          2.005787\n",
              " min          2.227357\n",
              " 25%          8.663430\n",
              " 50%         10.037673\n",
              " 75%         11.375456\n",
              " max         17.298877\n",
              " dtype: float64)"
            ]
          },
          "metadata": {
            "tags": []
          },
          "execution_count": 105
        },
        {
          "output_type": "display_data",
          "data": {
            "image/png": "[encoded data removed]",
            "text/plain": [
              "<Figure size 432x288 with 1 Axes>"
            ]
          },
          "metadata": {
            "tags": [],
            "needs_background": "light"
          }
        }
      ]
    },
    {
      "cell_type": "code",
      "metadata": {
        "id": "6ArzQmyNYCCt",
        "colab": {
          "base_uri": "https://localhost:8080/",
          "height": 418
        },
        "outputId": "158167d6-2103-4369-b250-b9711af7c75c"
      },
      "source": [
        "smpSize= 11\n",
        "smpY= Y.sample(n= smpSize)\n",
        "smpY.hist(bins=100)\n",
        "smpY.describe()\n"
      ],
      "execution_count": null,
      "outputs": [
        {
          "output_type": "execute_result",
          "data": {
            "text/plain": [
              "count    11.000000\n",
              "mean     10.479308\n",
              "std       1.991146\n",
              "min       7.684707\n",
              "25%       9.134118\n",
              "50%      10.146363\n",
              "75%      11.772125\n",
              "max      13.873840\n",
              "dtype: float64"
            ]
          },
          "metadata": {
            "tags": []
          },
          "execution_count": 106
        },
        {
          "output_type": "display_data",
          "data": {
            "image/png": "[encoded data removed]",
            "text/plain": [
              "<Figure size 432x288 with 1 Axes>"
            ]
          },
          "metadata": {
            "tags": [],
            "needs_background": "light"
          }
        }
      ]
    },
    {
      "cell_type": "code",
      "metadata": {
        "id": "7LTWSPrPYCbd",
        "colab": {
          "base_uri": "https://localhost:8080/"
        },
        "outputId": "8519b041-1a8b-4658-eb84-eb31faa91d61"
      },
      "source": [
        "st.sem(smpY), \\\n",
        "smpY.std()/smpY.size**.5"
      ],
      "execution_count": null,
      "outputs": [
        {
          "output_type": "execute_result",
          "data": {
            "text/plain": [
              "(0.6003531763649126, 0.6003531763649126)"
            ]
          },
          "metadata": {
            "tags": []
          },
          "execution_count": 107
        }
      ]
    },
    {
      "cell_type": "code",
      "metadata": {
        "colab": {
          "base_uri": "https://localhost:8080/"
        },
        "id": "mamzB9M7g0E8",
        "outputId": "d59c4579-6c08-4aa0-837d-7ae239ec8ddf"
      },
      "source": [
        "# df= 10 的 T，其95% 的信心區間可背一下以 0為中心，左右 +/- 2.228\n",
        "t95_df10_Int= st.t.interval(.95, df= 10)\n",
        "t95_df10_Int"
      ],
      "execution_count": null,
      "outputs": [
        {
          "output_type": "execute_result",
          "data": {
            "text/plain": [
              "(-2.2281388519649385, 2.2281388519649385)"
            ]
          },
          "metadata": {
            "tags": []
          },
          "execution_count": 108
        }
      ]
    },
    {
      "cell_type": "code",
      "metadata": {
        "colab": {
          "base_uri": "https://localhost:8080/"
        },
        "id": "XeGneTJob3Is",
        "outputId": "1aa57890-e828-45aa-b6bf-b0025ef52bed"
      },
      "source": [
        "# 自己搭配 confidence interval 公式來計算\n",
        "\n",
        "sem= t95_df10_Int[1] * smpY.std() / smpY.size**.5\n",
        "\n",
        "y95CI= smpY.mean()-abs(sem), smpY.mean()+abs(sem) \n",
        "y95CI"
      ],
      "execution_count": null,
      "outputs": [
        {
          "output_type": "execute_result",
          "data": {
            "text/plain": [
              "(9.141637350937952, 11.816977825256394)"
            ]
          },
          "metadata": {
            "tags": []
          },
          "execution_count": 109
        }
      ]
    },
    {
      "cell_type": "code",
      "metadata": {
        "colab": {
          "base_uri": "https://localhost:8080/"
        },
        "id": "B15bNKsOg0JZ",
        "outputId": "ba2d1126-7a36-48c2-9dde-f010f8600325"
      },
      "source": [
        "# 直接使用 scipy.stats 的函數，參數要設好.\n",
        "\n",
        "y95CI_直接使用st函數=  \\\n",
        "st.t.interval(.95, \n",
        "      df= smpY.size-1, \n",
        "      loc= smpY.mean(), \n",
        "      scale=st.sem(smpY))\n",
        "\n",
        "y95CI_直接使用st函數\n",
        "\n"
      ],
      "execution_count": null,
      "outputs": [
        {
          "output_type": "execute_result",
          "data": {
            "text/plain": [
              "(9.141637350937952, 11.816977825256394)"
            ]
          },
          "metadata": {
            "tags": []
          },
          "execution_count": 110
        }
      ]
    },
    {
      "cell_type": "code",
      "metadata": {
        "id": "LKin_zAKeB_c"
      },
      "source": [
        ""
      ],
      "execution_count": null,
      "outputs": []
    },
    {
      "cell_type": "markdown",
      "metadata": {
        "id": "OnDYVWSheC5Y"
      },
      "source": [
        "# y95CI 的解釋\n",
        "\n",
        "y95CI 的意義是指 我們製作出來 的 信心區間 smpY.mean() +/- sem \n",
        "會包含 Y.mean() 的機率有 95%\n",
        "\n",
        "我們用以下程式碼片段來模擬及驗證此敘述。"
      ]
    },
    {
      "cell_type": "code",
      "metadata": {
        "colab": {
          "base_uri": "https://localhost:8080/",
          "height": 419
        },
        "id": "4fo9cwIohu_6",
        "outputId": "1722fe70-f62f-4ac8-fbdc-11423ff8d45d"
      },
      "source": [
        "\n",
        "smpSize= 11\n",
        "intervalL= []\n",
        "for i in range(1000):\n",
        "  smpY= Y.sample(n= smpSize)\n",
        "  interval= st.t.interval(.95, df=smpY.size-1, \n",
        "        loc=smpY.mean(), \n",
        "        scale=st.sem(smpY))\n",
        "  intervalL += [interval]\n",
        "\n",
        "qq= pd.DataFrame(columns=['x1','x2'])\n",
        "qq['x1']= [x1 for x1,x2 in intervalL]\n",
        "qq['x2']= [x2 for x1,x2 in intervalL]\n",
        "\n",
        "whether_mean_in_interval= ( (Y.mean()>=qq['x1']) & (Y.mean()<=qq['x2']) )\n",
        "\n",
        "qq\n"
      ],
      "execution_count": null,
      "outputs": [
        {
          "output_type": "execute_result",
          "data": {
            "text/html": [
              "<div>\n",
              "<style scoped>\n",
              "    .dataframe tbody tr th:only-of-type {\n",
              "        vertical-align: middle;\n",
              "    }\n",
              "\n",
              "    .dataframe tbody tr th {\n",
              "        vertical-align: top;\n",
              "    }\n",
              "\n",
              "    .dataframe thead th {\n",
              "        text-align: right;\n",
              "    }\n",
              "</style>\n",
              "<table border=\"1\" class=\"dataframe\">\n",
              "  <thead>\n",
              "    <tr style=\"text-align: right;\">\n",
              "      <th></th>\n",
              "      <th>x1</th>\n",
              "      <th>x2</th>\n",
              "    </tr>\n",
              "  </thead>\n",
              "  <tbody>\n",
              "    <tr>\n",
              "      <th>0</th>\n",
              "      <td>8.388545</td>\n",
              "      <td>10.456310</td>\n",
              "    </tr>\n",
              "    <tr>\n",
              "      <th>1</th>\n",
              "      <td>9.592483</td>\n",
              "      <td>11.638288</td>\n",
              "    </tr>\n",
              "    <tr>\n",
              "      <th>2</th>\n",
              "      <td>8.850407</td>\n",
              "      <td>12.040608</td>\n",
              "    </tr>\n",
              "    <tr>\n",
              "      <th>3</th>\n",
              "      <td>7.982747</td>\n",
              "      <td>11.934127</td>\n",
              "    </tr>\n",
              "    <tr>\n",
              "      <th>4</th>\n",
              "      <td>9.030533</td>\n",
              "      <td>10.833414</td>\n",
              "    </tr>\n",
              "    <tr>\n",
              "      <th>...</th>\n",
              "      <td>...</td>\n",
              "      <td>...</td>\n",
              "    </tr>\n",
              "    <tr>\n",
              "      <th>995</th>\n",
              "      <td>9.239166</td>\n",
              "      <td>11.501743</td>\n",
              "    </tr>\n",
              "    <tr>\n",
              "      <th>996</th>\n",
              "      <td>7.992178</td>\n",
              "      <td>10.871884</td>\n",
              "    </tr>\n",
              "    <tr>\n",
              "      <th>997</th>\n",
              "      <td>7.730050</td>\n",
              "      <td>9.943253</td>\n",
              "    </tr>\n",
              "    <tr>\n",
              "      <th>998</th>\n",
              "      <td>8.447832</td>\n",
              "      <td>11.157640</td>\n",
              "    </tr>\n",
              "    <tr>\n",
              "      <th>999</th>\n",
              "      <td>9.617923</td>\n",
              "      <td>11.650807</td>\n",
              "    </tr>\n",
              "  </tbody>\n",
              "</table>\n",
              "<p>1000 rows × 2 columns</p>\n",
              "</div>"
            ],
            "text/plain": [
              "           x1         x2\n",
              "0    8.388545  10.456310\n",
              "1    9.592483  11.638288\n",
              "2    8.850407  12.040608\n",
              "3    7.982747  11.934127\n",
              "4    9.030533  10.833414\n",
              "..        ...        ...\n",
              "995  9.239166  11.501743\n",
              "996  7.992178  10.871884\n",
              "997  7.730050   9.943253\n",
              "998  8.447832  11.157640\n",
              "999  9.617923  11.650807\n",
              "\n",
              "[1000 rows x 2 columns]"
            ]
          },
          "metadata": {
            "tags": []
          },
          "execution_count": 111
        }
      ]
    },
    {
      "cell_type": "code",
      "metadata": {
        "colab": {
          "base_uri": "https://localhost:8080/"
        },
        "id": "fy0TC02Bfvn8",
        "outputId": "330c266c-31c0-4b28-a567-789d709db724"
      },
      "source": [
        "\n",
        "whether_mean_in_interval\n"
      ],
      "execution_count": null,
      "outputs": [
        {
          "output_type": "execute_result",
          "data": {
            "text/plain": [
              "0       True\n",
              "1       True\n",
              "2       True\n",
              "3       True\n",
              "4       True\n",
              "       ...  \n",
              "995     True\n",
              "996     True\n",
              "997    False\n",
              "998     True\n",
              "999     True\n",
              "Length: 1000, dtype: bool"
            ]
          },
          "metadata": {
            "tags": []
          },
          "execution_count": 112
        }
      ]
    },
    {
      "cell_type": "code",
      "metadata": {
        "colab": {
          "base_uri": "https://localhost:8080/",
          "height": 419
        },
        "id": "zrsVqUeThvFQ",
        "outputId": "3d0bb0b2-95db-4550-fb0c-9f23d0d9982f"
      },
      "source": [
        "qq[whether_mean_in_interval]"
      ],
      "execution_count": null,
      "outputs": [
        {
          "output_type": "execute_result",
          "data": {
            "text/html": [
              "<div>\n",
              "<style scoped>\n",
              "    .dataframe tbody tr th:only-of-type {\n",
              "        vertical-align: middle;\n",
              "    }\n",
              "\n",
              "    .dataframe tbody tr th {\n",
              "        vertical-align: top;\n",
              "    }\n",
              "\n",
              "    .dataframe thead th {\n",
              "        text-align: right;\n",
              "    }\n",
              "</style>\n",
              "<table border=\"1\" class=\"dataframe\">\n",
              "  <thead>\n",
              "    <tr style=\"text-align: right;\">\n",
              "      <th></th>\n",
              "      <th>x1</th>\n",
              "      <th>x2</th>\n",
              "    </tr>\n",
              "  </thead>\n",
              "  <tbody>\n",
              "    <tr>\n",
              "      <th>0</th>\n",
              "      <td>8.388545</td>\n",
              "      <td>10.456310</td>\n",
              "    </tr>\n",
              "    <tr>\n",
              "      <th>1</th>\n",
              "      <td>9.592483</td>\n",
              "      <td>11.638288</td>\n",
              "    </tr>\n",
              "    <tr>\n",
              "      <th>2</th>\n",
              "      <td>8.850407</td>\n",
              "      <td>12.040608</td>\n",
              "    </tr>\n",
              "    <tr>\n",
              "      <th>3</th>\n",
              "      <td>7.982747</td>\n",
              "      <td>11.934127</td>\n",
              "    </tr>\n",
              "    <tr>\n",
              "      <th>4</th>\n",
              "      <td>9.030533</td>\n",
              "      <td>10.833414</td>\n",
              "    </tr>\n",
              "    <tr>\n",
              "      <th>...</th>\n",
              "      <td>...</td>\n",
              "      <td>...</td>\n",
              "    </tr>\n",
              "    <tr>\n",
              "      <th>994</th>\n",
              "      <td>8.529190</td>\n",
              "      <td>11.549667</td>\n",
              "    </tr>\n",
              "    <tr>\n",
              "      <th>995</th>\n",
              "      <td>9.239166</td>\n",
              "      <td>11.501743</td>\n",
              "    </tr>\n",
              "    <tr>\n",
              "      <th>996</th>\n",
              "      <td>7.992178</td>\n",
              "      <td>10.871884</td>\n",
              "    </tr>\n",
              "    <tr>\n",
              "      <th>998</th>\n",
              "      <td>8.447832</td>\n",
              "      <td>11.157640</td>\n",
              "    </tr>\n",
              "    <tr>\n",
              "      <th>999</th>\n",
              "      <td>9.617923</td>\n",
              "      <td>11.650807</td>\n",
              "    </tr>\n",
              "  </tbody>\n",
              "</table>\n",
              "<p>963 rows × 2 columns</p>\n",
              "</div>"
            ],
            "text/plain": [
              "           x1         x2\n",
              "0    8.388545  10.456310\n",
              "1    9.592483  11.638288\n",
              "2    8.850407  12.040608\n",
              "3    7.982747  11.934127\n",
              "4    9.030533  10.833414\n",
              "..        ...        ...\n",
              "994  8.529190  11.549667\n",
              "995  9.239166  11.501743\n",
              "996  7.992178  10.871884\n",
              "998  8.447832  11.157640\n",
              "999  9.617923  11.650807\n",
              "\n",
              "[963 rows x 2 columns]"
            ]
          },
          "metadata": {
            "tags": []
          },
          "execution_count": 113
        }
      ]
    },
    {
      "cell_type": "code",
      "metadata": {
        "colab": {
          "base_uri": "https://localhost:8080/"
        },
        "id": "cfCltKhYhvJ8",
        "outputId": "e7f55708-892a-495e-8e29-832f82e4fda3"
      },
      "source": [
        "muL= [7,8,9,10,11,12,13]\n",
        "tValue, pValue_2side= st.ttest_1samp(smpY.values, muL)\n",
        "pValue_1side= pValue_2side/2\n",
        "muL, tValue, pValue_2side, pValue_1side"
      ],
      "execution_count": null,
      "outputs": [
        {
          "output_type": "execute_result",
          "data": {
            "text/plain": [
              "([7, 8, 9, 10, 11, 12, 13],\n",
              " array([ 7.96687768,  5.77478153,  3.58268538,  1.39058923, -0.80150692,\n",
              "        -2.99360307, -5.18569922]),\n",
              " array([1.22104916e-05, 1.79004440e-04, 4.98937962e-03, 1.94518529e-01,\n",
              "        4.41467237e-01, 1.34903254e-02, 4.09682925e-04]),\n",
              " array([6.10524578e-06, 8.95022200e-05, 2.49468981e-03, 9.72592644e-02,\n",
              "        2.20733618e-01, 6.74516270e-03, 2.04841462e-04]))"
            ]
          },
          "metadata": {
            "tags": []
          },
          "execution_count": 114
        }
      ]
    },
    {
      "cell_type": "code",
      "metadata": {
        "id": "mHfvu9Lug0SM",
        "colab": {
          "base_uri": "https://localhost:8080/"
        },
        "outputId": "47509139-e4e6-4e9a-c8ea-eaecd1dbe078"
      },
      "source": [
        "# mu0= 7,8,9 時， tValue > 2.228，對應了 pValue_2side < 0.05 或 pValue_1side < 0.025\n",
        "# 由於  pValue < 臨界值 alpha \n",
        "# 因此 mu= 7,8,9 這三種假設 會被 否決\n",
        "\n",
        "# 簡單來講，樣本證據與假設值 mu0 的 tValue 代表他們之間的 差異值 或 距離， \n",
        "# 此值的大小在 2.228 以上算是差異【顯著】(significant)，\n",
        "# 它會對應 pValue 在 0.05 以下。\n",
        "\n",
        "# 為何 |tValue| > 2.228 算是差異【顯著】，主要是因為 2.228 是靠 pValue = 0.05, 以及 df=10 算出來的\n",
        "# 如果 大家約定 pValue= 0.05 以下算是 公認的 【小】機率，那麼就可認定 |tValue| > 2.228 以上叫做差異很【顯著】\n",
        "\n",
        "# 在強調一次  tValue= 2.228 是靠 pValue = .05 = 5% 以及 df= 10 算出來的\n",
        "# ==================================================================================\n",
        "\n",
        "st.t.ppf(.05/2, df=10)"
      ],
      "execution_count": null,
      "outputs": [
        {
          "output_type": "execute_result",
          "data": {
            "text/plain": [
              "-2.2281388519649385"
            ]
          },
          "metadata": {
            "tags": []
          },
          "execution_count": 115
        }
      ]
    },
    {
      "cell_type": "code",
      "metadata": {
        "id": "RwOb_xLqg0XJ",
        "colab": {
          "base_uri": "https://localhost:8080/"
        },
        "outputId": "91395f2e-2385-46e8-e0ec-a0e0a9697ca5"
      },
      "source": [
        "# 令 df= 10,100,1000\n",
        "# 令機率臨界值 alpha= 10%, 5%, 1%\n",
        "# 把 把對應的 tValue 通通算一下。\n",
        " \n",
        "st.t.ppf(.10/2, df=10), st.t.ppf(.05/2, df=10), st.t.ppf(.01/2, df=10)"
      ],
      "execution_count": null,
      "outputs": [
        {
          "output_type": "execute_result",
          "data": {
            "text/plain": [
              "(-1.8124611228107341, -2.2281388519649385, -3.169272667175838)"
            ]
          },
          "metadata": {
            "tags": []
          },
          "execution_count": 116
        }
      ]
    },
    {
      "cell_type": "code",
      "metadata": {
        "colab": {
          "base_uri": "https://localhost:8080/"
        },
        "id": "WLBRHvvVkhqz",
        "outputId": "b60fe751-f76b-4bbd-8459-3f1e5e2cdced"
      },
      "source": [
        "st.t.ppf(.10/2, df=100), st.t.ppf(.05/2, df=100), st.t.ppf(.01/2, df=100)\n"
      ],
      "execution_count": null,
      "outputs": [
        {
          "output_type": "execute_result",
          "data": {
            "text/plain": [
              "(-1.6602343260657506, -1.983971518449634, -2.625890520586334)"
            ]
          },
          "metadata": {
            "tags": []
          },
          "execution_count": 117
        }
      ]
    },
    {
      "cell_type": "code",
      "metadata": {
        "colab": {
          "base_uri": "https://localhost:8080/"
        },
        "id": "KMeZ8wHokhu2",
        "outputId": "e0ed94a7-dcdc-4e97-c5bd-e758ddcb6d2e"
      },
      "source": [
        "st.t.ppf(.10/2, df=1000), st.t.ppf(.05/2, df=1000), st.t.ppf(.01/2, df=1000)"
      ],
      "execution_count": null,
      "outputs": [
        {
          "output_type": "execute_result",
          "data": {
            "text/plain": [
              "(-1.6463788172854645, -1.9623390808264078, -2.5807546980659426)"
            ]
          },
          "metadata": {
            "tags": []
          },
          "execution_count": 118
        }
      ]
    },
    {
      "cell_type": "code",
      "metadata": {
        "id": "FKgXSxQ_khyu"
      },
      "source": [
        ""
      ],
      "execution_count": null,
      "outputs": []
    },
    {
      "cell_type": "code",
      "metadata": {
        "id": "pe25LawEkh3N"
      },
      "source": [
        ""
      ],
      "execution_count": null,
      "outputs": []
    },
    {
      "cell_type": "code",
      "metadata": {
        "colab": {
          "base_uri": "https://localhost:8080/"
        },
        "id": "GYV-j4epuUvS",
        "outputId": "bc68380b-b76a-48e1-a343-d32d17e52bc9"
      },
      "source": [
        "  smpY= Y.sample(n= smpSize)\n",
        "  interval= st.t.interval(.95, \n",
        "        df=smpY.size-1, \n",
        "        loc=smpY.mean(), \n",
        "        scale=st.sem(smpY))\n",
        "  Y.mean(), \\\n",
        "  smpY.values, \\\n",
        "  smpY.mean(), \\\n",
        "  smpY.std(),  \\\n",
        "  smpY.std()/smpY.size**.5, \\\n",
        "  st.sem(smpY), \\\n",
        "  interval\n"
      ],
      "execution_count": null,
      "outputs": [
        {
          "output_type": "execute_result",
          "data": {
            "text/plain": [
              "(10.037394462324043,\n",
              " array([ 9.74115414,  9.2299895 ,  8.95436004,  7.8153788 , 13.89408812,\n",
              "         6.54906268,  8.45256977, 12.04027318,  7.2588186 , 10.99119737,\n",
              "        10.55934044]),\n",
              " 9.589657513470842,\n",
              " 2.1705578663363663,\n",
              " 0.6544478207629195,\n",
              " 0.6544478207629195,\n",
              " (8.131456897445194, 11.04785812949649))"
            ]
          },
          "metadata": {
            "tags": []
          },
          "execution_count": 119
        }
      ]
    },
    {
      "cell_type": "code",
      "metadata": {
        "colab": {
          "base_uri": "https://localhost:8080/"
        },
        "id": "8D4EnaHcuUzi",
        "outputId": "2cce3606-2e7f-4fe4-cf40-0b10a95befc0"
      },
      "source": [
        "# 不能否決假設之區域 (接受假設之區域)\n",
        "aL=[]\n",
        "for mu in np.linspace(interval[0], interval[1], 11):\n",
        "  tV, pV= st.ttest_1samp(smpY, mu)\n",
        "  aL += [(mu, tV,pV)]\n",
        "aL\n"
      ],
      "execution_count": null,
      "outputs": [
        {
          "output_type": "execute_result",
          "data": {
            "text/plain": [
              "[(8.131456897445194, 2.228138851964939, 0.05000000000180857),\n",
              " (8.423097020650323, 1.7825110815719525, 0.10499776190472827),\n",
              " (8.714737143855453, 1.3368833111789629, 0.2108773583187624),\n",
              " (9.006377267060582, 0.8912555407859762, 0.39373097923150546),\n",
              " (9.298017390265713, 0.44562777039298673, 0.6653586583557904),\n",
              " (9.589657513470842, 0.0, 1.0),\n",
              " (9.88129763667597, -0.44562777039298673, 0.6653586583557904),\n",
              " (10.172937759881101, -0.8912555407859762, 0.39373097923150546),\n",
              " (10.46457788308623, -1.3368833111789629, 0.2108773583187624),\n",
              " (10.75621800629136, -1.7825110815719525, 0.10499776190472827),\n",
              " (11.04785812949649, -2.228138851964939, 0.05000000000180857)]"
            ]
          },
          "metadata": {
            "tags": []
          },
          "execution_count": 120
        }
      ]
    },
    {
      "cell_type": "code",
      "metadata": {
        "colab": {
          "base_uri": "https://localhost:8080/"
        },
        "id": "ubTu_2Z_uU3T",
        "outputId": "939d8ebe-704b-43e0-cd9c-f3182306570f"
      },
      "source": [
        "# 否決假設之區域\n",
        "bL=[]\n",
        "for mu in np.linspace(interval[0]-10, interval[0], 11):\n",
        "  tV, pV= st.ttest_1samp(smpY, mu)\n",
        "  bL += [(mu, tV,pV)]\n",
        "bL"
      ],
      "execution_count": null,
      "outputs": [
        {
          "output_type": "execute_result",
          "data": {
            "text/plain": [
              "[(-1.8685431025548063, 17.50819584465619, 7.84829718300592e-09),\n",
              " (-0.8685431025548063, 15.980190145387065, 1.900218841563463e-08),\n",
              " (0.13145689744519373, 14.45218444611794, 4.996309819454315e-08),\n",
              " (1.1314568974451937, 12.924178746848813, 1.4497512540972634e-07),\n",
              " (2.1314568974451937, 11.396173047579689, 4.7401484576492315e-07),\n",
              " (3.1314568974451937, 9.868167348310564, 1.7949114457135123e-06),\n",
              " (4.131456897445194, 8.34016164904144, 8.161356635237698e-06),\n",
              " (5.131456897445194, 6.812155949772314, 4.6702973704265343e-05),\n",
              " (6.131456897445194, 5.284150250503189, 0.00035552234152514637),\n",
              " (7.131456897445194, 3.756144551234064, 0.0037458034631141605),\n",
              " (8.131456897445194, 2.228138851964939, 0.05000000000180857)]"
            ]
          },
          "metadata": {
            "tags": []
          },
          "execution_count": 121
        }
      ]
    },
    {
      "cell_type": "code",
      "metadata": {
        "colab": {
          "base_uri": "https://localhost:8080/"
        },
        "id": "y3KVNY6duU7p",
        "outputId": "6c64dd32-68a5-40d5-ab2f-d22bb6116b83"
      },
      "source": [
        "# 否決假設之區域\n",
        "cL=[]\n",
        "for mu in np.linspace(interval[1], interval[1]+10, 11):\n",
        "  tV, pV= st.ttest_1samp(smpY, mu)\n",
        "  cL += [(mu, tV,pV)]\n",
        "cL"
      ],
      "execution_count": null,
      "outputs": [
        {
          "output_type": "execute_result",
          "data": {
            "text/plain": [
              "[(11.04785812949649, -2.228138851964939, 0.05000000000180857),\n",
              " (12.04785812949649, -3.756144551234064, 0.0037458034631141605),\n",
              " (13.04785812949649, -5.284150250503189, 0.00035552234152514637),\n",
              " (14.04785812949649, -6.812155949772314, 4.6702973704265343e-05),\n",
              " (15.04785812949649, -8.34016164904144, 8.161356635237698e-06),\n",
              " (16.04785812949649, -9.868167348310564, 1.7949114457135123e-06),\n",
              " (17.04785812949649, -11.396173047579689, 4.7401484576492315e-07),\n",
              " (18.04785812949649, -12.924178746848813, 1.4497512540972634e-07),\n",
              " (19.04785812949649, -14.45218444611794, 4.996309819454315e-08),\n",
              " (20.04785812949649, -15.980190145387065, 1.900218841563463e-08),\n",
              " (21.04785812949649, -17.50819584465619, 7.84829718300592e-09)]"
            ]
          },
          "metadata": {
            "tags": []
          },
          "execution_count": 122
        }
      ]
    },
    {
      "cell_type": "code",
      "metadata": {
        "id": "4KY6LPjvvl0_"
      },
      "source": [
        ""
      ],
      "execution_count": null,
      "outputs": []
    },
    {
      "cell_type": "code",
      "metadata": {
        "id": "WbtiBYMWvl5m"
      },
      "source": [
        ""
      ],
      "execution_count": null,
      "outputs": []
    },
    {
      "cell_type": "code",
      "metadata": {
        "id": "ebP9lJmjvl-k"
      },
      "source": [
        ""
      ],
      "execution_count": null,
      "outputs": []
    },
    {
      "cell_type": "code",
      "metadata": {
        "id": "OBK-h1dQlxlZ"
      },
      "source": [
        ""
      ],
      "execution_count": null,
      "outputs": []
    },
    {
      "cell_type": "code",
      "metadata": {
        "id": "8NVYmc3Blxpc"
      },
      "source": [
        ""
      ],
      "execution_count": null,
      "outputs": []
    },
    {
      "cell_type": "code",
      "metadata": {
        "id": "XVWKSbqulxtN"
      },
      "source": [
        ""
      ],
      "execution_count": null,
      "outputs": []
    },
    {
      "cell_type": "code",
      "metadata": {
        "id": "dcTdw7f8lxyu"
      },
      "source": [
        "# 以下 作廢"
      ],
      "execution_count": null,
      "outputs": []
    },
    {
      "cell_type": "code",
      "metadata": {
        "id": "-wmqfBfaXeYq"
      },
      "source": [
        "import pandas_datareader as pdr"
      ],
      "execution_count": null,
      "outputs": []
    },
    {
      "cell_type": "code",
      "metadata": {
        "colab": {
          "base_uri": "https://localhost:8080/"
        },
        "id": "BlJUujD8ew1J",
        "outputId": "cad72884-0c31-4f8d-9c18-cc66696e1b59"
      },
      "source": [
        "Z= st.norm.rvs(size=1000)\n",
        "Z= pd.Series(Z)\n",
        "Z.describe()\n"
      ],
      "execution_count": null,
      "outputs": [
        {
          "output_type": "execute_result",
          "data": {
            "text/plain": [
              "count    1000.000000\n",
              "mean        0.006276\n",
              "std         0.989564\n",
              "min        -3.515232\n",
              "25%        -0.654751\n",
              "50%        -0.007978\n",
              "75%         0.696990\n",
              "max         3.265240\n",
              "dtype: float64"
            ]
          },
          "metadata": {
            "tags": []
          },
          "execution_count": 125
        }
      ]
    },
    {
      "cell_type": "code",
      "metadata": {
        "colab": {
          "base_uri": "https://localhost:8080/",
          "height": 282
        },
        "id": "p80C7FYAe_4Q",
        "outputId": "50a9838b-5a8b-4262-b2d1-06a4fa0c04ce"
      },
      "source": [
        "(2**Z).hist()"
      ],
      "execution_count": null,
      "outputs": [
        {
          "output_type": "execute_result",
          "data": {
            "text/plain": [
              "<matplotlib.axes._subplots.AxesSubplot at 0x7f67df17ca90>"
            ]
          },
          "metadata": {
            "tags": []
          },
          "execution_count": 126
        },
        {
          "output_type": "display_data",
          "data": {
            "image/png": "[encoded data removed]",
            "text/plain": [
              "<Figure size 432x288 with 1 Axes>"
            ]
          },
          "metadata": {
            "tags": [],
            "needs_background": "light"
          }
        }
      ]
    },
    {
      "cell_type": "code",
      "metadata": {
        "colab": {
          "base_uri": "https://localhost:8080/",
          "height": 282
        },
        "id": "O-qtKvhUfALy",
        "outputId": "18bbe595-ed86-4ef9-f5bc-a2e767276930"
      },
      "source": [
        "(Z**2).hist()"
      ],
      "execution_count": null,
      "outputs": [
        {
          "output_type": "execute_result",
          "data": {
            "text/plain": [
              "<matplotlib.axes._subplots.AxesSubplot at 0x7f67dde9fcd0>"
            ]
          },
          "metadata": {
            "tags": []
          },
          "execution_count": 127
        },
        {
          "output_type": "display_data",
          "data": {
            "image/png": "[encoded data removed]",
            "text/plain": [
              "<Figure size 432x288 with 1 Axes>"
            ]
          },
          "metadata": {
            "tags": [],
            "needs_background": "light"
          }
        }
      ]
    },
    {
      "cell_type": "code",
      "metadata": {
        "colab": {
          "base_uri": "https://localhost:8080/",
          "height": 418
        },
        "id": "w4Zw8IUNiIaF",
        "outputId": "0a43bace-58b7-4cfa-af16-551b4576957e"
      },
      "source": [
        "n= 1000\n",
        "Z= st.norm.rvs(size= n)\n",
        "Z= pd.Series(Z)\n",
        "#Z.plot()\n",
        "Z.hist()\n",
        "Z.describe()"
      ],
      "execution_count": null,
      "outputs": [
        {
          "output_type": "execute_result",
          "data": {
            "text/plain": [
              "count    1000.000000\n",
              "mean       -0.036417\n",
              "std         1.015646\n",
              "min        -3.141987\n",
              "25%        -0.744765\n",
              "50%        -0.049145\n",
              "75%         0.629237\n",
              "max         3.803439\n",
              "dtype: float64"
            ]
          },
          "metadata": {
            "tags": []
          },
          "execution_count": 128
        },
        {
          "output_type": "display_data",
          "data": {
            "image/png": "[encoded data removed]",
            "text/plain": [
              "<Figure size 432x288 with 1 Axes>"
            ]
          },
          "metadata": {
            "tags": [],
            "needs_background": "light"
          }
        }
      ]
    },
    {
      "cell_type": "code",
      "metadata": {
        "id": "G-0tu_33ioqw"
      },
      "source": [
        "\n"
      ],
      "execution_count": null,
      "outputs": []
    },
    {
      "cell_type": "code",
      "metadata": {
        "colab": {
          "base_uri": "https://localhost:8080/",
          "height": 282
        },
        "id": "vg_mr9ObiXh5",
        "outputId": "e694a1b6-1bbf-4388-a919-cd93f4b680f1"
      },
      "source": [
        "Z.plot()"
      ],
      "execution_count": null,
      "outputs": [
        {
          "output_type": "execute_result",
          "data": {
            "text/plain": [
              "<matplotlib.axes._subplots.AxesSubplot at 0x7f67df2f8f90>"
            ]
          },
          "metadata": {
            "tags": []
          },
          "execution_count": 129
        },
        {
          "output_type": "display_data",
          "data": {
            "image/png": "[encoded data removed]",
            "text/plain": [
              "<Figure size 432x288 with 1 Axes>"
            ]
          },
          "metadata": {
            "tags": [],
            "needs_background": "light"
          }
        }
      ]
    },
    {
      "cell_type": "code",
      "metadata": {
        "colab": {
          "base_uri": "https://localhost:8080/",
          "height": 282
        },
        "id": "Ct1RoMbpjIWw",
        "outputId": "14c7135c-2cef-413d-b7a8-11c2dd7e6709"
      },
      "source": [
        "Z.cumsum().plot()"
      ],
      "execution_count": null,
      "outputs": [
        {
          "output_type": "execute_result",
          "data": {
            "text/plain": [
              "<matplotlib.axes._subplots.AxesSubplot at 0x7f67df1aaed0>"
            ]
          },
          "metadata": {
            "tags": []
          },
          "execution_count": 130
        },
        {
          "output_type": "display_data",
          "data": {
            "image/png": "[encoded data removed]",
            "text/plain": [
              "<Figure size 432x288 with 1 Axes>"
            ]
          },
          "metadata": {
            "tags": [],
            "needs_background": "light"
          }
        }
      ]
    },
    {
      "cell_type": "code",
      "metadata": {
        "colab": {
          "base_uri": "https://localhost:8080/"
        },
        "id": "tS2a3B6gjK0F",
        "outputId": "28e51039-8305-4c2d-abf3-ec903e9639f1"
      },
      "source": [
        "import numpy as np\n",
        "np.log(2)"
      ],
      "execution_count": null,
      "outputs": [
        {
          "output_type": "execute_result",
          "data": {
            "text/plain": [
              "0.6931471805599453"
            ]
          },
          "metadata": {
            "tags": []
          },
          "execution_count": 131
        }
      ]
    },
    {
      "cell_type": "code",
      "metadata": {
        "id": "-lHb88SymD15"
      },
      "source": [
        "import sympy as sp"
      ],
      "execution_count": null,
      "outputs": []
    },
    {
      "cell_type": "code",
      "metadata": {
        "colab": {
          "base_uri": "https://localhost:8080/"
        },
        "id": "fbxKB0jHoI-v",
        "outputId": "49dffa3c-1825-4308-e4a0-5678a066fb57"
      },
      "source": [
        "x,y,z= sp.symbols('x y z')\n",
        "x,y,z"
      ],
      "execution_count": null,
      "outputs": [
        {
          "output_type": "execute_result",
          "data": {
            "text/plain": [
              "(x, y, z)"
            ]
          },
          "metadata": {
            "tags": []
          },
          "execution_count": 133
        }
      ]
    },
    {
      "cell_type": "code",
      "metadata": {
        "colab": {
          "base_uri": "https://localhost:8080/",
          "height": 37
        },
        "id": "wzfHOtJGoUFg",
        "outputId": "b53ea38c-b389-4c7f-fd17-4b59fb55d791"
      },
      "source": [
        "sp.integrate(z**4 * sp.exp(-z**2/2)\n",
        "       /sp.sqrt(2*sp.pi), \n",
        "       (z, -sp.oo, sp.oo))\n"
      ],
      "execution_count": null,
      "outputs": [
        {
          "output_type": "execute_result",
          "data": {
            "text/latex": "$\\displaystyle 3$",
            "text/plain": [
              "3"
            ]
          },
          "metadata": {
            "tags": []
          },
          "execution_count": 134
        }
      ]
    },
    {
      "cell_type": "code",
      "metadata": {
        "colab": {
          "base_uri": "https://localhost:8080/",
          "height": 60
        },
        "id": "1V-1B2ReoY4M",
        "outputId": "442216e8-36fe-4a59-daa9-2ebde4e84fe3"
      },
      "source": [
        "value= sp.integrate(y**2 * sp.exp(-y/2) *y**(-1/2)\n",
        "       /sp.sqrt(2*sp.pi)/2, \n",
        "       (y, 0, sp.oo))\n",
        "value"
      ],
      "execution_count": null,
      "outputs": [
        {
          "output_type": "execute_result",
          "data": {
            "text/latex": "$\\displaystyle \\frac{1.87997120597325 \\sqrt{2}}{\\sqrt{\\pi}}$",
            "text/plain": [
              "1.87997120597325*sqrt(2)/sqrt(pi)"
            ]
          },
          "metadata": {
            "tags": []
          },
          "execution_count": 135
        }
      ]
    },
    {
      "cell_type": "code",
      "metadata": {
        "colab": {
          "base_uri": "https://localhost:8080/"
        },
        "id": "JHApGfzcpCt_",
        "outputId": "c4703fd5-b7e4-417b-9686-20a318e262b9"
      },
      "source": [
        "float(value)"
      ],
      "execution_count": null,
      "outputs": [
        {
          "output_type": "execute_result",
          "data": {
            "text/plain": [
              "1.5"
            ]
          },
          "metadata": {
            "tags": []
          },
          "execution_count": 136
        }
      ]
    },
    {
      "cell_type": "code",
      "metadata": {
        "colab": {
          "base_uri": "https://localhost:8080/",
          "height": 37
        },
        "id": "QDWPkgiXrDNi",
        "outputId": "7eeb7a2a-4884-45c8-aaf7-5a85f4510292"
      },
      "source": [
        "value= sp.integrate(y**2 * sp.exp(-y/2) *y**(-1/2) /sp.gamma(1/2)/2**(1/2),\n",
        "       #/sp.sqrt(2*sp.pi)/2, \n",
        "       (y, 0, sp.oo))\n",
        "value\n"
      ],
      "execution_count": null,
      "outputs": [
        {
          "output_type": "execute_result",
          "data": {
            "text/latex": "$\\displaystyle 3.0$",
            "text/plain": [
              "3.00000000000000"
            ]
          },
          "metadata": {
            "tags": []
          },
          "execution_count": 137
        }
      ]
    },
    {
      "cell_type": "code",
      "metadata": {
        "colab": {
          "base_uri": "https://localhost:8080/",
          "height": 60
        },
        "id": "Puc8wbC2s_NT",
        "outputId": "fcff9d13-afbf-46c1-dc6d-1c59a1bf37f5"
      },
      "source": [
        "f= sp.exp(-x/2)*x**(-1/2)/sp.sqrt(2*sp.pi)\n",
        "f"
      ],
      "execution_count": null,
      "outputs": [
        {
          "output_type": "execute_result",
          "data": {
            "text/latex": "$\\displaystyle \\frac{\\sqrt{2} e^{- \\frac{x}{2}}}{2 \\sqrt{\\pi} x^{0.5}}$",
            "text/plain": [
              "sqrt(2)*x**(-0.5)*exp(-x/2)/(2*sqrt(pi))"
            ]
          },
          "metadata": {
            "tags": []
          },
          "execution_count": 138
        }
      ]
    },
    {
      "cell_type": "code",
      "metadata": {
        "id": "Pm908o70yymn"
      },
      "source": [
        ""
      ],
      "execution_count": null,
      "outputs": []
    }
  ]
}