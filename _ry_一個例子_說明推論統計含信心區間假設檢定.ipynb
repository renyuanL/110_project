{
  "nbformat": 4,
  "nbformat_minor": 0,
  "metadata": {
    "colab": {
      "name": "_ry_一個例子_說明推論統計含信心區間假設檢定.ipynb",
      "provenance": [],
      "collapsed_sections": [],
      "toc_visible": true,
      "authorship_tag": "ABX9TyOR/Qw7UIXr1YoDjSWiME+9",
      "include_colab_link": true
    },
    "kernelspec": {
      "name": "python3",
      "display_name": "Python 3"
    },
    "language_info": {
      "name": "python"
    }
  },
  "cells": [
    {
      "cell_type": "markdown",
      "metadata": {
        "id": "view-in-github",
        "colab_type": "text"
      },
      "source": [
        "<a href=\"https://colab.research.google.com/github/renyuanL/110_project/blob/main/_ry_%E4%B8%80%E5%80%8B%E4%BE%8B%E5%AD%90_%E8%AA%AA%E6%98%8E%E6%8E%A8%E8%AB%96%E7%B5%B1%E8%A8%88%E5%90%AB%E4%BF%A1%E5%BF%83%E5%8D%80%E9%96%93%E5%81%87%E8%A8%AD%E6%AA%A2%E5%AE%9A.ipynb\" target=\"_parent\"><img src=\"https://colab.research.google.com/assets/colab-badge.svg\" alt=\"Open In Colab\"/></a>"
      ]
    },
    {
      "cell_type": "markdown",
      "metadata": {
        "id": "a9ddtavfmGnx"
      },
      "source": [
        "# 一個例子，說明推論統計，含信心區間，假設檢定\n",
        "\n",
        "# 參考:\n",
        "\n",
        "- Python for Data Analysis Part 23: Point Estimates and Confidence Intervals\n",
        "http://hamelg.blogspot.com/2015/11/python-for-data-analysis-part-23-point.html\n",
        "\n",
        "- Python for Data Analysis Part 24: Hypothesis Testing and the T-Test\n",
        "http://hamelg.blogspot.com/2015/11/python-for-data-analysis-part-24.html"
      ]
    },
    {
      "cell_type": "code",
      "metadata": {
        "id": "G8KfLwEA45KU",
        "colab": {
          "base_uri": "https://localhost:8080/"
        },
        "outputId": "f8c78046-1cff-4691-8ceb-baedaac63d96"
      },
      "source": [
        "import numpy      as np\n",
        "import scipy.special  as sp\n",
        "import scipy.stats   as st\n",
        "\n",
        "import statsmodels.api as sm\n",
        "\n",
        "import pandas       as pd\n",
        "import pandas_datareader as pdr\n",
        "\n"
      ],
      "execution_count": 1,
      "outputs": [
        {
          "output_type": "stream",
          "text": [
            "/usr/local/lib/python3.7/dist-packages/statsmodels/tools/_testing.py:19: FutureWarning: pandas.util.testing is deprecated. Use the functions in the public API at pandas.testing instead.\n",
            "  import pandas.util.testing as tm\n"
          ],
          "name": "stderr"
        }
      ]
    },
    {
      "cell_type": "code",
      "metadata": {
        "id": "_i1Izl-_iGoa"
      },
      "source": [
        ""
      ],
      "execution_count": 1,
      "outputs": []
    },
    {
      "cell_type": "markdown",
      "metadata": {
        "id": "f8TTy7uLcUFV"
      },
      "source": [
        "# 先玩一下 Gamma 函數，$\\Gamma()$\n",
        "## https://en.wikipedia.org/wiki/Gamma_function\n",
        "$\n",
        "\\Gamma(.5)= \\sqrt{\\pi} \n",
        "\\\\\n",
        "\\Gamma(1)= 1\n",
        "$ \n",
        "\n",
        "$\n",
        "\\Gamma(n) = (n-1)! \n",
        "\\\\\n",
        "\\Gamma(10) = (9)! = 9*8*7*...*1*\\Gamma(1)\n",
        "\\\\\n",
        "\\Gamma(10.5) = (9.5)! = 9.5*8.5*7.5*...*1.5*.5*\\Gamma(.5)\n",
        "$ "
      ]
    },
    {
      "cell_type": "code",
      "metadata": {
        "colab": {
          "base_uri": "https://localhost:8080/"
        },
        "id": "-ZzAJH606tWb",
        "outputId": "abac1dab-fe80-45a5-a3fe-b5c8eb24ab88"
      },
      "source": [
        "sp.gamma(.5), \\\n",
        "np.pi**.5"
      ],
      "execution_count": 2,
      "outputs": [
        {
          "output_type": "execute_result",
          "data": {
            "text/plain": [
              "(1.7724538509055159, 1.7724538509055159)"
            ]
          },
          "metadata": {
            "tags": []
          },
          "execution_count": 2
        }
      ]
    },
    {
      "cell_type": "code",
      "metadata": {
        "colab": {
          "base_uri": "https://localhost:8080/"
        },
        "id": "bTv6CHCU07xn",
        "outputId": "0300807b-2146-49e3-bb61-7b60d7b0de78"
      },
      "source": [
        "sp.gamma(10.5)"
      ],
      "execution_count": 3,
      "outputs": [
        {
          "output_type": "execute_result",
          "data": {
            "text/plain": [
              "1133278.3889487856"
            ]
          },
          "metadata": {
            "tags": []
          },
          "execution_count": 3
        }
      ]
    },
    {
      "cell_type": "code",
      "metadata": {
        "colab": {
          "base_uri": "https://localhost:8080/"
        },
        "id": "v3FHCTzPTI2F",
        "outputId": "2dca7dd2-8613-4291-93e5-c882dc102adc"
      },
      "source": [
        "s= np.pi**.5\n",
        "for k in range(0, 10):\n",
        "  s *= k+.5\n",
        "s"
      ],
      "execution_count": 4,
      "outputs": [
        {
          "output_type": "execute_result",
          "data": {
            "text/plain": [
              "1133278.3889487856"
            ]
          },
          "metadata": {
            "tags": []
          },
          "execution_count": 4
        }
      ]
    },
    {
      "cell_type": "code",
      "metadata": {
        "colab": {
          "base_uri": "https://localhost:8080/"
        },
        "id": "0qMSv7jRT0dI",
        "outputId": "5f0d7f30-04eb-48cb-e237-10e2114140d3"
      },
      "source": [
        "sL= np.arange(0.5, 10.5)\n",
        "sL"
      ],
      "execution_count": 5,
      "outputs": [
        {
          "output_type": "execute_result",
          "data": {
            "text/plain": [
              "array([0.5, 1.5, 2.5, 3.5, 4.5, 5.5, 6.5, 7.5, 8.5, 9.5])"
            ]
          },
          "metadata": {
            "tags": []
          },
          "execution_count": 5
        }
      ]
    },
    {
      "cell_type": "code",
      "metadata": {
        "colab": {
          "base_uri": "https://localhost:8080/"
        },
        "id": "9WaZUoSpUFWn",
        "outputId": "e9275ce9-4e23-4f11-e97b-ed1ec89088c2"
      },
      "source": [
        "sL.prod() * (np.pi**.5)"
      ],
      "execution_count": 6,
      "outputs": [
        {
          "output_type": "execute_result",
          "data": {
            "text/plain": [
              "1133278.3889487854"
            ]
          },
          "metadata": {
            "tags": []
          },
          "execution_count": 6
        }
      ]
    },
    {
      "cell_type": "markdown",
      "metadata": {
        "id": "5fb0pVrrVDk8"
      },
      "source": [
        "# 複習一下 $\\chi^2$ 分布\n",
        "## https://en.wikipedia.org/wiki/Chi-square_distribution\n",
        "\n",
        "$\\chi^2 = Z^2$\n",
        "\n",
        "$\\chi^2(df= k) = Z_1^2 + Z_2^2 +...+ Z_k^2$"
      ]
    },
    {
      "cell_type": "code",
      "metadata": {
        "id": "fyAnqwCDUFfX"
      },
      "source": [
        ""
      ],
      "execution_count": 6,
      "outputs": []
    },
    {
      "cell_type": "code",
      "metadata": {
        "colab": {
          "base_uri": "https://localhost:8080/",
          "height": 418
        },
        "id": "BPiULbBwVEFy",
        "outputId": "f6646f17-7657-4929-ec87-1378f0417264"
      },
      "source": [
        "# 先來製造一堆 (size= 10000) 符合此種分布的實驗數據\n",
        "X2= st.chi2.rvs(df= 10,size= 10000)\n",
        "X2= pd.Series(X2)\n",
        "X2.hist(bins= 100)\n",
        "X2.describe()"
      ],
      "execution_count": 7,
      "outputs": [
        {
          "output_type": "execute_result",
          "data": {
            "text/plain": [
              "count    10000.000000\n",
              "mean         9.911217\n",
              "std          4.414970\n",
              "min          0.936003\n",
              "25%          6.691239\n",
              "50%          9.245388\n",
              "75%         12.499445\n",
              "max         37.734087\n",
              "dtype: float64"
            ]
          },
          "metadata": {
            "tags": []
          },
          "execution_count": 7
        },
        {
          "output_type": "display_data",
          "data": {
            "image/png": "[encoded data removed]",
            "text/plain": [
              "<Figure size 432x288 with 1 Axes>"
            ]
          },
          "metadata": {
            "tags": [],
            "needs_background": "light"
          }
        }
      ]
    },
    {
      "cell_type": "markdown",
      "metadata": {
        "id": "0kSieEAncQo6"
      },
      "source": [
        ""
      ]
    },
    {
      "cell_type": "code",
      "metadata": {
        "colab": {
          "base_uri": "https://localhost:8080/"
        },
        "id": "qOGhnhIhWa56",
        "outputId": "7ff0e81b-f549-4285-8df2-916017a9d735"
      },
      "source": [
        "# 理論值\n",
        "st.chi2(df=10).mean(), \\\n",
        "st.chi2(df=10).var(), \\\n",
        "st.chi2(df=10).std()"
      ],
      "execution_count": 8,
      "outputs": [
        {
          "output_type": "execute_result",
          "data": {
            "text/plain": [
              "(10.0, 20.0, 4.47213595499958)"
            ]
          },
          "metadata": {
            "tags": []
          },
          "execution_count": 8
        }
      ]
    },
    {
      "cell_type": "markdown",
      "metadata": {
        "id": "tceXIKsPWrs2"
      },
      "source": [
        "# 再來看一下  (Student's ) T 分布\n",
        "## https://en.wikipedia.org/wiki/Student%27s_t-distribution\n"
      ]
    },
    {
      "cell_type": "code",
      "metadata": {
        "colab": {
          "base_uri": "https://localhost:8080/",
          "height": 418
        },
        "id": "3u_HJBvbT5r8",
        "outputId": "e6ed04d6-9e00-4c4b-93d1-c055a0ee7c08"
      },
      "source": [
        "# 先來製造一堆 (size= 10000) 符合此種分布的實驗數據\n",
        "T=st.t.rvs(df=10,size=10000)\n",
        "T=pd.Series(T)\n",
        "T.hist(bins=100)\n",
        "T.describe()"
      ],
      "execution_count": 9,
      "outputs": [
        {
          "output_type": "execute_result",
          "data": {
            "text/plain": [
              "count    10000.000000\n",
              "mean         0.015062\n",
              "std          1.124332\n",
              "min         -4.448777\n",
              "25%         -0.697073\n",
              "50%          0.013173\n",
              "75%          0.721787\n",
              "max          6.888755\n",
              "dtype: float64"
            ]
          },
          "metadata": {
            "tags": []
          },
          "execution_count": 9
        },
        {
          "output_type": "display_data",
          "data": {
            "image/png": "[encoded data removed]",
            "text/plain": [
              "<Figure size 432x288 with 1 Axes>"
            ]
          },
          "metadata": {
            "tags": [],
            "needs_background": "light"
          }
        }
      ]
    },
    {
      "cell_type": "code",
      "metadata": {
        "colab": {
          "base_uri": "https://localhost:8080/"
        },
        "id": "SCwFV3BsXJIs",
        "outputId": "7d012433-09c1-482d-f5a1-a02f43d38b26"
      },
      "source": [
        "# 理論值\n",
        "st.t(df=10).mean(), \\\n",
        "st.t(df=10).var(), \\\n",
        "st.t(df=10).std()"
      ],
      "execution_count": 10,
      "outputs": [
        {
          "output_type": "execute_result",
          "data": {
            "text/plain": [
              "(0.0, 1.25, 1.118033988749895)"
            ]
          },
          "metadata": {
            "tags": []
          },
          "execution_count": 10
        }
      ]
    },
    {
      "cell_type": "markdown",
      "metadata": {
        "id": "TCAPRkF6YOdz"
      },
      "source": [
        "# 回頭再來看看常態分布\n",
        "\n",
        "## https://en.wikipedia.org/wiki/Normal_distribution"
      ]
    },
    {
      "cell_type": "code",
      "metadata": {
        "id": "YcGEU_QmU1TQ"
      },
      "source": [
        ""
      ],
      "execution_count": 10,
      "outputs": []
    },
    {
      "cell_type": "code",
      "metadata": {
        "colab": {
          "base_uri": "https://localhost:8080/",
          "height": 605
        },
        "id": "EVKo6DasX8CH",
        "outputId": "0a19c80a-10df-4064-d247-ff06be48645f"
      },
      "source": [
        "# 也是先製造一堆數據\n",
        "\n",
        "Z=st.norm.rvs(size=10000)\n",
        "Z=pd.Series(Z)\n",
        "Z.hist(bins=100)\n",
        "\n",
        "Z,\\\n",
        "Z.describe()"
      ],
      "execution_count": 11,
      "outputs": [
        {
          "output_type": "execute_result",
          "data": {
            "text/plain": [
              "(0       2.810562\n",
              " 1      -0.572870\n",
              " 2      -0.394804\n",
              " 3       0.498692\n",
              " 4      -1.321490\n",
              "           ...   \n",
              " 9995   -0.436570\n",
              " 9996    0.324868\n",
              " 9997   -1.088277\n",
              " 9998   -0.669305\n",
              " 9999   -1.309936\n",
              " Length: 10000, dtype: float64, count    10000.000000\n",
              " mean        -0.005333\n",
              " std          1.001080\n",
              " min         -4.195325\n",
              " 25%         -0.678763\n",
              " 50%         -0.003989\n",
              " 75%          0.676704\n",
              " max          3.934397\n",
              " dtype: float64)"
            ]
          },
          "metadata": {
            "tags": []
          },
          "execution_count": 11
        },
        {
          "output_type": "display_data",
          "data": {
            "image/png": "[encoded data removed]",
            "text/plain": [
              "<Figure size 432x288 with 1 Axes>"
            ]
          },
          "metadata": {
            "tags": [],
            "needs_background": "light"
          }
        }
      ]
    },
    {
      "cell_type": "code",
      "metadata": {
        "id": "u11ApUqkZCBD"
      },
      "source": [
        ""
      ],
      "execution_count": 11,
      "outputs": []
    },
    {
      "cell_type": "code",
      "metadata": {
        "colab": {
          "base_uri": "https://localhost:8080/",
          "height": 554
        },
        "id": "nOxhf7-WYBft",
        "outputId": "e9d729e4-e8ab-4ad6-a087-ca3c15fb38ce"
      },
      "source": [
        "Y= Z*2+10\n",
        "\n",
        "Z.hist(bins=100, alpha=.5, color='r')\n",
        "Y.hist(bins=100, alpha=.5, color='g')\n",
        "\n",
        "Z.describe(), \\\n",
        "Y.describe()"
      ],
      "execution_count": 12,
      "outputs": [
        {
          "output_type": "execute_result",
          "data": {
            "text/plain": [
              "(count    10000.000000\n",
              " mean        -0.005333\n",
              " std          1.001080\n",
              " min         -4.195325\n",
              " 25%         -0.678763\n",
              " 50%         -0.003989\n",
              " 75%          0.676704\n",
              " max          3.934397\n",
              " dtype: float64, count    10000.000000\n",
              " mean         9.989335\n",
              " std          2.002161\n",
              " min          1.609351\n",
              " 25%          8.642474\n",
              " 50%          9.992022\n",
              " 75%         11.353409\n",
              " max         17.868794\n",
              " dtype: float64)"
            ]
          },
          "metadata": {
            "tags": []
          },
          "execution_count": 12
        },
        {
          "output_type": "display_data",
          "data": {
            "image/png": "[encoded data removed]",
            "text/plain": [
              "<Figure size 432x288 with 1 Axes>"
            ]
          },
          "metadata": {
            "tags": [],
            "needs_background": "light"
          }
        }
      ]
    },
    {
      "cell_type": "code",
      "metadata": {
        "id": "6ArzQmyNYCCt",
        "colab": {
          "base_uri": "https://localhost:8080/",
          "height": 418
        },
        "outputId": "9995d305-4c57-4bec-cca3-2c347f4bf9f7"
      },
      "source": [
        "smpSize= 11\n",
        "smpY= Y.sample(n= smpSize)\n",
        "smpY.hist(bins=100)\n",
        "smpY.describe()\n"
      ],
      "execution_count": 13,
      "outputs": [
        {
          "output_type": "execute_result",
          "data": {
            "text/plain": [
              "count    11.000000\n",
              "mean      9.478110\n",
              "std       2.792118\n",
              "min       5.471094\n",
              "25%       7.757246\n",
              "50%       9.489019\n",
              "75%      11.717706\n",
              "max      13.863208\n",
              "dtype: float64"
            ]
          },
          "metadata": {
            "tags": []
          },
          "execution_count": 13
        },
        {
          "output_type": "display_data",
          "data": {
            "image/png": "[encoded data removed]",
            "text/plain": [
              "<Figure size 432x288 with 1 Axes>"
            ]
          },
          "metadata": {
            "tags": [],
            "needs_background": "light"
          }
        }
      ]
    },
    {
      "cell_type": "code",
      "metadata": {
        "id": "7LTWSPrPYCbd",
        "colab": {
          "base_uri": "https://localhost:8080/"
        },
        "outputId": "df77939b-fe96-44b8-ae0a-dd7b2083f611"
      },
      "source": [
        "st.sem(smpY), \\\n",
        "smpY.std()/smpY.size**.5"
      ],
      "execution_count": 14,
      "outputs": [
        {
          "output_type": "execute_result",
          "data": {
            "text/plain": [
              "(0.8418553618265722, 0.8418553618265722)"
            ]
          },
          "metadata": {
            "tags": []
          },
          "execution_count": 14
        }
      ]
    },
    {
      "cell_type": "code",
      "metadata": {
        "colab": {
          "base_uri": "https://localhost:8080/"
        },
        "id": "mamzB9M7g0E8",
        "outputId": "831cb384-0b69-4135-c075-cc0e08be9381"
      },
      "source": [
        "# df= 10 的 T，其95% 的信心區間可背一下以 0為中心，左右 +/- 2.228\n",
        "t95_df10_Int= st.t.interval(.95, df= 10)\n",
        "t95_df10_Int"
      ],
      "execution_count": 15,
      "outputs": [
        {
          "output_type": "execute_result",
          "data": {
            "text/plain": [
              "(-2.2281388519649385, 2.2281388519649385)"
            ]
          },
          "metadata": {
            "tags": []
          },
          "execution_count": 15
        }
      ]
    },
    {
      "cell_type": "code",
      "metadata": {
        "colab": {
          "base_uri": "https://localhost:8080/"
        },
        "id": "XeGneTJob3Is",
        "outputId": "92178cbb-ceb7-4629-8477-83fce5b20a9d"
      },
      "source": [
        "# 自己搭配 confidence interval 公式來計算\n",
        "\n",
        "sem= t95_df10_Int[1] * smpY.std() / smpY.size**.5\n",
        "\n",
        "y95CI= smpY.mean()-abs(sem), smpY.mean()+abs(sem) \n",
        "y95CI"
      ],
      "execution_count": 16,
      "outputs": [
        {
          "output_type": "execute_result",
          "data": {
            "text/plain": [
              "(7.6023389845700295, 11.353880263411602)"
            ]
          },
          "metadata": {
            "tags": []
          },
          "execution_count": 16
        }
      ]
    },
    {
      "cell_type": "code",
      "metadata": {
        "colab": {
          "base_uri": "https://localhost:8080/"
        },
        "id": "B15bNKsOg0JZ",
        "outputId": "2c622350-2f62-4437-fd60-2eaf5539d7c4"
      },
      "source": [
        "# 直接使用 scipy.stats 的函數，參數要設好.\n",
        "\n",
        "y95CI_直接使用st函數=  \\\n",
        "st.t.interval(.95, \n",
        "      df= smpY.size-1, \n",
        "      loc= smpY.mean(), \n",
        "      scale=st.sem(smpY))\n",
        "\n",
        "y95CI_直接使用st函數\n",
        "\n"
      ],
      "execution_count": 17,
      "outputs": [
        {
          "output_type": "execute_result",
          "data": {
            "text/plain": [
              "(7.6023389845700295, 11.353880263411602)"
            ]
          },
          "metadata": {
            "tags": []
          },
          "execution_count": 17
        }
      ]
    },
    {
      "cell_type": "code",
      "metadata": {
        "id": "LKin_zAKeB_c"
      },
      "source": [
        ""
      ],
      "execution_count": 17,
      "outputs": []
    },
    {
      "cell_type": "markdown",
      "metadata": {
        "id": "OnDYVWSheC5Y"
      },
      "source": [
        "# y95CI 的解釋\n",
        "\n",
        "y95CI 的意義是指 我們製作出來 的 信心區間 smpY.mean() +/- sem \n",
        "會包含 Y.mean() 的機率有 95%\n",
        "\n",
        "我們用以下程式碼片段來模擬及驗證此敘述。"
      ]
    },
    {
      "cell_type": "code",
      "metadata": {
        "colab": {
          "base_uri": "https://localhost:8080/",
          "height": 419
        },
        "id": "4fo9cwIohu_6",
        "outputId": "9e4fbafe-fb2f-41ed-9277-e36c3d58702e"
      },
      "source": [
        "\n",
        "smpSize= 11\n",
        "intervalL= []\n",
        "for i in range(1000):\n",
        "  smpY= Y.sample(n= smpSize)\n",
        "  interval= st.t.interval(.95, df=smpY.size-1, \n",
        "        loc=smpY.mean(), \n",
        "        scale=st.sem(smpY))\n",
        "  intervalL += [interval]\n",
        "\n",
        "qq= pd.DataFrame(columns=['x1','x2'])\n",
        "qq['x1']= [x1 for x1,x2 in intervalL]\n",
        "qq['x2']= [x2 for x1,x2 in intervalL]\n",
        "\n",
        "whether_mean_in_interval= ( (Y.mean()>=qq['x1']) & (Y.mean()<=qq['x2']) )\n",
        "\n",
        "qq\n"
      ],
      "execution_count": 18,
      "outputs": [
        {
          "output_type": "execute_result",
          "data": {
            "text/html": [
              "<div>\n",
              "<style scoped>\n",
              "    .dataframe tbody tr th:only-of-type {\n",
              "        vertical-align: middle;\n",
              "    }\n",
              "\n",
              "    .dataframe tbody tr th {\n",
              "        vertical-align: top;\n",
              "    }\n",
              "\n",
              "    .dataframe thead th {\n",
              "        text-align: right;\n",
              "    }\n",
              "</style>\n",
              "<table border=\"1\" class=\"dataframe\">\n",
              "  <thead>\n",
              "    <tr style=\"text-align: right;\">\n",
              "      <th></th>\n",
              "      <th>x1</th>\n",
              "      <th>x2</th>\n",
              "    </tr>\n",
              "  </thead>\n",
              "  <tbody>\n",
              "    <tr>\n",
              "      <th>0</th>\n",
              "      <td>8.187791</td>\n",
              "      <td>10.984435</td>\n",
              "    </tr>\n",
              "    <tr>\n",
              "      <th>1</th>\n",
              "      <td>8.895977</td>\n",
              "      <td>11.794198</td>\n",
              "    </tr>\n",
              "    <tr>\n",
              "      <th>2</th>\n",
              "      <td>9.214696</td>\n",
              "      <td>10.913145</td>\n",
              "    </tr>\n",
              "    <tr>\n",
              "      <th>3</th>\n",
              "      <td>8.359473</td>\n",
              "      <td>10.928556</td>\n",
              "    </tr>\n",
              "    <tr>\n",
              "      <th>4</th>\n",
              "      <td>8.421351</td>\n",
              "      <td>12.333428</td>\n",
              "    </tr>\n",
              "    <tr>\n",
              "      <th>...</th>\n",
              "      <td>...</td>\n",
              "      <td>...</td>\n",
              "    </tr>\n",
              "    <tr>\n",
              "      <th>995</th>\n",
              "      <td>8.879869</td>\n",
              "      <td>11.156332</td>\n",
              "    </tr>\n",
              "    <tr>\n",
              "      <th>996</th>\n",
              "      <td>10.220592</td>\n",
              "      <td>12.027181</td>\n",
              "    </tr>\n",
              "    <tr>\n",
              "      <th>997</th>\n",
              "      <td>7.917254</td>\n",
              "      <td>10.653811</td>\n",
              "    </tr>\n",
              "    <tr>\n",
              "      <th>998</th>\n",
              "      <td>7.295462</td>\n",
              "      <td>10.679725</td>\n",
              "    </tr>\n",
              "    <tr>\n",
              "      <th>999</th>\n",
              "      <td>8.685599</td>\n",
              "      <td>11.134353</td>\n",
              "    </tr>\n",
              "  </tbody>\n",
              "</table>\n",
              "<p>1000 rows × 2 columns</p>\n",
              "</div>"
            ],
            "text/plain": [
              "            x1         x2\n",
              "0     8.187791  10.984435\n",
              "1     8.895977  11.794198\n",
              "2     9.214696  10.913145\n",
              "3     8.359473  10.928556\n",
              "4     8.421351  12.333428\n",
              "..         ...        ...\n",
              "995   8.879869  11.156332\n",
              "996  10.220592  12.027181\n",
              "997   7.917254  10.653811\n",
              "998   7.295462  10.679725\n",
              "999   8.685599  11.134353\n",
              "\n",
              "[1000 rows x 2 columns]"
            ]
          },
          "metadata": {
            "tags": []
          },
          "execution_count": 18
        }
      ]
    },
    {
      "cell_type": "code",
      "metadata": {
        "colab": {
          "base_uri": "https://localhost:8080/"
        },
        "id": "fy0TC02Bfvn8",
        "outputId": "162710f6-175c-40de-f3d0-c2938e141b53"
      },
      "source": [
        "\n",
        "whether_mean_in_interval\n"
      ],
      "execution_count": 19,
      "outputs": [
        {
          "output_type": "execute_result",
          "data": {
            "text/plain": [
              "0       True\n",
              "1       True\n",
              "2       True\n",
              "3       True\n",
              "4       True\n",
              "       ...  \n",
              "995     True\n",
              "996    False\n",
              "997     True\n",
              "998     True\n",
              "999     True\n",
              "Length: 1000, dtype: bool"
            ]
          },
          "metadata": {
            "tags": []
          },
          "execution_count": 19
        }
      ]
    },
    {
      "cell_type": "code",
      "metadata": {
        "colab": {
          "base_uri": "https://localhost:8080/",
          "height": 419
        },
        "id": "zrsVqUeThvFQ",
        "outputId": "c7245c33-5068-48bc-bf85-bab43dfc927d"
      },
      "source": [
        "qq[whether_mean_in_interval]"
      ],
      "execution_count": 20,
      "outputs": [
        {
          "output_type": "execute_result",
          "data": {
            "text/html": [
              "<div>\n",
              "<style scoped>\n",
              "    .dataframe tbody tr th:only-of-type {\n",
              "        vertical-align: middle;\n",
              "    }\n",
              "\n",
              "    .dataframe tbody tr th {\n",
              "        vertical-align: top;\n",
              "    }\n",
              "\n",
              "    .dataframe thead th {\n",
              "        text-align: right;\n",
              "    }\n",
              "</style>\n",
              "<table border=\"1\" class=\"dataframe\">\n",
              "  <thead>\n",
              "    <tr style=\"text-align: right;\">\n",
              "      <th></th>\n",
              "      <th>x1</th>\n",
              "      <th>x2</th>\n",
              "    </tr>\n",
              "  </thead>\n",
              "  <tbody>\n",
              "    <tr>\n",
              "      <th>0</th>\n",
              "      <td>8.187791</td>\n",
              "      <td>10.984435</td>\n",
              "    </tr>\n",
              "    <tr>\n",
              "      <th>1</th>\n",
              "      <td>8.895977</td>\n",
              "      <td>11.794198</td>\n",
              "    </tr>\n",
              "    <tr>\n",
              "      <th>2</th>\n",
              "      <td>9.214696</td>\n",
              "      <td>10.913145</td>\n",
              "    </tr>\n",
              "    <tr>\n",
              "      <th>3</th>\n",
              "      <td>8.359473</td>\n",
              "      <td>10.928556</td>\n",
              "    </tr>\n",
              "    <tr>\n",
              "      <th>4</th>\n",
              "      <td>8.421351</td>\n",
              "      <td>12.333428</td>\n",
              "    </tr>\n",
              "    <tr>\n",
              "      <th>...</th>\n",
              "      <td>...</td>\n",
              "      <td>...</td>\n",
              "    </tr>\n",
              "    <tr>\n",
              "      <th>994</th>\n",
              "      <td>8.523632</td>\n",
              "      <td>11.362508</td>\n",
              "    </tr>\n",
              "    <tr>\n",
              "      <th>995</th>\n",
              "      <td>8.879869</td>\n",
              "      <td>11.156332</td>\n",
              "    </tr>\n",
              "    <tr>\n",
              "      <th>997</th>\n",
              "      <td>7.917254</td>\n",
              "      <td>10.653811</td>\n",
              "    </tr>\n",
              "    <tr>\n",
              "      <th>998</th>\n",
              "      <td>7.295462</td>\n",
              "      <td>10.679725</td>\n",
              "    </tr>\n",
              "    <tr>\n",
              "      <th>999</th>\n",
              "      <td>8.685599</td>\n",
              "      <td>11.134353</td>\n",
              "    </tr>\n",
              "  </tbody>\n",
              "</table>\n",
              "<p>943 rows × 2 columns</p>\n",
              "</div>"
            ],
            "text/plain": [
              "           x1         x2\n",
              "0    8.187791  10.984435\n",
              "1    8.895977  11.794198\n",
              "2    9.214696  10.913145\n",
              "3    8.359473  10.928556\n",
              "4    8.421351  12.333428\n",
              "..        ...        ...\n",
              "994  8.523632  11.362508\n",
              "995  8.879869  11.156332\n",
              "997  7.917254  10.653811\n",
              "998  7.295462  10.679725\n",
              "999  8.685599  11.134353\n",
              "\n",
              "[943 rows x 2 columns]"
            ]
          },
          "metadata": {
            "tags": []
          },
          "execution_count": 20
        }
      ]
    },
    {
      "cell_type": "code",
      "metadata": {
        "colab": {
          "base_uri": "https://localhost:8080/"
        },
        "id": "cfCltKhYhvJ8",
        "outputId": "6785ffc1-cb4e-4f83-9c72-04a588e2c3de"
      },
      "source": [
        "muL= [7,8,9,10,11,12,13]\n",
        "tValue, pValue_2side= st.ttest_1samp(smpY.values, muL)\n",
        "pValue_1side= pValue_2side/2\n",
        "muL, tValue, pValue_2side, pValue_1side"
      ],
      "execution_count": 21,
      "outputs": [
        {
          "output_type": "execute_result",
          "data": {
            "text/plain": [
              "([7, 8, 9, 10, 11, 12, 13],\n",
              " array([ 5.29561726,  3.47580273,  1.65598819, -0.16382634, -1.98364088,\n",
              "        -3.80345542, -5.62326995]),\n",
              " array([3.49730403e-04, 5.96292183e-03, 1.28722196e-01, 8.73131650e-01,\n",
              "        7.54145222e-02, 3.46613846e-03, 2.20457360e-04]),\n",
              " array([1.74865201e-04, 2.98146091e-03, 6.43610980e-02, 4.36565825e-01,\n",
              "        3.77072611e-02, 1.73306923e-03, 1.10228680e-04]))"
            ]
          },
          "metadata": {
            "tags": []
          },
          "execution_count": 21
        }
      ]
    },
    {
      "cell_type": "code",
      "metadata": {
        "id": "mHfvu9Lug0SM",
        "colab": {
          "base_uri": "https://localhost:8080/"
        },
        "outputId": "05f964ea-db07-415c-b3da-9d21ddfec34f"
      },
      "source": [
        "# mu0= 7,8,9 時， tValue > 2.228，對應了 pValue_2side < 0.05 或 pValue_1side < 0.025\n",
        "# 由於  pValue < 臨界值 alpha \n",
        "# 因此 mu= 7,8,9 這三種假設 會被 否決\n",
        "\n",
        "# 簡單來講，樣本證據與假設值 mu0 的 tValue 代表他們之間的 差異值 或 距離， \n",
        "# 此值的大小在 2.228 以上算是差異【顯著】(significant)，\n",
        "# 它會對應 pValue 在 0.05 以下。\n",
        "\n",
        "# 為何 |tValue| > 2.228 算是差異【顯著】，主要是因為 2.228 是靠 pValue = 0.05, 以及 df=10 算出來的\n",
        "# 如果 大家約定 pValue= 0.05 以下算是 公認的 【小】機率，那麼就可認定 |tValue| > 2.228 以上叫做差異很【顯著】\n",
        "\n",
        "# 在強調一次  tValue= 2.228 是靠 pValue = .05 = 5% 以及 df= 10 算出來的\n",
        "# ==================================================================================\n",
        "\n",
        "st.t.ppf(.05/2, df=10)"
      ],
      "execution_count": 22,
      "outputs": [
        {
          "output_type": "execute_result",
          "data": {
            "text/plain": [
              "-2.2281388519649385"
            ]
          },
          "metadata": {
            "tags": []
          },
          "execution_count": 22
        }
      ]
    },
    {
      "cell_type": "code",
      "metadata": {
        "id": "RwOb_xLqg0XJ",
        "colab": {
          "base_uri": "https://localhost:8080/"
        },
        "outputId": "51d02a4c-876a-4d18-9f67-c74ad9acb261"
      },
      "source": [
        "# 令 df= 10,100,1000\n",
        "# 令機率臨界值 alpha= 10%, 5%, 1%\n",
        "# 把 把對應的 tValue 通通算一下。\n",
        " \n",
        "st.t.ppf(.10/2, df=10), st.t.ppf(.05/2, df=10), st.t.ppf(.01/2, df=10)"
      ],
      "execution_count": 23,
      "outputs": [
        {
          "output_type": "execute_result",
          "data": {
            "text/plain": [
              "(-1.8124611228107341, -2.2281388519649385, -3.169272667175838)"
            ]
          },
          "metadata": {
            "tags": []
          },
          "execution_count": 23
        }
      ]
    },
    {
      "cell_type": "code",
      "metadata": {
        "colab": {
          "base_uri": "https://localhost:8080/"
        },
        "id": "WLBRHvvVkhqz",
        "outputId": "7bea5616-f947-4d78-859a-9c76601e58b8"
      },
      "source": [
        "st.t.ppf(.10/2, df=100), st.t.ppf(.05/2, df=100), st.t.ppf(.01/2, df=100)\n"
      ],
      "execution_count": 24,
      "outputs": [
        {
          "output_type": "execute_result",
          "data": {
            "text/plain": [
              "(-1.6602343260657506, -1.983971518449634, -2.625890520586334)"
            ]
          },
          "metadata": {
            "tags": []
          },
          "execution_count": 24
        }
      ]
    },
    {
      "cell_type": "code",
      "metadata": {
        "colab": {
          "base_uri": "https://localhost:8080/"
        },
        "id": "KMeZ8wHokhu2",
        "outputId": "37e9756f-16c1-40ee-ea24-7b00b6bb8df8"
      },
      "source": [
        "st.t.ppf(.10/2, df=1000), st.t.ppf(.05/2, df=1000), st.t.ppf(.01/2, df=1000)"
      ],
      "execution_count": 25,
      "outputs": [
        {
          "output_type": "execute_result",
          "data": {
            "text/plain": [
              "(-1.6463788172854645, -1.9623390808264078, -2.5807546980659426)"
            ]
          },
          "metadata": {
            "tags": []
          },
          "execution_count": 25
        }
      ]
    },
    {
      "cell_type": "code",
      "metadata": {
        "id": "FKgXSxQ_khyu"
      },
      "source": [
        ""
      ],
      "execution_count": 25,
      "outputs": []
    },
    {
      "cell_type": "code",
      "metadata": {
        "id": "pe25LawEkh3N"
      },
      "source": [
        ""
      ],
      "execution_count": 25,
      "outputs": []
    },
    {
      "cell_type": "code",
      "metadata": {
        "colab": {
          "base_uri": "https://localhost:8080/"
        },
        "id": "GYV-j4epuUvS",
        "outputId": "e8182ba3-a68c-472f-ef46-3a2fab6fd599"
      },
      "source": [
        "  smpY= Y.sample(n= smpSize)\n",
        "  interval= st.t.interval(.95, \n",
        "        df=smpY.size-1, \n",
        "        loc=smpY.mean(), \n",
        "        scale=st.sem(smpY))\n",
        "  Y.mean(), \\\n",
        "  smpY.values, \\\n",
        "  smpY.mean(), \\\n",
        "  smpY.std(),  \\\n",
        "  smpY.std()/smpY.size**.5, \\\n",
        "  st.sem(smpY), \\\n",
        "  interval\n"
      ],
      "execution_count": 26,
      "outputs": [
        {
          "output_type": "execute_result",
          "data": {
            "text/plain": [
              "(9.989334610298846,\n",
              " array([ 8.57105874, 11.7045209 , 11.45923092, 11.0463524 ,  6.97805363,\n",
              "         8.25367287, 11.36935408,  9.48133976, 10.66163195,  8.86094007,\n",
              "        14.68033809]),\n",
              " 10.27877212892592,\n",
              " 2.1279886352970667,\n",
              " 0.6416127146746189,\n",
              " 0.6416127146746189,\n",
              " (8.849169911444708, 11.708374346407133))"
            ]
          },
          "metadata": {
            "tags": []
          },
          "execution_count": 26
        }
      ]
    },
    {
      "cell_type": "code",
      "metadata": {
        "colab": {
          "base_uri": "https://localhost:8080/"
        },
        "id": "8D4EnaHcuUzi",
        "outputId": "2c90619d-0072-4818-cce8-52e2ba86030f"
      },
      "source": [
        "# 不能否決假設之區域 (接受假設之區域)\n",
        "aL=[]\n",
        "for mu in np.linspace(interval[0], interval[1], 11):\n",
        "  tV, pV= st.ttest_1samp(smpY, mu)\n",
        "  aL += [(mu, tV,pV)]\n",
        "aL\n"
      ],
      "execution_count": 27,
      "outputs": [
        {
          "output_type": "execute_result",
          "data": {
            "text/plain": [
              "[(8.849169911444708, 2.228138851964944, 0.05000000000180814),\n",
              " (9.135090354940951, 1.7825110815719551, 0.10499776190472775),\n",
              " (9.421010798437193, 1.336883311178969, 0.21087735831876053),\n",
              " (9.706931241933436, 0.8912555407859803, 0.39373097923150346),\n",
              " (9.992851685429677, 0.44562777039299434, 0.6653586583557851),\n",
              " (10.27877212892592, 5.537162212569602e-15, 0.9999999999999957),\n",
              " (10.564692572422164, -0.44562777039298324, 0.6653586583557929),\n",
              " (10.850613015918405, -0.8912555407859692, 0.393730979231509),\n",
              " (11.136533459414649, -1.336883311178958, 0.21087735831876395),\n",
              " (11.42245390291089, -1.782511081571944, 0.10499776190472968),\n",
              " (11.708374346407133, -2.2281388519649328, 0.05000000000180908)]"
            ]
          },
          "metadata": {
            "tags": []
          },
          "execution_count": 27
        }
      ]
    },
    {
      "cell_type": "code",
      "metadata": {
        "colab": {
          "base_uri": "https://localhost:8080/"
        },
        "id": "ubTu_2Z_uU3T",
        "outputId": "3b7d50ec-bd93-440f-8564-ba8aa00bd77c"
      },
      "source": [
        "# 否決假設之區域\n",
        "bL=[]\n",
        "for mu in np.linspace(interval[0]-10, interval[0], 11):\n",
        "  tV, pV= st.ttest_1samp(smpY, mu)\n",
        "  bL += [(mu, tV,pV)]\n",
        "bL"
      ],
      "execution_count": 28,
      "outputs": [
        {
          "output_type": "execute_result",
          "data": {
            "text/plain": [
              "[(-1.150830088555292, 17.813864900226477, 6.633601320940808e-09),\n",
              " (-0.150830088555292, 16.255292295400324, 1.6113704100310955e-08),\n",
              " (0.849169911444708, 14.69671969057417, 4.253882057876952e-08),\n",
              " (1.849169911444708, 13.138147085748017, 1.24056680116563e-07),\n",
              " (2.849169911444708, 11.579574480921863, 4.0826059172206314e-07),\n",
              " (3.849169911444708, 10.02100187609571, 1.5592736555930527e-06),\n",
              " (4.849169911444708, 8.462429271269556, 7.173956245133268e-06),\n",
              " (5.849169911444708, 6.903856666443404, 4.1747379022179174e-05),\n",
              " (6.849169911444708, 5.34528406161725, 0.00032578428476510264),\n",
              " (7.849169911444708, 3.786711456791097, 0.0035625368353336693),\n",
              " (8.849169911444708, 2.228138851964944, 0.05000000000180814)]"
            ]
          },
          "metadata": {
            "tags": []
          },
          "execution_count": 28
        }
      ]
    },
    {
      "cell_type": "code",
      "metadata": {
        "colab": {
          "base_uri": "https://localhost:8080/"
        },
        "id": "y3KVNY6duU7p",
        "outputId": "8e1ceb7a-c1bc-47ab-db3c-6b3030fc6d7b"
      },
      "source": [
        "# 否決假設之區域\n",
        "cL=[]\n",
        "for mu in np.linspace(interval[1], interval[1]+10, 11):\n",
        "  tV, pV= st.ttest_1samp(smpY, mu)\n",
        "  cL += [(mu, tV,pV)]\n",
        "cL"
      ],
      "execution_count": 29,
      "outputs": [
        {
          "output_type": "execute_result",
          "data": {
            "text/plain": [
              "[(11.708374346407133, -2.2281388519649328, 0.05000000000180908),\n",
              " (12.708374346407133, -3.7867114567910862, 0.0035625368353337326),\n",
              " (13.708374346407133, -5.345284061617239, 0.00032578428476510773),\n",
              " (14.708374346407133, -6.903856666443392, 4.1747379022179777e-05),\n",
              " (15.708374346407133, -8.462429271269546, 7.173956245133346e-06),\n",
              " (16.708374346407133, -10.0210018760957, 1.5592736555930695e-06),\n",
              " (17.708374346407133, -11.579574480921853, 4.0826059172206685e-07),\n",
              " (18.708374346407133, -13.138147085748006, 1.2405668011656408e-07),\n",
              " (19.708374346407133, -14.696719690574158, 4.253882057876975e-08),\n",
              " (20.708374346407133, -16.255292295400313, 1.6113704100311124e-08),\n",
              " (21.708374346407133, -17.813864900226466, 6.633601320940831e-09)]"
            ]
          },
          "metadata": {
            "tags": []
          },
          "execution_count": 29
        }
      ]
    },
    {
      "cell_type": "code",
      "metadata": {
        "id": "4KY6LPjvvl0_"
      },
      "source": [
        ""
      ],
      "execution_count": 29,
      "outputs": []
    },
    {
      "cell_type": "code",
      "metadata": {
        "id": "WbtiBYMWvl5m"
      },
      "source": [
        ""
      ],
      "execution_count": 29,
      "outputs": []
    },
    {
      "cell_type": "code",
      "metadata": {
        "id": "ebP9lJmjvl-k"
      },
      "source": [
        ""
      ],
      "execution_count": 29,
      "outputs": []
    },
    {
      "cell_type": "code",
      "metadata": {
        "id": "OBK-h1dQlxlZ"
      },
      "source": [
        ""
      ],
      "execution_count": 29,
      "outputs": []
    },
    {
      "cell_type": "code",
      "metadata": {
        "id": "8NVYmc3Blxpc"
      },
      "source": [
        ""
      ],
      "execution_count": 29,
      "outputs": []
    },
    {
      "cell_type": "code",
      "metadata": {
        "id": "XVWKSbqulxtN"
      },
      "source": [
        ""
      ],
      "execution_count": 29,
      "outputs": []
    },
    {
      "cell_type": "code",
      "metadata": {
        "id": "dcTdw7f8lxyu"
      },
      "source": [
        "# 以下 作廢"
      ],
      "execution_count": 30,
      "outputs": []
    },
    {
      "cell_type": "code",
      "metadata": {
        "id": "-wmqfBfaXeYq"
      },
      "source": [
        "import pandas_datareader as pdr"
      ],
      "execution_count": 31,
      "outputs": []
    },
    {
      "cell_type": "code",
      "metadata": {
        "colab": {
          "base_uri": "https://localhost:8080/"
        },
        "id": "BlJUujD8ew1J",
        "outputId": "66a6b13c-81ce-4706-b3e9-a618f210e4eb"
      },
      "source": [
        "Z= st.norm.rvs(size=1000)\n",
        "Z= pd.Series(Z)\n",
        "Z.describe()\n"
      ],
      "execution_count": 32,
      "outputs": [
        {
          "output_type": "execute_result",
          "data": {
            "text/plain": [
              "count    1000.000000\n",
              "mean       -0.025885\n",
              "std         1.012249\n",
              "min        -3.219903\n",
              "25%        -0.705458\n",
              "50%        -0.035892\n",
              "75%         0.675633\n",
              "max         2.913411\n",
              "dtype: float64"
            ]
          },
          "metadata": {
            "tags": []
          },
          "execution_count": 32
        }
      ]
    },
    {
      "cell_type": "code",
      "metadata": {
        "colab": {
          "base_uri": "https://localhost:8080/",
          "height": 282
        },
        "id": "p80C7FYAe_4Q",
        "outputId": "345ffa30-09c0-4d3e-e2b0-9c263833b176"
      },
      "source": [
        "(2**Z).hist()"
      ],
      "execution_count": 33,
      "outputs": [
        {
          "output_type": "execute_result",
          "data": {
            "text/plain": [
              "<matplotlib.axes._subplots.AxesSubplot at 0x7feabd44f890>"
            ]
          },
          "metadata": {
            "tags": []
          },
          "execution_count": 33
        },
        {
          "output_type": "display_data",
          "data": {
            "image/png": "[encoded data removed]",
            "text/plain": [
              "<Figure size 432x288 with 1 Axes>"
            ]
          },
          "metadata": {
            "tags": [],
            "needs_background": "light"
          }
        }
      ]
    },
    {
      "cell_type": "code",
      "metadata": {
        "colab": {
          "base_uri": "https://localhost:8080/",
          "height": 282
        },
        "id": "O-qtKvhUfALy",
        "outputId": "527e1e7f-f6a9-495d-ff3b-c7893cd41e77"
      },
      "source": [
        "(Z**2).hist()"
      ],
      "execution_count": 34,
      "outputs": [
        {
          "output_type": "execute_result",
          "data": {
            "text/plain": [
              "<matplotlib.axes._subplots.AxesSubplot at 0x7feabe25b150>"
            ]
          },
          "metadata": {
            "tags": []
          },
          "execution_count": 34
        },
        {
          "output_type": "display_data",
          "data": {
            "image/png": "[encoded data removed]",
            "text/plain": [
              "<Figure size 432x288 with 1 Axes>"
            ]
          },
          "metadata": {
            "tags": [],
            "needs_background": "light"
          }
        }
      ]
    },
    {
      "cell_type": "code",
      "metadata": {
        "colab": {
          "base_uri": "https://localhost:8080/",
          "height": 418
        },
        "id": "w4Zw8IUNiIaF",
        "outputId": "f3da23cf-3368-4d45-d069-56e5fda74a5e"
      },
      "source": [
        "n= 1000\n",
        "Z= st.norm.rvs(size= n)\n",
        "Z= pd.Series(Z)\n",
        "#Z.plot()\n",
        "Z.hist()\n",
        "Z.describe()"
      ],
      "execution_count": 35,
      "outputs": [
        {
          "output_type": "execute_result",
          "data": {
            "text/plain": [
              "count    1000.000000\n",
              "mean       -0.009139\n",
              "std         1.048883\n",
              "min        -2.988900\n",
              "25%        -0.715849\n",
              "50%        -0.029848\n",
              "75%         0.702250\n",
              "max         3.546600\n",
              "dtype: float64"
            ]
          },
          "metadata": {
            "tags": []
          },
          "execution_count": 35
        },
        {
          "output_type": "display_data",
          "data": {
            "image/png": "[encoded data removed]",
            "text/plain": [
              "<Figure size 432x288 with 1 Axes>"
            ]
          },
          "metadata": {
            "tags": [],
            "needs_background": "light"
          }
        }
      ]
    },
    {
      "cell_type": "code",
      "metadata": {
        "id": "G-0tu_33ioqw"
      },
      "source": [
        "\n"
      ],
      "execution_count": 35,
      "outputs": []
    },
    {
      "cell_type": "code",
      "metadata": {
        "colab": {
          "base_uri": "https://localhost:8080/",
          "height": 282
        },
        "id": "vg_mr9ObiXh5",
        "outputId": "e311cda8-610c-4f2a-9c3f-5dc519bd1896"
      },
      "source": [
        "Z.plot()"
      ],
      "execution_count": 36,
      "outputs": [
        {
          "output_type": "execute_result",
          "data": {
            "text/plain": [
              "<matplotlib.axes._subplots.AxesSubplot at 0x7feabe330450>"
            ]
          },
          "metadata": {
            "tags": []
          },
          "execution_count": 36
        },
        {
          "output_type": "display_data",
          "data": {
            "image/png": "[encoded data removed]",
            "text/plain": [
              "<Figure size 432x288 with 1 Axes>"
            ]
          },
          "metadata": {
            "tags": [],
            "needs_background": "light"
          }
        }
      ]
    },
    {
      "cell_type": "code",
      "metadata": {
        "colab": {
          "base_uri": "https://localhost:8080/",
          "height": 282
        },
        "id": "Ct1RoMbpjIWw",
        "outputId": "80e9aa93-47e3-4b59-fc31-03950a36abc9"
      },
      "source": [
        "Z.cumsum().plot()"
      ],
      "execution_count": 37,
      "outputs": [
        {
          "output_type": "execute_result",
          "data": {
            "text/plain": [
              "<matplotlib.axes._subplots.AxesSubplot at 0x7feabeb423d0>"
            ]
          },
          "metadata": {
            "tags": []
          },
          "execution_count": 37
        },
        {
          "output_type": "display_data",
          "data": {
            "image/png": "[encoded data removed]",
            "text/plain": [
              "<Figure size 432x288 with 1 Axes>"
            ]
          },
          "metadata": {
            "tags": [],
            "needs_background": "light"
          }
        }
      ]
    },
    {
      "cell_type": "code",
      "metadata": {
        "colab": {
          "base_uri": "https://localhost:8080/"
        },
        "id": "tS2a3B6gjK0F",
        "outputId": "9d4c47b2-4854-4b52-b911-bd1357bd0564"
      },
      "source": [
        "import numpy as np\n",
        "np.log(2)"
      ],
      "execution_count": 38,
      "outputs": [
        {
          "output_type": "execute_result",
          "data": {
            "text/plain": [
              "0.6931471805599453"
            ]
          },
          "metadata": {
            "tags": []
          },
          "execution_count": 38
        }
      ]
    },
    {
      "cell_type": "code",
      "metadata": {
        "id": "-lHb88SymD15"
      },
      "source": [
        "import sympy as sp"
      ],
      "execution_count": 39,
      "outputs": []
    },
    {
      "cell_type": "code",
      "metadata": {
        "colab": {
          "base_uri": "https://localhost:8080/"
        },
        "id": "fbxKB0jHoI-v",
        "outputId": "997b3cb3-b91f-403b-f35e-5800ff8a7368"
      },
      "source": [
        "x,y,z= sp.symbols('x y z')\n",
        "x,y,z"
      ],
      "execution_count": 40,
      "outputs": [
        {
          "output_type": "execute_result",
          "data": {
            "text/plain": [
              "(x, y, z)"
            ]
          },
          "metadata": {
            "tags": []
          },
          "execution_count": 40
        }
      ]
    },
    {
      "cell_type": "code",
      "metadata": {
        "colab": {
          "base_uri": "https://localhost:8080/",
          "height": 37
        },
        "id": "wzfHOtJGoUFg",
        "outputId": "6512cccf-60ea-4fa2-8b49-98909318da5f"
      },
      "source": [
        "sp.integrate(z**4 * sp.exp(-z**2/2)\n",
        "       /sp.sqrt(2*sp.pi), \n",
        "       (z, -sp.oo, sp.oo))\n"
      ],
      "execution_count": 41,
      "outputs": [
        {
          "output_type": "execute_result",
          "data": {
            "text/latex": "$\\displaystyle 3$",
            "text/plain": [
              "3"
            ]
          },
          "metadata": {
            "tags": []
          },
          "execution_count": 41
        }
      ]
    },
    {
      "cell_type": "code",
      "metadata": {
        "colab": {
          "base_uri": "https://localhost:8080/",
          "height": 60
        },
        "id": "1V-1B2ReoY4M",
        "outputId": "bd50c075-4db6-4c6d-8a37-1ea03830e655"
      },
      "source": [
        "value= sp.integrate(y**2 * sp.exp(-y/2) *y**(-1/2)\n",
        "       /sp.sqrt(2*sp.pi)/2, \n",
        "       (y, 0, sp.oo))\n",
        "value"
      ],
      "execution_count": 42,
      "outputs": [
        {
          "output_type": "execute_result",
          "data": {
            "text/latex": "$\\displaystyle \\frac{1.87997120597325 \\sqrt{2}}{\\sqrt{\\pi}}$",
            "text/plain": [
              "1.87997120597325*sqrt(2)/sqrt(pi)"
            ]
          },
          "metadata": {
            "tags": []
          },
          "execution_count": 42
        }
      ]
    },
    {
      "cell_type": "code",
      "metadata": {
        "colab": {
          "base_uri": "https://localhost:8080/"
        },
        "id": "JHApGfzcpCt_",
        "outputId": "05a16b33-1815-4123-fd48-e235ae9f8c7c"
      },
      "source": [
        "float(value)"
      ],
      "execution_count": 43,
      "outputs": [
        {
          "output_type": "execute_result",
          "data": {
            "text/plain": [
              "1.5"
            ]
          },
          "metadata": {
            "tags": []
          },
          "execution_count": 43
        }
      ]
    },
    {
      "cell_type": "code",
      "metadata": {
        "colab": {
          "base_uri": "https://localhost:8080/",
          "height": 37
        },
        "id": "QDWPkgiXrDNi",
        "outputId": "1af6c045-a649-416c-edf5-c7b6dfc51b18"
      },
      "source": [
        "value= sp.integrate(y**2 * sp.exp(-y/2) *y**(-1/2) /sp.gamma(1/2)/2**(1/2),\n",
        "       #/sp.sqrt(2*sp.pi)/2, \n",
        "       (y, 0, sp.oo))\n",
        "value\n"
      ],
      "execution_count": 44,
      "outputs": [
        {
          "output_type": "execute_result",
          "data": {
            "text/latex": "$\\displaystyle 3.0$",
            "text/plain": [
              "3.00000000000000"
            ]
          },
          "metadata": {
            "tags": []
          },
          "execution_count": 44
        }
      ]
    },
    {
      "cell_type": "code",
      "metadata": {
        "colab": {
          "base_uri": "https://localhost:8080/",
          "height": 60
        },
        "id": "Puc8wbC2s_NT",
        "outputId": "3d80e228-5f85-4b43-f5a1-1cd86cc84a76"
      },
      "source": [
        "f= sp.exp(-x/2)*x**(-1/2)/sp.sqrt(2*sp.pi)\n",
        "f"
      ],
      "execution_count": 45,
      "outputs": [
        {
          "output_type": "execute_result",
          "data": {
            "text/latex": "$\\displaystyle \\frac{\\sqrt{2} e^{- \\frac{x}{2}}}{2 \\sqrt{\\pi} x^{0.5}}$",
            "text/plain": [
              "sqrt(2)*x**(-0.5)*exp(-x/2)/(2*sqrt(pi))"
            ]
          },
          "metadata": {
            "tags": []
          },
          "execution_count": 45
        }
      ]
    },
    {
      "cell_type": "code",
      "metadata": {
        "id": "Pm908o70yymn"
      },
      "source": [
        ""
      ],
      "execution_count": 45,
      "outputs": []
    }
  ]
}