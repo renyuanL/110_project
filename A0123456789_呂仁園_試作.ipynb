{
  "nbformat": 4,
  "nbformat_minor": 0,
  "metadata": {
    "colab": {
      "name": "_ry_期末考2021_v01",
      "provenance": [],
      "collapsed_sections": [],
      "authorship_tag": "ABX9TyOw7Vwk5R/9XkjZn5sC/OiM",
      "include_colab_link": true
    },
    "kernelspec": {
      "name": "python3",
      "display_name": "Python 3"
    },
    "language_info": {
      "name": "python"
    }
  },
  "cells": [
    {
      "cell_type": "markdown",
      "metadata": {
        "id": "view-in-github",
        "colab_type": "text"
      },
      "source": [
        "<a href=\"https://colab.research.google.com/github/renyuanL/110_project/blob/main/A0123456789_%E5%91%82%E4%BB%81%E5%9C%92_%E8%A9%A6%E4%BD%9C.ipynb\" target=\"_parent\"><img src=\"https://colab.research.google.com/assets/colab-badge.svg\" alt=\"Open In Colab\"/></a>"
      ]
    },
    {
      "cell_type": "markdown",
      "metadata": {
        "id": "1l8i6ab_FTEj"
      },
      "source": [
        "# 期末考題 2021\n",
        "## 長庚大學 資工系 @ 2021/06/22\n",
        "- by 呂仁園老師\n",
        "\n",
        "----\n",
        "# 1. \n",
        "考試時間 2021/06/22， 10:10~ 12:30，\n",
        "\n",
        "# 2. \n",
        "嚴禁同學間互相抄襲，若有抄襲情形，【抄襲者】與【被抄襲者】皆為0分。請不要害別人，也保護自己不被別人害！\n",
        "\n",
        "# 3. \n",
        "答案 以 【pdf】 檔案 上傳 【Elearning】 之 \n",
        "【評量區】//【作業/報告】//【正式期末考專區】\n",
        "\n",
        "# 4. \n",
        "pdf 應含所撰寫之程式(.ipynb) 之 Colab 或 Github 連結，可讓老師或助教直接點擊該連結即可觀看程式。\n",
        "\n",
        "\n",
        "# 5. \n",
        "答題須寫推論或計算過程，若有Python程式碼，應完全列出指令。\n",
        "\n",
        "# 6.\n",
        "題目共 20 小題，每題 5%"
      ]
    },
    {
      "cell_type": "markdown",
      "metadata": {
        "id": "NHD5j7tnM5CD"
      },
      "source": [
        "#[Q1]\n",
        "\n",
        "$n$ 個獨立且分布相同的隨機變數 \n",
        "$\n",
        "X_1,\\ X_2, …. X_n\n",
        "$\n",
        "它們有共同的\n",
        "\n",
        "期望值: $E(X_i)=μ$, \n",
        "\n",
        "標準差: $Std(X_i)=σ$, \n",
        "\n",
        "----\n",
        "$\\bar{X}$ , $S^2$ \n",
        "\n",
        "分別代表它們的【樣本平均數】以及【樣本變異數】。數學公式定義如下：\n",
        "\n",
        "$\n",
        "\\bar{X}=\\frac{1}{n}\\sum_{i=1}^{n}X_i\n",
        "\\\\\n",
        "S^2=\\frac{1}{n-1}\\sum_{i=1}^{n}\\left(X_i-\\bar{X}\\right)^2\n",
        "$\n",
        "\n",
        "----\n",
        "令 統計量 $T$ 代表 樣本平均$\\bar{X}$ 與母體平均$μ$ 之間的【正規距離】(scaled distance)，數學公式定義如下：\n",
        "\n",
        "$\n",
        "T=\\frac{\\ \\bar{X}-\\mu}{S/\\sqrt{n}}\n",
        "$\n",
        "\n",
        "----\n",
        "\n",
        "\n",
        "令 n = 10,  μ= 5,  σ=2，\n",
        "請回答以下問題\n",
        "\n",
        "1. \n",
        "$\n",
        "\tE\\left(\\bar{X}\\right)=\\ ?\n",
        "$\n",
        "\n",
        "1. \n",
        "$\n",
        "\tE\\left(S^2\\right)=\\ ?\n",
        "$\n",
        "\n",
        "1. \n",
        "$\n",
        "\tE\\left(T\\right)=\\ ?\n",
        "$\n",
        "\n",
        "1. \n",
        "$\n",
        "\tVar\\left(\\bar{X}\\right)=\\ ?\n",
        "$\n",
        "\n",
        "1. \n",
        "$\n",
        "\tVar\\left(S^2\\right)=\\ ?\n",
        "$\n",
        "\n",
        "1. \n",
        "$\n",
        "\tVar\\left(T\\right)=\\ ?\n",
        "$\n",
        "\n",
        "1. \n",
        "$\n",
        "\t\\bar{X} 的 機率密度函數  f_{\\bar{X}}\\left(x\\right)=?\n",
        "$\n",
        "\n",
        "1. \n",
        "$\n",
        "\tS^2 的機率密度函數 f_{S^2}\\left(q\\right)=?\n",
        "$\n",
        "\n",
        "1. \n",
        "$\n",
        "\tT 的 機率密度函數  f_T\\left(t\\right)=?\n",
        "$\n",
        "\n",
        "1. \n",
        "$\n",
        "\tP\\left(4\\le\\bar{X}\\le6\\right)=?\n",
        "$\n",
        "\n",
        "1. \n",
        "$\n",
        "\tP\\left(3\\le S^2\\le5\\right)=?\n",
        "$\n",
        "\n",
        "1. \n",
        "$\n",
        "\tP\\left(-1\\le T\\le1\\right)=?\n",
        "$\n",
        "\n",
        "1. \n",
        "$\n",
        "\t若 P\\left( x_1\\le\\bar{X}\\le x_2\\right)=95\\%，那麼(x_1, x_2)=?\n",
        "$\n",
        "\n",
        "1. \n",
        "$\n",
        "\t若 P\\left(q_1\\le S^2\\le\\ q_2\\right)=95\\%，那麼 (q_1, q_2) = ?\n",
        "$\n",
        "\n",
        "1. \n",
        "$\n",
        "\t若 P\\left(t_1\\le T\\le t_2\\right)= 95\\%，那麼 (t_1, t_2)=?\n",
        "$\n",
        "\n",
        "\n"
      ]
    },
    {
      "cell_type": "markdown",
      "metadata": {
        "id": "ret3QoyQM4FM"
      },
      "source": [
        "首先，引入必要的模組"
      ]
    },
    {
      "cell_type": "code",
      "metadata": {
        "id": "xMK4shCLFqHb"
      },
      "source": [
        "import numpy      as np\n",
        "import scipy.special  as sp\n",
        "import scipy.stats   as st\n",
        "import pandas      as pd\n",
        "\n",
        "\n",
        "n= 10 \n",
        "μ= 5\n",
        "σ= 2\n",
        "  "
      ],
      "execution_count": 1,
      "outputs": []
    },
    {
      "cell_type": "markdown",
      "metadata": {
        "id": "0IBnpscPHcPR"
      },
      "source": [
        "1. \n",
        "$\n",
        "\tE\\left(\\bar{X}\\right)=\\ ?\n",
        "$\n"
      ]
    },
    {
      "cell_type": "markdown",
      "metadata": {
        "id": "NIWgOEdigSG8"
      },
      "source": [
        "第一題答案，以及過程。。。。\n",
        "\n",
        "![image.png](data:image/png;base64,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)"
      ]
    },
    {
      "cell_type": "code",
      "metadata": {
        "id": "xqJSMaHkIFad"
      },
      "source": [
        "#(1) 第一題答案，以及過程。。。。"
      ],
      "execution_count": null,
      "outputs": []
    },
    {
      "cell_type": "markdown",
      "metadata": {
        "id": "sOdBob9eHfwJ"
      },
      "source": [
        "\n",
        "2. \n",
        "$\n",
        "\tE\\left(S^2\\right)=\\ ?\n",
        "$\n"
      ]
    },
    {
      "cell_type": "code",
      "metadata": {
        "id": "SKLdfF4VIPLJ"
      },
      "source": [
        "#(2) 第一題答案，以及過程。。。。"
      ],
      "execution_count": null,
      "outputs": []
    },
    {
      "cell_type": "markdown",
      "metadata": {
        "id": "jEMhYdIJHiXS"
      },
      "source": [
        "\n",
        "3. \n",
        "$\n",
        "\tE\\left(T\\right)=\\ ?\n",
        "$\n"
      ]
    },
    {
      "cell_type": "code",
      "metadata": {
        "id": "AdOA_04RIQpy"
      },
      "source": [
        "#(3)"
      ],
      "execution_count": null,
      "outputs": []
    },
    {
      "cell_type": "markdown",
      "metadata": {
        "id": "4Zd3Bn2tHnJR"
      },
      "source": [
        "\n",
        "4. \n",
        "$\n",
        "\tVar\\left(\\bar{X}\\right)=\\ ?\n",
        "$\n"
      ]
    },
    {
      "cell_type": "code",
      "metadata": {
        "id": "0Lz06ItVIRj6"
      },
      "source": [
        "#(4)"
      ],
      "execution_count": null,
      "outputs": []
    },
    {
      "cell_type": "markdown",
      "metadata": {
        "id": "dqB7nq1vHoih"
      },
      "source": [
        "\n",
        "5. \n",
        "$\n",
        "\tVar\\left(S^2\\right)=\\ ?\n",
        "$\n"
      ]
    },
    {
      "cell_type": "code",
      "metadata": {
        "id": "mA2XFMcqISsk"
      },
      "source": [
        "#(5)"
      ],
      "execution_count": null,
      "outputs": []
    },
    {
      "cell_type": "markdown",
      "metadata": {
        "id": "8WgBr2DMHpwS"
      },
      "source": [
        "\n",
        "6. \n",
        "$\n",
        "\tVar\\left(T\\right)=\\ ?\n",
        "$\n"
      ]
    },
    {
      "cell_type": "code",
      "metadata": {
        "id": "FldyobqHIThq"
      },
      "source": [
        "#(6)"
      ],
      "execution_count": null,
      "outputs": []
    },
    {
      "cell_type": "markdown",
      "metadata": {
        "id": "DurEWYdyHq_p"
      },
      "source": [
        "\n",
        "7. \n",
        "$\n",
        "\t\\bar{X} 的 機率密度函數  f_{\\bar{X}}\\left(x\\right)=?\n",
        "$\n"
      ]
    },
    {
      "cell_type": "code",
      "metadata": {
        "id": "n_7Bj5SVIUlU"
      },
      "source": [
        "#(7)"
      ],
      "execution_count": null,
      "outputs": []
    },
    {
      "cell_type": "markdown",
      "metadata": {
        "id": "KOM9Sq3EHsOx"
      },
      "source": [
        "\n",
        "8. \n",
        "$\n",
        "\tS^2 的機率密度函數 f_{S^2}\\left(q\\right)=?\n",
        "$\n"
      ]
    },
    {
      "cell_type": "code",
      "metadata": {
        "id": "O-0Am5PyIVmd"
      },
      "source": [
        "#(8)"
      ],
      "execution_count": null,
      "outputs": []
    },
    {
      "cell_type": "markdown",
      "metadata": {
        "id": "GT3Ya54PHteJ"
      },
      "source": [
        "\n",
        "9. \n",
        "$\n",
        "\tT 的 機率密度函數  f_T\\left(t\\right)=?\n",
        "$\n"
      ]
    },
    {
      "cell_type": "code",
      "metadata": {
        "id": "9fkx-8cIIE10"
      },
      "source": [
        "#(9)"
      ],
      "execution_count": null,
      "outputs": []
    },
    {
      "cell_type": "markdown",
      "metadata": {
        "id": "HW8EfHSRHurd"
      },
      "source": [
        "\n",
        "10. \n",
        "$\n",
        "\tP\\left(4\\le\\bar{X}\\le6\\right)=?\n",
        "$\n"
      ]
    },
    {
      "cell_type": "code",
      "metadata": {
        "id": "f--b36SNIXmp"
      },
      "source": [
        "#(10)"
      ],
      "execution_count": null,
      "outputs": []
    },
    {
      "cell_type": "markdown",
      "metadata": {
        "id": "5CNXCGRiHvxN"
      },
      "source": [
        "\n",
        "11. \n",
        "$\n",
        "\tP\\left(3\\le S^2\\le5\\right)=?\n",
        "$\n"
      ]
    },
    {
      "cell_type": "code",
      "metadata": {
        "id": "JrqTTcALIY0a"
      },
      "source": [
        "#(12)"
      ],
      "execution_count": null,
      "outputs": []
    },
    {
      "cell_type": "markdown",
      "metadata": {
        "id": "1dRf2CDMHw90"
      },
      "source": [
        "\n",
        "12. \n",
        "$\n",
        "\tP\\left(-1\\le T\\le1\\right)=?\n",
        "$\n"
      ]
    },
    {
      "cell_type": "code",
      "metadata": {
        "id": "PFxQFU9PIZop"
      },
      "source": [
        "#(12)"
      ],
      "execution_count": null,
      "outputs": []
    },
    {
      "cell_type": "markdown",
      "metadata": {
        "id": "GON6jLUMHyDy"
      },
      "source": [
        "\n",
        "13. \n",
        "$\n",
        "\t若 P\\left( x_1\\le\\bar{X}\\le x_2\\right)=95\\%，那麼(x_1, x_2)=?\n",
        "$\n"
      ]
    },
    {
      "cell_type": "code",
      "metadata": {
        "id": "LxIBvURrIaiy"
      },
      "source": [
        "#(13)"
      ],
      "execution_count": null,
      "outputs": []
    },
    {
      "cell_type": "markdown",
      "metadata": {
        "id": "c7VR0hk7HzRF"
      },
      "source": [
        "\n",
        "14. \n",
        "$\n",
        "\t若 P\\left(q_1\\le S^2\\le\\ q_2\\right)=95\\%，那麼 (q_1, q_2) = ?\n",
        "$\n"
      ]
    },
    {
      "cell_type": "code",
      "metadata": {
        "id": "EFlvxALjNEaA"
      },
      "source": [
        "#(14)"
      ],
      "execution_count": null,
      "outputs": []
    },
    {
      "cell_type": "markdown",
      "metadata": {
        "id": "F8AtCF7nH0eC"
      },
      "source": [
        "\n",
        "15. \n",
        "$\n",
        "\t若 P\\left(t_1\\le T\\le t_2\\right)= 95\\%，那麼 (t_1, t_2)=?\n",
        "$"
      ]
    },
    {
      "cell_type": "code",
      "metadata": {
        "id": "33NBIpemHTJP"
      },
      "source": [
        "#(15)"
      ],
      "execution_count": null,
      "outputs": []
    },
    {
      "cell_type": "markdown",
      "metadata": {
        "id": "vKD93gF61SFS"
      },
      "source": [
        "#[Q2]\n",
        "\n",
        "某大學於某年做了學生身高資料普查，學生總數N為 10000人，全體學生身高平均數μ= 159.8cm，標準差σ = 9.9 cm，資料分布約略如下圖：(橫坐標為身高cm、縱坐標為學生人數)\n"
      ]
    },
    {
      "cell_type": "code",
      "metadata": {
        "id": "xWPelhY8FqpS",
        "colab": {
          "base_uri": "https://localhost:8080/",
          "height": 424
        },
        "outputId": "29831002-8c34-4e5b-ab64-fecd92e1997d"
      },
      "source": [
        "# 針對某大學全體學生做了一次身高普查，學生總數 N= 10000\n",
        "# 普查資料 存放在 X \n",
        "\n",
        "# 先以模擬方式製造一堆 (size= 10000) 符合此種分布的實驗數據\n",
        "\n",
        "np.random.seed(0)\n",
        "X= st.norm.rvs(size=10000, loc= 160, scale=10)\n",
        "\n",
        "# 畫出 分布圖，\n",
        "# 並觀察母體平均數 mu= E(X)=μ== 159.8, \n",
        "# 以及 標準差 sigma= Std(X)=σ== 9.9\n",
        "\n",
        "X= pd.Series(X)\n",
        "X.hist(bins= 100, grid=True)\n",
        "X.describe().round(1)\n"
      ],
      "execution_count": null,
      "outputs": [
        {
          "output_type": "execute_result",
          "data": {
            "text/plain": [
              "count    10000.0\n",
              "mean       159.8\n",
              "std          9.9\n",
              "min        122.6\n",
              "25%        153.1\n",
              "50%        159.7\n",
              "75%        166.5\n",
              "max        198.0\n",
              "dtype: float64"
            ]
          },
          "metadata": {
            "tags": []
          },
          "execution_count": 17
        },
        {
          "output_type": "display_data",
          "data": {
            "image/png": "[encoded data removed]",
            "text/plain": [
              "<Figure size 432x288 with 1 Axes>"
            ]
          },
          "metadata": {
            "tags": [],
            "needs_background": "light"
          }
        }
      ]
    },
    {
      "cell_type": "markdown",
      "metadata": {
        "id": "ZsMVmx6H12Ss"
      },
      "source": [
        "某同學自己在好朋友之間 (10人) 做了一個調查，得到結果如下：\n",
        "\n"
      ]
    },
    {
      "cell_type": "code",
      "metadata": {
        "id": "9zfLpBwhFqwy",
        "colab": {
          "base_uri": "https://localhost:8080/",
          "height": 78
        },
        "outputId": "7d04d1b9-b7b8-49f8-9344-f4e43e1ce070"
      },
      "source": [
        "# 某位本課程的學生作了一個小實驗，\n",
        "# 他隨機調查了 n=10 位同學 的身高資料\n",
        "np.random.seed(0)\n",
        "smpSize= 10\n",
        "smpX= X.sample(n= smpSize)\n",
        "smpX.round(1)\n",
        "aDF= pd.DataFrame(smpX,columns=['身高(cm)'])\n",
        "aDF.index.name='學號'\n",
        "aDF.T.round(1)\n"
      ],
      "execution_count": null,
      "outputs": [
        {
          "output_type": "execute_result",
          "data": {
            "text/html": [
              "<div>\n",
              "<style scoped>\n",
              "    .dataframe tbody tr th:only-of-type {\n",
              "        vertical-align: middle;\n",
              "    }\n",
              "\n",
              "    .dataframe tbody tr th {\n",
              "        vertical-align: top;\n",
              "    }\n",
              "\n",
              "    .dataframe thead th {\n",
              "        text-align: right;\n",
              "    }\n",
              "</style>\n",
              "<table border=\"1\" class=\"dataframe\">\n",
              "  <thead>\n",
              "    <tr style=\"text-align: right;\">\n",
              "      <th>學號</th>\n",
              "      <th>9394</th>\n",
              "      <th>898</th>\n",
              "      <th>2398</th>\n",
              "      <th>5906</th>\n",
              "      <th>2343</th>\n",
              "      <th>8225</th>\n",
              "      <th>5506</th>\n",
              "      <th>6451</th>\n",
              "      <th>2670</th>\n",
              "      <th>3497</th>\n",
              "    </tr>\n",
              "  </thead>\n",
              "  <tbody>\n",
              "    <tr>\n",
              "      <th>身高(cm)</th>\n",
              "      <td>147.6</td>\n",
              "      <td>185.9</td>\n",
              "      <td>154.0</td>\n",
              "      <td>147.2</td>\n",
              "      <td>168.6</td>\n",
              "      <td>146.8</td>\n",
              "      <td>162.6</td>\n",
              "      <td>164.1</td>\n",
              "      <td>152.2</td>\n",
              "      <td>171.8</td>\n",
              "    </tr>\n",
              "  </tbody>\n",
              "</table>\n",
              "</div>"
            ],
            "text/plain": [
              "學號       9394   898    2398   5906   2343   8225   5506   6451   2670   3497\n",
              "身高(cm)  147.6  185.9  154.0  147.2  168.6  146.8  162.6  164.1  152.2  171.8"
            ]
          },
          "metadata": {
            "tags": []
          },
          "execution_count": 18
        }
      ]
    },
    {
      "cell_type": "markdown",
      "metadata": {
        "id": "hBk7XHvx2Y14"
      },
      "source": [
        "根據以上調查結果(10人之身高)，此位同學自行運用機率統計課程所學，搭配 Python 之統計計算模組，可以估計出以下結論\n",
        "\n",
        "16. 學校全體同學之平均身高μ之估測值 $\\bar{X}$ =?\n",
        "17. 學校全體同學之身高之標準差$σ$之估測值 $S$ =?\n",
        "18. μ 的 95% 信心區間 $(μ_1, μ_2)$ = ？\n"
      ]
    },
    {
      "cell_type": "code",
      "metadata": {
        "id": "XN6DdGTm2Dj8"
      },
      "source": [
        "#(16)\n"
      ],
      "execution_count": null,
      "outputs": []
    },
    {
      "cell_type": "code",
      "metadata": {
        "id": "9FgNVEWm5Kzj"
      },
      "source": [
        "#(17)\n"
      ],
      "execution_count": null,
      "outputs": []
    },
    {
      "cell_type": "code",
      "metadata": {
        "id": "EfFLh7WG5K4L"
      },
      "source": [
        "#(18)\n"
      ],
      "execution_count": null,
      "outputs": []
    },
    {
      "cell_type": "markdown",
      "metadata": {
        "id": "L3k5nEyj26su"
      },
      "source": [
        "後來，此位同學獲得更多的資料，達到20人之身高資料，新增之資料如下：\n"
      ]
    },
    {
      "cell_type": "code",
      "metadata": {
        "colab": {
          "base_uri": "https://localhost:8080/",
          "height": 78
        },
        "id": "X0sua8kw2Dn1",
        "outputId": "ff942031-3fd1-4a2b-a24e-e1272d6d2838"
      },
      "source": [
        "# 這位同學 在另一日額外取得 另 10 位 同學的身高資料\n",
        "# 他把這批資料併入原始資料，成為一份20人的資料，\n",
        "# 重新計算所有統計量並獲得信心區間的重新估測。\n",
        "#\n",
        "smpSize= 20\n",
        "np.random.seed(0) #000\n",
        "smpX= X.sample(n= smpSize)\n",
        "smpX.round(1)\n",
        "aDF= pd.DataFrame(smpX,columns=['身高(cm)'])\n",
        "aDF.index.name='學號'\n",
        "\n",
        "#aDF.round(1)\n",
        "#aDF.T.round(1)\n",
        "\n",
        "# 以下分2列來顯示以利觀看\n",
        "aDF.iloc[:10].T.round(1)"
      ],
      "execution_count": null,
      "outputs": [
        {
          "output_type": "execute_result",
          "data": {
            "text/html": [
              "<div>\n",
              "<style scoped>\n",
              "    .dataframe tbody tr th:only-of-type {\n",
              "        vertical-align: middle;\n",
              "    }\n",
              "\n",
              "    .dataframe tbody tr th {\n",
              "        vertical-align: top;\n",
              "    }\n",
              "\n",
              "    .dataframe thead th {\n",
              "        text-align: right;\n",
              "    }\n",
              "</style>\n",
              "<table border=\"1\" class=\"dataframe\">\n",
              "  <thead>\n",
              "    <tr style=\"text-align: right;\">\n",
              "      <th>學號</th>\n",
              "      <th>9394</th>\n",
              "      <th>898</th>\n",
              "      <th>2398</th>\n",
              "      <th>5906</th>\n",
              "      <th>2343</th>\n",
              "      <th>8225</th>\n",
              "      <th>5506</th>\n",
              "      <th>6451</th>\n",
              "      <th>2670</th>\n",
              "      <th>3497</th>\n",
              "    </tr>\n",
              "  </thead>\n",
              "  <tbody>\n",
              "    <tr>\n",
              "      <th>身高(cm)</th>\n",
              "      <td>147.6</td>\n",
              "      <td>185.9</td>\n",
              "      <td>154.0</td>\n",
              "      <td>147.2</td>\n",
              "      <td>168.6</td>\n",
              "      <td>146.8</td>\n",
              "      <td>162.6</td>\n",
              "      <td>164.1</td>\n",
              "      <td>152.2</td>\n",
              "      <td>171.8</td>\n",
              "    </tr>\n",
              "  </tbody>\n",
              "</table>\n",
              "</div>"
            ],
            "text/plain": [
              "學號       9394   898    2398   5906   2343   8225   5506   6451   2670   3497\n",
              "身高(cm)  147.6  185.9  154.0  147.2  168.6  146.8  162.6  164.1  152.2  171.8"
            ]
          },
          "metadata": {
            "tags": []
          },
          "execution_count": 22
        }
      ]
    },
    {
      "cell_type": "code",
      "metadata": {
        "colab": {
          "base_uri": "https://localhost:8080/",
          "height": 78
        },
        "id": "n1lPOMD7LWGj",
        "outputId": "f209094f-17e8-498f-8edc-1527168f6d1e"
      },
      "source": [
        "aDF.iloc[10:].T.round(1)"
      ],
      "execution_count": null,
      "outputs": [
        {
          "output_type": "execute_result",
          "data": {
            "text/html": [
              "<div>\n",
              "<style scoped>\n",
              "    .dataframe tbody tr th:only-of-type {\n",
              "        vertical-align: middle;\n",
              "    }\n",
              "\n",
              "    .dataframe tbody tr th {\n",
              "        vertical-align: top;\n",
              "    }\n",
              "\n",
              "    .dataframe thead th {\n",
              "        text-align: right;\n",
              "    }\n",
              "</style>\n",
              "<table border=\"1\" class=\"dataframe\">\n",
              "  <thead>\n",
              "    <tr style=\"text-align: right;\">\n",
              "      <th>學號</th>\n",
              "      <th>1087</th>\n",
              "      <th>1819</th>\n",
              "      <th>2308</th>\n",
              "      <th>6084</th>\n",
              "      <th>3724</th>\n",
              "      <th>3184</th>\n",
              "      <th>6387</th>\n",
              "      <th>3728</th>\n",
              "      <th>2702</th>\n",
              "      <th>7883</th>\n",
              "    </tr>\n",
              "  </thead>\n",
              "  <tbody>\n",
              "    <tr>\n",
              "      <th>身高(cm)</th>\n",
              "      <td>151.4</td>\n",
              "      <td>152.0</td>\n",
              "      <td>177.1</td>\n",
              "      <td>155.1</td>\n",
              "      <td>159.8</td>\n",
              "      <td>188.0</td>\n",
              "      <td>163.7</td>\n",
              "      <td>178.6</td>\n",
              "      <td>144.0</td>\n",
              "      <td>161.8</td>\n",
              "    </tr>\n",
              "  </tbody>\n",
              "</table>\n",
              "</div>"
            ],
            "text/plain": [
              "學號       1087   1819   2308   6084   3724   3184   6387   3728   2702   7883\n",
              "身高(cm)  151.4  152.0  177.1  155.1  159.8  188.0  163.7  178.6  144.0  161.8"
            ]
          },
          "metadata": {
            "tags": []
          },
          "execution_count": 23
        }
      ]
    },
    {
      "cell_type": "markdown",
      "metadata": {
        "id": "tU4Bnhvs3Yic"
      },
      "source": [
        "19.\t以20人資料重新估算μ的95%信心區間 $(μ_{201}, μ_{202})$=? \n",
        "\n",
        "20.\t以20人的資料估算出來的信心區間 $(μ_{201}, μ_{202})$ 比10人的資料所估算的信心區間 $(μ_1, μ_2)$ 何者寬度較小？(請寫出各自的信心區間寬度) \n"
      ]
    },
    {
      "cell_type": "code",
      "metadata": {
        "id": "Gb8S7znP2Dv4"
      },
      "source": [
        "#(19)\n"
      ],
      "execution_count": null,
      "outputs": []
    },
    {
      "cell_type": "code",
      "metadata": {
        "id": "weKcxxMg2D0A"
      },
      "source": [
        "#(20)\n"
      ],
      "execution_count": null,
      "outputs": []
    },
    {
      "cell_type": "code",
      "metadata": {
        "id": "Pm908o70yymn"
      },
      "source": [
        "# ----------------- 考題到此為止 ----------------------"
      ],
      "execution_count": null,
      "outputs": []
    }
  ]
}